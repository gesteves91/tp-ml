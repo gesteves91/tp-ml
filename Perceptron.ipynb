{
 "cells": [
  {
   "cell_type": "code",
   "execution_count": 4,
   "metadata": {},
   "outputs": [
    {
     "name": "stdout",
     "output_type": "stream",
     "text": [
      "[5 0 4 ... 5 6 8]\n"
     ]
    },
    {
     "data": {
      "text/plain": [
       "<Figure size 640x480 with 4 Axes>"
      ]
     },
     "metadata": {},
     "output_type": "display_data"
    }
   ],
   "source": [
    "# Plot ad hoc mnist instances\n",
    "from keras.datasets import mnist\n",
    "from keras.layers.core import Flatten\n",
    "from keras import optimizers\n",
    "import matplotlib.pyplot as plt\n",
    "import numpy as np\n",
    "# load (downloaded if needed) the MNIST dataset\n",
    "(X_train, y_train), (X_test, y_test) = mnist.load_data()\n",
    "print(y_train)\n",
    "# plot 4 images as gray scale\n",
    "plt.subplot(221)\n",
    "plt.imshow(X_train[0], cmap=plt.get_cmap('gray'))\n",
    "plt.subplot(222)\n",
    "plt.imshow(X_train[1], cmap=plt.get_cmap('gray'))\n",
    "plt.subplot(223)\n",
    "plt.imshow(X_train[2], cmap=plt.get_cmap('gray'))\n",
    "plt.subplot(224)\n",
    "plt.imshow(X_train[3], cmap=plt.get_cmap('gray'))\n",
    "# show the plot\n",
    "plt.show()"
   ]
  },
  {
   "cell_type": "code",
   "execution_count": 5,
   "metadata": {},
   "outputs": [],
   "source": [
    "import numpy\n",
    "from keras.datasets import mnist\n",
    "from keras.models import Sequential\n",
    "from keras.layers import Dense\n",
    "from keras.layers import Dropout\n",
    "from keras.utils import np_utils"
   ]
  },
  {
   "cell_type": "code",
   "execution_count": 6,
   "metadata": {},
   "outputs": [],
   "source": [
    "# fix random seed for reproducibility\n",
    "seed = 7\n",
    "numpy.random.seed(seed)"
   ]
  },
  {
   "cell_type": "code",
   "execution_count": 7,
   "metadata": {},
   "outputs": [],
   "source": [
    "# load data\n",
    "#(X_train, y_train), (X_test, y_test) = mnist.load_data()\n",
    "\n",
    "# Load data.\n",
    "dataset = np.loadtxt(\"data_tp1\", delimiter=\",\")\n",
    "# 80% for training.\n",
    "X_train = dataset[:4000, 1:].reshape(4000,1,28, 28).astype( 'float32' )\n",
    "y_train = dataset[:4000,0]\n",
    "# 20% for test.\n",
    "X_test = dataset[4000:, 1:].reshape(1000,1,28, 28).astype( 'float32' )\n",
    "y_test = dataset[4000:,0]"
   ]
  },
  {
   "cell_type": "code",
   "execution_count": 9,
   "metadata": {},
   "outputs": [],
   "source": [
    "# flatten 28*28 images to a 784 vector for each image\n",
    "#num_pixels = X_train.shape[1] * X_train.shape[2]\n",
    "#X_train = X_train.reshape(X_train.shape[0], num_pixels).astype('float32')\n",
    "#X_test = X_test.reshape(X_test.shape[0], num_pixels).astype('float32')\n",
    "\n",
    "num_pixels = 784\n",
    "X_train = X_train.reshape(X_train.shape[0], num_pixels).astype('float32')\n",
    "X_test = X_test.reshape(X_test.shape[0], num_pixels).astype('float32')"
   ]
  },
  {
   "cell_type": "code",
   "execution_count": 10,
   "metadata": {},
   "outputs": [],
   "source": [
    "# normalize inputs from 0-255 to 0-1\n",
    "X_train = X_train / 255\n",
    "X_test = X_test / 255"
   ]
  },
  {
   "cell_type": "code",
   "execution_count": 11,
   "metadata": {},
   "outputs": [],
   "source": [
    "# one hot encode outputs\n",
    "y_train = np_utils.to_categorical(y_train)\n",
    "y_test = np_utils.to_categorical(y_test)\n",
    "num_classes = y_test.shape[1]"
   ]
  },
  {
   "cell_type": "code",
   "execution_count": 12,
   "metadata": {},
   "outputs": [
    {
     "name": "stdout",
     "output_type": "stream",
     "text": [
      "10\n",
      "784\n"
     ]
    }
   ],
   "source": [
    "print(num_classes)\n",
    "print(num_pixels)"
   ]
  },
  {
   "cell_type": "code",
   "execution_count": 13,
   "metadata": {},
   "outputs": [],
   "source": [
    "def baseline_model():\n",
    "    # create model\n",
    "    model = Sequential()\n",
    "    model.add(Dense(num_pixels, input_dim=num_pixels, kernel_initializer='normal', activation='relu'))\n",
    "    model.add(Dense(num_classes, kernel_initializer='normal', activation='softmax'))\n",
    "    # Compile model\n",
    "    sgd = optimizers.SGD(lr=0.5)\n",
    "    model.compile(loss='categorical_crossentropy', optimizer='adam', metrics=['accuracy'])\n",
    "    return model"
   ]
  },
  {
   "cell_type": "code",
   "execution_count": 15,
   "metadata": {
    "scrolled": true
   },
   "outputs": [
    {
     "name": "stdout",
     "output_type": "stream",
     "text": [
      "Train on 4000 samples, validate on 1000 samples\n",
      "Epoch 1/10\n",
      "4000/4000 [==============================] - 9s 2ms/step - loss: 0.5203 - acc: 0.8395 - val_loss: 0.3461 - val_acc: 0.8930\n",
      "Epoch 2/10\n",
      "4000/4000 [==============================] - 8s 2ms/step - loss: 0.1919 - acc: 0.9425 - val_loss: 0.2732 - val_acc: 0.9260\n",
      "Epoch 3/10\n",
      "4000/4000 [==============================] - 9s 2ms/step - loss: 0.1129 - acc: 0.9617 - val_loss: 0.2464 - val_acc: 0.9290\n",
      "Epoch 4/10\n",
      "4000/4000 [==============================] - 9s 2ms/step - loss: 0.0559 - acc: 0.9852 - val_loss: 0.2444 - val_acc: 0.9320\n",
      "Epoch 5/10\n",
      "4000/4000 [==============================] - 9s 2ms/step - loss: 0.0265 - acc: 0.9957 - val_loss: 0.2952 - val_acc: 0.9220\n",
      "Epoch 6/10\n",
      "4000/4000 [==============================] - 9s 2ms/step - loss: 0.0209 - acc: 0.9952 - val_loss: 0.2549 - val_acc: 0.9300\n",
      "Epoch 7/10\n",
      "4000/4000 [==============================] - 9s 2ms/step - loss: 0.0258 - acc: 0.9922 - val_loss: 0.3070 - val_acc: 0.9250\n",
      "Epoch 8/10\n",
      "4000/4000 [==============================] - 10s 2ms/step - loss: 0.0474 - acc: 0.9852 - val_loss: 0.3130 - val_acc: 0.9070\n",
      "Epoch 9/10\n",
      "4000/4000 [==============================] - 8s 2ms/step - loss: 0.0395 - acc: 0.9890 - val_loss: 0.2857 - val_acc: 0.9300\n",
      "Epoch 10/10\n",
      "4000/4000 [==============================] - 7s 2ms/step - loss: 0.0069 - acc: 0.9985 - val_loss: 0.2745 - val_acc: 0.9350\n",
      "1000/1000 [==============================] - 0s 113us/step\n",
      "Baseline Error: 6.50%\n"
     ]
    }
   ],
   "source": [
    "# build the model\n",
    "model = baseline_model()\n",
    "# Fit the model\n",
    "model.fit(X_train, y_train, validation_data=(X_test, y_test), epochs=10, batch_size=10, verbose=1)\n",
    "# Final evaluation of the model\n",
    "scores = model.evaluate(X_test, y_test, verbose=1)\n",
    "print(\"Baseline Error: %.2f%%\" % (100-scores[1]*100))\n"
   ]
  },
  {
   "cell_type": "code",
   "execution_count": null,
   "metadata": {},
   "outputs": [],
   "source": []
  }
 ],
 "metadata": {
  "kernelspec": {
   "display_name": "Python 3",
   "language": "python",
   "name": "python3"
  },
  "language_info": {
   "codemirror_mode": {
    "name": "ipython",
    "version": 3
   },
   "file_extension": ".py",
   "mimetype": "text/x-python",
   "name": "python",
   "nbconvert_exporter": "python",
   "pygments_lexer": "ipython3",
   "version": "3.6.5"
  }
 },
 "nbformat": 4,
 "nbformat_minor": 2
}
