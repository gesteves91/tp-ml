{
 "cells": [
  {
   "cell_type": "markdown",
   "metadata": {},
   "source": [
    "# TP de Aprendizagem de Máquina\n",
    "### Aluno: Geanderson Esteves dos Santos\n",
    "\n",
    "Trabalho Prático 1\n",
    "- Redes Neuronais + Backpropagation\n",
    "\n",
    "Neste trabalho você irá implementar uma rede neuronal com três camadas:\n",
    "\n",
    "1. Camada de entrada: cada unidade representa uma dimensão do dado de entrada.\n",
    "\n",
    "2. Camada oculta: cada unidade representa uma transformação a partir das unidades de entrada.\n",
    "\n",
    "3. Camada de saída: cada unidade representa a chance da saída correspondente ser a correta.\n",
    "\n",
    "Você irá utilizar a função Sigmóide para obter não-linearidade. Além disso, a função de perda a ser minimizada é a seguinte:\n",
    "\n",
    "onde m é a quantidade de entradas no treino, K é o número de saídas possíveis,  representa a saída correta de cada classe k em cada entrada (i), e similarmente representa a saída dada pela rede neuronal.\n",
    "\n",
    "O dado a ser utilizado está anexado. Trata-se de 5000 entradas, onde cada entrada refere-se a um dígito escrito manualmente (i.e., MNIST dataset). Dessa forma, m=5000 e K=10. Cada entrada é dada por uma matriz de dimensões 28 por 28, ou seja, um vetor de 784 dimensões. A primeira coluna do arquivo sempre é o rótulo do dígito correto.\n",
    "\n",
    "A rede neuronal a ser implementada deverá ter 784 unidades de entrada e 10 unidades de saída. Em seus experimentos, você deverá variar o número de unidades na camada oculta (25, 50, 100).\n",
    "\n",
    "Além disso, você deverá comparar os seguintes algoritmos de cálculo de gradiente:\n",
    "\n",
    "1. Gradient Descent: o gradiente é calculado após cada época (após as 5000 entradas serem processadas).\n",
    "\n",
    "2. Stochastic Gradient Descent: o gradiente é calculado após cada entrada.\n",
    "\n",
    "3. Mini-Batch: o gradiente é calculado após um certo número de entradas (considere 10 e 50).\n",
    "\n",
    "Por fim, você também deverá variar a taxa de aprendizado: 0.5, 1, 10.\n",
    "\n",
    "O documento a ser entregue deverá apresentar o resultado de seus experimentos. Ou seja, deverá apresentar discussão da variação do número de unidades na camada oculta para cada um dos três algoritmos de cálculo de gradiente. Você deverá apresentar gráficos mostrando a convergência do erro empírico para cada situação (unidades na camada oculta, algoritmo de cálculo do gradiente, taxa de aprendizado). Você deverá deixar claras todas as hipóteses que julgar serem pertinentes."
   ]
  },
  {
   "cell_type": "code",
   "execution_count": 1,
   "metadata": {},
   "outputs": [
    {
     "name": "stderr",
     "output_type": "stream",
     "text": [
      "Using TensorFlow backend.\n"
     ]
    }
   ],
   "source": [
    "# Required packages.\n",
    "import numpy as np\n",
    "import matplotlib.pyplot as plt\n",
    "from keras.models import Sequential\n",
    "from keras.layers import Dense\n",
    "from keras.layers import Dropout\n",
    "from keras.utils import np_utils\n",
    "from keras import optimizers"
   ]
  },
  {
   "cell_type": "code",
   "execution_count": 2,
   "metadata": {},
   "outputs": [],
   "source": [
    "# Fix random seed for reproducibility.\n",
    "seed = 7\n",
    "np.random.seed(seed)"
   ]
  },
  {
   "cell_type": "code",
   "execution_count": 3,
   "metadata": {},
   "outputs": [],
   "source": [
    "# Load data.\n",
    "dataset = np.loadtxt(\"data_tp1\", delimiter=\",\")\n",
    "X_train = dataset[:, 1:].reshape(dataset.shape[0],1,28, 28).astype('float32')\n",
    "y_train = dataset[:,0]\n",
    "X_test = dataset[:,1:].reshape(dataset.shape[0],1, 28, 28).astype('float32')\n",
    "y_test = dataset[:,0]"
   ]
  },
  {
   "cell_type": "code",
   "execution_count": 4,
   "metadata": {},
   "outputs": [],
   "source": [
    "# An image is represented by 28*28 then it is a 784 in memory.\n",
    "num_pixels = 784\n",
    "X_train = X_train.reshape(X_train.shape[0], num_pixels).astype('float32')\n",
    "X_test = X_test.reshape(X_test.shape[0], num_pixels).astype('float32')"
   ]
  },
  {
   "cell_type": "code",
   "execution_count": 5,
   "metadata": {},
   "outputs": [],
   "source": [
    "# Normalize inputs from 0-255 to 0-1.\n",
    "X_train = X_train / 255\n",
    "X_test = X_test / 255"
   ]
  },
  {
   "cell_type": "code",
   "execution_count": 6,
   "metadata": {},
   "outputs": [],
   "source": [
    "# One hot encode outputs\n",
    "y_train = np_utils.to_categorical(y_train)\n",
    "y_test = np_utils.to_categorical(y_test)\n",
    "num_classes = y_test.shape[1]"
   ]
  },
  {
   "cell_type": "code",
   "execution_count": 7,
   "metadata": {},
   "outputs": [],
   "source": [
    "# Define model\n",
    "def baseline_model(unity, learning_rate):\n",
    "    model = Sequential()\n",
    "    model.add(Dense(num_pixels, input_dim=num_pixels, kernel_initializer='normal', activation='sigmoid'))\n",
    "    model.add(Dense(unity, input_dim=unity, kernel_initializer='normal', activation='sigmoid'))\n",
    "    model.add(Dense(num_classes, kernel_initializer='normal', activation='softmax'))\n",
    "    # Set the gradient\n",
    "    sgd = optimizers.SGD(lr=learning_rate)\n",
    "    # Compile model\n",
    "    model.compile(loss='categorical_crossentropy', optimizer=sgd, metrics=['accuracy'])\n",
    "    return model"
   ]
  },
  {
   "cell_type": "code",
   "execution_count": 8,
   "metadata": {},
   "outputs": [],
   "source": [
    "# Build the model.\n",
    "#unity = 50\n",
    "#learning_rate = 0.5\n",
    "#model = baseline_model(unity, learning_rate)\n",
    "# Fit the model\n",
    "# default batch size was 200\n",
    "#model.fit(X_train, y_train, validation_data=(X_test, y_test))\n",
    "#model.fit(X_train, y_train, validation_data=(X_test, y_test), epochs=10, batch_size=10, verbose=1)\n",
    "# Final evaluation of the model\n",
    "#scores = model.evaluate(X_test, y_test, verbose=2)\n",
    "#print(\"Training Error: %.2f%%\" % (100-scores[1]*100))"
   ]
  },
  {
   "cell_type": "markdown",
   "metadata": {},
   "source": [
    "# Testes variando Gradient Descent (GD), Sthocastic Gradient Descent (SGD) e Mini-Batch\n",
    "### Para efeito de comparação e seguindo as intruções do TP mostradas no primeiro item deste notebook.\n",
    "##### 1 - Testar o learning rate (0.5, 1, 10) para os 3 gradientes (GD, SGD e Mini-Batch) variando o número de unidades da hidden layer (25, 50, 100). \n",
    "##### 2 - Realizar testes complementares sobre o modelo criado. "
   ]
  },
  {
   "cell_type": "code",
   "execution_count": 9,
   "metadata": {},
   "outputs": [],
   "source": [
    "# Use the model by parameters.\n",
    "def use_model(learning_rate, unity, gradient):\n",
    "    lr = learning_rate\n",
    "    un = unity\n",
    "    \n",
    "    if gradient == 'gd':\n",
    "        inputsGD.append(lr)\n",
    "        model = baseline_model(un, lr)\n",
    "        model.fit(X_train, y_train, validation_data=(X_test, y_test), epochs=10, batch_size=5000, verbose=1)\n",
    "        scores = model.evaluate(X_test, y_test, verbose=0)\n",
    "        print(100-scores[1]*100)\n",
    "        outputsGD.append(100-scores[1]*100)\n",
    "    elif gradient == 'sgd':\n",
    "        inputsSGD.append(lr)\n",
    "        model = baseline_model(un, lr)\n",
    "        model.fit(X_train, y_train, validation_data=(X_test, y_test), epochs=10, batch_size=1, verbose=1)\n",
    "        scores = model.evaluate(X_test, y_test, verbose=0)\n",
    "        print(100-scores[1]*100)\n",
    "        outputsSGD.append(100-scores[1]*100)\n",
    "    elif gradient == 'mb10':\n",
    "        inputsMiniBatch10.append(lr)\n",
    "        model = baseline_model(un, lr)\n",
    "        model.fit(X_train, y_train, validation_data=(X_test, y_test), epochs=10, batch_size=10, verbose=1)\n",
    "        scores = model.evaluate(X_test, y_test, verbose=0)\n",
    "        print(100-scores[1]*100)\n",
    "        outputsMiniBatch10.append(100-scores[1]*100)\n",
    "    elif gradient == 'mb50':\n",
    "        inputsMiniBatch50.append(lr)\n",
    "        model = baseline_model(un, lr)\n",
    "        model.fit(X_train, y_train, validation_data=(X_test, y_test), epochs=10, batch_size=50, verbose=1)\n",
    "        scores = model.evaluate(X_test, y_test, verbose=0)\n",
    "        print(100-scores[1]*100)\n",
    "        outputsMiniBatch50.append(100-scores[1]*100)"
   ]
  },
  {
   "cell_type": "code",
   "execution_count": 10,
   "metadata": {},
   "outputs": [],
   "source": [
    "# Set up the arrays with the inputs and outputs of the tests. \n",
    "inputsGD = []\n",
    "outputsGD = []\n",
    "inputsSGD = []\n",
    "outputsSGD = []\n",
    "inputsMiniBatch10 = []\n",
    "outputsMiniBatch10 = []\n",
    "inputsMiniBatch50 = []\n",
    "outputsMiniBatch50 = []"
   ]
  },
  {
   "cell_type": "code",
   "execution_count": 11,
   "metadata": {},
   "outputs": [],
   "source": [
    "def clear_arrays():\n",
    "    del inputsGD[:]\n",
    "    del outputsGD[:]\n",
    "    del inputsSGD[:]\n",
    "    del outputsSGD[:]\n",
    "    del inputsMiniBatch10[:]\n",
    "    del outputsMiniBatch10[:]\n",
    "    del inputsMiniBatch50[:]\n",
    "    del outputsMiniBatch50[:]"
   ]
  },
  {
   "cell_type": "code",
   "execution_count": 12,
   "metadata": {},
   "outputs": [
    {
     "name": "stdout",
     "output_type": "stream",
     "text": [
      "Train on 5000 samples, validate on 5000 samples\n",
      "Epoch 1/10\n",
      "5000/5000 [==============================] - 1s 123us/step - loss: 2.3074 - acc: 0.0932 - val_loss: 2.3034 - val_acc: 0.0922\n",
      "Epoch 2/10\n",
      "5000/5000 [==============================] - 1s 105us/step - loss: 2.3034 - acc: 0.0922 - val_loss: 2.3013 - val_acc: 0.0984\n",
      "Epoch 3/10\n",
      "5000/5000 [==============================] - 0s 90us/step - loss: 2.3013 - acc: 0.0984 - val_loss: 2.3001 - val_acc: 0.1164\n",
      "Epoch 4/10\n",
      "5000/5000 [==============================] - 1s 103us/step - loss: 2.3001 - acc: 0.1164 - val_loss: 2.2992 - val_acc: 0.1142\n",
      "Epoch 5/10\n",
      "5000/5000 [==============================] - 0s 75us/step - loss: 2.2992 - acc: 0.1142 - val_loss: 2.2985 - val_acc: 0.1142\n",
      "Epoch 6/10\n",
      "5000/5000 [==============================] - 1s 120us/step - loss: 2.2985 - acc: 0.1142 - val_loss: 2.2978 - val_acc: 0.1142\n",
      "Epoch 7/10\n",
      "5000/5000 [==============================] - 0s 88us/step - loss: 2.2979 - acc: 0.1142 - val_loss: 2.2972 - val_acc: 0.1142\n",
      "Epoch 8/10\n",
      "5000/5000 [==============================] - 0s 92us/step - loss: 2.2972 - acc: 0.1142 - val_loss: 2.2966 - val_acc: 0.1142\n",
      "Epoch 9/10\n",
      "5000/5000 [==============================] - 0s 98us/step - loss: 2.2966 - acc: 0.1142 - val_loss: 2.2960 - val_acc: 0.1142\n",
      "Epoch 10/10\n",
      "5000/5000 [==============================] - 1s 118us/step - loss: 2.2960 - acc: 0.1142 - val_loss: 2.2954 - val_acc: 0.1142\n",
      "88.58\n"
     ]
    }
   ],
   "source": [
    "# GD, lr = 0.5, un = 25.\n",
    "use_model(0.5, 25, 'gd')"
   ]
  },
  {
   "cell_type": "code",
   "execution_count": 13,
   "metadata": {},
   "outputs": [
    {
     "name": "stdout",
     "output_type": "stream",
     "text": [
      "Train on 5000 samples, validate on 5000 samples\n",
      "Epoch 1/10\n",
      "5000/5000 [==============================] - 1s 171us/step - loss: 2.3077 - acc: 0.0924 - val_loss: 2.2989 - val_acc: 0.1142\n",
      "Epoch 2/10\n",
      "5000/5000 [==============================] - 1s 119us/step - loss: 2.2989 - acc: 0.1142 - val_loss: 2.2976 - val_acc: 0.1142\n",
      "Epoch 3/10\n",
      "5000/5000 [==============================] - 0s 78us/step - loss: 2.2976 - acc: 0.1142 - val_loss: 2.2965 - val_acc: 0.1142\n",
      "Epoch 4/10\n",
      "5000/5000 [==============================] - 0s 80us/step - loss: 2.2965 - acc: 0.1142 - val_loss: 2.2954 - val_acc: 0.1142\n",
      "Epoch 5/10\n",
      "5000/5000 [==============================] - 0s 81us/step - loss: 2.2954 - acc: 0.1142 - val_loss: 2.2942 - val_acc: 0.1142\n",
      "Epoch 6/10\n",
      "5000/5000 [==============================] - 1s 105us/step - loss: 2.2942 - acc: 0.1142 - val_loss: 2.2929 - val_acc: 0.1142\n",
      "Epoch 7/10\n",
      "5000/5000 [==============================] - 1s 111us/step - loss: 2.2929 - acc: 0.1142 - val_loss: 2.2916 - val_acc: 0.1142\n",
      "Epoch 8/10\n",
      "5000/5000 [==============================] - 1s 134us/step - loss: 2.2916 - acc: 0.1142 - val_loss: 2.2902 - val_acc: 0.1142\n",
      "Epoch 9/10\n",
      "5000/5000 [==============================] - 0s 82us/step - loss: 2.2902 - acc: 0.1142 - val_loss: 2.2887 - val_acc: 0.1144\n",
      "Epoch 10/10\n",
      "5000/5000 [==============================] - 0s 87us/step - loss: 2.2887 - acc: 0.1144 - val_loss: 2.2871 - val_acc: 0.1146\n",
      "88.54\n"
     ]
    }
   ],
   "source": [
    "# GD, lr = 1, un = 25.\n",
    "use_model(1, 25, 'gd')"
   ]
  },
  {
   "cell_type": "code",
   "execution_count": 14,
   "metadata": {},
   "outputs": [
    {
     "name": "stdout",
     "output_type": "stream",
     "text": [
      "Train on 5000 samples, validate on 5000 samples\n",
      "Epoch 1/10\n",
      "5000/5000 [==============================] - 1s 125us/step - loss: 2.3026 - acc: 0.1040 - val_loss: 2.4642 - val_acc: 0.1142\n",
      "Epoch 2/10\n",
      "5000/5000 [==============================] - 0s 78us/step - loss: 2.4642 - acc: 0.1142 - val_loss: 2.5020 - val_acc: 0.1040\n",
      "Epoch 3/10\n",
      "5000/5000 [==============================] - 0s 90us/step - loss: 2.5020 - acc: 0.1040 - val_loss: 2.3317 - val_acc: 0.1060\n",
      "Epoch 4/10\n",
      "5000/5000 [==============================] - 0s 88us/step - loss: 2.3317 - acc: 0.1060 - val_loss: 2.3015 - val_acc: 0.1060\n",
      "Epoch 5/10\n",
      "5000/5000 [==============================] - 1s 112us/step - loss: 2.3015 - acc: 0.1060 - val_loss: 2.3003 - val_acc: 0.1142\n",
      "Epoch 6/10\n",
      "5000/5000 [==============================] - 0s 79us/step - loss: 2.3003 - acc: 0.1142 - val_loss: 2.3003 - val_acc: 0.1142\n",
      "Epoch 7/10\n",
      "5000/5000 [==============================] - 0s 88us/step - loss: 2.3003 - acc: 0.1142 - val_loss: 2.3003 - val_acc: 0.1142\n",
      "Epoch 8/10\n",
      "5000/5000 [==============================] - 0s 83us/step - loss: 2.3003 - acc: 0.1142 - val_loss: 2.3003 - val_acc: 0.1142\n",
      "Epoch 9/10\n",
      "5000/5000 [==============================] - 0s 76us/step - loss: 2.3003 - acc: 0.1142 - val_loss: 2.3002 - val_acc: 0.1142\n",
      "Epoch 10/10\n",
      "5000/5000 [==============================] - 1s 122us/step - loss: 2.3002 - acc: 0.1142 - val_loss: 2.3002 - val_acc: 0.1142\n",
      "88.58\n"
     ]
    }
   ],
   "source": [
    "# GD, lr = 10, un = 25.\n",
    "use_model(10, 25, 'gd')"
   ]
  },
  {
   "cell_type": "code",
   "execution_count": 15,
   "metadata": {},
   "outputs": [
    {
     "name": "stdout",
     "output_type": "stream",
     "text": [
      "Train on 5000 samples, validate on 5000 samples\n",
      "Epoch 1/10\n",
      "5000/5000 [==============================] - 50s 10ms/step - loss: 2.7527 - acc: 0.1038 - val_loss: 2.7186 - val_acc: 0.0912\n",
      "Epoch 2/10\n",
      "5000/5000 [==============================] - 43s 9ms/step - loss: 3.6853 - acc: 0.1278 - val_loss: 4.4206 - val_acc: 0.1000\n",
      "Epoch 3/10\n",
      "5000/5000 [==============================] - 44s 9ms/step - loss: 4.9721 - acc: 0.1078 - val_loss: 5.1730 - val_acc: 0.1060\n",
      "Epoch 4/10\n",
      "5000/5000 [==============================] - 44s 9ms/step - loss: 4.3867 - acc: 0.1670 - val_loss: 3.8831 - val_acc: 0.1872\n",
      "Epoch 5/10\n",
      "5000/5000 [==============================] - 46s 9ms/step - loss: 4.8101 - acc: 0.1880 - val_loss: 4.8351 - val_acc: 0.2060\n",
      "Epoch 6/10\n",
      "5000/5000 [==============================] - 46s 9ms/step - loss: 4.8519 - acc: 0.1940 - val_loss: 5.0045 - val_acc: 0.1798\n",
      "Epoch 7/10\n",
      "5000/5000 [==============================] - 48s 10ms/step - loss: 4.8534 - acc: 0.1940 - val_loss: 4.7306 - val_acc: 0.2088\n",
      "Epoch 8/10\n",
      "5000/5000 [==============================] - 37s 7ms/step - loss: 4.8696 - acc: 0.1922 - val_loss: 5.0903 - val_acc: 0.1964\n",
      "Epoch 9/10\n",
      "5000/5000 [==============================] - 39s 8ms/step - loss: 4.8206 - acc: 0.1942 - val_loss: 4.6920 - val_acc: 0.1832\n",
      "Epoch 10/10\n",
      "5000/5000 [==============================] - 38s 8ms/step - loss: 4.9388 - acc: 0.1080 - val_loss: 4.7887 - val_acc: 0.0920\n",
      "90.8\n"
     ]
    }
   ],
   "source": [
    "# SGD, lr = 0.5, un = 25.\n",
    "use_model(0.5, 25, 'sgd')"
   ]
  },
  {
   "cell_type": "code",
   "execution_count": 16,
   "metadata": {},
   "outputs": [
    {
     "name": "stdout",
     "output_type": "stream",
     "text": [
      "Train on 5000 samples, validate on 5000 samples\n",
      "Epoch 1/10\n",
      "5000/5000 [==============================] - 37s 7ms/step - loss: 3.8326 - acc: 0.1012 - val_loss: 4.9875 - val_acc: 0.1000\n",
      "Epoch 2/10\n",
      "5000/5000 [==============================] - 37s 7ms/step - loss: 4.6091 - acc: 0.1054 - val_loss: 5.5361 - val_acc: 0.1000\n",
      "Epoch 3/10\n",
      "5000/5000 [==============================] - 40s 8ms/step - loss: 5.4218 - acc: 0.1002 - val_loss: 5.3177 - val_acc: 0.1040\n",
      "Epoch 4/10\n",
      "5000/5000 [==============================] - 45s 9ms/step - loss: 5.4085 - acc: 0.1024 - val_loss: 5.6117 - val_acc: 0.1024\n",
      "Epoch 5/10\n",
      "5000/5000 [==============================] - 42s 8ms/step - loss: 4.7955 - acc: 0.0990 - val_loss: 4.7992 - val_acc: 0.1040\n",
      "Epoch 6/10\n",
      "5000/5000 [==============================] - 43s 9ms/step - loss: 4.5744 - acc: 0.0978 - val_loss: 4.2628 - val_acc: 0.1060\n",
      "Epoch 7/10\n",
      "5000/5000 [==============================] - 44s 9ms/step - loss: 5.4112 - acc: 0.0994 - val_loss: 5.5097 - val_acc: 0.1060\n",
      "Epoch 8/10\n",
      "5000/5000 [==============================] - 43s 9ms/step - loss: 5.3830 - acc: 0.1068 - val_loss: 5.6011 - val_acc: 0.1060\n",
      "Epoch 9/10\n",
      "5000/5000 [==============================] - 43s 9ms/step - loss: 5.4267 - acc: 0.0994 - val_loss: 5.5359 - val_acc: 0.0920\n",
      "Epoch 10/10\n",
      "5000/5000 [==============================] - 38s 8ms/step - loss: 5.4181 - acc: 0.1008 - val_loss: 5.7162 - val_acc: 0.0912\n",
      "90.88\n"
     ]
    }
   ],
   "source": [
    "# SGD, lr = 1, un = 25.\n",
    "use_model(1, 25, 'sgd')"
   ]
  },
  {
   "cell_type": "code",
   "execution_count": 17,
   "metadata": {},
   "outputs": [
    {
     "name": "stdout",
     "output_type": "stream",
     "text": [
      "Train on 5000 samples, validate on 5000 samples\n",
      "Epoch 1/10\n",
      "5000/5000 [==============================] - 47s 9ms/step - loss: 14.4681 - acc: 0.1022 - val_loss: 14.4676 - val_acc: 0.1024\n",
      "Epoch 2/10\n",
      "5000/5000 [==============================] - 46s 9ms/step - loss: 14.4676 - acc: 0.1024 - val_loss: 14.4676 - val_acc: 0.1024\n",
      "Epoch 3/10\n",
      "5000/5000 [==============================] - 46s 9ms/step - loss: 14.4676 - acc: 0.1024 - val_loss: 14.4676 - val_acc: 0.1024\n",
      "Epoch 4/10\n",
      "5000/5000 [==============================] - 45s 9ms/step - loss: 14.4676 - acc: 0.1024 - val_loss: 14.4676 - val_acc: 0.1024\n",
      "Epoch 5/10\n",
      "5000/5000 [==============================] - 36s 7ms/step - loss: 14.4676 - acc: 0.1024 - val_loss: 14.4676 - val_acc: 0.1024\n",
      "Epoch 6/10\n",
      "5000/5000 [==============================] - 40s 8ms/step - loss: 14.4676 - acc: 0.1024 - val_loss: 14.4676 - val_acc: 0.1024\n",
      "Epoch 7/10\n",
      "5000/5000 [==============================] - 44s 9ms/step - loss: 14.4676 - acc: 0.1024 - val_loss: 14.4676 - val_acc: 0.1024\n",
      "Epoch 8/10\n",
      "5000/5000 [==============================] - 44s 9ms/step - loss: 14.4676 - acc: 0.1024 - val_loss: 14.4676 - val_acc: 0.1024\n",
      "Epoch 9/10\n",
      "5000/5000 [==============================] - 52s 10ms/step - loss: 14.4676 - acc: 0.1024 - val_loss: 14.4676 - val_acc: 0.1024\n",
      "Epoch 10/10\n",
      "5000/5000 [==============================] - 51s 10ms/step - loss: 14.4676 - acc: 0.1024 - val_loss: 14.4676 - val_acc: 0.1024\n",
      "89.76\n"
     ]
    }
   ],
   "source": [
    "# SGD, lr = 10, un = 25.\n",
    "use_model(10, 25, 'sgd')"
   ]
  },
  {
   "cell_type": "code",
   "execution_count": 18,
   "metadata": {},
   "outputs": [
    {
     "name": "stdout",
     "output_type": "stream",
     "text": [
      "Train on 5000 samples, validate on 5000 samples\n",
      "Epoch 1/10\n",
      "5000/5000 [==============================] - 7s 1ms/step - loss: 1.6396 - acc: 0.3964 - val_loss: 0.8926 - val_acc: 0.7074\n",
      "Epoch 2/10\n",
      "5000/5000 [==============================] - 7s 1ms/step - loss: 0.6826 - acc: 0.7612 - val_loss: 0.4884 - val_acc: 0.8512\n",
      "Epoch 3/10\n",
      "5000/5000 [==============================] - 6s 1ms/step - loss: 0.4699 - acc: 0.8490 - val_loss: 0.4268 - val_acc: 0.8726\n",
      "Epoch 4/10\n",
      "5000/5000 [==============================] - 7s 1ms/step - loss: 0.3691 - acc: 0.8836 - val_loss: 0.2926 - val_acc: 0.9070\n",
      "Epoch 5/10\n",
      "5000/5000 [==============================] - 6s 1ms/step - loss: 0.3015 - acc: 0.9072 - val_loss: 0.2511 - val_acc: 0.9166\n",
      "Epoch 6/10\n",
      "5000/5000 [==============================] - 7s 1ms/step - loss: 0.2467 - acc: 0.9204 - val_loss: 0.1997 - val_acc: 0.9368\n",
      "Epoch 7/10\n",
      "5000/5000 [==============================] - 7s 1ms/step - loss: 0.2166 - acc: 0.9304 - val_loss: 0.1588 - val_acc: 0.9524\n",
      "Epoch 8/10\n",
      "5000/5000 [==============================] - 6s 1ms/step - loss: 0.1788 - acc: 0.9440 - val_loss: 0.1415 - val_acc: 0.9546\n",
      "Epoch 9/10\n",
      "5000/5000 [==============================] - 5s 1ms/step - loss: 0.1496 - acc: 0.9510 - val_loss: 0.1479 - val_acc: 0.9520\n",
      "Epoch 10/10\n",
      "5000/5000 [==============================] - 5s 1ms/step - loss: 0.1204 - acc: 0.9624 - val_loss: 0.0982 - val_acc: 0.9664\n",
      "3.3599999999999994\n"
     ]
    }
   ],
   "source": [
    "# MB10, lr = 0.5, un = 25.\n",
    "use_model(0.5, 25, 'mb10')"
   ]
  },
  {
   "cell_type": "code",
   "execution_count": 19,
   "metadata": {},
   "outputs": [
    {
     "name": "stdout",
     "output_type": "stream",
     "text": [
      "Train on 5000 samples, validate on 5000 samples\n",
      "Epoch 1/10\n",
      "5000/5000 [==============================] - 6s 1ms/step - loss: 1.7384 - acc: 0.3478 - val_loss: 0.8373 - val_acc: 0.6948\n",
      "Epoch 2/10\n",
      "5000/5000 [==============================] - 6s 1ms/step - loss: 0.6236 - acc: 0.8040 - val_loss: 0.6087 - val_acc: 0.7916\n",
      "Epoch 3/10\n",
      "5000/5000 [==============================] - 6s 1ms/step - loss: 0.4092 - acc: 0.8750 - val_loss: 0.3397 - val_acc: 0.8984\n",
      "Epoch 4/10\n",
      "5000/5000 [==============================] - 8s 2ms/step - loss: 0.3040 - acc: 0.9082 - val_loss: 0.2263 - val_acc: 0.9288\n",
      "Epoch 5/10\n",
      "5000/5000 [==============================] - 7s 1ms/step - loss: 0.2416 - acc: 0.9226 - val_loss: 0.1783 - val_acc: 0.9456\n",
      "Epoch 6/10\n",
      "5000/5000 [==============================] - 7s 1ms/step - loss: 0.1817 - acc: 0.9400 - val_loss: 0.1301 - val_acc: 0.9594\n",
      "Epoch 7/10\n",
      "5000/5000 [==============================] - 6s 1ms/step - loss: 0.1380 - acc: 0.9570 - val_loss: 0.0996 - val_acc: 0.9692\n",
      "Epoch 8/10\n",
      "5000/5000 [==============================] - 8s 2ms/step - loss: 0.1160 - acc: 0.9604 - val_loss: 0.0697 - val_acc: 0.9758\n",
      "Epoch 9/10\n",
      "5000/5000 [==============================] - 7s 1ms/step - loss: 0.0785 - acc: 0.9724 - val_loss: 0.0529 - val_acc: 0.9850\n",
      "Epoch 10/10\n",
      "5000/5000 [==============================] - 7s 1ms/step - loss: 0.0470 - acc: 0.9856 - val_loss: 0.0353 - val_acc: 0.9910\n",
      "0.9000000000000057\n"
     ]
    }
   ],
   "source": [
    "# MB10, lr = 1, un = 25.\n",
    "use_model(1, 25, 'mb10')"
   ]
  },
  {
   "cell_type": "code",
   "execution_count": 20,
   "metadata": {},
   "outputs": [
    {
     "name": "stdout",
     "output_type": "stream",
     "text": [
      "Train on 5000 samples, validate on 5000 samples\n",
      "Epoch 1/10\n",
      "5000/5000 [==============================] - 7s 1ms/step - loss: 14.4436 - acc: 0.1022 - val_loss: 14.4676 - val_acc: 0.1024\n",
      "Epoch 2/10\n",
      "5000/5000 [==============================] - 7s 1ms/step - loss: 14.4676 - acc: 0.1024 - val_loss: 14.4676 - val_acc: 0.1024\n",
      "Epoch 3/10\n",
      "5000/5000 [==============================] - 8s 2ms/step - loss: 14.4676 - acc: 0.1024 - val_loss: 14.4676 - val_acc: 0.1024\n",
      "Epoch 4/10\n",
      "5000/5000 [==============================] - 6s 1ms/step - loss: 14.4676 - acc: 0.1024 - val_loss: 14.4676 - val_acc: 0.1024\n",
      "Epoch 5/10\n",
      "5000/5000 [==============================] - 6s 1ms/step - loss: 14.4676 - acc: 0.1024 - val_loss: 14.4676 - val_acc: 0.1024\n",
      "Epoch 6/10\n",
      "5000/5000 [==============================] - 6s 1ms/step - loss: 14.4676 - acc: 0.1024 - val_loss: 14.4676 - val_acc: 0.1024\n",
      "Epoch 7/10\n",
      "5000/5000 [==============================] - 6s 1ms/step - loss: 14.4676 - acc: 0.1024 - val_loss: 14.4676 - val_acc: 0.1024\n",
      "Epoch 8/10\n",
      "5000/5000 [==============================] - 6s 1ms/step - loss: 14.4676 - acc: 0.1024 - val_loss: 14.4676 - val_acc: 0.1024\n",
      "Epoch 9/10\n",
      "5000/5000 [==============================] - 5s 1ms/step - loss: 14.4676 - acc: 0.1024 - val_loss: 14.4676 - val_acc: 0.1024\n",
      "Epoch 10/10\n",
      "5000/5000 [==============================] - 6s 1ms/step - loss: 14.4676 - acc: 0.1024 - val_loss: 14.4676 - val_acc: 0.1024\n",
      "89.76\n"
     ]
    }
   ],
   "source": [
    "# MB10, lr = 10, un = 25\n",
    "use_model(10, 25, 'mb10')"
   ]
  },
  {
   "cell_type": "code",
   "execution_count": 21,
   "metadata": {},
   "outputs": [
    {
     "name": "stdout",
     "output_type": "stream",
     "text": [
      "Train on 5000 samples, validate on 5000 samples\n",
      "Epoch 1/10\n",
      "5000/5000 [==============================] - 2s 466us/step - loss: 2.2243 - acc: 0.1946 - val_loss: 1.9708 - val_acc: 0.2888\n",
      "Epoch 2/10\n",
      "5000/5000 [==============================] - 2s 339us/step - loss: 1.5722 - acc: 0.4504 - val_loss: 1.0827 - val_acc: 0.6430\n",
      "Epoch 3/10\n",
      "5000/5000 [==============================] - 1s 278us/step - loss: 0.9117 - acc: 0.6986 - val_loss: 0.6691 - val_acc: 0.7986\n",
      "Epoch 4/10\n",
      "5000/5000 [==============================] - 2s 360us/step - loss: 0.6463 - acc: 0.7948 - val_loss: 0.5911 - val_acc: 0.8160\n",
      "Epoch 5/10\n",
      "5000/5000 [==============================] - 3s 520us/step - loss: 0.5349 - acc: 0.8384 - val_loss: 0.5740 - val_acc: 0.8200\n",
      "Epoch 6/10\n",
      "5000/5000 [==============================] - 2s 360us/step - loss: 0.4656 - acc: 0.8546 - val_loss: 0.4299 - val_acc: 0.8762\n",
      "Epoch 7/10\n",
      "5000/5000 [==============================] - 2s 401us/step - loss: 0.4189 - acc: 0.8712 - val_loss: 0.4199 - val_acc: 0.8682\n",
      "Epoch 8/10\n",
      "5000/5000 [==============================] - 1s 273us/step - loss: 0.3797 - acc: 0.8866 - val_loss: 0.4095 - val_acc: 0.8692\n",
      "Epoch 9/10\n",
      "5000/5000 [==============================] - 1s 267us/step - loss: 0.3540 - acc: 0.8926 - val_loss: 0.3130 - val_acc: 0.9042\n",
      "Epoch 10/10\n",
      "5000/5000 [==============================] - 1s 247us/step - loss: 0.3240 - acc: 0.9022 - val_loss: 0.2750 - val_acc: 0.9212\n",
      "7.8799999999999955\n"
     ]
    }
   ],
   "source": [
    "# MB50, lr = 0.5, un = 25.\n",
    "use_model(0.5, 25, 'mb50')"
   ]
  },
  {
   "cell_type": "code",
   "execution_count": 22,
   "metadata": {},
   "outputs": [
    {
     "name": "stdout",
     "output_type": "stream",
     "text": [
      "Train on 5000 samples, validate on 5000 samples\n",
      "Epoch 1/10\n",
      "5000/5000 [==============================] - 2s 359us/step - loss: 2.1495 - acc: 0.1980 - val_loss: 1.6096 - val_acc: 0.3718\n",
      "Epoch 2/10\n",
      "5000/5000 [==============================] - 1s 251us/step - loss: 1.1518 - acc: 0.5996 - val_loss: 0.8089 - val_acc: 0.7376\n",
      "Epoch 3/10\n",
      "5000/5000 [==============================] - 1s 246us/step - loss: 0.6468 - acc: 0.7936 - val_loss: 0.4758 - val_acc: 0.8578\n",
      "Epoch 4/10\n",
      "5000/5000 [==============================] - 1s 256us/step - loss: 0.4864 - acc: 0.8464 - val_loss: 0.4105 - val_acc: 0.8690\n",
      "Epoch 5/10\n",
      "5000/5000 [==============================] - 1s 256us/step - loss: 0.3995 - acc: 0.8740 - val_loss: 0.3230 - val_acc: 0.9024\n",
      "Epoch 6/10\n",
      "5000/5000 [==============================] - 1s 258us/step - loss: 0.3473 - acc: 0.8910 - val_loss: 0.3845 - val_acc: 0.8710\n",
      "Epoch 7/10\n",
      "5000/5000 [==============================] - 1s 248us/step - loss: 0.3161 - acc: 0.9032 - val_loss: 0.2493 - val_acc: 0.9244\n",
      "Epoch 8/10\n",
      "5000/5000 [==============================] - 1s 249us/step - loss: 0.2882 - acc: 0.9114 - val_loss: 0.2927 - val_acc: 0.9074\n",
      "Epoch 9/10\n",
      "5000/5000 [==============================] - 1s 250us/step - loss: 0.2432 - acc: 0.9258 - val_loss: 0.2513 - val_acc: 0.9202\n",
      "Epoch 10/10\n",
      "5000/5000 [==============================] - 1s 254us/step - loss: 0.2223 - acc: 0.9314 - val_loss: 0.1903 - val_acc: 0.9436\n",
      "5.640000000000001\n"
     ]
    }
   ],
   "source": [
    "# MB50, lr = 1, un = 25.\n",
    "use_model(1, 25, 'mb50')"
   ]
  },
  {
   "cell_type": "code",
   "execution_count": 23,
   "metadata": {},
   "outputs": [
    {
     "name": "stdout",
     "output_type": "stream",
     "text": [
      "Train on 5000 samples, validate on 5000 samples\n",
      "Epoch 1/10\n",
      "5000/5000 [==============================] - 2s 332us/step - loss: 2.4809 - acc: 0.0988 - val_loss: 2.4281 - val_acc: 0.0920\n",
      "Epoch 2/10\n",
      "5000/5000 [==============================] - 1s 246us/step - loss: 2.4188 - acc: 0.0994 - val_loss: 2.3798 - val_acc: 0.1142\n",
      "Epoch 3/10\n",
      "5000/5000 [==============================] - 1s 280us/step - loss: 2.4033 - acc: 0.0972 - val_loss: 2.3976 - val_acc: 0.1142\n",
      "Epoch 4/10\n",
      "5000/5000 [==============================] - 1s 249us/step - loss: 2.4124 - acc: 0.0958 - val_loss: 2.3873 - val_acc: 0.1024\n",
      "Epoch 5/10\n",
      "5000/5000 [==============================] - 1s 258us/step - loss: 2.4031 - acc: 0.0964 - val_loss: 2.4441 - val_acc: 0.1142\n",
      "Epoch 6/10\n",
      "5000/5000 [==============================] - 1s 250us/step - loss: 2.4183 - acc: 0.1010 - val_loss: 2.3830 - val_acc: 0.1000\n",
      "Epoch 7/10\n",
      "5000/5000 [==============================] - 1s 247us/step - loss: 2.3975 - acc: 0.1022 - val_loss: 2.3319 - val_acc: 0.0920\n",
      "Epoch 8/10\n",
      "5000/5000 [==============================] - 1s 248us/step - loss: 2.3978 - acc: 0.1102 - val_loss: 2.4291 - val_acc: 0.1040\n",
      "Epoch 9/10\n",
      "5000/5000 [==============================] - 1s 247us/step - loss: 2.4160 - acc: 0.0960 - val_loss: 2.3963 - val_acc: 0.1024\n",
      "Epoch 10/10\n",
      "5000/5000 [==============================] - 1s 247us/step - loss: 2.4025 - acc: 0.1012 - val_loss: 2.4236 - val_acc: 0.1060\n",
      "89.4\n"
     ]
    }
   ],
   "source": [
    "# MB50, lr = 10, un = 25.\n",
    "use_model(10, 25, 'mb50') "
   ]
  },
  {
   "cell_type": "code",
   "execution_count": 24,
   "metadata": {
    "scrolled": true
   },
   "outputs": [
    {
     "data": {
      "image/png": "[encoded data removed]",
      "text/plain": [
       "<Figure size 432x288 with 1 Axes>"
      ]
     },
     "metadata": {},
     "output_type": "display_data"
    }
   ],
   "source": [
    "plt.plot(inputsGD, outputsGD, label='GD')\n",
    "plt.plot(inputsSGD, outputsSGD, label='SGD')\n",
    "plt.plot(inputsMiniBatch10, outputsMiniBatch10, label='Mini-Batch10')\n",
    "plt.plot(inputsMiniBatch50, outputsMiniBatch50, label='Mini-Batch50')\n",
    "plt.xlabel('learning rate')\n",
    "plt.axvline(x=0.5, ls='dotted')\n",
    "plt.axvline(x=1, ls='dotted')\n",
    "plt.axvline(x=10, ls='dotted')\n",
    "plt.minorticks_on()\n",
    "plt.ylabel('training error (%)')\n",
    "plt.title(\"25 unities hidden layer\")\n",
    "plt.legend()\n",
    "plt.show()"
   ]
  },
  {
   "cell_type": "code",
   "execution_count": 25,
   "metadata": {},
   "outputs": [],
   "source": [
    "# Limpar os arrays para testar outro features.\n",
    "clear_arrays()"
   ]
  },
  {
   "cell_type": "code",
   "execution_count": 26,
   "metadata": {},
   "outputs": [
    {
     "name": "stdout",
     "output_type": "stream",
     "text": [
      "Train on 5000 samples, validate on 5000 samples\n",
      "Epoch 1/10\n",
      "5000/5000 [==============================] - 1s 173us/step - loss: 2.3046 - acc: 0.1024 - val_loss: 2.3006 - val_acc: 0.1142\n",
      "Epoch 2/10\n",
      "5000/5000 [==============================] - 0s 75us/step - loss: 2.3006 - acc: 0.1142 - val_loss: 2.2994 - val_acc: 0.1142\n",
      "Epoch 3/10\n",
      "5000/5000 [==============================] - 0s 77us/step - loss: 2.2994 - acc: 0.1142 - val_loss: 2.2984 - val_acc: 0.1142\n",
      "Epoch 4/10\n",
      "5000/5000 [==============================] - 0s 73us/step - loss: 2.2984 - acc: 0.1142 - val_loss: 2.2974 - val_acc: 0.1142\n",
      "Epoch 5/10\n",
      "5000/5000 [==============================] - 0s 73us/step - loss: 2.2974 - acc: 0.1142 - val_loss: 2.2963 - val_acc: 0.1142\n",
      "Epoch 6/10\n",
      "5000/5000 [==============================] - 0s 72us/step - loss: 2.2963 - acc: 0.1142 - val_loss: 2.2953 - val_acc: 0.1142\n",
      "Epoch 7/10\n",
      "5000/5000 [==============================] - 0s 76us/step - loss: 2.2953 - acc: 0.1142 - val_loss: 2.2942 - val_acc: 0.1142\n",
      "Epoch 8/10\n",
      "5000/5000 [==============================] - 0s 72us/step - loss: 2.2942 - acc: 0.1142 - val_loss: 2.2931 - val_acc: 0.1142\n",
      "Epoch 9/10\n",
      "5000/5000 [==============================] - 0s 72us/step - loss: 2.2931 - acc: 0.1142 - val_loss: 2.2920 - val_acc: 0.1142\n",
      "Epoch 10/10\n",
      "5000/5000 [==============================] - 0s 72us/step - loss: 2.2920 - acc: 0.1142 - val_loss: 2.2909 - val_acc: 0.1142\n",
      "88.58\n"
     ]
    }
   ],
   "source": [
    "# GD, lr = 0.5, un = 50.\n",
    "use_model(0.5, 50, 'gd')"
   ]
  },
  {
   "cell_type": "code",
   "execution_count": 27,
   "metadata": {},
   "outputs": [
    {
     "name": "stdout",
     "output_type": "stream",
     "text": [
      "Train on 5000 samples, validate on 5000 samples\n",
      "Epoch 1/10\n",
      "5000/5000 [==============================] - 1s 248us/step - loss: 2.3235 - acc: 0.0946 - val_loss: 2.3081 - val_acc: 0.1180\n",
      "Epoch 2/10\n",
      "5000/5000 [==============================] - 0s 79us/step - loss: 2.3081 - acc: 0.1180 - val_loss: 2.3001 - val_acc: 0.1846\n",
      "Epoch 3/10\n",
      "5000/5000 [==============================] - 0s 94us/step - loss: 2.3001 - acc: 0.1846 - val_loss: 2.2967 - val_acc: 0.1142\n",
      "Epoch 4/10\n",
      "5000/5000 [==============================] - 1s 112us/step - loss: 2.2967 - acc: 0.1142 - val_loss: 2.2943 - val_acc: 0.1158\n",
      "Epoch 5/10\n",
      "5000/5000 [==============================] - 1s 104us/step - loss: 2.2943 - acc: 0.1158 - val_loss: 2.2920 - val_acc: 0.1142\n",
      "Epoch 6/10\n",
      "5000/5000 [==============================] - 0s 94us/step - loss: 2.2920 - acc: 0.1142 - val_loss: 2.2897 - val_acc: 0.1144\n",
      "Epoch 7/10\n",
      "5000/5000 [==============================] - 0s 93us/step - loss: 2.2897 - acc: 0.1144 - val_loss: 2.2873 - val_acc: 0.1142\n",
      "Epoch 8/10\n",
      "5000/5000 [==============================] - 1s 106us/step - loss: 2.2873 - acc: 0.1142 - val_loss: 2.2848 - val_acc: 0.1150\n",
      "Epoch 9/10\n",
      "5000/5000 [==============================] - 0s 81us/step - loss: 2.2848 - acc: 0.1150 - val_loss: 2.2820 - val_acc: 0.1146\n",
      "Epoch 10/10\n",
      "5000/5000 [==============================] - 0s 72us/step - loss: 2.2820 - acc: 0.1146 - val_loss: 2.2791 - val_acc: 0.1188\n",
      "88.12\n"
     ]
    }
   ],
   "source": [
    "# GD, lr = 1, un = 50.\n",
    "use_model(1, 50, 'gd')"
   ]
  },
  {
   "cell_type": "code",
   "execution_count": 28,
   "metadata": {},
   "outputs": [
    {
     "name": "stdout",
     "output_type": "stream",
     "text": [
      "Train on 5000 samples, validate on 5000 samples\n",
      "Epoch 1/10\n",
      "5000/5000 [==============================] - 1s 216us/step - loss: 2.3474 - acc: 0.1024 - val_loss: 6.2124 - val_acc: 0.1142\n",
      "Epoch 2/10\n",
      "5000/5000 [==============================] - 0s 89us/step - loss: 6.2124 - acc: 0.1142 - val_loss: 3.3721 - val_acc: 0.1000\n",
      "Epoch 3/10\n",
      "5000/5000 [==============================] - 0s 95us/step - loss: 3.3721 - acc: 0.1000 - val_loss: 3.0166 - val_acc: 0.1060\n",
      "Epoch 4/10\n",
      "5000/5000 [==============================] - 0s 82us/step - loss: 3.0166 - acc: 0.1060 - val_loss: 2.8718 - val_acc: 0.1060\n",
      "Epoch 5/10\n",
      "5000/5000 [==============================] - 0s 77us/step - loss: 2.8718 - acc: 0.1060 - val_loss: 2.7280 - val_acc: 0.1060\n",
      "Epoch 6/10\n",
      "5000/5000 [==============================] - 0s 80us/step - loss: 2.7280 - acc: 0.1060 - val_loss: 2.5871 - val_acc: 0.1060\n",
      "Epoch 7/10\n",
      "5000/5000 [==============================] - 1s 112us/step - loss: 2.5871 - acc: 0.1060 - val_loss: 2.4559 - val_acc: 0.1060\n",
      "Epoch 8/10\n",
      "5000/5000 [==============================] - 1s 194us/step - loss: 2.4559 - acc: 0.1060 - val_loss: 2.3530 - val_acc: 0.1060\n",
      "Epoch 9/10\n",
      "5000/5000 [==============================] - 1s 132us/step - loss: 2.3530 - acc: 0.1060 - val_loss: 2.3056 - val_acc: 0.1060\n",
      "Epoch 10/10\n",
      "5000/5000 [==============================] - 0s 97us/step - loss: 2.3056 - acc: 0.1060 - val_loss: 2.3003 - val_acc: 0.1142\n",
      "88.58\n"
     ]
    }
   ],
   "source": [
    "# GD, lr = 1, un = 50.\n",
    "use_model(10, 50, 'gd')"
   ]
  },
  {
   "cell_type": "code",
   "execution_count": 29,
   "metadata": {},
   "outputs": [
    {
     "name": "stdout",
     "output_type": "stream",
     "text": [
      "Train on 5000 samples, validate on 5000 samples\n",
      "Epoch 1/10\n",
      "5000/5000 [==============================] - 47s 9ms/step - loss: 9.7415 - acc: 0.0976 - val_loss: 14.6288 - val_acc: 0.0924\n",
      "Epoch 2/10\n",
      "5000/5000 [==============================] - 53s 11ms/step - loss: 14.6288 - acc: 0.0924 - val_loss: 14.6288 - val_acc: 0.0924\n",
      "Epoch 3/10\n",
      "5000/5000 [==============================] - 44s 9ms/step - loss: 14.6288 - acc: 0.0924 - val_loss: 14.6288 - val_acc: 0.0924\n",
      "Epoch 4/10\n",
      "5000/5000 [==============================] - 45s 9ms/step - loss: 14.6288 - acc: 0.0924 - val_loss: 14.6288 - val_acc: 0.0924\n",
      "Epoch 5/10\n",
      "5000/5000 [==============================] - 40s 8ms/step - loss: 14.6288 - acc: 0.0924 - val_loss: 14.6288 - val_acc: 0.0924\n",
      "Epoch 6/10\n",
      "5000/5000 [==============================] - 40s 8ms/step - loss: 14.6288 - acc: 0.0924 - val_loss: 14.6288 - val_acc: 0.0924\n",
      "Epoch 7/10\n",
      "5000/5000 [==============================] - 42s 8ms/step - loss: 14.6288 - acc: 0.0924 - val_loss: 14.6288 - val_acc: 0.0924\n",
      "Epoch 8/10\n",
      "5000/5000 [==============================] - 44s 9ms/step - loss: 14.6288 - acc: 0.0924 - val_loss: 14.6288 - val_acc: 0.0924\n",
      "Epoch 9/10\n",
      "5000/5000 [==============================] - 41s 8ms/step - loss: 14.6288 - acc: 0.0924 - val_loss: 14.6288 - val_acc: 0.0924\n",
      "Epoch 10/10\n",
      "5000/5000 [==============================] - 40s 8ms/step - loss: 14.6288 - acc: 0.0924 - val_loss: 14.6288 - val_acc: 0.0924\n",
      "90.76\n"
     ]
    }
   ],
   "source": [
    "# SGD, lr = 0.5, un = 50.\n",
    "use_model(0.5, 50, 'sgd')"
   ]
  },
  {
   "cell_type": "code",
   "execution_count": 30,
   "metadata": {},
   "outputs": [
    {
     "name": "stdout",
     "output_type": "stream",
     "text": [
      "Train on 5000 samples, validate on 5000 samples\n",
      "Epoch 1/10\n",
      "5000/5000 [==============================] - 40s 8ms/step - loss: 4.1147 - acc: 0.0916 - val_loss: 5.1248 - val_acc: 0.0924\n",
      "Epoch 2/10\n",
      "5000/5000 [==============================] - 50s 10ms/step - loss: 6.1122 - acc: 0.1046 - val_loss: 6.4133 - val_acc: 0.1024\n",
      "Epoch 3/10\n",
      "5000/5000 [==============================] - 44s 9ms/step - loss: 6.3291 - acc: 0.0970 - val_loss: 6.2862 - val_acc: 0.1024\n",
      "Epoch 4/10\n",
      "5000/5000 [==============================] - 46s 9ms/step - loss: 6.3596 - acc: 0.0926 - val_loss: 6.1934 - val_acc: 0.1040\n",
      "Epoch 5/10\n",
      "5000/5000 [==============================] - 43s 9ms/step - loss: 5.6986 - acc: 0.0970 - val_loss: 5.6852 - val_acc: 0.1040\n",
      "Epoch 6/10\n",
      "5000/5000 [==============================] - 41s 8ms/step - loss: 5.4238 - acc: 0.0998 - val_loss: 5.4373 - val_acc: 0.0920\n",
      "Epoch 7/10\n",
      "5000/5000 [==============================] - 41s 8ms/step - loss: 5.3995 - acc: 0.1040 - val_loss: 5.2964 - val_acc: 0.0978\n",
      "Epoch 8/10\n",
      "5000/5000 [==============================] - 41s 8ms/step - loss: 5.4417 - acc: 0.0968 - val_loss: 5.4436 - val_acc: 0.1040\n",
      "Epoch 9/10\n",
      "5000/5000 [==============================] - 53s 11ms/step - loss: 5.3936 - acc: 0.1050 - val_loss: 5.5009 - val_acc: 0.0924\n",
      "Epoch 10/10\n",
      "5000/5000 [==============================] - 48s 10ms/step - loss: 5.4382 - acc: 0.0974 - val_loss: 5.0190 - val_acc: 0.0978\n",
      "90.22\n"
     ]
    }
   ],
   "source": [
    "# SGD, lr = 1, un = 50.\n",
    "use_model(1, 50, 'sgd')"
   ]
  },
  {
   "cell_type": "code",
   "execution_count": 31,
   "metadata": {},
   "outputs": [
    {
     "name": "stdout",
     "output_type": "stream",
     "text": [
      "Train on 5000 samples, validate on 5000 samples\n",
      "Epoch 1/10\n",
      "5000/5000 [==============================] - 48s 10ms/step - loss: 14.4101 - acc: 0.1058 - val_loss: 14.4096 - val_acc: 0.1060\n",
      "Epoch 2/10\n",
      "5000/5000 [==============================] - 45s 9ms/step - loss: 14.4096 - acc: 0.1060 - val_loss: 14.4096 - val_acc: 0.1060\n",
      "Epoch 3/10\n",
      "5000/5000 [==============================] - 45s 9ms/step - loss: 14.4096 - acc: 0.1060 - val_loss: 14.4096 - val_acc: 0.1060\n",
      "Epoch 4/10\n",
      "5000/5000 [==============================] - 44s 9ms/step - loss: 14.4096 - acc: 0.1060 - val_loss: 14.4096 - val_acc: 0.1060\n",
      "Epoch 5/10\n",
      "5000/5000 [==============================] - 51s 10ms/step - loss: 14.4096 - acc: 0.1060 - val_loss: 14.4096 - val_acc: 0.1060\n",
      "Epoch 6/10\n",
      "5000/5000 [==============================] - 51s 10ms/step - loss: 14.4096 - acc: 0.1060 - val_loss: 14.4096 - val_acc: 0.1060\n",
      "Epoch 7/10\n",
      "5000/5000 [==============================] - 52s 10ms/step - loss: 14.4096 - acc: 0.1060 - val_loss: 14.4096 - val_acc: 0.1060\n",
      "Epoch 8/10\n",
      "5000/5000 [==============================] - 46s 9ms/step - loss: 14.4096 - acc: 0.1060 - val_loss: 14.4096 - val_acc: 0.1060\n",
      "Epoch 9/10\n",
      "5000/5000 [==============================] - 45s 9ms/step - loss: 14.4096 - acc: 0.1060 - val_loss: 14.4096 - val_acc: 0.1060\n",
      "Epoch 10/10\n",
      "5000/5000 [==============================] - 50s 10ms/step - loss: 14.4096 - acc: 0.1060 - val_loss: 14.4096 - val_acc: 0.1060\n",
      "89.4\n"
     ]
    }
   ],
   "source": [
    "# SGD, lr = 10, un = 50.\n",
    "use_model(10, 50, 'sgd')"
   ]
  },
  {
   "cell_type": "code",
   "execution_count": 32,
   "metadata": {},
   "outputs": [
    {
     "name": "stdout",
     "output_type": "stream",
     "text": [
      "Train on 5000 samples, validate on 5000 samples\n",
      "Epoch 1/10\n",
      "5000/5000 [==============================] - 8s 2ms/step - loss: 1.5766 - acc: 0.4144 - val_loss: 0.6406 - val_acc: 0.7984\n",
      "Epoch 2/10\n",
      "5000/5000 [==============================] - 6s 1ms/step - loss: 0.6088 - acc: 0.8008 - val_loss: 0.4264 - val_acc: 0.8620\n",
      "Epoch 3/10\n",
      "5000/5000 [==============================] - 6s 1ms/step - loss: 0.4174 - acc: 0.8664 - val_loss: 0.3448 - val_acc: 0.8924\n",
      "Epoch 4/10\n",
      "5000/5000 [==============================] - 6s 1ms/step - loss: 0.3269 - acc: 0.8994 - val_loss: 0.2307 - val_acc: 0.9300\n",
      "Epoch 5/10\n",
      "5000/5000 [==============================] - 7s 1ms/step - loss: 0.2679 - acc: 0.9150 - val_loss: 0.1908 - val_acc: 0.9400\n",
      "Epoch 6/10\n",
      "5000/5000 [==============================] - 7s 1ms/step - loss: 0.2196 - acc: 0.9288 - val_loss: 0.1644 - val_acc: 0.9438\n",
      "Epoch 7/10\n",
      "5000/5000 [==============================] - 6s 1ms/step - loss: 0.1780 - acc: 0.9446 - val_loss: 0.1280 - val_acc: 0.9628\n",
      "Epoch 8/10\n",
      "5000/5000 [==============================] - 6s 1ms/step - loss: 0.1496 - acc: 0.9510 - val_loss: 0.1026 - val_acc: 0.9698\n",
      "Epoch 9/10\n",
      "5000/5000 [==============================] - 6s 1ms/step - loss: 0.1219 - acc: 0.9614 - val_loss: 0.1044 - val_acc: 0.9698\n",
      "Epoch 10/10\n",
      "5000/5000 [==============================] - 6s 1ms/step - loss: 0.0946 - acc: 0.9720 - val_loss: 0.0600 - val_acc: 0.9836\n",
      "1.6400000000000006\n"
     ]
    }
   ],
   "source": [
    "# MB10, lr = 0.5, un = 50.\n",
    "use_model(0.5, 50, 'mb10')"
   ]
  },
  {
   "cell_type": "code",
   "execution_count": 33,
   "metadata": {},
   "outputs": [
    {
     "name": "stdout",
     "output_type": "stream",
     "text": [
      "Train on 5000 samples, validate on 5000 samples\n",
      "Epoch 1/10\n",
      "5000/5000 [==============================] - 7s 1ms/step - loss: 1.8189 - acc: 0.3198 - val_loss: 0.7787 - val_acc: 0.7280\n",
      "Epoch 2/10\n",
      "5000/5000 [==============================] - 7s 1ms/step - loss: 0.6366 - acc: 0.7922 - val_loss: 0.5541 - val_acc: 0.8152\n",
      "Epoch 3/10\n",
      "5000/5000 [==============================] - 7s 1ms/step - loss: 0.4094 - acc: 0.8686 - val_loss: 0.2460 - val_acc: 0.9224\n",
      "Epoch 4/10\n",
      "5000/5000 [==============================] - 6s 1ms/step - loss: 0.2869 - acc: 0.9054 - val_loss: 0.1995 - val_acc: 0.9364\n",
      "Epoch 5/10\n",
      "5000/5000 [==============================] - 6s 1ms/step - loss: 0.2097 - acc: 0.9278 - val_loss: 0.1855 - val_acc: 0.9322\n",
      "Epoch 6/10\n",
      "5000/5000 [==============================] - 6s 1ms/step - loss: 0.1608 - acc: 0.9474 - val_loss: 0.1170 - val_acc: 0.9620\n",
      "Epoch 7/10\n",
      "5000/5000 [==============================] - 6s 1ms/step - loss: 0.1138 - acc: 0.9636 - val_loss: 0.0985 - val_acc: 0.9664\n",
      "Epoch 8/10\n",
      "5000/5000 [==============================] - 6s 1ms/step - loss: 0.0856 - acc: 0.9720 - val_loss: 0.0871 - val_acc: 0.9700\n",
      "Epoch 9/10\n",
      "5000/5000 [==============================] - 6s 1ms/step - loss: 0.0697 - acc: 0.9764 - val_loss: 0.0518 - val_acc: 0.9838\n",
      "Epoch 10/10\n",
      "5000/5000 [==============================] - 6s 1ms/step - loss: 0.0441 - acc: 0.9878 - val_loss: 0.0281 - val_acc: 0.9932\n",
      "0.6800000000000068\n"
     ]
    }
   ],
   "source": [
    "# MB10, lr = 1, un = 50.\n",
    "use_model(1, 50, 'mb10')"
   ]
  },
  {
   "cell_type": "code",
   "execution_count": 34,
   "metadata": {},
   "outputs": [
    {
     "name": "stdout",
     "output_type": "stream",
     "text": [
      "Train on 5000 samples, validate on 5000 samples\n",
      "Epoch 1/10\n",
      "5000/5000 [==============================] - 8s 2ms/step - loss: 14.4915 - acc: 0.0996 - val_loss: 14.5063 - val_acc: 0.1000\n",
      "Epoch 2/10\n",
      "5000/5000 [==============================] - 7s 1ms/step - loss: 14.5063 - acc: 0.1000 - val_loss: 14.5063 - val_acc: 0.1000\n",
      "Epoch 3/10\n",
      "5000/5000 [==============================] - 7s 1ms/step - loss: 14.5063 - acc: 0.1000 - val_loss: 14.5063 - val_acc: 0.1000\n",
      "Epoch 4/10\n",
      "5000/5000 [==============================] - 6s 1ms/step - loss: 14.5063 - acc: 0.1000 - val_loss: 14.5063 - val_acc: 0.1000\n",
      "Epoch 5/10\n",
      "5000/5000 [==============================] - 6s 1ms/step - loss: 14.5063 - acc: 0.1000 - val_loss: 14.5063 - val_acc: 0.1000\n",
      "Epoch 6/10\n",
      "5000/5000 [==============================] - 6s 1ms/step - loss: 14.5063 - acc: 0.1000 - val_loss: 14.5063 - val_acc: 0.1000\n",
      "Epoch 7/10\n",
      "5000/5000 [==============================] - 6s 1ms/step - loss: 14.5063 - acc: 0.1000 - val_loss: 14.5063 - val_acc: 0.1000\n",
      "Epoch 8/10\n",
      "5000/5000 [==============================] - 6s 1ms/step - loss: 14.5063 - acc: 0.1000 - val_loss: 14.5063 - val_acc: 0.1000\n",
      "Epoch 9/10\n",
      "5000/5000 [==============================] - 6s 1ms/step - loss: 14.5063 - acc: 0.1000 - val_loss: 14.5063 - val_acc: 0.1000\n",
      "Epoch 10/10\n",
      "5000/5000 [==============================] - 7s 1ms/step - loss: 14.5063 - acc: 0.1000 - val_loss: 14.5063 - val_acc: 0.1000\n",
      "90.0\n"
     ]
    }
   ],
   "source": [
    "# MB10, lr = 10, un = 50.\n",
    "use_model(10, 50, 'mb10')"
   ]
  },
  {
   "cell_type": "code",
   "execution_count": 35,
   "metadata": {},
   "outputs": [
    {
     "name": "stdout",
     "output_type": "stream",
     "text": [
      "Train on 5000 samples, validate on 5000 samples\n",
      "Epoch 1/10\n",
      "5000/5000 [==============================] - 3s 523us/step - loss: 2.2162 - acc: 0.1732 - val_loss: 1.8662 - val_acc: 0.3484\n",
      "Epoch 2/10\n",
      "5000/5000 [==============================] - 2s 328us/step - loss: 1.3894 - acc: 0.5100 - val_loss: 1.0502 - val_acc: 0.6564\n",
      "Epoch 3/10\n",
      "5000/5000 [==============================] - 2s 339us/step - loss: 0.8180 - acc: 0.7204 - val_loss: 0.6320 - val_acc: 0.8008\n",
      "Epoch 4/10\n",
      "5000/5000 [==============================] - 2s 304us/step - loss: 0.6009 - acc: 0.8038 - val_loss: 0.5304 - val_acc: 0.8398\n",
      "Epoch 5/10\n",
      "5000/5000 [==============================] - 2s 308us/step - loss: 0.5017 - acc: 0.8424 - val_loss: 0.4486 - val_acc: 0.8640\n",
      "Epoch 6/10\n",
      "5000/5000 [==============================] - 2s 318us/step - loss: 0.4390 - acc: 0.8606 - val_loss: 0.3767 - val_acc: 0.8820\n",
      "Epoch 7/10\n",
      "5000/5000 [==============================] - 2s 313us/step - loss: 0.3915 - acc: 0.8804 - val_loss: 0.3463 - val_acc: 0.8902\n",
      "Epoch 8/10\n",
      "5000/5000 [==============================] - 2s 317us/step - loss: 0.3624 - acc: 0.8794 - val_loss: 0.3346 - val_acc: 0.8994\n",
      "Epoch 9/10\n",
      "5000/5000 [==============================] - 2s 311us/step - loss: 0.3323 - acc: 0.8944 - val_loss: 0.2814 - val_acc: 0.9140\n",
      "Epoch 10/10\n",
      "5000/5000 [==============================] - 2s 305us/step - loss: 0.3065 - acc: 0.9042 - val_loss: 0.2671 - val_acc: 0.9184\n",
      "8.159999999999997\n"
     ]
    }
   ],
   "source": [
    "# MB50, lr = 0.5, un = 50.\n",
    "use_model(0.5, 50, 'mb50')"
   ]
  },
  {
   "cell_type": "code",
   "execution_count": 36,
   "metadata": {},
   "outputs": [
    {
     "name": "stdout",
     "output_type": "stream",
     "text": [
      "Train on 5000 samples, validate on 5000 samples\n",
      "Epoch 1/10\n",
      "5000/5000 [==============================] - 2s 478us/step - loss: 2.4851 - acc: 0.1492 - val_loss: 5.6882 - val_acc: 0.1024\n",
      "Epoch 2/10\n",
      "5000/5000 [==============================] - 2s 319us/step - loss: 3.0743 - acc: 0.3172 - val_loss: 1.4171 - val_acc: 0.5668\n",
      "Epoch 3/10\n",
      "5000/5000 [==============================] - 2s 323us/step - loss: 0.9737 - acc: 0.6544 - val_loss: 0.7412 - val_acc: 0.7286\n",
      "Epoch 4/10\n",
      "5000/5000 [==============================] - 2s 307us/step - loss: 0.6259 - acc: 0.7864 - val_loss: 0.5083 - val_acc: 0.8412\n",
      "Epoch 5/10\n",
      "5000/5000 [==============================] - 2s 332us/step - loss: 0.4794 - acc: 0.8468 - val_loss: 0.3739 - val_acc: 0.8858\n",
      "Epoch 6/10\n",
      "5000/5000 [==============================] - 2s 352us/step - loss: 0.3956 - acc: 0.8756 - val_loss: 0.2923 - val_acc: 0.9102\n",
      "Epoch 7/10\n",
      "5000/5000 [==============================] - 2s 319us/step - loss: 0.3326 - acc: 0.8972 - val_loss: 0.2989 - val_acc: 0.9082\n",
      "Epoch 8/10\n",
      "5000/5000 [==============================] - 2s 311us/step - loss: 0.2944 - acc: 0.9038 - val_loss: 0.2317 - val_acc: 0.9302\n",
      "Epoch 9/10\n",
      "5000/5000 [==============================] - 2s 320us/step - loss: 0.2652 - acc: 0.9178 - val_loss: 0.2079 - val_acc: 0.9372\n",
      "Epoch 10/10\n",
      "5000/5000 [==============================] - 2s 340us/step - loss: 0.2328 - acc: 0.9290 - val_loss: 0.2234 - val_acc: 0.9290\n",
      "7.099999999999994\n"
     ]
    }
   ],
   "source": [
    "# MB50, lr = 1, un = 50.\n",
    "use_model(1, 50, 'mb50')"
   ]
  },
  {
   "cell_type": "code",
   "execution_count": 37,
   "metadata": {},
   "outputs": [
    {
     "name": "stdout",
     "output_type": "stream",
     "text": [
      "Train on 5000 samples, validate on 5000 samples\n",
      "Epoch 1/10\n",
      "5000/5000 [==============================] - 3s 517us/step - loss: 2.5045 - acc: 0.0984 - val_loss: 2.3961 - val_acc: 0.0924\n",
      "Epoch 2/10\n",
      "5000/5000 [==============================] - 2s 303us/step - loss: 2.3967 - acc: 0.0984 - val_loss: 2.3321 - val_acc: 0.1142\n",
      "Epoch 3/10\n",
      "5000/5000 [==============================] - 1s 283us/step - loss: 2.4415 - acc: 0.1024 - val_loss: 2.5536 - val_acc: 0.1000\n",
      "Epoch 4/10\n",
      "5000/5000 [==============================] - 2s 455us/step - loss: 2.5432 - acc: 0.0996 - val_loss: 3.2815 - val_acc: 0.1000\n",
      "Epoch 5/10\n",
      "5000/5000 [==============================] - 2s 327us/step - loss: 3.4035 - acc: 0.1074 - val_loss: 2.9167 - val_acc: 0.1000\n",
      "Epoch 6/10\n",
      "5000/5000 [==============================] - 2s 311us/step - loss: 3.4533 - acc: 0.1012 - val_loss: 3.5753 - val_acc: 0.1000\n",
      "Epoch 7/10\n",
      "5000/5000 [==============================] - 2s 315us/step - loss: 3.2680 - acc: 0.1014 - val_loss: 3.0954 - val_acc: 0.1000\n",
      "Epoch 8/10\n",
      "5000/5000 [==============================] - 1s 294us/step - loss: 3.3692 - acc: 0.0924 - val_loss: 3.9629 - val_acc: 0.1024\n",
      "Epoch 9/10\n",
      "5000/5000 [==============================] - 2s 334us/step - loss: 3.4049 - acc: 0.1060 - val_loss: 2.7517 - val_acc: 0.0924\n",
      "Epoch 10/10\n",
      "5000/5000 [==============================] - 2s 347us/step - loss: 3.3032 - acc: 0.0986 - val_loss: 3.6499 - val_acc: 0.1142\n",
      "88.58\n"
     ]
    }
   ],
   "source": [
    "# MB50, lr = 10, un = 50.\n",
    "use_model(10, 50, 'mb50')"
   ]
  },
  {
   "cell_type": "code",
   "execution_count": 55,
   "metadata": {},
   "outputs": [
    {
     "data": {
      "image/png": "[encoded data removed]",
      "text/plain": [
       "<Figure size 432x288 with 1 Axes>"
      ]
     },
     "metadata": {},
     "output_type": "display_data"
    }
   ],
   "source": [
    "plt.plot(inputsGD, outputsGD, label='GD')\n",
    "plt.plot(inputsSGD, outputsSGD, label='SGD')\n",
    "plt.plot(inputsMiniBatch10, outputsMiniBatch10, label='Mini-Batch10')\n",
    "plt.plot(inputsMiniBatch50, outputsMiniBatch50, label='Mini-Batch50')\n",
    "plt.xlabel('learning rate')\n",
    "plt.axvline(x=0.5, ls='dotted')\n",
    "plt.axvline(x=1, ls='dotted')\n",
    "plt.axvline(x=10, ls='dotted')\n",
    "plt.minorticks_on()\n",
    "plt.ylabel('training error (%)')\n",
    "plt.title(\"50 unities hidden layer\")\n",
    "plt.legend()\n",
    "plt.show()"
   ]
  },
  {
   "cell_type": "code",
   "execution_count": 39,
   "metadata": {},
   "outputs": [],
   "source": [
    "# Limpar os arrays para testar outro features.\n",
    "clear_arrays()"
   ]
  },
  {
   "cell_type": "code",
   "execution_count": 40,
   "metadata": {},
   "outputs": [
    {
     "name": "stdout",
     "output_type": "stream",
     "text": [
      "Train on 5000 samples, validate on 5000 samples\n",
      "Epoch 1/10\n",
      "5000/5000 [==============================] - 2s 331us/step - loss: 2.3589 - acc: 0.1000 - val_loss: 2.3117 - val_acc: 0.1142\n",
      "Epoch 2/10\n",
      "5000/5000 [==============================] - 0s 90us/step - loss: 2.3117 - acc: 0.1142 - val_loss: 2.2982 - val_acc: 0.1252\n",
      "Epoch 3/10\n",
      "5000/5000 [==============================] - 0s 85us/step - loss: 2.2982 - acc: 0.1252 - val_loss: 2.2946 - val_acc: 0.1142\n",
      "Epoch 4/10\n",
      "5000/5000 [==============================] - 1s 110us/step - loss: 2.2946 - acc: 0.1142 - val_loss: 2.2920 - val_acc: 0.1806\n",
      "Epoch 5/10\n",
      "5000/5000 [==============================] - 0s 90us/step - loss: 2.2920 - acc: 0.1806 - val_loss: 2.2897 - val_acc: 0.1142\n",
      "Epoch 6/10\n",
      "5000/5000 [==============================] - 0s 91us/step - loss: 2.2897 - acc: 0.1142 - val_loss: 2.2874 - val_acc: 0.1316\n",
      "Epoch 7/10\n",
      "5000/5000 [==============================] - 0s 98us/step - loss: 2.2874 - acc: 0.1316 - val_loss: 2.2852 - val_acc: 0.1148\n",
      "Epoch 8/10\n",
      "5000/5000 [==============================] - 1s 103us/step - loss: 2.2852 - acc: 0.1148 - val_loss: 2.2830 - val_acc: 0.1246\n",
      "Epoch 9/10\n",
      "5000/5000 [==============================] - 0s 93us/step - loss: 2.2830 - acc: 0.1246 - val_loss: 2.2807 - val_acc: 0.1178\n",
      "Epoch 10/10\n",
      "5000/5000 [==============================] - 1s 103us/step - loss: 2.2807 - acc: 0.1178 - val_loss: 2.2783 - val_acc: 0.1260\n",
      "87.4\n"
     ]
    }
   ],
   "source": [
    "# GD, lr = 0.5, un = 100.\n",
    "use_model(0.5, 100, 'gd')"
   ]
  },
  {
   "cell_type": "code",
   "execution_count": 41,
   "metadata": {},
   "outputs": [
    {
     "name": "stdout",
     "output_type": "stream",
     "text": [
      "Train on 5000 samples, validate on 5000 samples\n",
      "Epoch 1/10\n",
      "5000/5000 [==============================] - 1s 285us/step - loss: 2.3346 - acc: 0.1000 - val_loss: 2.4275 - val_acc: 0.1142\n",
      "Epoch 2/10\n",
      "5000/5000 [==============================] - 0s 96us/step - loss: 2.4275 - acc: 0.1142 - val_loss: 2.6349 - val_acc: 0.1000\n",
      "Epoch 3/10\n",
      "5000/5000 [==============================] - 1s 105us/step - loss: 2.6349 - acc: 0.1000 - val_loss: 2.3930 - val_acc: 0.1000\n",
      "Epoch 4/10\n",
      "5000/5000 [==============================] - 0s 91us/step - loss: 2.3930 - acc: 0.1000 - val_loss: 2.2986 - val_acc: 0.1060\n",
      "Epoch 5/10\n",
      "5000/5000 [==============================] - 0s 89us/step - loss: 2.2986 - acc: 0.1060 - val_loss: 2.2833 - val_acc: 0.1142\n",
      "Epoch 6/10\n",
      "5000/5000 [==============================] - 0s 90us/step - loss: 2.2833 - acc: 0.1142 - val_loss: 2.2785 - val_acc: 0.1556\n",
      "Epoch 7/10\n",
      "5000/5000 [==============================] - 0s 86us/step - loss: 2.2785 - acc: 0.1556 - val_loss: 2.2742 - val_acc: 0.1146\n",
      "Epoch 8/10\n",
      "5000/5000 [==============================] - 0s 86us/step - loss: 2.2742 - acc: 0.1146 - val_loss: 2.2696 - val_acc: 0.1348\n",
      "Epoch 9/10\n",
      "5000/5000 [==============================] - 0s 96us/step - loss: 2.2696 - acc: 0.1348 - val_loss: 2.2646 - val_acc: 0.1286\n",
      "Epoch 10/10\n",
      "5000/5000 [==============================] - 0s 87us/step - loss: 2.2646 - acc: 0.1286 - val_loss: 2.2591 - val_acc: 0.1560\n",
      "84.4\n"
     ]
    }
   ],
   "source": [
    "# GD, lr = 1, un = 100.\n",
    "use_model(1, 100, 'gd')"
   ]
  },
  {
   "cell_type": "code",
   "execution_count": 42,
   "metadata": {},
   "outputs": [
    {
     "name": "stdout",
     "output_type": "stream",
     "text": [
      "Train on 5000 samples, validate on 5000 samples\n",
      "Epoch 1/10\n",
      "5000/5000 [==============================] - 1s 273us/step - loss: 2.3317 - acc: 0.1060 - val_loss: 8.7535 - val_acc: 0.1142\n",
      "Epoch 2/10\n",
      "5000/5000 [==============================] - 0s 93us/step - loss: 8.7535 - acc: 0.1142 - val_loss: 4.2301 - val_acc: 0.1002\n",
      "Epoch 3/10\n",
      "5000/5000 [==============================] - 0s 88us/step - loss: 4.2301 - acc: 0.1002 - val_loss: 2.9617 - val_acc: 0.0978\n",
      "Epoch 4/10\n",
      "5000/5000 [==============================] - 0s 91us/step - loss: 2.9617 - acc: 0.0978 - val_loss: 2.7899 - val_acc: 0.1060\n",
      "Epoch 5/10\n",
      "5000/5000 [==============================] - 0s 92us/step - loss: 2.7899 - acc: 0.1060 - val_loss: 2.6467 - val_acc: 0.1060\n",
      "Epoch 6/10\n",
      "5000/5000 [==============================] - 1s 103us/step - loss: 2.6467 - acc: 0.1060 - val_loss: 2.5099 - val_acc: 0.1060\n",
      "Epoch 7/10\n",
      "5000/5000 [==============================] - 1s 131us/step - loss: 2.5099 - acc: 0.1060 - val_loss: 2.3915 - val_acc: 0.1060\n",
      "Epoch 8/10\n",
      "5000/5000 [==============================] - 0s 93us/step - loss: 2.3915 - acc: 0.1060 - val_loss: 2.3182 - val_acc: 0.1060\n",
      "Epoch 9/10\n",
      "5000/5000 [==============================] - 0s 88us/step - loss: 2.3182 - acc: 0.1060 - val_loss: 2.3006 - val_acc: 0.1060\n",
      "Epoch 10/10\n",
      "5000/5000 [==============================] - 0s 91us/step - loss: 2.3006 - acc: 0.1060 - val_loss: 2.3003 - val_acc: 0.1142\n",
      "88.58\n"
     ]
    }
   ],
   "source": [
    "# GD, lr = 1, un = 100.\n",
    "use_model(10, 100, 'gd')"
   ]
  },
  {
   "cell_type": "code",
   "execution_count": 43,
   "metadata": {},
   "outputs": [
    {
     "name": "stdout",
     "output_type": "stream",
     "text": [
      "Train on 5000 samples, validate on 5000 samples\n",
      "Epoch 1/10\n",
      "5000/5000 [==============================] - 50s 10ms/step - loss: 14.5422 - acc: 0.0976 - val_loss: 14.5417 - val_acc: 0.0978\n",
      "Epoch 2/10\n",
      "5000/5000 [==============================] - 48s 10ms/step - loss: 14.5417 - acc: 0.0978 - val_loss: 14.5417 - val_acc: 0.0978\n",
      "Epoch 3/10\n",
      "5000/5000 [==============================] - 50s 10ms/step - loss: 14.5417 - acc: 0.0978 - val_loss: 14.5417 - val_acc: 0.0978\n",
      "Epoch 4/10\n",
      "5000/5000 [==============================] - 53s 11ms/step - loss: 14.5417 - acc: 0.0978 - val_loss: 14.5417 - val_acc: 0.0978\n",
      "Epoch 5/10\n",
      "5000/5000 [==============================] - 49s 10ms/step - loss: 14.5417 - acc: 0.0978 - val_loss: 14.5417 - val_acc: 0.0978\n",
      "Epoch 6/10\n",
      "5000/5000 [==============================] - 49s 10ms/step - loss: 14.5417 - acc: 0.0978 - val_loss: 14.5417 - val_acc: 0.0978\n",
      "Epoch 7/10\n",
      "5000/5000 [==============================] - 55s 11ms/step - loss: 14.5417 - acc: 0.0978 - val_loss: 14.5417 - val_acc: 0.0978\n",
      "Epoch 8/10\n",
      "5000/5000 [==============================] - 48s 10ms/step - loss: 14.5417 - acc: 0.0978 - val_loss: 14.5417 - val_acc: 0.0978\n",
      "Epoch 9/10\n",
      "5000/5000 [==============================] - 54s 11ms/step - loss: 14.5417 - acc: 0.0978 - val_loss: 14.5417 - val_acc: 0.0978\n",
      "Epoch 10/10\n",
      "5000/5000 [==============================] - 51s 10ms/step - loss: 14.5417 - acc: 0.0978 - val_loss: 14.5417 - val_acc: 0.0978\n",
      "90.22\n"
     ]
    }
   ],
   "source": [
    "# SGD, lr = 0.5, un = 100.\n",
    "use_model(0.5, 100, 'sgd')"
   ]
  },
  {
   "cell_type": "code",
   "execution_count": 44,
   "metadata": {},
   "outputs": [
    {
     "name": "stdout",
     "output_type": "stream",
     "text": [
      "Train on 5000 samples, validate on 5000 samples\n",
      "Epoch 1/10\n",
      "5000/5000 [==============================] - 53s 11ms/step - loss: 14.4680 - acc: 0.1024 - val_loss: 14.4676 - val_acc: 0.1024\n",
      "Epoch 2/10\n",
      "5000/5000 [==============================] - 49s 10ms/step - loss: 14.4676 - acc: 0.1024 - val_loss: 14.4676 - val_acc: 0.1024\n",
      "Epoch 3/10\n",
      "5000/5000 [==============================] - 51s 10ms/step - loss: 14.4676 - acc: 0.1024 - val_loss: 14.4676 - val_acc: 0.1024\n",
      "Epoch 4/10\n",
      "5000/5000 [==============================] - 59s 12ms/step - loss: 14.4676 - acc: 0.1024 - val_loss: 14.4676 - val_acc: 0.1024\n",
      "Epoch 5/10\n",
      "5000/5000 [==============================] - 54s 11ms/step - loss: 14.4676 - acc: 0.1024 - val_loss: 14.4676 - val_acc: 0.1024\n",
      "Epoch 6/10\n",
      "5000/5000 [==============================] - 60s 12ms/step - loss: 14.4676 - acc: 0.1024 - val_loss: 14.4676 - val_acc: 0.1024\n",
      "Epoch 7/10\n",
      "5000/5000 [==============================] - 64s 13ms/step - loss: 14.4676 - acc: 0.1024 - val_loss: 14.4676 - val_acc: 0.1024\n",
      "Epoch 8/10\n",
      "5000/5000 [==============================] - 60s 12ms/step - loss: 14.4676 - acc: 0.1024 - val_loss: 14.4676 - val_acc: 0.1024\n",
      "Epoch 9/10\n",
      "5000/5000 [==============================] - 54s 11ms/step - loss: 14.4676 - acc: 0.1024 - val_loss: 14.4676 - val_acc: 0.1024\n",
      "Epoch 10/10\n",
      "5000/5000 [==============================] - 73s 15ms/step - loss: 14.4676 - acc: 0.1024 - val_loss: 14.4676 - val_acc: 0.1024\n",
      "89.76\n"
     ]
    }
   ],
   "source": [
    "# SGD, lr = 1, un = 100.\n",
    "use_model(1, 100, 'sgd')"
   ]
  },
  {
   "cell_type": "code",
   "execution_count": 45,
   "metadata": {},
   "outputs": [
    {
     "name": "stdout",
     "output_type": "stream",
     "text": [
      "Train on 5000 samples, validate on 5000 samples\n",
      "Epoch 1/10\n",
      "5000/5000 [==============================] - 63s 13ms/step - loss: 14.6357 - acc: 0.0918 - val_loss: 14.6352 - val_acc: 0.0920\n",
      "Epoch 2/10\n",
      "5000/5000 [==============================] - 63s 13ms/step - loss: 14.6352 - acc: 0.0920 - val_loss: 14.6352 - val_acc: 0.0920\n",
      "Epoch 3/10\n",
      "5000/5000 [==============================] - 57s 11ms/step - loss: 14.6352 - acc: 0.0920 - val_loss: 14.6352 - val_acc: 0.0920\n",
      "Epoch 4/10\n",
      "5000/5000 [==============================] - 59s 12ms/step - loss: 14.6352 - acc: 0.0920 - val_loss: 14.6352 - val_acc: 0.0920\n",
      "Epoch 5/10\n",
      "5000/5000 [==============================] - 60s 12ms/step - loss: 14.6352 - acc: 0.0920 - val_loss: 14.6352 - val_acc: 0.0920\n",
      "Epoch 6/10\n",
      "5000/5000 [==============================] - 61s 12ms/step - loss: 14.6352 - acc: 0.0920 - val_loss: 14.6352 - val_acc: 0.0920\n",
      "Epoch 7/10\n",
      "5000/5000 [==============================] - 58s 12ms/step - loss: 14.6352 - acc: 0.0920 - val_loss: 14.6352 - val_acc: 0.0920\n",
      "Epoch 8/10\n",
      "5000/5000 [==============================] - 54s 11ms/step - loss: 14.6352 - acc: 0.0920 - val_loss: 14.6352 - val_acc: 0.0920\n",
      "Epoch 9/10\n",
      "5000/5000 [==============================] - 61s 12ms/step - loss: 14.6352 - acc: 0.0920 - val_loss: 14.6352 - val_acc: 0.0920\n",
      "Epoch 10/10\n",
      "5000/5000 [==============================] - 55s 11ms/step - loss: 14.6352 - acc: 0.0920 - val_loss: 14.6352 - val_acc: 0.0920\n",
      "90.8\n"
     ]
    }
   ],
   "source": [
    "# SGD, lr = 10, un = 100.\n",
    "use_model(10, 100, 'sgd')"
   ]
  },
  {
   "cell_type": "code",
   "execution_count": 46,
   "metadata": {},
   "outputs": [
    {
     "name": "stdout",
     "output_type": "stream",
     "text": [
      "Train on 5000 samples, validate on 5000 samples\n",
      "Epoch 1/10\n",
      "5000/5000 [==============================] - 8s 2ms/step - loss: 1.7863 - acc: 0.3456 - val_loss: 0.8039 - val_acc: 0.7000\n",
      "Epoch 2/10\n",
      "5000/5000 [==============================] - 7s 1ms/step - loss: 0.6753 - acc: 0.7714 - val_loss: 0.4691 - val_acc: 0.8548\n",
      "Epoch 3/10\n",
      "5000/5000 [==============================] - 7s 1ms/step - loss: 0.4501 - acc: 0.8572 - val_loss: 0.4269 - val_acc: 0.8676\n",
      "Epoch 4/10\n",
      "5000/5000 [==============================] - 8s 2ms/step - loss: 0.3444 - acc: 0.8930 - val_loss: 0.2783 - val_acc: 0.9134\n",
      "Epoch 5/10\n",
      "5000/5000 [==============================] - 7s 1ms/step - loss: 0.2962 - acc: 0.9062 - val_loss: 0.2476 - val_acc: 0.9210\n",
      "Epoch 6/10\n",
      "5000/5000 [==============================] - 7s 1ms/step - loss: 0.2528 - acc: 0.9186 - val_loss: 0.2271 - val_acc: 0.9292\n",
      "Epoch 7/10\n",
      "5000/5000 [==============================] - 7s 1ms/step - loss: 0.2071 - acc: 0.9336 - val_loss: 0.1912 - val_acc: 0.9362\n",
      "Epoch 8/10\n",
      "5000/5000 [==============================] - 6s 1ms/step - loss: 0.1662 - acc: 0.9474 - val_loss: 0.1116 - val_acc: 0.9664\n",
      "Epoch 9/10\n",
      "5000/5000 [==============================] - 7s 1ms/step - loss: 0.1436 - acc: 0.9526 - val_loss: 0.1234 - val_acc: 0.9596\n",
      "Epoch 10/10\n",
      "5000/5000 [==============================] - 7s 1ms/step - loss: 0.1164 - acc: 0.9608 - val_loss: 0.0698 - val_acc: 0.9802\n",
      "1.980000000000004\n"
     ]
    }
   ],
   "source": [
    "# MB10, lr = 0.5, un = 100.\n",
    "use_model(0.5, 100, 'mb10')"
   ]
  },
  {
   "cell_type": "code",
   "execution_count": 47,
   "metadata": {},
   "outputs": [
    {
     "name": "stdout",
     "output_type": "stream",
     "text": [
      "Train on 5000 samples, validate on 5000 samples\n",
      "Epoch 1/10\n",
      "5000/5000 [==============================] - 8s 2ms/step - loss: 1.9650 - acc: 0.2654 - val_loss: 1.4659 - val_acc: 0.5230\n",
      "Epoch 2/10\n",
      "5000/5000 [==============================] - 7s 1ms/step - loss: 0.7669 - acc: 0.7410 - val_loss: 0.4798 - val_acc: 0.8460\n",
      "Epoch 3/10\n",
      "5000/5000 [==============================] - 7s 1ms/step - loss: 0.4776 - acc: 0.8480 - val_loss: 0.3631 - val_acc: 0.8860\n",
      "Epoch 4/10\n",
      "5000/5000 [==============================] - 7s 1ms/step - loss: 0.3496 - acc: 0.8934 - val_loss: 0.2454 - val_acc: 0.9226\n",
      "Epoch 5/10\n",
      "5000/5000 [==============================] - 7s 1ms/step - loss: 0.2702 - acc: 0.9166 - val_loss: 0.1949 - val_acc: 0.9402\n",
      "Epoch 6/10\n",
      "5000/5000 [==============================] - 7s 1ms/step - loss: 0.2317 - acc: 0.9266 - val_loss: 0.1351 - val_acc: 0.9556\n",
      "Epoch 7/10\n",
      "5000/5000 [==============================] - 7s 1ms/step - loss: 0.1725 - acc: 0.9456 - val_loss: 0.1120 - val_acc: 0.9664\n",
      "Epoch 8/10\n",
      "5000/5000 [==============================] - 7s 1ms/step - loss: 0.1213 - acc: 0.9640 - val_loss: 0.0870 - val_acc: 0.9714\n",
      "Epoch 9/10\n",
      "5000/5000 [==============================] - 7s 1ms/step - loss: 0.1017 - acc: 0.9666 - val_loss: 0.0860 - val_acc: 0.9726\n",
      "Epoch 10/10\n",
      "5000/5000 [==============================] - 7s 1ms/step - loss: 0.0727 - acc: 0.9768 - val_loss: 0.0439 - val_acc: 0.9868\n",
      "1.3199999999999932\n"
     ]
    }
   ],
   "source": [
    "# MB10, lr = 1, un = 100.\n",
    "use_model(1, 100, 'mb10')"
   ]
  },
  {
   "cell_type": "code",
   "execution_count": 48,
   "metadata": {},
   "outputs": [
    {
     "name": "stdout",
     "output_type": "stream",
     "text": [
      "Train on 5000 samples, validate on 5000 samples\n",
      "Epoch 1/10\n",
      "5000/5000 [==============================] - 9s 2ms/step - loss: 14.6171 - acc: 0.0914 - val_loss: 14.6352 - val_acc: 0.0920\n",
      "Epoch 2/10\n",
      "5000/5000 [==============================] - 7s 1ms/step - loss: 14.6352 - acc: 0.0920 - val_loss: 14.6352 - val_acc: 0.0920\n",
      "Epoch 3/10\n",
      "5000/5000 [==============================] - 7s 1ms/step - loss: 14.6352 - acc: 0.0920 - val_loss: 14.6352 - val_acc: 0.0920\n",
      "Epoch 4/10\n",
      "5000/5000 [==============================] - 7s 1ms/step - loss: 14.6352 - acc: 0.0920 - val_loss: 14.6352 - val_acc: 0.0920\n",
      "Epoch 5/10\n",
      "5000/5000 [==============================] - 7s 1ms/step - loss: 14.6352 - acc: 0.0920 - val_loss: 14.6352 - val_acc: 0.0920\n",
      "Epoch 6/10\n",
      "5000/5000 [==============================] - 7s 1ms/step - loss: 14.6352 - acc: 0.0920 - val_loss: 14.6352 - val_acc: 0.0920\n",
      "Epoch 7/10\n",
      "5000/5000 [==============================] - 7s 1ms/step - loss: 14.6352 - acc: 0.0920 - val_loss: 14.6352 - val_acc: 0.0920\n",
      "Epoch 8/10\n",
      "5000/5000 [==============================] - 7s 1ms/step - loss: 14.6352 - acc: 0.0920 - val_loss: 14.6352 - val_acc: 0.0920\n",
      "Epoch 9/10\n",
      "5000/5000 [==============================] - 7s 1ms/step - loss: 14.6352 - acc: 0.0920 - val_loss: 14.6352 - val_acc: 0.0920\n",
      "Epoch 10/10\n",
      "5000/5000 [==============================] - 7s 1ms/step - loss: 14.6352 - acc: 0.0920 - val_loss: 14.6352 - val_acc: 0.0920\n",
      "90.8\n"
     ]
    }
   ],
   "source": [
    "# MB10, lr = 10, un = 100.\n",
    "use_model(10, 100, 'mb10')"
   ]
  },
  {
   "cell_type": "code",
   "execution_count": 49,
   "metadata": {},
   "outputs": [
    {
     "name": "stdout",
     "output_type": "stream",
     "text": [
      "Train on 5000 samples, validate on 5000 samples\n",
      "Epoch 1/10\n",
      "5000/5000 [==============================] - 4s 703us/step - loss: 2.1626 - acc: 0.2166 - val_loss: 1.8532 - val_acc: 0.4144\n",
      "Epoch 2/10\n",
      "5000/5000 [==============================] - 2s 345us/step - loss: 1.1703 - acc: 0.5868 - val_loss: 0.8612 - val_acc: 0.6762\n",
      "Epoch 3/10\n",
      "5000/5000 [==============================] - 2s 402us/step - loss: 0.7171 - acc: 0.7576 - val_loss: 0.6411 - val_acc: 0.8050\n",
      "Epoch 4/10\n",
      "5000/5000 [==============================] - 2s 354us/step - loss: 0.5372 - acc: 0.8194 - val_loss: 0.4535 - val_acc: 0.8530\n",
      "Epoch 5/10\n",
      "5000/5000 [==============================] - 2s 374us/step - loss: 0.4691 - acc: 0.8486 - val_loss: 0.3964 - val_acc: 0.8724\n",
      "Epoch 6/10\n",
      "5000/5000 [==============================] - 2s 336us/step - loss: 0.4197 - acc: 0.8662 - val_loss: 0.3756 - val_acc: 0.8856\n",
      "Epoch 7/10\n",
      "5000/5000 [==============================] - 2s 351us/step - loss: 0.3703 - acc: 0.8820 - val_loss: 0.3165 - val_acc: 0.8996\n",
      "Epoch 8/10\n",
      "5000/5000 [==============================] - 2s 361us/step - loss: 0.3438 - acc: 0.8924 - val_loss: 0.3024 - val_acc: 0.9042\n",
      "Epoch 9/10\n",
      "5000/5000 [==============================] - 2s 358us/step - loss: 0.3128 - acc: 0.9000 - val_loss: 0.2972 - val_acc: 0.9034\n",
      "Epoch 10/10\n",
      "5000/5000 [==============================] - 2s 364us/step - loss: 0.2949 - acc: 0.9028 - val_loss: 0.2631 - val_acc: 0.9220\n",
      "7.799999999999997\n"
     ]
    }
   ],
   "source": [
    "# MB50, lr = 0.5, un = 100.\n",
    "use_model(0.5, 100, 'mb50')"
   ]
  },
  {
   "cell_type": "code",
   "execution_count": 50,
   "metadata": {},
   "outputs": [
    {
     "name": "stdout",
     "output_type": "stream",
     "text": [
      "Train on 5000 samples, validate on 5000 samples\n",
      "Epoch 1/10\n",
      "5000/5000 [==============================] - 3s 625us/step - loss: 2.2400 - acc: 0.1648 - val_loss: 2.1532 - val_acc: 0.1644\n",
      "Epoch 2/10\n",
      "5000/5000 [==============================] - 2s 346us/step - loss: 1.3550 - acc: 0.4942 - val_loss: 0.8920 - val_acc: 0.6598\n",
      "Epoch 3/10\n",
      "5000/5000 [==============================] - 2s 364us/step - loss: 0.7122 - acc: 0.7494 - val_loss: 0.5111 - val_acc: 0.8366\n",
      "Epoch 4/10\n",
      "5000/5000 [==============================] - 2s 365us/step - loss: 0.5213 - acc: 0.8298 - val_loss: 0.4063 - val_acc: 0.8720\n",
      "Epoch 5/10\n",
      "5000/5000 [==============================] - 2s 356us/step - loss: 0.4021 - acc: 0.8740 - val_loss: 0.5217 - val_acc: 0.8170\n",
      "Epoch 6/10\n",
      "5000/5000 [==============================] - 2s 372us/step - loss: 0.3393 - acc: 0.8904 - val_loss: 0.2861 - val_acc: 0.9100\n",
      "Epoch 7/10\n",
      "5000/5000 [==============================] - 2s 364us/step - loss: 0.2951 - acc: 0.9054 - val_loss: 0.2410 - val_acc: 0.9262\n",
      "Epoch 8/10\n",
      "5000/5000 [==============================] - 2s 362us/step - loss: 0.2770 - acc: 0.9092 - val_loss: 0.2700 - val_acc: 0.9200\n",
      "Epoch 9/10\n",
      "5000/5000 [==============================] - 2s 437us/step - loss: 0.2528 - acc: 0.9186 - val_loss: 0.2161 - val_acc: 0.9278\n",
      "Epoch 10/10\n",
      "5000/5000 [==============================] - 2s 390us/step - loss: 0.2198 - acc: 0.9322 - val_loss: 0.1783 - val_acc: 0.9466\n",
      "5.340000000000003\n"
     ]
    }
   ],
   "source": [
    "# MB50, lr = 1, un = 100.\n",
    "use_model(1, 100, 'mb50')"
   ]
  },
  {
   "cell_type": "code",
   "execution_count": 51,
   "metadata": {},
   "outputs": [
    {
     "name": "stdout",
     "output_type": "stream",
     "text": [
      "Train on 5000 samples, validate on 5000 samples\n",
      "Epoch 1/10\n",
      "5000/5000 [==============================] - 3s 660us/step - loss: 14.3877 - acc: 0.0992 - val_loss: 14.5063 - val_acc: 0.1000\n",
      "Epoch 2/10\n",
      "5000/5000 [==============================] - 2s 365us/step - loss: 14.5063 - acc: 0.1000 - val_loss: 14.5063 - val_acc: 0.1000\n",
      "Epoch 3/10\n",
      "5000/5000 [==============================] - 2s 355us/step - loss: 14.5063 - acc: 0.1000 - val_loss: 14.5063 - val_acc: 0.1000\n",
      "Epoch 4/10\n",
      "5000/5000 [==============================] - 2s 343us/step - loss: 14.5063 - acc: 0.1000 - val_loss: 14.5063 - val_acc: 0.1000\n",
      "Epoch 5/10\n",
      "5000/5000 [==============================] - 2s 359us/step - loss: 14.5063 - acc: 0.1000 - val_loss: 14.5063 - val_acc: 0.1000\n",
      "Epoch 6/10\n",
      "5000/5000 [==============================] - 2s 359us/step - loss: 14.5063 - acc: 0.1000 - val_loss: 14.5063 - val_acc: 0.1000\n",
      "Epoch 7/10\n",
      "5000/5000 [==============================] - 2s 353us/step - loss: 14.5063 - acc: 0.1000 - val_loss: 14.5063 - val_acc: 0.1000\n",
      "Epoch 8/10\n",
      "5000/5000 [==============================] - 2s 343us/step - loss: 14.5063 - acc: 0.1000 - val_loss: 14.5063 - val_acc: 0.1000\n",
      "Epoch 9/10\n",
      "5000/5000 [==============================] - 2s 398us/step - loss: 14.5063 - acc: 0.1000 - val_loss: 14.5063 - val_acc: 0.1000\n",
      "Epoch 10/10\n",
      "5000/5000 [==============================] - 2s 360us/step - loss: 14.5063 - acc: 0.1000 - val_loss: 14.5063 - val_acc: 0.1000\n",
      "90.0\n"
     ]
    }
   ],
   "source": [
    "# MB50, lr = 10, un = 100.\n",
    "use_model(10, 100, 'mb50')"
   ]
  },
  {
   "cell_type": "code",
   "execution_count": 54,
   "metadata": {},
   "outputs": [
    {
     "data": {
      "image/png": "[encoded data removed]",
      "text/plain": [
       "<Figure size 432x288 with 1 Axes>"
      ]
     },
     "metadata": {},
     "output_type": "display_data"
    }
   ],
   "source": [
    "plt.plot(inputsGD, outputsGD, label='GD')\n",
    "plt.plot(inputsSGD, outputsSGD, label='SGD')\n",
    "plt.plot(inputsMiniBatch10, outputsMiniBatch10, label='Mini-Batch10')\n",
    "plt.plot(inputsMiniBatch50, outputsMiniBatch50, label='Mini-Batch50')\n",
    "plt.xlabel('learning rate')\n",
    "plt.axvline(x=0.5, ls='dotted')\n",
    "plt.axvline(x=1, ls='dotted')\n",
    "plt.axvline(x=10, ls='dotted')\n",
    "plt.minorticks_on()\n",
    "plt.ylabel('training error (%)')\n",
    "plt.title(\"100 unities hidden layer\")\n",
    "plt.legend()\n",
    "plt.show()"
   ]
  },
  {
   "cell_type": "code",
   "execution_count": 53,
   "metadata": {},
   "outputs": [],
   "source": [
    "# Limpar os arrays para testar outro features.\n",
    "clear_arrays()"
   ]
  },
  {
   "cell_type": "markdown",
   "metadata": {},
   "source": [
    "# Discussão dos Resultados\n",
    "\n",
    "Primeiramente, vimos dos três gráficos moestrados acima que"
   ]
  },
  {
   "cell_type": "code",
   "execution_count": null,
   "metadata": {},
   "outputs": [],
   "source": []
  }
 ],
 "metadata": {
  "kernelspec": {
   "display_name": "Python 3",
   "language": "python",
   "name": "python3"
  },
  "language_info": {
   "codemirror_mode": {
    "name": "ipython",
    "version": 3
   },
   "file_extension": ".py",
   "mimetype": "text/x-python",
   "name": "python",
   "nbconvert_exporter": "python",
   "pygments_lexer": "ipython3",
   "version": "3.6.5"
  }
 },
 "nbformat": 4,
 "nbformat_minor": 2
}
