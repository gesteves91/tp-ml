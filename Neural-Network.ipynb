{
 "cells": [
  {
   "cell_type": "markdown",
   "metadata": {},
   "source": [
    "# <span style=\"color:blue\"> TP de Aprendizagem de Máquina </span>\n",
    "#### Aluno: Geanderson Esteves dos Santos"
   ]
  },
  {
   "cell_type": "code",
   "execution_count": 1,
   "metadata": {},
   "outputs": [
    {
     "name": "stderr",
     "output_type": "stream",
     "text": [
      "Using TensorFlow backend.\n"
     ]
    }
   ],
   "source": [
    "# Required packages.\n",
    "import numpy as np\n",
    "import matplotlib.pyplot as plt\n",
    "from keras.models import Sequential\n",
    "from keras.layers import Dense\n",
    "from keras.layers import Dropout\n",
    "from keras.utils import np_utils\n",
    "from keras import optimizers"
   ]
  },
  {
   "cell_type": "code",
   "execution_count": 2,
   "metadata": {},
   "outputs": [],
   "source": [
    "# Fix random seed for reproducibility.\n",
    "seed = 7\n",
    "np.random.seed(seed)"
   ]
  },
  {
   "cell_type": "code",
   "execution_count": 3,
   "metadata": {},
   "outputs": [],
   "source": [
    "# Load data.\n",
    "dataset = np.loadtxt(\"data_tp1\", delimiter=\",\")\n",
    "X_train = dataset[:, 1:].reshape(dataset.shape[0],1,28, 28).astype('float32')\n",
    "y_train = dataset[:,0]\n",
    "X_test = dataset[:,1:].reshape(dataset.shape[0],1, 28, 28).astype('float32')\n",
    "y_test = dataset[:,0]"
   ]
  },
  {
   "cell_type": "code",
   "execution_count": 4,
   "metadata": {},
   "outputs": [],
   "source": [
    "# An image is represented by 28*28 then it is a 784 in memory.\n",
    "num_pixels = 784\n",
    "X_train = X_train.reshape(X_train.shape[0], num_pixels).astype('float32')\n",
    "X_test = X_test.reshape(X_test.shape[0], num_pixels).astype('float32')"
   ]
  },
  {
   "cell_type": "code",
   "execution_count": 5,
   "metadata": {},
   "outputs": [],
   "source": [
    "# Normalize inputs from 0-255 to 0-1.\n",
    "X_train = X_train / 255\n",
    "X_test = X_test / 255"
   ]
  },
  {
   "cell_type": "code",
   "execution_count": 6,
   "metadata": {},
   "outputs": [],
   "source": [
    "# One hot encode outputs\n",
    "y_train = np_utils.to_categorical(y_train)\n",
    "y_test = np_utils.to_categorical(y_test)\n",
    "num_classes = y_test.shape[1]"
   ]
  },
  {
   "cell_type": "code",
   "execution_count": 7,
   "metadata": {},
   "outputs": [],
   "source": [
    "# Define model\n",
    "def baseline_model(unity, learning_rate):\n",
    "    model = Sequential()\n",
    "    model.add(Dense(num_pixels, input_dim=num_pixels, kernel_initializer='normal', activation='sigmoid'))\n",
    "    model.add(Dense(unity, input_dim=unity, kernel_initializer='normal', activation='sigmoid'))\n",
    "    model.add(Dense(num_classes, kernel_initializer='normal', activation='softmax'))\n",
    "    # Set the gradient\n",
    "    sgd = optimizers.SGD(lr=learning_rate)\n",
    "    # Compile model\n",
    "    model.compile(loss='categorical_crossentropy', optimizer=sgd, metrics=['accuracy'])\n",
    "    return model"
   ]
  },
  {
   "cell_type": "code",
   "execution_count": 8,
   "metadata": {},
   "outputs": [],
   "source": [
    "# Build the model.\n",
    "#unity = 50\n",
    "#learning_rate = 0.5\n",
    "#model = baseline_model(unity, learning_rate)\n",
    "# Fit the model\n",
    "# default batch size was 200\n",
    "#model.fit(X_train, y_train, validation_data=(X_test, y_test))\n",
    "#model.fit(X_train, y_train, validation_data=(X_test, y_test), epochs=10, batch_size=10, verbose=1)\n",
    "# Final evaluation of the model\n",
    "#scores = model.evaluate(X_test, y_test, verbose=2)\n",
    "#print(\"Training Error: %.2f%%\" % (100-scores[1]*100))"
   ]
  },
  {
   "cell_type": "markdown",
   "metadata": {},
   "source": [
    "## <span style=\"color:blue\">Testes variando Gradient Descent (GD), Sthocastic Gradient Descent (SGD) e Mini-Batch</span>\n",
    "### Para não tornar o número de testes muito elevados, ou seja, testar todas as combinações possíveis das variações que as features podem atingir, vamos assumir alguns valores \n",
    "### do TP de ML irão ser mantidas em um certo valor, e.g., \n",
    "### 1 - Testar o Learning rate para os 3 gradientes deixando o número de unidades fixados no default"
   ]
  },
  {
   "cell_type": "code",
   "execution_count": 9,
   "metadata": {},
   "outputs": [],
   "source": [
    "def set_arrays():\n",
    "    inputsGD = []\n",
    "    outputsGD = []\n",
    "    inputsSGD = []\n",
    "    outputsSGD = []\n",
    "    inputsMiniBatch10 = []\n",
    "    outputsMiniBatch10 = []\n",
    "    inputsMiniBatch50 = []\n",
    "    outputsMiniBatch50 = []"
   ]
  },
  {
   "cell_type": "code",
   "execution_count": 10,
   "metadata": {},
   "outputs": [],
   "source": [
    "# Use the model by parameters.\n",
    "def use_model(learning_rate, unity, gradient):\n",
    "    lr = learning_rate\n",
    "    un = unity\n",
    "    \n",
    "    if gradient == 'gd':\n",
    "        inputsGD.append(lr)\n",
    "        model = baseline_model(un, lr)\n",
    "        model.fit(X_train, y_train, validation_data=(X_test, y_test), epochs=10, batch_size=5000, verbose=1)\n",
    "        scores = model.evaluate(X_test, y_test, verbose=0)\n",
    "        print(100-scores[1]*100)\n",
    "        outputsGD.append(100-scores[1]*100)\n",
    "    elif gradient == 'sgd':\n",
    "        inputsSGD.append(lr)\n",
    "        model = baseline_model(un, lr)\n",
    "        model.fit(X_train, y_train, validation_data=(X_test, y_test), epochs=10, batch_size=1, verbose=1)\n",
    "        scores = model.evaluate(X_test, y_test, verbose=0)\n",
    "        print(100-scores[1]*100)\n",
    "        outputsSGD.append(100-scores[1]*100)\n",
    "    elif gradient == 'mb10':\n",
    "        inputsMiniBatch10.append(lr)\n",
    "        model = baseline_model(un, lr)\n",
    "        model.fit(X_train, y_train, validation_data=(X_test, y_test), epochs=10, batch_size=10, verbose=1)\n",
    "        scores = model.evaluate(X_test, y_test, verbose=0)\n",
    "        print(100-scores[1]*100)\n",
    "        outputsMiniBatch10.append(100-scores[1]*100)\n",
    "    elif gradient == 'mb50':\n",
    "        inputsMiniBatch50.append(lr)\n",
    "        model = baseline_model(un, lr)\n",
    "        model.fit(X_train, y_train, validation_data=(X_test, y_test), epochs=10, batch_size=50, verbose=1)\n",
    "        scores = model.evaluate(X_test, y_test, verbose=0)\n",
    "        print(100-scores[1]*100)\n",
    "        outputsMiniBatch50.append(100-scores[1]*100)"
   ]
  },
  {
   "cell_type": "code",
   "execution_count": 11,
   "metadata": {},
   "outputs": [],
   "source": [
    "inputsGD = []\n",
    "outputsGD = []\n",
    "inputsSGD = []\n",
    "outputsSGD = []\n",
    "inputsMiniBatch10 = []\n",
    "outputsMiniBatch10 = []\n",
    "inputsMiniBatch50 = []\n",
    "outputsMiniBatch50 = []"
   ]
  },
  {
   "cell_type": "code",
   "execution_count": 12,
   "metadata": {},
   "outputs": [
    {
     "name": "stdout",
     "output_type": "stream",
     "text": [
      "Train on 5000 samples, validate on 5000 samples\n",
      "Epoch 1/10\n",
      "5000/5000 [==============================] - 1s 125us/step - loss: 2.3213 - acc: 0.1060 - val_loss: 2.3006 - val_acc: 0.1234\n",
      "Epoch 2/10\n",
      "5000/5000 [==============================] - 0s 72us/step - loss: 2.3006 - acc: 0.1234 - val_loss: 2.2986 - val_acc: 0.1142\n",
      "Epoch 3/10\n",
      "5000/5000 [==============================] - 0s 76us/step - loss: 2.2986 - acc: 0.1142 - val_loss: 2.2973 - val_acc: 0.1142\n",
      "Epoch 4/10\n",
      "5000/5000 [==============================] - 0s 99us/step - loss: 2.2973 - acc: 0.1142 - val_loss: 2.2961 - val_acc: 0.1142\n",
      "Epoch 5/10\n",
      "5000/5000 [==============================] - 1s 108us/step - loss: 2.2961 - acc: 0.1142 - val_loss: 2.2949 - val_acc: 0.1142\n",
      "Epoch 6/10\n",
      "5000/5000 [==============================] - 1s 101us/step - loss: 2.2949 - acc: 0.1142 - val_loss: 2.2936 - val_acc: 0.1142\n",
      "Epoch 7/10\n",
      "5000/5000 [==============================] - 0s 94us/step - loss: 2.2936 - acc: 0.1142 - val_loss: 2.2924 - val_acc: 0.1142\n",
      "Epoch 8/10\n",
      "5000/5000 [==============================] - 1s 147us/step - loss: 2.2924 - acc: 0.1142 - val_loss: 2.2911 - val_acc: 0.1146\n",
      "Epoch 9/10\n",
      "5000/5000 [==============================] - 1s 140us/step - loss: 2.2911 - acc: 0.1146 - val_loss: 2.2898 - val_acc: 0.1146\n",
      "Epoch 10/10\n",
      "5000/5000 [==============================] - 1s 161us/step - loss: 2.2898 - acc: 0.1146 - val_loss: 2.2885 - val_acc: 0.1150\n",
      "88.5\n"
     ]
    }
   ],
   "source": [
    "# GD, lr = 0.5.\n",
    "use_model(0.5, 50, 'gd')"
   ]
  },
  {
   "cell_type": "code",
   "execution_count": 13,
   "metadata": {},
   "outputs": [
    {
     "name": "stdout",
     "output_type": "stream",
     "text": [
      "Train on 5000 samples, validate on 5000 samples\n",
      "Epoch 1/10\n",
      "5000/5000 [==============================] - 1s 255us/step - loss: 2.3112 - acc: 0.0916 - val_loss: 2.3016 - val_acc: 0.1142\n",
      "Epoch 2/10\n",
      "5000/5000 [==============================] - 1s 146us/step - loss: 2.3016 - acc: 0.1142 - val_loss: 2.2976 - val_acc: 0.1360\n",
      "Epoch 3/10\n",
      "5000/5000 [==============================] - 1s 175us/step - loss: 2.2976 - acc: 0.1360 - val_loss: 2.2946 - val_acc: 0.1142\n",
      "Epoch 4/10\n",
      "5000/5000 [==============================] - 1s 178us/step - loss: 2.2946 - acc: 0.1142 - val_loss: 2.2920 - val_acc: 0.1156\n",
      "Epoch 5/10\n",
      "5000/5000 [==============================] - 1s 102us/step - loss: 2.2919 - acc: 0.1156 - val_loss: 2.2893 - val_acc: 0.1142\n",
      "Epoch 6/10\n",
      "5000/5000 [==============================] - 1s 192us/step - loss: 2.2893 - acc: 0.1142 - val_loss: 2.2866 - val_acc: 0.1146\n",
      "Epoch 7/10\n",
      "5000/5000 [==============================] - 1s 170us/step - loss: 2.2866 - acc: 0.1146 - val_loss: 2.2838 - val_acc: 0.1144\n",
      "Epoch 8/10\n",
      "5000/5000 [==============================] - 1s 110us/step - loss: 2.2838 - acc: 0.1144 - val_loss: 2.2808 - val_acc: 0.1154\n",
      "Epoch 9/10\n",
      "5000/5000 [==============================] - 1s 186us/step - loss: 2.2808 - acc: 0.1154 - val_loss: 2.2775 - val_acc: 0.1156\n",
      "Epoch 10/10\n",
      "5000/5000 [==============================] - 1s 149us/step - loss: 2.2775 - acc: 0.1156 - val_loss: 2.2741 - val_acc: 0.1174\n",
      "88.26\n"
     ]
    }
   ],
   "source": [
    "# GD, lr = 1.\n",
    "use_model(1, 50, 'gd')"
   ]
  },
  {
   "cell_type": "code",
   "execution_count": 14,
   "metadata": {},
   "outputs": [
    {
     "name": "stdout",
     "output_type": "stream",
     "text": [
      "Train on 5000 samples, validate on 5000 samples\n",
      "Epoch 1/10\n",
      "5000/5000 [==============================] - 1s 203us/step - loss: 2.3046 - acc: 0.1040 - val_loss: 2.8212 - val_acc: 0.1000\n",
      "Epoch 2/10\n",
      "5000/5000 [==============================] - 1s 171us/step - loss: 2.8212 - acc: 0.1000 - val_loss: 2.5904 - val_acc: 0.1040\n",
      "Epoch 3/10\n",
      "5000/5000 [==============================] - 1s 247us/step - loss: 2.5904 - acc: 0.1040 - val_loss: 2.3277 - val_acc: 0.1142\n",
      "Epoch 4/10\n",
      "5000/5000 [==============================] - 0s 97us/step - loss: 2.3277 - acc: 0.1142 - val_loss: 2.3011 - val_acc: 0.1142\n",
      "Epoch 5/10\n",
      "5000/5000 [==============================] - 1s 125us/step - loss: 2.3011 - acc: 0.1142 - val_loss: 2.3003 - val_acc: 0.1142\n",
      "Epoch 6/10\n",
      "5000/5000 [==============================] - 1s 151us/step - loss: 2.3003 - acc: 0.1142 - val_loss: 2.3002 - val_acc: 0.1142\n",
      "Epoch 7/10\n",
      "5000/5000 [==============================] - 1s 133us/step - loss: 2.3002 - acc: 0.1142 - val_loss: 2.3002 - val_acc: 0.1142\n",
      "Epoch 8/10\n",
      "5000/5000 [==============================] - 1s 135us/step - loss: 2.3002 - acc: 0.1142 - val_loss: 2.3002 - val_acc: 0.1142\n",
      "Epoch 9/10\n",
      "5000/5000 [==============================] - 1s 133us/step - loss: 2.3002 - acc: 0.1142 - val_loss: 2.3002 - val_acc: 0.1142\n",
      "Epoch 10/10\n",
      "5000/5000 [==============================] - 1s 149us/step - loss: 2.3002 - acc: 0.1142 - val_loss: 2.3002 - val_acc: 0.1142\n",
      "88.58\n"
     ]
    }
   ],
   "source": [
    "# GD, lr = 10.\n",
    "use_model(10, 50, 'gd')"
   ]
  },
  {
   "cell_type": "code",
   "execution_count": 15,
   "metadata": {},
   "outputs": [
    {
     "name": "stdout",
     "output_type": "stream",
     "text": [
      "Train on 5000 samples, validate on 5000 samples\n",
      "Epoch 1/10\n",
      "5000/5000 [==============================] - 59s 12ms/step - loss: 14.5027 - acc: 0.1000 - val_loss: 14.5063 - val_acc: 0.1000\n",
      "Epoch 2/10\n",
      "5000/5000 [==============================] - 50s 10ms/step - loss: 14.5063 - acc: 0.1000 - val_loss: 14.5063 - val_acc: 0.1000\n",
      "Epoch 3/10\n",
      "5000/5000 [==============================] - 50s 10ms/step - loss: 14.5063 - acc: 0.1000 - val_loss: 14.5063 - val_acc: 0.1000\n",
      "Epoch 4/10\n",
      "5000/5000 [==============================] - 52s 10ms/step - loss: 14.5063 - acc: 0.1000 - val_loss: 14.5063 - val_acc: 0.1000\n",
      "Epoch 5/10\n",
      "5000/5000 [==============================] - 52s 10ms/step - loss: 14.5063 - acc: 0.1000 - val_loss: 14.5063 - val_acc: 0.1000\n",
      "Epoch 6/10\n",
      "5000/5000 [==============================] - 56s 11ms/step - loss: 14.5063 - acc: 0.1000 - val_loss: 14.5063 - val_acc: 0.1000\n",
      "Epoch 7/10\n",
      "5000/5000 [==============================] - 49s 10ms/step - loss: 14.5063 - acc: 0.1000 - val_loss: 14.5063 - val_acc: 0.1000\n",
      "Epoch 8/10\n",
      "5000/5000 [==============================] - 53s 11ms/step - loss: 14.5063 - acc: 0.1000 - val_loss: 14.5063 - val_acc: 0.1000\n",
      "Epoch 9/10\n",
      "5000/5000 [==============================] - 45s 9ms/step - loss: 14.5063 - acc: 0.1000 - val_loss: 14.5063 - val_acc: 0.1000\n",
      "Epoch 10/10\n",
      "5000/5000 [==============================] - 42s 8ms/step - loss: 14.5063 - acc: 0.1000 - val_loss: 14.5063 - val_acc: 0.1000\n",
      "90.0\n"
     ]
    }
   ],
   "source": [
    "# SGD, lr = 0.5.\n",
    "use_model(0.5, 50, 'sgd')"
   ]
  },
  {
   "cell_type": "code",
   "execution_count": 16,
   "metadata": {},
   "outputs": [
    {
     "name": "stdout",
     "output_type": "stream",
     "text": [
      "Train on 5000 samples, validate on 5000 samples\n",
      "Epoch 1/10\n",
      "5000/5000 [==============================] - 59s 12ms/step - loss: 14.5068 - acc: 0.0998 - val_loss: 14.5063 - val_acc: 0.1000\n",
      "Epoch 2/10\n",
      "5000/5000 [==============================] - 62s 12ms/step - loss: 14.5063 - acc: 0.1000 - val_loss: 14.5063 - val_acc: 0.1000\n",
      "Epoch 3/10\n",
      "5000/5000 [==============================] - 75s 15ms/step - loss: 14.5063 - acc: 0.1000 - val_loss: 14.5063 - val_acc: 0.1000\n",
      "Epoch 4/10\n",
      "5000/5000 [==============================] - 76s 15ms/step - loss: 14.5063 - acc: 0.1000 - val_loss: 14.5063 - val_acc: 0.1000\n",
      "Epoch 5/10\n",
      "5000/5000 [==============================] - 68s 14ms/step - loss: 14.5063 - acc: 0.1000 - val_loss: 14.5063 - val_acc: 0.1000\n",
      "Epoch 6/10\n",
      "5000/5000 [==============================] - 65s 13ms/step - loss: 14.5063 - acc: 0.1000 - val_loss: 14.5063 - val_acc: 0.1000\n",
      "Epoch 7/10\n",
      "5000/5000 [==============================] - 58s 12ms/step - loss: 14.5063 - acc: 0.1000 - val_loss: 14.5063 - val_acc: 0.1000\n",
      "Epoch 8/10\n",
      "5000/5000 [==============================] - 55s 11ms/step - loss: 14.5063 - acc: 0.1000 - val_loss: 14.5063 - val_acc: 0.1000\n",
      "Epoch 9/10\n",
      "5000/5000 [==============================] - 48s 10ms/step - loss: 14.5063 - acc: 0.1000 - val_loss: 14.5063 - val_acc: 0.1000\n",
      "Epoch 10/10\n",
      "5000/5000 [==============================] - 63s 13ms/step - loss: 14.5063 - acc: 0.1000 - val_loss: 14.5063 - val_acc: 0.1000\n",
      "90.0\n"
     ]
    }
   ],
   "source": [
    "# SGD, lr = 1.\n",
    "use_model(1, 50, 'sgd')"
   ]
  },
  {
   "cell_type": "code",
   "execution_count": 17,
   "metadata": {},
   "outputs": [
    {
     "name": "stdout",
     "output_type": "stream",
     "text": [
      "Train on 5000 samples, validate on 5000 samples\n",
      "Epoch 1/10\n",
      "5000/5000 [==============================] - 67s 13ms/step - loss: 14.4680 - acc: 0.1024 - val_loss: 14.4676 - val_acc: 0.1024\n",
      "Epoch 2/10\n",
      "5000/5000 [==============================] - 52s 10ms/step - loss: 14.4676 - acc: 0.1024 - val_loss: 14.4676 - val_acc: 0.1024\n",
      "Epoch 3/10\n",
      "5000/5000 [==============================] - 49s 10ms/step - loss: 14.4676 - acc: 0.1024 - val_loss: 14.4676 - val_acc: 0.1024\n",
      "Epoch 4/10\n",
      "5000/5000 [==============================] - 51s 10ms/step - loss: 14.4676 - acc: 0.1024 - val_loss: 14.4676 - val_acc: 0.1024\n",
      "Epoch 5/10\n",
      "5000/5000 [==============================] - 42s 8ms/step - loss: 14.4676 - acc: 0.1024 - val_loss: 14.4676 - val_acc: 0.1024\n",
      "Epoch 6/10\n",
      "5000/5000 [==============================] - 40s 8ms/step - loss: 14.4676 - acc: 0.1024 - val_loss: 14.4676 - val_acc: 0.1024\n",
      "Epoch 7/10\n",
      "5000/5000 [==============================] - 39s 8ms/step - loss: 14.4676 - acc: 0.1024 - val_loss: 14.4676 - val_acc: 0.1024\n",
      "Epoch 8/10\n",
      "5000/5000 [==============================] - 41s 8ms/step - loss: 14.4676 - acc: 0.1024 - val_loss: 14.4676 - val_acc: 0.1024\n",
      "Epoch 9/10\n",
      "5000/5000 [==============================] - 57s 11ms/step - loss: 14.4676 - acc: 0.1024 - val_loss: 14.4676 - val_acc: 0.1024\n",
      "Epoch 10/10\n",
      "5000/5000 [==============================] - 48s 10ms/step - loss: 14.4676 - acc: 0.1024 - val_loss: 14.4676 - val_acc: 0.1024\n",
      "89.76\n"
     ]
    }
   ],
   "source": [
    "# SGD, lr = 10.\n",
    "use_model(10, 50, 'sgd')"
   ]
  },
  {
   "cell_type": "code",
   "execution_count": 18,
   "metadata": {},
   "outputs": [
    {
     "name": "stdout",
     "output_type": "stream",
     "text": [
      "Train on 5000 samples, validate on 5000 samples\n",
      "Epoch 1/10\n",
      "5000/5000 [==============================] - 7s 1ms/step - loss: 1.4811 - acc: 0.4550 - val_loss: 0.6244 - val_acc: 0.8062\n",
      "Epoch 2/10\n",
      "5000/5000 [==============================] - 8s 2ms/step - loss: 0.5738 - acc: 0.8120 - val_loss: 0.4464 - val_acc: 0.8618\n",
      "Epoch 3/10\n",
      "5000/5000 [==============================] - 7s 1ms/step - loss: 0.4134 - acc: 0.8686 - val_loss: 0.3713 - val_acc: 0.8810\n",
      "Epoch 4/10\n",
      "5000/5000 [==============================] - 7s 1ms/step - loss: 0.3241 - acc: 0.8984 - val_loss: 0.2299 - val_acc: 0.9278\n",
      "Epoch 5/10\n",
      "5000/5000 [==============================] - 9s 2ms/step - loss: 0.2615 - acc: 0.9166 - val_loss: 0.2745 - val_acc: 0.9064\n",
      "Epoch 6/10\n",
      "5000/5000 [==============================] - 8s 2ms/step - loss: 0.2218 - acc: 0.9278 - val_loss: 0.2006 - val_acc: 0.9332\n",
      "Epoch 7/10\n",
      "5000/5000 [==============================] - 8s 2ms/step - loss: 0.1879 - acc: 0.9402 - val_loss: 0.1534 - val_acc: 0.9524\n",
      "Epoch 8/10\n",
      "5000/5000 [==============================] - 6s 1ms/step - loss: 0.1616 - acc: 0.9470 - val_loss: 0.1287 - val_acc: 0.9586\n",
      "Epoch 9/10\n",
      "5000/5000 [==============================] - 7s 1ms/step - loss: 0.1254 - acc: 0.9574 - val_loss: 0.1534 - val_acc: 0.9468\n",
      "Epoch 10/10\n",
      "5000/5000 [==============================] - 6s 1ms/step - loss: 0.1138 - acc: 0.9588 - val_loss: 0.0721 - val_acc: 0.9762\n",
      "2.3800000000000097\n"
     ]
    }
   ],
   "source": [
    "# MB10, lr = 0.5.\n",
    "use_model(0.5, 50, 'mb10')"
   ]
  },
  {
   "cell_type": "code",
   "execution_count": 19,
   "metadata": {},
   "outputs": [
    {
     "name": "stdout",
     "output_type": "stream",
     "text": [
      "Train on 5000 samples, validate on 5000 samples\n",
      "Epoch 1/10\n",
      "5000/5000 [==============================] - 9s 2ms/step - loss: 2.1696 - acc: 0.2446 - val_loss: 1.4192 - val_acc: 0.5348\n",
      "Epoch 2/10\n",
      "5000/5000 [==============================] - 8s 2ms/step - loss: 0.8658 - acc: 0.7102 - val_loss: 0.4966 - val_acc: 0.8414\n",
      "Epoch 3/10\n",
      "5000/5000 [==============================] - 8s 2ms/step - loss: 0.4963 - acc: 0.8522 - val_loss: 0.3878 - val_acc: 0.8740\n",
      "Epoch 4/10\n",
      "5000/5000 [==============================] - 7s 1ms/step - loss: 0.3851 - acc: 0.8812 - val_loss: 0.2671 - val_acc: 0.9146\n",
      "Epoch 5/10\n",
      "5000/5000 [==============================] - 8s 2ms/step - loss: 0.2812 - acc: 0.9148 - val_loss: 0.2194 - val_acc: 0.9276\n",
      "Epoch 6/10\n",
      "5000/5000 [==============================] - 7s 1ms/step - loss: 0.2426 - acc: 0.9244 - val_loss: 0.1584 - val_acc: 0.9526\n",
      "Epoch 7/10\n",
      "5000/5000 [==============================] - 7s 1ms/step - loss: 0.1894 - acc: 0.9386 - val_loss: 0.1298 - val_acc: 0.9558\n",
      "Epoch 8/10\n",
      "5000/5000 [==============================] - 7s 1ms/step - loss: 0.1365 - acc: 0.9556 - val_loss: 0.0948 - val_acc: 0.9700\n",
      "Epoch 9/10\n",
      "5000/5000 [==============================] - 8s 2ms/step - loss: 0.1224 - acc: 0.9588 - val_loss: 0.0886 - val_acc: 0.9712\n",
      "Epoch 10/10\n",
      "5000/5000 [==============================] - 7s 1ms/step - loss: 0.0971 - acc: 0.9642 - val_loss: 0.0471 - val_acc: 0.9858\n",
      "1.4200000000000017\n"
     ]
    }
   ],
   "source": [
    "# MB10, lr = 1.\n",
    "use_model(1, 50, 'mb10')"
   ]
  },
  {
   "cell_type": "code",
   "execution_count": 20,
   "metadata": {},
   "outputs": [
    {
     "name": "stdout",
     "output_type": "stream",
     "text": [
      "Train on 5000 samples, validate on 5000 samples\n",
      "Epoch 1/10\n",
      "5000/5000 [==============================] - 7s 1ms/step - loss: 14.4269 - acc: 0.1038 - val_loss: 14.4418 - val_acc: 0.1040\n",
      "Epoch 2/10\n",
      "5000/5000 [==============================] - 8s 2ms/step - loss: 14.4418 - acc: 0.1040 - val_loss: 14.4418 - val_acc: 0.1040\n",
      "Epoch 3/10\n",
      "5000/5000 [==============================] - 7s 1ms/step - loss: 14.4418 - acc: 0.1040 - val_loss: 14.4418 - val_acc: 0.1040\n",
      "Epoch 4/10\n",
      "5000/5000 [==============================] - 7s 1ms/step - loss: 14.4418 - acc: 0.1040 - val_loss: 14.4418 - val_acc: 0.1040\n",
      "Epoch 5/10\n",
      "5000/5000 [==============================] - 7s 1ms/step - loss: 14.4418 - acc: 0.1040 - val_loss: 14.4418 - val_acc: 0.1040\n",
      "Epoch 6/10\n",
      "5000/5000 [==============================] - 9s 2ms/step - loss: 14.4418 - acc: 0.1040 - val_loss: 14.4418 - val_acc: 0.1040\n",
      "Epoch 7/10\n",
      "5000/5000 [==============================] - 7s 1ms/step - loss: 14.4418 - acc: 0.1040 - val_loss: 14.4418 - val_acc: 0.1040\n",
      "Epoch 8/10\n",
      "5000/5000 [==============================] - 7s 1ms/step - loss: 14.4418 - acc: 0.1040 - val_loss: 14.4418 - val_acc: 0.1040\n",
      "Epoch 9/10\n",
      "5000/5000 [==============================] - 7s 1ms/step - loss: 14.4418 - acc: 0.1040 - val_loss: 14.4418 - val_acc: 0.1040\n",
      "Epoch 10/10\n",
      "5000/5000 [==============================] - 7s 1ms/step - loss: 14.4418 - acc: 0.1040 - val_loss: 14.4418 - val_acc: 0.1040\n",
      "89.6\n"
     ]
    }
   ],
   "source": [
    "# MB10, lr = 10.\n",
    "use_model(10, 50, 'mb10')"
   ]
  },
  {
   "cell_type": "code",
   "execution_count": 21,
   "metadata": {},
   "outputs": [
    {
     "name": "stdout",
     "output_type": "stream",
     "text": [
      "Train on 5000 samples, validate on 5000 samples\n",
      "Epoch 1/10\n",
      "5000/5000 [==============================] - 3s 595us/step - loss: 2.1650 - acc: 0.2006 - val_loss: 1.7805 - val_acc: 0.3352\n",
      "Epoch 2/10\n",
      "5000/5000 [==============================] - 2s 393us/step - loss: 1.3002 - acc: 0.5374 - val_loss: 0.9325 - val_acc: 0.6512\n",
      "Epoch 3/10\n",
      "5000/5000 [==============================] - 2s 361us/step - loss: 0.7780 - acc: 0.7368 - val_loss: 0.5900 - val_acc: 0.8170\n",
      "Epoch 4/10\n",
      "5000/5000 [==============================] - 2s 344us/step - loss: 0.5808 - acc: 0.8174 - val_loss: 0.5260 - val_acc: 0.8398\n",
      "Epoch 5/10\n",
      "5000/5000 [==============================] - 2s 377us/step - loss: 0.4878 - acc: 0.8528 - val_loss: 0.4786 - val_acc: 0.8514\n",
      "Epoch 6/10\n",
      "5000/5000 [==============================] - 2s 363us/step - loss: 0.4259 - acc: 0.8672 - val_loss: 0.3852 - val_acc: 0.8876\n",
      "Epoch 7/10\n",
      "5000/5000 [==============================] - 2s 368us/step - loss: 0.3907 - acc: 0.8804 - val_loss: 0.4030 - val_acc: 0.8708\n",
      "Epoch 8/10\n",
      "5000/5000 [==============================] - 2s 405us/step - loss: 0.3517 - acc: 0.8874 - val_loss: 0.3240 - val_acc: 0.9016\n",
      "Epoch 9/10\n",
      "5000/5000 [==============================] - 2s 401us/step - loss: 0.3313 - acc: 0.8972 - val_loss: 0.2811 - val_acc: 0.9102\n",
      "Epoch 10/10\n",
      "5000/5000 [==============================] - 2s 383us/step - loss: 0.3053 - acc: 0.9024 - val_loss: 0.2513 - val_acc: 0.9236\n",
      "7.640000000000001\n"
     ]
    }
   ],
   "source": [
    "# MB50, lr = 0.5.\n",
    "use_model(0.5, 50, 'mb50')"
   ]
  },
  {
   "cell_type": "code",
   "execution_count": 22,
   "metadata": {},
   "outputs": [
    {
     "name": "stdout",
     "output_type": "stream",
     "text": [
      "Train on 5000 samples, validate on 5000 samples\n",
      "Epoch 1/10\n",
      "5000/5000 [==============================] - 2s 482us/step - loss: 2.9728 - acc: 0.1612 - val_loss: 10.9257 - val_acc: 0.1060\n",
      "Epoch 2/10\n",
      "5000/5000 [==============================] - 2s 373us/step - loss: 11.7338 - acc: 0.1762 - val_loss: 11.2792 - val_acc: 0.2554\n",
      "Epoch 3/10\n",
      "5000/5000 [==============================] - 2s 402us/step - loss: 11.2605 - acc: 0.2706 - val_loss: 10.9523 - val_acc: 0.2872\n",
      "Epoch 4/10\n",
      "5000/5000 [==============================] - 2s 386us/step - loss: 3.1804 - acc: 0.4382 - val_loss: 1.3325 - val_acc: 0.5042\n",
      "Epoch 5/10\n",
      "5000/5000 [==============================] - 3s 505us/step - loss: 0.8056 - acc: 0.7294 - val_loss: 0.5761 - val_acc: 0.8070\n",
      "Epoch 6/10\n",
      "5000/5000 [==============================] - 3s 512us/step - loss: 0.5519 - acc: 0.8228 - val_loss: 0.5318 - val_acc: 0.8226\n",
      "Epoch 7/10\n",
      "5000/5000 [==============================] - 2s 487us/step - loss: 0.4790 - acc: 0.8524 - val_loss: 0.3265 - val_acc: 0.9000\n",
      "Epoch 8/10\n",
      "5000/5000 [==============================] - 2s 496us/step - loss: 0.3668 - acc: 0.8866 - val_loss: 0.3919 - val_acc: 0.8694\n",
      "Epoch 9/10\n",
      "5000/5000 [==============================] - 2s 499us/step - loss: 0.3108 - acc: 0.8998 - val_loss: 0.3743 - val_acc: 0.8774\n",
      "Epoch 10/10\n",
      "5000/5000 [==============================] - 2s 411us/step - loss: 0.2763 - acc: 0.9130 - val_loss: 0.2409 - val_acc: 0.9194\n",
      "8.060000000000002\n"
     ]
    }
   ],
   "source": [
    "# MB50, lr = 1.\n",
    "use_model(1, 50, 'mb50')"
   ]
  },
  {
   "cell_type": "code",
   "execution_count": 23,
   "metadata": {},
   "outputs": [
    {
     "name": "stdout",
     "output_type": "stream",
     "text": [
      "Train on 5000 samples, validate on 5000 samples\n",
      "Epoch 1/10\n",
      "5000/5000 [==============================] - 3s 515us/step - loss: 2.5140 - acc: 0.0988 - val_loss: 2.4281 - val_acc: 0.0920\n",
      "Epoch 2/10\n",
      "5000/5000 [==============================] - 2s 365us/step - loss: 2.4238 - acc: 0.0994 - val_loss: 3.1029 - val_acc: 0.1142\n",
      "Epoch 3/10\n",
      "5000/5000 [==============================] - 2s 374us/step - loss: 3.8651 - acc: 0.0928 - val_loss: 8.0097 - val_acc: 0.1142\n",
      "Epoch 4/10\n",
      "5000/5000 [==============================] - 2s 451us/step - loss: 9.0702 - acc: 0.1030 - val_loss: 9.4877 - val_acc: 0.1000\n",
      "Epoch 5/10\n",
      "5000/5000 [==============================] - 2s 382us/step - loss: 10.4282 - acc: 0.1010 - val_loss: 11.7261 - val_acc: 0.1142\n",
      "Epoch 6/10\n",
      "5000/5000 [==============================] - 2s 460us/step - loss: 11.0192 - acc: 0.0912 - val_loss: 10.5838 - val_acc: 0.0924\n",
      "Epoch 7/10\n",
      "5000/5000 [==============================] - 3s 561us/step - loss: 11.2853 - acc: 0.0996 - val_loss: 10.5492 - val_acc: 0.0912\n",
      "Epoch 8/10\n",
      "5000/5000 [==============================] - 2s 466us/step - loss: 12.0916 - acc: 0.0986 - val_loss: 12.4552 - val_acc: 0.1000\n",
      "Epoch 9/10\n",
      "5000/5000 [==============================] - 2s 443us/step - loss: 12.2557 - acc: 0.1060 - val_loss: 12.3447 - val_acc: 0.0912\n",
      "Epoch 10/10\n",
      "5000/5000 [==============================] - 3s 583us/step - loss: 12.3113 - acc: 0.0992 - val_loss: 12.0384 - val_acc: 0.1142\n",
      "88.58\n"
     ]
    }
   ],
   "source": [
    "# MB50, lr = 10.\n",
    "use_model(10, 50, 'mb50')"
   ]
  },
  {
   "cell_type": "code",
   "execution_count": 24,
   "metadata": {},
   "outputs": [
    {
     "data": {
      "image/png": "[encoded data removed]",
      "text/plain": [
       "<Figure size 432x288 with 1 Axes>"
      ]
     },
     "metadata": {},
     "output_type": "display_data"
    }
   ],
   "source": [
    "plt.plot(inputsGD, outputsGD, label='GD')\n",
    "plt.plot(inputsSGD, outputsSGD, label='SGD')\n",
    "plt.plot(inputsMiniBatch10, outputsMiniBatch10, label='Mini-Batch10')\n",
    "plt.plot(inputsMiniBatch50, outputsMiniBatch50, label='Mini-Batch50')\n",
    "plt.xlabel('learning rate')\n",
    "plt.ylabel('training error (%)')\n",
    "plt.title(\"SGD\")\n",
    "plt.legend()\n",
    "plt.show()"
   ]
  },
  {
   "cell_type": "code",
   "execution_count": 25,
   "metadata": {},
   "outputs": [],
   "source": [
    "# Limpar os arrays para testar outro features.\n",
    "set_arrays()"
   ]
  },
  {
   "cell_type": "code",
   "execution_count": 26,
   "metadata": {},
   "outputs": [
    {
     "name": "stdout",
     "output_type": "stream",
     "text": [
      "Train on 5000 samples, validate on 5000 samples\n",
      "Epoch 1/10\n",
      "5000/5000 [==============================] - 1s 209us/step - loss: 2.3015 - acc: 0.1142 - val_loss: 2.3003 - val_acc: 0.1142\n",
      "Epoch 2/10\n",
      "5000/5000 [==============================] - 0s 85us/step - loss: 2.3003 - acc: 0.1142 - val_loss: 2.2996 - val_acc: 0.1142\n",
      "Epoch 3/10\n",
      "5000/5000 [==============================] - 0s 87us/step - loss: 2.2996 - acc: 0.1142 - val_loss: 2.2990 - val_acc: 0.1142\n",
      "Epoch 4/10\n",
      "5000/5000 [==============================] - 0s 83us/step - loss: 2.2990 - acc: 0.1142 - val_loss: 2.2984 - val_acc: 0.1142\n",
      "Epoch 5/10\n",
      "5000/5000 [==============================] - 1s 118us/step - loss: 2.2984 - acc: 0.1142 - val_loss: 2.2979 - val_acc: 0.1142\n",
      "Epoch 6/10\n",
      "5000/5000 [==============================] - 0s 84us/step - loss: 2.2979 - acc: 0.1142 - val_loss: 2.2973 - val_acc: 0.1142\n",
      "Epoch 7/10\n",
      "5000/5000 [==============================] - 0s 83us/step - loss: 2.2973 - acc: 0.1142 - val_loss: 2.2967 - val_acc: 0.1142\n",
      "Epoch 8/10\n",
      "5000/5000 [==============================] - 0s 83us/step - loss: 2.2967 - acc: 0.1142 - val_loss: 2.2962 - val_acc: 0.1142\n",
      "Epoch 9/10\n",
      "5000/5000 [==============================] - 0s 83us/step - loss: 2.2962 - acc: 0.1142 - val_loss: 2.2956 - val_acc: 0.1142\n",
      "Epoch 10/10\n",
      "5000/5000 [==============================] - 1s 111us/step - loss: 2.2956 - acc: 0.1142 - val_loss: 2.2950 - val_acc: 0.1142\n",
      "88.58\n"
     ]
    }
   ],
   "source": [
    "# GD, un = 25.\n",
    "use_model(0.5, 25, 'gd')"
   ]
  },
  {
   "cell_type": "code",
   "execution_count": 27,
   "metadata": {},
   "outputs": [
    {
     "name": "stdout",
     "output_type": "stream",
     "text": [
      "Train on 5000 samples, validate on 5000 samples\n",
      "Epoch 1/10\n",
      "5000/5000 [==============================] - 1s 226us/step - loss: 2.3235 - acc: 0.0946 - val_loss: 2.3020 - val_acc: 0.1142\n",
      "Epoch 2/10\n",
      "5000/5000 [==============================] - 0s 83us/step - loss: 2.3020 - acc: 0.1142 - val_loss: 2.3002 - val_acc: 0.1142\n",
      "Epoch 3/10\n",
      "5000/5000 [==============================] - 0s 85us/step - loss: 2.3002 - acc: 0.1142 - val_loss: 2.2992 - val_acc: 0.1142\n",
      "Epoch 4/10\n",
      "5000/5000 [==============================] - 0s 85us/step - loss: 2.2992 - acc: 0.1142 - val_loss: 2.2982 - val_acc: 0.1142\n",
      "Epoch 5/10\n",
      "5000/5000 [==============================] - 1s 101us/step - loss: 2.2982 - acc: 0.1142 - val_loss: 2.2971 - val_acc: 0.1142\n",
      "Epoch 6/10\n",
      "5000/5000 [==============================] - 1s 113us/step - loss: 2.2971 - acc: 0.1142 - val_loss: 2.2961 - val_acc: 0.1142\n",
      "Epoch 7/10\n",
      "5000/5000 [==============================] - 1s 104us/step - loss: 2.2961 - acc: 0.1142 - val_loss: 2.2951 - val_acc: 0.1142\n",
      "Epoch 8/10\n",
      "5000/5000 [==============================] - 0s 84us/step - loss: 2.2951 - acc: 0.1142 - val_loss: 2.2940 - val_acc: 0.1142\n",
      "Epoch 9/10\n",
      "5000/5000 [==============================] - 0s 85us/step - loss: 2.2940 - acc: 0.1142 - val_loss: 2.2930 - val_acc: 0.1142\n",
      "Epoch 10/10\n",
      "5000/5000 [==============================] - 0s 90us/step - loss: 2.2930 - acc: 0.1142 - val_loss: 2.2919 - val_acc: 0.1142\n",
      "88.58\n"
     ]
    }
   ],
   "source": [
    "# GD, un = 50.\n",
    "use_model(0.5, 50, 'gd')"
   ]
  },
  {
   "cell_type": "code",
   "execution_count": 28,
   "metadata": {},
   "outputs": [
    {
     "name": "stdout",
     "output_type": "stream",
     "text": [
      "Train on 5000 samples, validate on 5000 samples\n",
      "Epoch 1/10\n",
      "5000/5000 [==============================] - 1s 216us/step - loss: 2.3346 - acc: 0.1024 - val_loss: 2.3198 - val_acc: 0.1142\n",
      "Epoch 2/10\n",
      "5000/5000 [==============================] - 1s 111us/step - loss: 2.3198 - acc: 0.1142 - val_loss: 2.3014 - val_acc: 0.1024\n",
      "Epoch 3/10\n",
      "5000/5000 [==============================] - 0s 96us/step - loss: 2.3014 - acc: 0.1024 - val_loss: 2.2944 - val_acc: 0.1142\n",
      "Epoch 4/10\n",
      "5000/5000 [==============================] - 0s 92us/step - loss: 2.2944 - acc: 0.1142 - val_loss: 2.2905 - val_acc: 0.1024\n",
      "Epoch 5/10\n",
      "5000/5000 [==============================] - 0s 90us/step - loss: 2.2905 - acc: 0.1024 - val_loss: 2.2865 - val_acc: 0.1142\n",
      "Epoch 6/10\n",
      "5000/5000 [==============================] - 0s 91us/step - loss: 2.2865 - acc: 0.1142 - val_loss: 2.2835 - val_acc: 0.1444\n",
      "Epoch 7/10\n",
      "5000/5000 [==============================] - 0s 93us/step - loss: 2.2835 - acc: 0.1444 - val_loss: 2.2803 - val_acc: 0.1142\n",
      "Epoch 8/10\n",
      "5000/5000 [==============================] - 0s 92us/step - loss: 2.2803 - acc: 0.1142 - val_loss: 2.2776 - val_acc: 0.2772\n",
      "Epoch 9/10\n",
      "5000/5000 [==============================] - 0s 91us/step - loss: 2.2776 - acc: 0.2772 - val_loss: 2.2746 - val_acc: 0.1142\n",
      "Epoch 10/10\n",
      "5000/5000 [==============================] - 0s 89us/step - loss: 2.2746 - acc: 0.1142 - val_loss: 2.2718 - val_acc: 0.3064\n",
      "69.36\n"
     ]
    }
   ],
   "source": [
    "# GD, un = 100.\n",
    "use_model(0.5, 100, 'gd')"
   ]
  },
  {
   "cell_type": "code",
   "execution_count": 29,
   "metadata": {},
   "outputs": [
    {
     "name": "stdout",
     "output_type": "stream",
     "text": [
      "Train on 5000 samples, validate on 5000 samples\n",
      "Epoch 1/10\n",
      "5000/5000 [==============================] - 57s 11ms/step - loss: 3.0628 - acc: 0.0952 - val_loss: 4.3682 - val_acc: 0.1142\n",
      "Epoch 2/10\n",
      "5000/5000 [==============================] - 55s 11ms/step - loss: 4.2272 - acc: 0.1090 - val_loss: 4.6007 - val_acc: 0.1096\n",
      "Epoch 3/10\n",
      "5000/5000 [==============================] - 61s 12ms/step - loss: 4.3486 - acc: 0.1392 - val_loss: 4.2151 - val_acc: 0.1746\n",
      "Epoch 4/10\n",
      "5000/5000 [==============================] - 59s 12ms/step - loss: 5.1659 - acc: 0.0998 - val_loss: 5.4696 - val_acc: 0.0920\n",
      "Epoch 5/10\n",
      "5000/5000 [==============================] - 66s 13ms/step - loss: 5.4324 - acc: 0.0984 - val_loss: 5.8436 - val_acc: 0.0978\n",
      "Epoch 6/10\n",
      "5000/5000 [==============================] - 58s 12ms/step - loss: 5.3815 - acc: 0.1070 - val_loss: 5.3819 - val_acc: 0.0978\n",
      "Epoch 7/10\n",
      "5000/5000 [==============================] - 46s 9ms/step - loss: 5.1725 - acc: 0.0948 - val_loss: 5.2810 - val_acc: 0.0912\n",
      "Epoch 8/10\n",
      "5000/5000 [==============================] - 50s 10ms/step - loss: 4.9857 - acc: 0.1004 - val_loss: 5.1539 - val_acc: 0.1000\n",
      "Epoch 9/10\n",
      "5000/5000 [==============================] - 59s 12ms/step - loss: 4.9758 - acc: 0.1024 - val_loss: 5.1780 - val_acc: 0.1000\n",
      "Epoch 10/10\n",
      "5000/5000 [==============================] - 60s 12ms/step - loss: 4.9999 - acc: 0.0978 - val_loss: 4.8312 - val_acc: 0.1040\n",
      "89.6\n"
     ]
    }
   ],
   "source": [
    "# SGD, un = 25.\n",
    "use_model(0.5, 25, 'sgd')"
   ]
  },
  {
   "cell_type": "code",
   "execution_count": 30,
   "metadata": {},
   "outputs": [
    {
     "name": "stdout",
     "output_type": "stream",
     "text": [
      "Train on 5000 samples, validate on 5000 samples\n",
      "Epoch 1/10\n",
      "5000/5000 [==============================] - 61s 12ms/step - loss: 4.5210 - acc: 0.1634 - val_loss: 14.4949 - val_acc: 0.1000\n",
      "Epoch 2/10\n",
      "5000/5000 [==============================] - 57s 11ms/step - loss: 14.6372 - acc: 0.0916 - val_loss: 14.6288 - val_acc: 0.0924\n",
      "Epoch 3/10\n",
      "5000/5000 [==============================] - 59s 12ms/step - loss: 14.6288 - acc: 0.0924 - val_loss: 14.6288 - val_acc: 0.0924\n",
      "Epoch 4/10\n",
      "5000/5000 [==============================] - 59s 12ms/step - loss: 14.6288 - acc: 0.0924 - val_loss: 14.6288 - val_acc: 0.0924\n",
      "Epoch 5/10\n",
      "5000/5000 [==============================] - 60s 12ms/step - loss: 14.6288 - acc: 0.0924 - val_loss: 14.6288 - val_acc: 0.0924\n",
      "Epoch 6/10\n",
      "5000/5000 [==============================] - 63s 13ms/step - loss: 14.6288 - acc: 0.0924 - val_loss: 14.6288 - val_acc: 0.0924\n",
      "Epoch 7/10\n",
      "5000/5000 [==============================] - 56s 11ms/step - loss: 14.6288 - acc: 0.0924 - val_loss: 14.6288 - val_acc: 0.0924\n",
      "Epoch 8/10\n",
      "5000/5000 [==============================] - 63s 13ms/step - loss: 14.6288 - acc: 0.0924 - val_loss: 14.6288 - val_acc: 0.0924\n",
      "Epoch 9/10\n",
      "5000/5000 [==============================] - 57s 11ms/step - loss: 14.6288 - acc: 0.0924 - val_loss: 14.6288 - val_acc: 0.0924\n",
      "Epoch 10/10\n",
      "5000/5000 [==============================] - 52s 10ms/step - loss: 14.6288 - acc: 0.0924 - val_loss: 14.6288 - val_acc: 0.0924\n",
      "90.76\n"
     ]
    }
   ],
   "source": [
    "# SGD, un = 50.\n",
    "use_model(0.5, 50, 'sgd')"
   ]
  },
  {
   "cell_type": "code",
   "execution_count": 31,
   "metadata": {},
   "outputs": [
    {
     "name": "stdout",
     "output_type": "stream",
     "text": [
      "Train on 5000 samples, validate on 5000 samples\n",
      "Epoch 1/10\n",
      "5000/5000 [==============================] - 60s 12ms/step - loss: 14.5066 - acc: 0.0998 - val_loss: 14.5063 - val_acc: 0.1000\n",
      "Epoch 2/10\n",
      "5000/5000 [==============================] - 61s 12ms/step - loss: 14.5063 - acc: 0.1000 - val_loss: 14.5063 - val_acc: 0.1000\n",
      "Epoch 3/10\n",
      "5000/5000 [==============================] - 60s 12ms/step - loss: 14.5063 - acc: 0.1000 - val_loss: 14.5063 - val_acc: 0.1000\n",
      "Epoch 4/10\n",
      "5000/5000 [==============================] - 63s 13ms/step - loss: 14.5063 - acc: 0.1000 - val_loss: 14.5063 - val_acc: 0.1000\n",
      "Epoch 5/10\n",
      "5000/5000 [==============================] - 57s 11ms/step - loss: 14.5063 - acc: 0.1000 - val_loss: 14.5063 - val_acc: 0.1000\n",
      "Epoch 6/10\n",
      "5000/5000 [==============================] - 63s 13ms/step - loss: 14.5063 - acc: 0.1000 - val_loss: 14.5063 - val_acc: 0.1000\n",
      "Epoch 7/10\n",
      "5000/5000 [==============================] - 53s 11ms/step - loss: 14.5063 - acc: 0.1000 - val_loss: 14.5063 - val_acc: 0.1000\n",
      "Epoch 8/10\n",
      "5000/5000 [==============================] - 64s 13ms/step - loss: 14.5063 - acc: 0.1000 - val_loss: 14.5063 - val_acc: 0.1000\n",
      "Epoch 9/10\n",
      "5000/5000 [==============================] - 54s 11ms/step - loss: 14.5063 - acc: 0.1000 - val_loss: 14.5063 - val_acc: 0.1000\n",
      "Epoch 10/10\n",
      "5000/5000 [==============================] - 60s 12ms/step - loss: 14.5063 - acc: 0.1000 - val_loss: 14.5063 - val_acc: 0.1000\n",
      "90.0\n"
     ]
    }
   ],
   "source": [
    "# SGD, un = 100.\n",
    "use_model(0.5, 100, 'sgd')"
   ]
  },
  {
   "cell_type": "code",
   "execution_count": 32,
   "metadata": {},
   "outputs": [
    {
     "name": "stdout",
     "output_type": "stream",
     "text": [
      "Train on 5000 samples, validate on 5000 samples\n",
      "Epoch 1/10\n",
      "5000/5000 [==============================] - 7s 1ms/step - loss: 1.6105 - acc: 0.4016 - val_loss: 0.6713 - val_acc: 0.7810\n",
      "Epoch 2/10\n",
      "5000/5000 [==============================] - 6s 1ms/step - loss: 0.6480 - acc: 0.7800 - val_loss: 0.4626 - val_acc: 0.8454\n",
      "Epoch 3/10\n",
      "5000/5000 [==============================] - 6s 1ms/step - loss: 0.4754 - acc: 0.8426 - val_loss: 0.3620 - val_acc: 0.8842\n",
      "Epoch 4/10\n",
      "5000/5000 [==============================] - 6s 1ms/step - loss: 0.3981 - acc: 0.8784 - val_loss: 0.3266 - val_acc: 0.9008\n",
      "Epoch 5/10\n",
      "5000/5000 [==============================] - 6s 1ms/step - loss: 0.3429 - acc: 0.8952 - val_loss: 0.2771 - val_acc: 0.9102\n",
      "Epoch 6/10\n",
      "5000/5000 [==============================] - 6s 1ms/step - loss: 0.2874 - acc: 0.9110 - val_loss: 0.2853 - val_acc: 0.9080\n",
      "Epoch 7/10\n",
      "5000/5000 [==============================] - 6s 1ms/step - loss: 0.2498 - acc: 0.9194 - val_loss: 0.2461 - val_acc: 0.9224\n",
      "Epoch 8/10\n",
      "5000/5000 [==============================] - 6s 1ms/step - loss: 0.2250 - acc: 0.9268 - val_loss: 0.1610 - val_acc: 0.9480\n",
      "Epoch 9/10\n",
      "5000/5000 [==============================] - 6s 1ms/step - loss: 0.1915 - acc: 0.9332 - val_loss: 0.1739 - val_acc: 0.9434\n",
      "Epoch 10/10\n",
      "5000/5000 [==============================] - 7s 1ms/step - loss: 0.1628 - acc: 0.9456 - val_loss: 0.1299 - val_acc: 0.9564\n",
      "4.359999999999999\n"
     ]
    }
   ],
   "source": [
    "# MB50, un = 25.\n",
    "use_model(0.5, 25, 'mb10')"
   ]
  },
  {
   "cell_type": "code",
   "execution_count": 33,
   "metadata": {},
   "outputs": [
    {
     "name": "stdout",
     "output_type": "stream",
     "text": [
      "Train on 5000 samples, validate on 5000 samples\n",
      "Epoch 1/10\n",
      "5000/5000 [==============================] - 8s 2ms/step - loss: 1.5851 - acc: 0.4200 - val_loss: 0.8161 - val_acc: 0.6978\n",
      "Epoch 2/10\n",
      "5000/5000 [==============================] - 8s 2ms/step - loss: 0.6366 - acc: 0.7922 - val_loss: 0.5489 - val_acc: 0.8156\n",
      "Epoch 3/10\n",
      "5000/5000 [==============================] - 5s 989us/step - loss: 0.4413 - acc: 0.8636 - val_loss: 0.3171 - val_acc: 0.9008\n",
      "Epoch 4/10\n",
      "5000/5000 [==============================] - 5s 1ms/step - loss: 0.3575 - acc: 0.8842 - val_loss: 0.2446 - val_acc: 0.9252\n",
      "Epoch 5/10\n",
      "5000/5000 [==============================] - 7s 1ms/step - loss: 0.2843 - acc: 0.9050 - val_loss: 0.2688 - val_acc: 0.9136\n",
      "Epoch 6/10\n",
      "5000/5000 [==============================] - 8s 2ms/step - loss: 0.2431 - acc: 0.9210 - val_loss: 0.1769 - val_acc: 0.9456\n",
      "Epoch 7/10\n",
      "5000/5000 [==============================] - 8s 2ms/step - loss: 0.1955 - acc: 0.9360 - val_loss: 0.1907 - val_acc: 0.9340\n",
      "Epoch 8/10\n",
      "5000/5000 [==============================] - 8s 2ms/step - loss: 0.1512 - acc: 0.9512 - val_loss: 0.1654 - val_acc: 0.9416\n",
      "Epoch 9/10\n",
      "5000/5000 [==============================] - 8s 2ms/step - loss: 0.1397 - acc: 0.9534 - val_loss: 0.0918 - val_acc: 0.9722\n",
      "Epoch 10/10\n",
      "5000/5000 [==============================] - 7s 1ms/step - loss: 0.1079 - acc: 0.9644 - val_loss: 0.0954 - val_acc: 0.9692\n",
      "3.0799999999999983\n"
     ]
    }
   ],
   "source": [
    "# MB50, un = 50.\n",
    "use_model(0.5, 50, 'mb10')"
   ]
  },
  {
   "cell_type": "code",
   "execution_count": 34,
   "metadata": {},
   "outputs": [
    {
     "name": "stdout",
     "output_type": "stream",
     "text": [
      "Train on 5000 samples, validate on 5000 samples\n",
      "Epoch 1/10\n",
      "5000/5000 [==============================] - 9s 2ms/step - loss: 14.3297 - acc: 0.1014 - val_loss: 14.4676 - val_acc: 0.1024\n",
      "Epoch 2/10\n",
      "5000/5000 [==============================] - 8s 2ms/step - loss: 14.4676 - acc: 0.1024 - val_loss: 14.4676 - val_acc: 0.1024\n",
      "Epoch 3/10\n",
      "5000/5000 [==============================] - 10s 2ms/step - loss: 14.4676 - acc: 0.1024 - val_loss: 14.4676 - val_acc: 0.1024\n",
      "Epoch 4/10\n",
      "5000/5000 [==============================] - 7s 1ms/step - loss: 14.4676 - acc: 0.1024 - val_loss: 14.4676 - val_acc: 0.1024\n",
      "Epoch 5/10\n",
      "5000/5000 [==============================] - 7s 1ms/step - loss: 14.4676 - acc: 0.1024 - val_loss: 14.4676 - val_acc: 0.1024\n",
      "Epoch 6/10\n",
      "5000/5000 [==============================] - 8s 2ms/step - loss: 14.4676 - acc: 0.1024 - val_loss: 14.4676 - val_acc: 0.1024\n",
      "Epoch 7/10\n",
      "5000/5000 [==============================] - 8s 2ms/step - loss: 14.4676 - acc: 0.1024 - val_loss: 14.4676 - val_acc: 0.1024\n",
      "Epoch 8/10\n",
      "5000/5000 [==============================] - 7s 1ms/step - loss: 14.4676 - acc: 0.1024 - val_loss: 14.4676 - val_acc: 0.1024\n",
      "Epoch 9/10\n",
      "5000/5000 [==============================] - 7s 1ms/step - loss: 14.4676 - acc: 0.1024 - val_loss: 14.4676 - val_acc: 0.1024\n",
      "Epoch 10/10\n",
      "5000/5000 [==============================] - 8s 2ms/step - loss: 14.4676 - acc: 0.1024 - val_loss: 14.4676 - val_acc: 0.1024\n",
      "89.76\n"
     ]
    }
   ],
   "source": [
    "# MB50, un = 100.\n",
    "use_model(0.5, 100, 'mb10')"
   ]
  },
  {
   "cell_type": "code",
   "execution_count": 35,
   "metadata": {},
   "outputs": [
    {
     "name": "stdout",
     "output_type": "stream",
     "text": [
      "Train on 5000 samples, validate on 5000 samples\n",
      "Epoch 1/10\n",
      "5000/5000 [==============================] - 4s 750us/step - loss: 2.2464 - acc: 0.1606 - val_loss: 2.0620 - val_acc: 0.3072\n",
      "Epoch 2/10\n",
      "5000/5000 [==============================] - 2s 328us/step - loss: 1.5587 - acc: 0.4654 - val_loss: 1.3489 - val_acc: 0.4890\n",
      "Epoch 3/10\n",
      "5000/5000 [==============================] - 2s 430us/step - loss: 0.9578 - acc: 0.6870 - val_loss: 0.7714 - val_acc: 0.7428\n",
      "Epoch 4/10\n",
      "5000/5000 [==============================] - 2s 364us/step - loss: 0.7112 - acc: 0.7712 - val_loss: 0.6449 - val_acc: 0.7960\n",
      "Epoch 5/10\n",
      "5000/5000 [==============================] - 1s 285us/step - loss: 0.5709 - acc: 0.8222 - val_loss: 0.4862 - val_acc: 0.8556\n",
      "Epoch 6/10\n",
      "5000/5000 [==============================] - 1s 289us/step - loss: 0.4801 - acc: 0.8530 - val_loss: 0.4136 - val_acc: 0.8766\n",
      "Epoch 7/10\n",
      "5000/5000 [==============================] - 1s 276us/step - loss: 0.4261 - acc: 0.8710 - val_loss: 0.3768 - val_acc: 0.8814\n",
      "Epoch 8/10\n",
      "5000/5000 [==============================] - 2s 318us/step - loss: 0.3897 - acc: 0.8776 - val_loss: 0.3745 - val_acc: 0.8872\n",
      "Epoch 9/10\n",
      "5000/5000 [==============================] - 1s 297us/step - loss: 0.3525 - acc: 0.8900 - val_loss: 0.3104 - val_acc: 0.9054\n",
      "Epoch 10/10\n",
      "5000/5000 [==============================] - 2s 385us/step - loss: 0.3239 - acc: 0.9012 - val_loss: 0.2943 - val_acc: 0.9090\n",
      "9.099999999999994\n"
     ]
    }
   ],
   "source": [
    "# MB50, un = 25.\n",
    "use_model(0.5, 25, 'mb50')"
   ]
  },
  {
   "cell_type": "code",
   "execution_count": null,
   "metadata": {},
   "outputs": [
    {
     "name": "stdout",
     "output_type": "stream",
     "text": [
      "Train on 5000 samples, validate on 5000 samples\n",
      "Epoch 1/10\n",
      "5000/5000 [==============================] - 3s 586us/step - loss: 2.1756 - acc: 0.2018 - val_loss: 1.8447 - val_acc: 0.3792\n",
      "Epoch 2/10\n",
      "5000/5000 [==============================] - 2s 344us/step - loss: 1.2968 - acc: 0.5442 - val_loss: 0.9392 - val_acc: 0.6816\n",
      "Epoch 3/10\n",
      "5000/5000 [==============================] - 1s 297us/step - loss: 0.7635 - acc: 0.7514 - val_loss: 0.5944 - val_acc: 0.8040\n",
      "Epoch 4/10\n",
      "3550/5000 [====================>.........] - ETA: 0s - loss: 0.6098 - acc: 0.7994"
     ]
    }
   ],
   "source": [
    "# MB50, un = 50.\n",
    "use_model(0.5, 50, 'mb50')"
   ]
  },
  {
   "cell_type": "code",
   "execution_count": null,
   "metadata": {},
   "outputs": [],
   "source": [
    "# MB50, un = 100.\n",
    "use_model(0.5, 100, 'mb50')"
   ]
  },
  {
   "cell_type": "code",
   "execution_count": null,
   "metadata": {},
   "outputs": [],
   "source": [
    "plt.plot(inputsGD, outputsGD, label='GD')\n",
    "plt.plot(inputsSGD, outputsSGD, label='SGD')\n",
    "plt.plot(inputsMiniBatch10, outputsMiniBatch10, label='Mini-Batch10')\n",
    "plt.plot(inputsMiniBatch50, outputsMiniBatch50, label='Mini-Batch50')\n",
    "plt.xlabel('Hidden layer unities (25, 50, 100)')\n",
    "plt.ylabel('training error (%)')\n",
    "plt.title(\"SGD\")\n",
    "plt.legend()\n",
    "plt.show()"
   ]
  },
  {
   "cell_type": "code",
   "execution_count": null,
   "metadata": {},
   "outputs": [],
   "source": []
  }
 ],
 "metadata": {
  "kernelspec": {
   "display_name": "Python 3",
   "language": "python",
   "name": "python3"
  },
  "language_info": {
   "codemirror_mode": {
    "name": "ipython",
    "version": 3
   },
   "file_extension": ".py",
   "mimetype": "text/x-python",
   "name": "python",
   "nbconvert_exporter": "python",
   "pygments_lexer": "ipython3",
   "version": "3.6.5"
  }
 },
 "nbformat": 4,
 "nbformat_minor": 2
}
