{
 "cells": [
  {
   "cell_type": "code",
   "execution_count": 34,
   "metadata": {},
   "outputs": [],
   "source": [
    "# Required packages.\n",
    "import numpy as np\n",
    "from keras.models import Sequential\n",
    "from keras.layers import Dense\n",
    "from keras.layers import Dropout\n",
    "from keras.utils import np_utils\n",
    "from keras import optimizers"
   ]
  },
  {
   "cell_type": "code",
   "execution_count": 35,
   "metadata": {},
   "outputs": [],
   "source": [
    "# fix random seed for reproducibility.\n",
    "seed = 7\n",
    "np.random.seed(seed)"
   ]
  },
  {
   "cell_type": "code",
   "execution_count": 36,
   "metadata": {},
   "outputs": [],
   "source": [
    "# Load data.\n",
    "dataset = np.loadtxt(\"data_tp1\", delimiter=\",\")\n",
    "X_train = dataset[:, 1:].reshape(dataset.shape[0],1,28, 28).astype('float32')\n",
    "y_train = dataset[:,0]\n",
    "X_test = dataset[:,1:].reshape(dataset.shape[0],1, 28, 28).astype('float32')\n",
    "y_test = dataset[:,0]"
   ]
  },
  {
   "cell_type": "code",
   "execution_count": 37,
   "metadata": {},
   "outputs": [],
   "source": [
    "# An image is represented by 28*28 then it is a 784 in memory.\n",
    "num_pixels = 784\n",
    "X_train = X_train.reshape(X_train.shape[0], num_pixels).astype('float32')\n",
    "X_test = X_test.reshape(X_test.shape[0], num_pixels).astype('float32')"
   ]
  },
  {
   "cell_type": "code",
   "execution_count": 38,
   "metadata": {},
   "outputs": [],
   "source": [
    "# Normalize inputs from 0-255 to 0-1.\n",
    "X_train = X_train / 255\n",
    "X_test = X_test / 255"
   ]
  },
  {
   "cell_type": "code",
   "execution_count": 39,
   "metadata": {},
   "outputs": [],
   "source": [
    "# One hot encode outputs\n",
    "y_train = np_utils.to_categorical(y_train)\n",
    "y_test = np_utils.to_categorical(y_test)\n",
    "num_classes = y_test.shape[1]"
   ]
  },
  {
   "cell_type": "code",
   "execution_count": 40,
   "metadata": {},
   "outputs": [],
   "source": [
    "# Define model\n",
    "def baseline_model(unity, learning_rate):\n",
    "    model = Sequential()\n",
    "    model.add(Dense(num_pixels, input_dim=num_pixels, kernel_initializer='normal', activation='relu'))\n",
    "    model.add(Dense(25, input_dim=unity, kernel_initializer='normal', activation='relu'))\n",
    "    model.add(Dense(num_classes, kernel_initializer='normal', activation='softmax'))\n",
    "    # Set the gradient\n",
    "    sgd = optimizers.SGD(lr=learning_rate)\n",
    "    # Compile model\n",
    "    model.compile(loss='categorical_crossentropy', optimizer=sgd, metrics=['accuracy'])\n",
    "    return model"
   ]
  },
  {
   "cell_type": "code",
   "execution_count": 45,
   "metadata": {},
   "outputs": [],
   "source": [
    "# Set the variables.\n",
    "unity = 100\n",
    "learning_rate = 0.5"
   ]
  },
  {
   "cell_type": "code",
   "execution_count": 46,
   "metadata": {},
   "outputs": [
    {
     "name": "stdout",
     "output_type": "stream",
     "text": [
      "Train on 5000 samples, validate on 5000 samples\n",
      "Epoch 1/10\n",
      " - 1s - loss: 2.2963 - acc: 0.1094 - val_loss: 2.2690 - val_acc: 0.2120\n",
      "Epoch 2/10\n",
      " - 0s - loss: 2.2690 - acc: 0.2120 - val_loss: 2.2365 - val_acc: 0.2966\n",
      "Epoch 3/10\n",
      " - 0s - loss: 2.2365 - acc: 0.2966 - val_loss: 2.1921 - val_acc: 0.3584\n",
      "Epoch 4/10\n",
      " - 0s - loss: 2.1921 - acc: 0.3584 - val_loss: 2.1289 - val_acc: 0.4018\n",
      "Epoch 5/10\n",
      " - 0s - loss: 2.1289 - acc: 0.4018 - val_loss: 2.0396 - val_acc: 0.4292\n",
      "Epoch 6/10\n",
      " - 0s - loss: 2.0396 - acc: 0.4292 - val_loss: 1.9197 - val_acc: 0.4632\n",
      "Epoch 7/10\n",
      " - 0s - loss: 1.9197 - acc: 0.4632 - val_loss: 1.7716 - val_acc: 0.5184\n",
      "Epoch 8/10\n",
      " - 0s - loss: 1.7716 - acc: 0.5184 - val_loss: 1.6081 - val_acc: 0.5890\n",
      "Epoch 9/10\n",
      " - 0s - loss: 1.6081 - acc: 0.5890 - val_loss: 1.4442 - val_acc: 0.6598\n",
      "Epoch 10/10\n",
      " - 1s - loss: 1.4442 - acc: 0.6598 - val_loss: 1.2902 - val_acc: 0.7120\n",
      "Training Error: 28.80%\n"
     ]
    }
   ],
   "source": [
    "# Build the model.\n",
    "model = baseline_model(unity, learning_rate)\n",
    "# Fit the model\n",
    "model.fit(X_train, y_train, validation_data=(X_test, y_test), epochs=10, batch_size=200, verbose=2)\n",
    "# Final evaluation of the model\n",
    "scores = model.evaluate(X_test, y_test, verbose=0)\n",
    "print(\"Training Error: %.2f%%\" % (100-scores[1]*100))"
   ]
  },
  {
   "cell_type": "code",
   "execution_count": null,
   "metadata": {},
   "outputs": [],
   "source": []
  },
  {
   "cell_type": "code",
   "execution_count": null,
   "metadata": {},
   "outputs": [],
   "source": []
  }
 ],
 "metadata": {
  "kernelspec": {
   "display_name": "Python 3",
   "language": "python",
   "name": "python3"
  },
  "language_info": {
   "codemirror_mode": {
    "name": "ipython",
    "version": 3
   },
   "file_extension": ".py",
   "mimetype": "text/x-python",
   "name": "python",
   "nbconvert_exporter": "python",
   "pygments_lexer": "ipython3",
   "version": "3.6.5"
  }
 },
 "nbformat": 4,
 "nbformat_minor": 2
}
