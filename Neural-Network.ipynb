{
 "cells": [
  {
   "cell_type": "markdown",
   "metadata": {},
   "source": [
    "# <span style=\"color:blue\"> TP de Aprendizagem de Máquina </span>\n",
    "#### Aluno: Geanderson Esteves dos Santos"
   ]
  },
  {
   "cell_type": "code",
   "execution_count": 1,
   "metadata": {},
   "outputs": [
    {
     "name": "stderr",
     "output_type": "stream",
     "text": [
      "Using TensorFlow backend.\n"
     ]
    }
   ],
   "source": [
    "# Required packages.\n",
    "import numpy as np\n",
    "import matplotlib.pyplot as plt\n",
    "from keras.models import Sequential\n",
    "from keras.layers import Dense\n",
    "from keras.layers import Dropout\n",
    "from keras.utils import np_utils\n",
    "from keras import optimizers"
   ]
  },
  {
   "cell_type": "code",
   "execution_count": 2,
   "metadata": {},
   "outputs": [],
   "source": [
    "# Fix random seed for reproducibility.\n",
    "seed = 7\n",
    "np.random.seed(seed)"
   ]
  },
  {
   "cell_type": "code",
   "execution_count": 3,
   "metadata": {},
   "outputs": [],
   "source": [
    "# Load data.\n",
    "dataset = np.loadtxt(\"data_tp1\", delimiter=\",\")\n",
    "X_train = dataset[:, 1:].reshape(dataset.shape[0],1,28, 28).astype('float32')\n",
    "y_train = dataset[:,0]\n",
    "X_test = dataset[:,1:].reshape(dataset.shape[0],1, 28, 28).astype('float32')\n",
    "y_test = dataset[:,0]"
   ]
  },
  {
   "cell_type": "code",
   "execution_count": 4,
   "metadata": {},
   "outputs": [],
   "source": [
    "# An image is represented by 28*28 then it is a 784 in memory.\n",
    "num_pixels = 784\n",
    "X_train = X_train.reshape(X_train.shape[0], num_pixels).astype('float32')\n",
    "X_test = X_test.reshape(X_test.shape[0], num_pixels).astype('float32')"
   ]
  },
  {
   "cell_type": "code",
   "execution_count": 5,
   "metadata": {},
   "outputs": [],
   "source": [
    "# Normalize inputs from 0-255 to 0-1.\n",
    "X_train = X_train / 255\n",
    "X_test = X_test / 255"
   ]
  },
  {
   "cell_type": "code",
   "execution_count": 6,
   "metadata": {},
   "outputs": [],
   "source": [
    "# One hot encode outputs\n",
    "y_train = np_utils.to_categorical(y_train)\n",
    "y_test = np_utils.to_categorical(y_test)\n",
    "num_classes = y_test.shape[1]"
   ]
  },
  {
   "cell_type": "code",
   "execution_count": 7,
   "metadata": {},
   "outputs": [],
   "source": [
    "# Build the model.\n",
    "#model = baseline_model(unity, learning_rate)\n",
    "# Fit the model\n",
    "# default batch size was 200\n",
    "#model.fit(X_train, y_train, validation_data=(X_test, y_test))\n",
    "#model.fit(X_train, y_train, validation_data=(X_test, y_test), epochs=10, batch_size=1, verbose=2)\n",
    "# Final evaluation of the model\n",
    "#scores = model.evaluate(X_test, y_test, verbose=0)\n",
    "#print(\"Training Error: %.2f%%\" % (100-scores[1]*100))\n",
    "#print(100-scores[1]*100)"
   ]
  },
  {
   "cell_type": "code",
   "execution_count": 8,
   "metadata": {},
   "outputs": [],
   "source": [
    "# Define model\n",
    "def baseline_model(unity, learning_rate):\n",
    "    model = Sequential()\n",
    "    model.add(Dense(num_pixels, input_dim=num_pixels, kernel_initializer='normal', activation='sigmoid'))\n",
    "    model.add(Dense(unity, input_dim=unity, kernel_initializer='normal', activation='sigmoid'))\n",
    "    model.add(Dense(num_classes, kernel_initializer='normal', activation='softmax'))\n",
    "    # Set the gradient\n",
    "    sgd = optimizers.SGD(lr=learning_rate)\n",
    "    # Compile model\n",
    "    model.compile(loss='categorical_crossentropy', optimizer=sgd, metrics=['accuracy'])\n",
    "    return model"
   ]
  },
  {
   "cell_type": "markdown",
   "metadata": {},
   "source": [
    "## Testes variando Gradient Descent (GD), Sthocastic Gradient Descent (SGD) e Mini-Batch\n",
    "### Para não tornar o número de testes muito elevados, ou seja, testar todas as combinações possíveis das variações que as features podem atingir, vamos assumir alguns valores \n",
    "### do TP de ML irão ser mantidas em um certo valor, e.g., \n",
    "### 1 - Testar o Learning rate para os 3 gradientes deixando o número de unidades fixados no default"
   ]
  },
  {
   "cell_type": "code",
   "execution_count": 27,
   "metadata": {},
   "outputs": [],
   "source": [
    "def set_arrrays:\n",
    "    inputsGD = []\n",
    "    outputsGD = []\n",
    "    inputsSGD = []\n",
    "    outputsSGD = []\n",
    "    inputsMiniBatch10 = []\n",
    "    outputsMiniBatch10 = []\n",
    "    inputsMiniBatch50 = []\n",
    "    outputsMiniBatch50 = []"
   ]
  },
  {
   "cell_type": "code",
   "execution_count": 38,
   "metadata": {},
   "outputs": [],
   "source": [
    "# Use the model by parameters.\n",
    "def use_model(learning_rate, unity, gradient):\n",
    "    lr = learning_rate\n",
    "    un = unity\n",
    "    \n",
    "    if gradient == 'gd':\n",
    "        inputsGD.append(lr)\n",
    "        model = baseline_model(un, lr)\n",
    "        model.fit(X_train, y_train, validation_data=(X_test, y_test), epochs=10, batch_size=5000, verbose=1)\n",
    "        scores = model.evaluate(X_test, y_test, verbose=0)\n",
    "        print(100-scores[1]*100)\n",
    "        outputsGD.append(100-scores[1]*100)\n",
    "    elif gradient == 'sgd':\n",
    "        inputsSGD.append(lr)\n",
    "        model = baseline_model(un, lr)\n",
    "        model.fit(X_train, y_train, validation_data=(X_test, y_test), epochs=10, batch_size=1, verbose=1)\n",
    "        scores = model.evaluate(X_test, y_test, verbose=0)\n",
    "        print(100-scores[1]*100)\n",
    "        outputsSGD.append(100-scores[1]*100)\n",
    "    elif gradient == 'mb10':\n",
    "        inputsMiniBatch10.append(lr)\n",
    "        model = baseline_model(un, lr)\n",
    "        model.fit(X_train, y_train, validation_data=(X_test, y_test), epochs=10, batch_size=10, verbose=1)\n",
    "        scores = model.evaluate(X_test, y_test, verbose=0)\n",
    "        print(100-scores[1]*100)\n",
    "        outputsMiniBatch10.append(100-scores[1]*100)\n",
    "    elif gradient == 'mb50':\n",
    "        inputsMiniBatch50.append(lr)\n",
    "        model = baseline_model(un, lr)\n",
    "        model.fit(X_train, y_train, validation_data=(X_test, y_test), epochs=10, batch_size=50, verbose=1)\n",
    "        scores = model.evaluate(X_test, y_test, verbose=0)\n",
    "        print(100-scores[1]*100)\n",
    "        outputsMiniBatch50.append(100-scores[1]*100)"
   ]
  },
  {
   "cell_type": "code",
   "execution_count": 39,
   "metadata": {},
   "outputs": [
    {
     "name": "stdout",
     "output_type": "stream",
     "text": [
      "Train on 5000 samples, validate on 5000 samples\n",
      "Epoch 1/10\n",
      "5000/5000 [==============================] - 1s 257us/step - loss: 2.3111 - acc: 0.1142 - val_loss: 2.3008 - val_acc: 0.1142\n",
      "Epoch 2/10\n",
      "5000/5000 [==============================] - 0s 83us/step - loss: 2.3008 - acc: 0.1142 - val_loss: 2.2994 - val_acc: 0.1142\n",
      "Epoch 3/10\n",
      "5000/5000 [==============================] - 1s 147us/step - loss: 2.2994 - acc: 0.1142 - val_loss: 2.2983 - val_acc: 0.1142\n",
      "Epoch 4/10\n",
      "5000/5000 [==============================] - 1s 132us/step - loss: 2.2983 - acc: 0.1142 - val_loss: 2.2972 - val_acc: 0.1142\n",
      "Epoch 5/10\n",
      "5000/5000 [==============================] - 0s 83us/step - loss: 2.2972 - acc: 0.1142 - val_loss: 2.2961 - val_acc: 0.1142\n",
      "Epoch 6/10\n",
      "5000/5000 [==============================] - 0s 85us/step - loss: 2.2961 - acc: 0.1142 - val_loss: 2.2951 - val_acc: 0.1142\n",
      "Epoch 7/10\n",
      "5000/5000 [==============================] - 0s 81us/step - loss: 2.2951 - acc: 0.1142 - val_loss: 2.2939 - val_acc: 0.1142\n",
      "Epoch 8/10\n",
      "5000/5000 [==============================] - 0s 84us/step - loss: 2.2939 - acc: 0.1142 - val_loss: 2.2928 - val_acc: 0.1142\n",
      "Epoch 9/10\n",
      "5000/5000 [==============================] - 0s 83us/step - loss: 2.2928 - acc: 0.1142 - val_loss: 2.2917 - val_acc: 0.1142\n",
      "Epoch 10/10\n",
      "5000/5000 [==============================] - 0s 81us/step - loss: 2.2917 - acc: 0.1142 - val_loss: 2.2905 - val_acc: 0.1142\n",
      "88.58\n"
     ]
    }
   ],
   "source": [
    "# GD, lr = 0.5.\n",
    "use_model(0.5, 50, 'gd')"
   ]
  },
  {
   "cell_type": "code",
   "execution_count": 40,
   "metadata": {},
   "outputs": [
    {
     "name": "stdout",
     "output_type": "stream",
     "text": [
      "Train on 5000 samples, validate on 5000 samples\n",
      "Epoch 1/10\n",
      "5000/5000 [==============================] - 2s 426us/step - loss: 2.3229 - acc: 0.0912 - val_loss: 2.3042 - val_acc: 0.1142\n",
      "Epoch 2/10\n",
      "5000/5000 [==============================] - 0s 87us/step - loss: 2.3042 - acc: 0.1142 - val_loss: 2.2959 - val_acc: 0.1270\n",
      "Epoch 3/10\n",
      "5000/5000 [==============================] - 0s 87us/step - loss: 2.2959 - acc: 0.1270 - val_loss: 2.2918 - val_acc: 0.1142\n",
      "Epoch 4/10\n",
      "5000/5000 [==============================] - 0s 92us/step - loss: 2.2918 - acc: 0.1142 - val_loss: 2.2889 - val_acc: 0.1892\n",
      "Epoch 5/10\n",
      "5000/5000 [==============================] - 1s 132us/step - loss: 2.2889 - acc: 0.1892 - val_loss: 2.2860 - val_acc: 0.1142\n",
      "Epoch 6/10\n",
      "5000/5000 [==============================] - 0s 91us/step - loss: 2.2860 - acc: 0.1142 - val_loss: 2.2832 - val_acc: 0.1370\n",
      "Epoch 7/10\n",
      "5000/5000 [==============================] - 0s 84us/step - loss: 2.2832 - acc: 0.1370 - val_loss: 2.2801 - val_acc: 0.1142\n",
      "Epoch 8/10\n",
      "5000/5000 [==============================] - 0s 85us/step - loss: 2.2801 - acc: 0.1142 - val_loss: 2.2769 - val_acc: 0.1258\n",
      "Epoch 9/10\n",
      "5000/5000 [==============================] - 0s 84us/step - loss: 2.2769 - acc: 0.1258 - val_loss: 2.2734 - val_acc: 0.1150\n",
      "Epoch 10/10\n",
      "5000/5000 [==============================] - 0s 82us/step - loss: 2.2734 - acc: 0.1150 - val_loss: 2.2696 - val_acc: 0.1304\n",
      "86.96000000000001\n"
     ]
    }
   ],
   "source": [
    "# GD, lr = 1.\n",
    "use_model(1, 50, 'gd')"
   ]
  },
  {
   "cell_type": "code",
   "execution_count": 41,
   "metadata": {},
   "outputs": [
    {
     "name": "stdout",
     "output_type": "stream",
     "text": [
      "Train on 5000 samples, validate on 5000 samples\n",
      "Epoch 1/10\n",
      "5000/5000 [==============================] - 2s 310us/step - loss: 2.3147 - acc: 0.0924 - val_loss: 3.6965 - val_acc: 0.1142\n",
      "Epoch 2/10\n",
      "5000/5000 [==============================] - 1s 103us/step - loss: 3.6965 - acc: 0.1142 - val_loss: 2.9341 - val_acc: 0.1060\n",
      "Epoch 3/10\n",
      "5000/5000 [==============================] - 0s 77us/step - loss: 2.9341 - acc: 0.1060 - val_loss: 2.7152 - val_acc: 0.1000\n",
      "Epoch 4/10\n",
      "5000/5000 [==============================] - 0s 77us/step - loss: 2.7152 - acc: 0.1000 - val_loss: 2.5734 - val_acc: 0.1060\n",
      "Epoch 5/10\n",
      "5000/5000 [==============================] - 0s 79us/step - loss: 2.5734 - acc: 0.1060 - val_loss: 2.4438 - val_acc: 0.1060\n",
      "Epoch 6/10\n",
      "5000/5000 [==============================] - 0s 78us/step - loss: 2.4438 - acc: 0.1060 - val_loss: 2.3454 - val_acc: 0.1060\n",
      "Epoch 7/10\n",
      "5000/5000 [==============================] - 0s 80us/step - loss: 2.3454 - acc: 0.1060 - val_loss: 2.3039 - val_acc: 0.1060\n",
      "Epoch 8/10\n",
      "5000/5000 [==============================] - 0s 76us/step - loss: 2.3039 - acc: 0.1060 - val_loss: 2.3003 - val_acc: 0.1142\n",
      "Epoch 9/10\n",
      "5000/5000 [==============================] - 0s 80us/step - loss: 2.3003 - acc: 0.1142 - val_loss: 2.3003 - val_acc: 0.1142\n",
      "Epoch 10/10\n",
      "5000/5000 [==============================] - 0s 77us/step - loss: 2.3003 - acc: 0.1142 - val_loss: 2.3003 - val_acc: 0.1142\n",
      "88.58\n"
     ]
    }
   ],
   "source": [
    "# GD, lr = 10.\n",
    "use_model(10, 50, 'gd')"
   ]
  },
  {
   "cell_type": "code",
   "execution_count": 42,
   "metadata": {},
   "outputs": [
    {
     "name": "stdout",
     "output_type": "stream",
     "text": [
      "Train on 5000 samples, validate on 5000 samples\n",
      "Epoch 1/10\n",
      "5000/5000 [==============================] - 54s 11ms/step - loss: 14.6286 - acc: 0.0922 - val_loss: 14.6288 - val_acc: 0.0924\n",
      "Epoch 2/10\n",
      "5000/5000 [==============================] - 45s 9ms/step - loss: 14.6288 - acc: 0.0924 - val_loss: 14.6288 - val_acc: 0.0924\n",
      "Epoch 3/10\n",
      "5000/5000 [==============================] - 54s 11ms/step - loss: 14.6288 - acc: 0.0924 - val_loss: 14.6288 - val_acc: 0.0924\n",
      "Epoch 4/10\n",
      "5000/5000 [==============================] - 51s 10ms/step - loss: 14.6288 - acc: 0.0924 - val_loss: 14.6288 - val_acc: 0.0924\n",
      "Epoch 5/10\n",
      "5000/5000 [==============================] - 42s 8ms/step - loss: 14.6288 - acc: 0.0924 - val_loss: 14.6288 - val_acc: 0.0924\n",
      "Epoch 6/10\n",
      "5000/5000 [==============================] - 50s 10ms/step - loss: 14.6288 - acc: 0.0924 - val_loss: 14.6288 - val_acc: 0.0924\n",
      "Epoch 7/10\n",
      "5000/5000 [==============================] - 54s 11ms/step - loss: 14.6288 - acc: 0.0924 - val_loss: 14.6288 - val_acc: 0.0924\n",
      "Epoch 8/10\n",
      "5000/5000 [==============================] - 51s 10ms/step - loss: 14.6288 - acc: 0.0924 - val_loss: 14.6288 - val_acc: 0.0924\n",
      "Epoch 9/10\n",
      "5000/5000 [==============================] - 48s 10ms/step - loss: 14.6288 - acc: 0.0924 - val_loss: 14.6288 - val_acc: 0.0924\n",
      "Epoch 10/10\n",
      "5000/5000 [==============================] - 45s 9ms/step - loss: 14.6288 - acc: 0.0924 - val_loss: 14.6288 - val_acc: 0.0924\n",
      "90.76\n"
     ]
    }
   ],
   "source": [
    "# SGD, lr = 0.5.\n",
    "use_model(0.5, 50, 'sgd')"
   ]
  },
  {
   "cell_type": "code",
   "execution_count": 11,
   "metadata": {},
   "outputs": [
    {
     "name": "stdout",
     "output_type": "stream",
     "text": [
      "Train on 5000 samples, validate on 5000 samples\n",
      "Epoch 1/10\n",
      "5000/5000 [==============================] - 40s 8ms/step - loss: 14.6357 - acc: 0.0918 - val_loss: 14.6352 - val_acc: 0.0920\n",
      "Epoch 2/10\n",
      "5000/5000 [==============================] - 37s 7ms/step - loss: 14.6352 - acc: 0.0920 - val_loss: 14.6352 - val_acc: 0.0920\n",
      "Epoch 3/10\n",
      "5000/5000 [==============================] - 38s 8ms/step - loss: 14.6352 - acc: 0.0920 - val_loss: 14.6352 - val_acc: 0.0920\n",
      "Epoch 4/10\n",
      "5000/5000 [==============================] - 38s 8ms/step - loss: 14.6352 - acc: 0.0920 - val_loss: 14.6352 - val_acc: 0.0920\n",
      "Epoch 5/10\n",
      "5000/5000 [==============================] - 38s 8ms/step - loss: 14.6352 - acc: 0.0920 - val_loss: 14.6352 - val_acc: 0.0920\n",
      "Epoch 6/10\n",
      "5000/5000 [==============================] - 38s 8ms/step - loss: 14.6352 - acc: 0.0920 - val_loss: 14.6352 - val_acc: 0.0920\n",
      "Epoch 7/10\n",
      "5000/5000 [==============================] - 38s 8ms/step - loss: 14.6352 - acc: 0.0920 - val_loss: 14.6352 - val_acc: 0.0920\n",
      "Epoch 8/10\n",
      "5000/5000 [==============================] - 38s 8ms/step - loss: 14.6352 - acc: 0.0920 - val_loss: 14.6352 - val_acc: 0.0920\n",
      "Epoch 9/10\n",
      "5000/5000 [==============================] - 37s 7ms/step - loss: 14.6352 - acc: 0.0920 - val_loss: 14.6352 - val_acc: 0.0920\n",
      "Epoch 10/10\n",
      "5000/5000 [==============================] - 37s 7ms/step - loss: 14.6352 - acc: 0.0920 - val_loss: 14.6352 - val_acc: 0.0920\n",
      "90.8\n"
     ]
    }
   ],
   "source": [
    "# SGD, lr = 1.\n",
    "use_model(1, 50, 'sgd')"
   ]
  },
  {
   "cell_type": "code",
   "execution_count": 12,
   "metadata": {},
   "outputs": [
    {
     "name": "stdout",
     "output_type": "stream",
     "text": [
      "Train on 5000 samples, validate on 5000 samples\n",
      "Epoch 1/10\n",
      "5000/5000 [==============================] - 38s 8ms/step - loss: 14.4422 - acc: 0.1040 - val_loss: 14.4418 - val_acc: 0.1040\n",
      "Epoch 2/10\n",
      "5000/5000 [==============================] - 37s 7ms/step - loss: 14.4418 - acc: 0.1040 - val_loss: 14.4418 - val_acc: 0.1040\n",
      "Epoch 3/10\n",
      "5000/5000 [==============================] - 42s 8ms/step - loss: 14.4418 - acc: 0.1040 - val_loss: 14.4418 - val_acc: 0.1040\n",
      "Epoch 4/10\n",
      "5000/5000 [==============================] - 38s 8ms/step - loss: 14.4418 - acc: 0.1040 - val_loss: 14.4418 - val_acc: 0.1040\n",
      "Epoch 5/10\n",
      "5000/5000 [==============================] - 39s 8ms/step - loss: 14.4418 - acc: 0.1040 - val_loss: 14.4418 - val_acc: 0.1040\n",
      "Epoch 6/10\n",
      "5000/5000 [==============================] - 46s 9ms/step - loss: 14.4418 - acc: 0.1040 - val_loss: 14.4418 - val_acc: 0.1040\n",
      "Epoch 7/10\n",
      "5000/5000 [==============================] - 37s 7ms/step - loss: 14.4418 - acc: 0.1040 - val_loss: 14.4418 - val_acc: 0.1040\n",
      "Epoch 8/10\n",
      "5000/5000 [==============================] - 42s 8ms/step - loss: 14.4418 - acc: 0.1040 - val_loss: 14.4418 - val_acc: 0.1040\n",
      "Epoch 9/10\n",
      "5000/5000 [==============================] - 577s 115ms/step - loss: 14.4418 - acc: 0.1040 - val_loss: 14.4418 - val_acc: 0.1040\n",
      "Epoch 10/10\n",
      "5000/5000 [==============================] - 45s 9ms/step - loss: 14.4418 - acc: 0.1040 - val_loss: 14.4418 - val_acc: 0.1040\n",
      "89.6\n"
     ]
    }
   ],
   "source": [
    "# SGD, lr = 10.\n",
    "use_model(10, 50, 'sgd')"
   ]
  },
  {
   "cell_type": "code",
   "execution_count": 13,
   "metadata": {},
   "outputs": [
    {
     "name": "stdout",
     "output_type": "stream",
     "text": [
      "Train on 5000 samples, validate on 5000 samples\n",
      "Epoch 1/10\n",
      "5000/5000 [==============================] - 7s 1ms/step - loss: 1.5873 - acc: 0.4088 - val_loss: 0.6972 - val_acc: 0.7794\n",
      "Epoch 2/10\n",
      "5000/5000 [==============================] - 6s 1ms/step - loss: 0.5970 - acc: 0.8006 - val_loss: 0.4926 - val_acc: 0.8190\n",
      "Epoch 3/10\n",
      "5000/5000 [==============================] - 7s 1ms/step - loss: 0.4198 - acc: 0.8646 - val_loss: 0.3058 - val_acc: 0.9046\n",
      "Epoch 4/10\n",
      "5000/5000 [==============================] - 6s 1ms/step - loss: 0.3317 - acc: 0.8954 - val_loss: 0.2325 - val_acc: 0.9276\n",
      "Epoch 5/10\n",
      "5000/5000 [==============================] - 6s 1ms/step - loss: 0.2642 - acc: 0.9136 - val_loss: 0.2214 - val_acc: 0.9284\n",
      "Epoch 6/10\n",
      "5000/5000 [==============================] - 7s 1ms/step - loss: 0.2186 - acc: 0.9306 - val_loss: 0.1483 - val_acc: 0.9574\n",
      "Epoch 7/10\n",
      "5000/5000 [==============================] - 7s 1ms/step - loss: 0.1800 - acc: 0.9430 - val_loss: 0.2069 - val_acc: 0.9310\n",
      "Epoch 8/10\n",
      "5000/5000 [==============================] - 7s 1ms/step - loss: 0.1535 - acc: 0.9476 - val_loss: 0.1436 - val_acc: 0.9512\n",
      "Epoch 9/10\n",
      "5000/5000 [==============================] - 6s 1ms/step - loss: 0.1247 - acc: 0.9600 - val_loss: 0.0855 - val_acc: 0.9754\n",
      "Epoch 10/10\n",
      "5000/5000 [==============================] - 6s 1ms/step - loss: 0.0995 - acc: 0.9688 - val_loss: 0.0765 - val_acc: 0.9752\n",
      "2.480000000000004\n"
     ]
    }
   ],
   "source": [
    "# MB10, lr = 0.5.\n",
    "use_model(0.5, 50, 'mb10')"
   ]
  },
  {
   "cell_type": "code",
   "execution_count": 14,
   "metadata": {},
   "outputs": [
    {
     "name": "stdout",
     "output_type": "stream",
     "text": [
      "Train on 5000 samples, validate on 5000 samples\n",
      "Epoch 1/10\n",
      "5000/5000 [==============================] - 7s 1ms/step - loss: 2.0518 - acc: 0.2318 - val_loss: 1.2399 - val_acc: 0.4884\n",
      "Epoch 2/10\n",
      "5000/5000 [==============================] - 6s 1ms/step - loss: 0.8496 - acc: 0.7070 - val_loss: 0.5306 - val_acc: 0.8224\n",
      "Epoch 3/10\n",
      "5000/5000 [==============================] - 6s 1ms/step - loss: 0.4780 - acc: 0.8492 - val_loss: 0.3456 - val_acc: 0.8948\n",
      "Epoch 4/10\n",
      "5000/5000 [==============================] - 6s 1ms/step - loss: 0.3219 - acc: 0.8962 - val_loss: 0.2436 - val_acc: 0.9204\n",
      "Epoch 5/10\n",
      "5000/5000 [==============================] - 6s 1ms/step - loss: 0.2317 - acc: 0.9296 - val_loss: 0.1631 - val_acc: 0.9498\n",
      "Epoch 6/10\n",
      "5000/5000 [==============================] - 6s 1ms/step - loss: 0.1730 - acc: 0.9446 - val_loss: 0.1200 - val_acc: 0.9598\n",
      "Epoch 7/10\n",
      "5000/5000 [==============================] - 6s 1ms/step - loss: 0.1176 - acc: 0.9614 - val_loss: 0.0746 - val_acc: 0.9782\n",
      "Epoch 8/10\n",
      "5000/5000 [==============================] - 6s 1ms/step - loss: 0.0848 - acc: 0.9734 - val_loss: 0.0597 - val_acc: 0.9814\n",
      "Epoch 9/10\n",
      "5000/5000 [==============================] - 6s 1ms/step - loss: 0.0703 - acc: 0.9782 - val_loss: 0.0823 - val_acc: 0.9736\n",
      "Epoch 10/10\n",
      "5000/5000 [==============================] - 6s 1ms/step - loss: 0.0451 - acc: 0.9866 - val_loss: 0.0173 - val_acc: 0.9970\n",
      "0.29999999999999716\n"
     ]
    }
   ],
   "source": [
    "# MB10, lr = 1.\n",
    "use_model(1, 50, 'mb10')"
   ]
  },
  {
   "cell_type": "code",
   "execution_count": 15,
   "metadata": {},
   "outputs": [
    {
     "name": "stdout",
     "output_type": "stream",
     "text": [
      "Train on 5000 samples, validate on 5000 samples\n",
      "Epoch 1/10\n",
      "5000/5000 [==============================] - 7s 1ms/step - loss: 14.4877 - acc: 0.0996 - val_loss: 14.5063 - val_acc: 0.1000\n",
      "Epoch 2/10\n",
      "5000/5000 [==============================] - 6s 1ms/step - loss: 14.5063 - acc: 0.1000 - val_loss: 14.5063 - val_acc: 0.1000\n",
      "Epoch 3/10\n",
      "5000/5000 [==============================] - 6s 1ms/step - loss: 14.5063 - acc: 0.1000 - val_loss: 14.5063 - val_acc: 0.1000\n",
      "Epoch 4/10\n",
      "5000/5000 [==============================] - 6s 1ms/step - loss: 14.5063 - acc: 0.1000 - val_loss: 14.5063 - val_acc: 0.1000\n",
      "Epoch 5/10\n",
      "5000/5000 [==============================] - 6s 1ms/step - loss: 14.5063 - acc: 0.1000 - val_loss: 14.5063 - val_acc: 0.1000\n",
      "Epoch 6/10\n",
      "5000/5000 [==============================] - 6s 1ms/step - loss: 14.5063 - acc: 0.1000 - val_loss: 14.5063 - val_acc: 0.1000\n",
      "Epoch 7/10\n",
      "5000/5000 [==============================] - 6s 1ms/step - loss: 14.5063 - acc: 0.1000 - val_loss: 14.5063 - val_acc: 0.1000\n",
      "Epoch 8/10\n",
      "5000/5000 [==============================] - 6s 1ms/step - loss: 14.5063 - acc: 0.1000 - val_loss: 14.5063 - val_acc: 0.1000\n",
      "Epoch 9/10\n",
      "5000/5000 [==============================] - 7s 1ms/step - loss: 14.5063 - acc: 0.1000 - val_loss: 14.5063 - val_acc: 0.1000\n",
      "Epoch 10/10\n",
      "5000/5000 [==============================] - 7s 1ms/step - loss: 14.5063 - acc: 0.1000 - val_loss: 14.5063 - val_acc: 0.1000\n",
      "90.0\n"
     ]
    }
   ],
   "source": [
    "# MB10, lr = 10.\n",
    "use_model(10, 50, 'mb10')"
   ]
  },
  {
   "cell_type": "code",
   "execution_count": 20,
   "metadata": {},
   "outputs": [
    {
     "name": "stdout",
     "output_type": "stream",
     "text": [
      "Train on 5000 samples, validate on 5000 samples\n",
      "Epoch 1/10\n",
      "5000/5000 [==============================] - 2s 483us/step - loss: 2.1606 - acc: 0.2056 - val_loss: 1.7183 - val_acc: 0.4034\n",
      "Epoch 2/10\n",
      "5000/5000 [==============================] - 2s 341us/step - loss: 1.2875 - acc: 0.5432 - val_loss: 0.9157 - val_acc: 0.6602\n",
      "Epoch 3/10\n",
      "5000/5000 [==============================] - 2s 334us/step - loss: 0.7754 - acc: 0.7384 - val_loss: 0.5877 - val_acc: 0.8192\n",
      "Epoch 4/10\n",
      "5000/5000 [==============================] - 2s 381us/step - loss: 0.5795 - acc: 0.8184 - val_loss: 0.5304 - val_acc: 0.8374\n",
      "Epoch 5/10\n",
      "5000/5000 [==============================] - 2s 383us/step - loss: 0.4880 - acc: 0.8546 - val_loss: 0.4712 - val_acc: 0.8538\n",
      "Epoch 6/10\n",
      "5000/5000 [==============================] - 2s 384us/step - loss: 0.4241 - acc: 0.8696 - val_loss: 0.3851 - val_acc: 0.8874\n",
      "Epoch 7/10\n",
      "5000/5000 [==============================] - 2s 341us/step - loss: 0.3894 - acc: 0.8804 - val_loss: 0.3970 - val_acc: 0.8736\n",
      "Epoch 8/10\n",
      "5000/5000 [==============================] - 2s 310us/step - loss: 0.3512 - acc: 0.8880 - val_loss: 0.3239 - val_acc: 0.9028\n",
      "Epoch 9/10\n",
      "5000/5000 [==============================] - 2s 397us/step - loss: 0.3305 - acc: 0.8966 - val_loss: 0.2820 - val_acc: 0.9112\n",
      "Epoch 10/10\n",
      "5000/5000 [==============================] - 2s 375us/step - loss: 0.3047 - acc: 0.9028 - val_loss: 0.2515 - val_acc: 0.9244\n",
      "7.560000000000002\n"
     ]
    }
   ],
   "source": [
    "# MB50, lr = 0.5.\n",
    "use_model(0.5, 50, 'mb50')"
   ]
  },
  {
   "cell_type": "code",
   "execution_count": 21,
   "metadata": {},
   "outputs": [
    {
     "name": "stdout",
     "output_type": "stream",
     "text": [
      "Train on 5000 samples, validate on 5000 samples\n",
      "Epoch 1/10\n",
      "5000/5000 [==============================] - 3s 532us/step - loss: 2.1553 - acc: 0.2088 - val_loss: 1.6156 - val_acc: 0.4148\n",
      "Epoch 2/10\n",
      "5000/5000 [==============================] - 2s 368us/step - loss: 1.1202 - acc: 0.5990 - val_loss: 0.7736 - val_acc: 0.7188\n",
      "Epoch 3/10\n",
      "5000/5000 [==============================] - 2s 324us/step - loss: 0.6227 - acc: 0.7876 - val_loss: 0.5237 - val_acc: 0.8230\n",
      "Epoch 4/10\n",
      "5000/5000 [==============================] - 2s 355us/step - loss: 0.4749 - acc: 0.8498 - val_loss: 0.3996 - val_acc: 0.8698\n",
      "Epoch 5/10\n",
      "5000/5000 [==============================] - 2s 332us/step - loss: 0.3894 - acc: 0.8772 - val_loss: 0.3198 - val_acc: 0.9062\n",
      "Epoch 6/10\n",
      "5000/5000 [==============================] - 2s 339us/step - loss: 0.3357 - acc: 0.8980 - val_loss: 0.3578 - val_acc: 0.8808\n",
      "Epoch 7/10\n",
      "5000/5000 [==============================] - 2s 306us/step - loss: 0.3146 - acc: 0.9050 - val_loss: 0.2356 - val_acc: 0.9278\n",
      "Epoch 8/10\n",
      "5000/5000 [==============================] - 2s 308us/step - loss: 0.2782 - acc: 0.9108 - val_loss: 0.3054 - val_acc: 0.8994\n",
      "Epoch 9/10\n",
      "5000/5000 [==============================] - 2s 332us/step - loss: 0.2386 - acc: 0.9248 - val_loss: 0.2617 - val_acc: 0.9144\n",
      "Epoch 10/10\n",
      "5000/5000 [==============================] - 2s 333us/step - loss: 0.2124 - acc: 0.9364 - val_loss: 0.1860 - val_acc: 0.9420\n",
      "5.800000000000011\n"
     ]
    }
   ],
   "source": [
    "# MB50, lr = 1.\n",
    "use_model(1, 50, 'mb50')"
   ]
  },
  {
   "cell_type": "code",
   "execution_count": 22,
   "metadata": {},
   "outputs": [
    {
     "name": "stdout",
     "output_type": "stream",
     "text": [
      "Train on 5000 samples, validate on 5000 samples\n",
      "Epoch 1/10\n",
      "5000/5000 [==============================] - 2s 403us/step - loss: 2.5140 - acc: 0.0988 - val_loss: 2.4281 - val_acc: 0.0920\n",
      "Epoch 2/10\n",
      "5000/5000 [==============================] - 1s 298us/step - loss: 2.4186 - acc: 0.1006 - val_loss: 2.4801 - val_acc: 0.1142\n",
      "Epoch 3/10\n",
      "5000/5000 [==============================] - 2s 308us/step - loss: 2.5259 - acc: 0.0946 - val_loss: 2.3976 - val_acc: 0.1142\n",
      "Epoch 4/10\n",
      "5000/5000 [==============================] - 2s 408us/step - loss: 2.4135 - acc: 0.0958 - val_loss: 2.3873 - val_acc: 0.1024\n",
      "Epoch 5/10\n",
      "5000/5000 [==============================] - 2s 320us/step - loss: 2.4031 - acc: 0.0964 - val_loss: 2.4441 - val_acc: 0.1142\n",
      "Epoch 6/10\n",
      "5000/5000 [==============================] - 2s 308us/step - loss: 2.4183 - acc: 0.1010 - val_loss: 2.3830 - val_acc: 0.1000\n",
      "Epoch 7/10\n",
      "5000/5000 [==============================] - 2s 317us/step - loss: 2.3975 - acc: 0.1022 - val_loss: 2.3319 - val_acc: 0.0920\n",
      "Epoch 8/10\n",
      "5000/5000 [==============================] - 2s 330us/step - loss: 2.3978 - acc: 0.1102 - val_loss: 2.4291 - val_acc: 0.1040\n",
      "Epoch 9/10\n",
      "5000/5000 [==============================] - 2s 320us/step - loss: 2.4160 - acc: 0.0960 - val_loss: 2.3963 - val_acc: 0.1024\n",
      "Epoch 10/10\n",
      "5000/5000 [==============================] - 2s 334us/step - loss: 2.4034 - acc: 0.1016 - val_loss: 2.4236 - val_acc: 0.1060\n",
      "89.4\n"
     ]
    }
   ],
   "source": [
    "# MB50, lr = 10.\n",
    "use_model(10, 50, 'mb50')"
   ]
  },
  {
   "cell_type": "code",
   "execution_count": 23,
   "metadata": {},
   "outputs": [
    {
     "data": {
      "image/png": "[encoded data removed]",
      "text/plain": [
       "<Figure size 432x288 with 1 Axes>"
      ]
     },
     "metadata": {},
     "output_type": "display_data"
    }
   ],
   "source": [
    "plt.plot(inputsGD, outputsGD, label='GD')\n",
    "plt.plot(inputsSGD, outputsSGD, label='SGD')\n",
    "plt.plot(inputsMiniBatch10, outputsMiniBatch10, label='Mini-Batch10')\n",
    "plt.plot(inputsMiniBatch50, outputsMiniBatch50, label='Mini-Batch50')\n",
    "plt.xlabel('learning rate')\n",
    "plt.ylabel('training error (%)')\n",
    "plt.title(\"SGD\")\n",
    "plt.legend()\n",
    "plt.show()"
   ]
  },
  {
   "cell_type": "code",
   "execution_count": null,
   "metadata": {},
   "outputs": [],
   "source": [
    "# Limpar os arrays para testar outro features\n",
    "set_arrays()"
   ]
  },
  {
   "cell_type": "code",
   "execution_count": 43,
   "metadata": {},
   "outputs": [
    {
     "name": "stdout",
     "output_type": "stream",
     "text": [
      "Train on 5000 samples, validate on 5000 samples\n",
      "Epoch 1/10\n",
      "5000/5000 [==============================] - 1s 298us/step - loss: 2.3028 - acc: 0.1142 - val_loss: 2.3000 - val_acc: 0.1142\n",
      "Epoch 2/10\n",
      "5000/5000 [==============================] - 1s 128us/step - loss: 2.3000 - acc: 0.1142 - val_loss: 2.2989 - val_acc: 0.1142\n",
      "Epoch 3/10\n",
      "5000/5000 [==============================] - 1s 117us/step - loss: 2.2989 - acc: 0.1142 - val_loss: 2.2982 - val_acc: 0.1142\n",
      "Epoch 4/10\n",
      "5000/5000 [==============================] - 0s 87us/step - loss: 2.2982 - acc: 0.1142 - val_loss: 2.2976 - val_acc: 0.1142\n",
      "Epoch 5/10\n",
      "5000/5000 [==============================] - 1s 102us/step - loss: 2.2976 - acc: 0.1142 - val_loss: 2.2970 - val_acc: 0.1142\n",
      "Epoch 6/10\n",
      "5000/5000 [==============================] - 1s 109us/step - loss: 2.2970 - acc: 0.1142 - val_loss: 2.2965 - val_acc: 0.1142\n",
      "Epoch 7/10\n",
      "5000/5000 [==============================] - 0s 88us/step - loss: 2.2965 - acc: 0.1142 - val_loss: 2.2960 - val_acc: 0.1142\n",
      "Epoch 8/10\n",
      "5000/5000 [==============================] - 0s 80us/step - loss: 2.2960 - acc: 0.1142 - val_loss: 2.2954 - val_acc: 0.1142\n",
      "Epoch 9/10\n",
      "5000/5000 [==============================] - 1s 110us/step - loss: 2.2954 - acc: 0.1142 - val_loss: 2.2949 - val_acc: 0.1142\n",
      "Epoch 10/10\n",
      "5000/5000 [==============================] - 0s 81us/step - loss: 2.2949 - acc: 0.1142 - val_loss: 2.2943 - val_acc: 0.1142\n",
      "88.58\n"
     ]
    }
   ],
   "source": [
    "# GD, un = 25.\n",
    "use_model(0.5, 25, 'gd')"
   ]
  },
  {
   "cell_type": "code",
   "execution_count": 45,
   "metadata": {},
   "outputs": [
    {
     "name": "stdout",
     "output_type": "stream",
     "text": [
      "Train on 5000 samples, validate on 5000 samples\n",
      "Epoch 1/10\n",
      "5000/5000 [==============================] - 1s 214us/step - loss: 2.3069 - acc: 0.0920 - val_loss: 2.3003 - val_acc: 0.1142\n",
      "Epoch 2/10\n",
      "5000/5000 [==============================] - 0s 87us/step - loss: 2.3003 - acc: 0.1142 - val_loss: 2.2991 - val_acc: 0.1142\n",
      "Epoch 3/10\n",
      "5000/5000 [==============================] - 0s 89us/step - loss: 2.2991 - acc: 0.1142 - val_loss: 2.2979 - val_acc: 0.1142\n",
      "Epoch 4/10\n",
      "5000/5000 [==============================] - 0s 86us/step - loss: 2.2979 - acc: 0.1142 - val_loss: 2.2968 - val_acc: 0.1142\n",
      "Epoch 5/10\n",
      "5000/5000 [==============================] - 0s 91us/step - loss: 2.2968 - acc: 0.1142 - val_loss: 2.2957 - val_acc: 0.1142\n",
      "Epoch 6/10\n",
      "5000/5000 [==============================] - 0s 87us/step - loss: 2.2957 - acc: 0.1142 - val_loss: 2.2946 - val_acc: 0.1142\n",
      "Epoch 7/10\n",
      "5000/5000 [==============================] - 0s 89us/step - loss: 2.2946 - acc: 0.1142 - val_loss: 2.2934 - val_acc: 0.1142\n",
      "Epoch 8/10\n",
      "5000/5000 [==============================] - 0s 84us/step - loss: 2.2934 - acc: 0.1142 - val_loss: 2.2923 - val_acc: 0.1142\n",
      "Epoch 9/10\n",
      "5000/5000 [==============================] - 0s 85us/step - loss: 2.2923 - acc: 0.1142 - val_loss: 2.2911 - val_acc: 0.1142\n",
      "Epoch 10/10\n",
      "5000/5000 [==============================] - 0s 93us/step - loss: 2.2911 - acc: 0.1142 - val_loss: 2.2899 - val_acc: 0.1142\n",
      "88.58\n"
     ]
    }
   ],
   "source": [
    "# GD, un = 50.\n",
    "use_model(0.5, 50, 'gd')"
   ]
  },
  {
   "cell_type": "code",
   "execution_count": 46,
   "metadata": {},
   "outputs": [
    {
     "name": "stdout",
     "output_type": "stream",
     "text": [
      "Train on 5000 samples, validate on 5000 samples\n",
      "Epoch 1/10\n",
      "5000/5000 [==============================] - 1s 214us/step - loss: 2.3380 - acc: 0.0920 - val_loss: 2.3194 - val_acc: 0.1076\n",
      "Epoch 2/10\n",
      "5000/5000 [==============================] - 1s 129us/step - loss: 2.3194 - acc: 0.1076 - val_loss: 2.3017 - val_acc: 0.1142\n",
      "Epoch 3/10\n",
      "5000/5000 [==============================] - 1s 125us/step - loss: 2.3017 - acc: 0.1142 - val_loss: 2.2983 - val_acc: 0.1076\n",
      "Epoch 4/10\n",
      "5000/5000 [==============================] - 0s 88us/step - loss: 2.2983 - acc: 0.1076 - val_loss: 2.2956 - val_acc: 0.1142\n",
      "Epoch 5/10\n",
      "5000/5000 [==============================] - 0s 83us/step - loss: 2.2956 - acc: 0.1142 - val_loss: 2.2931 - val_acc: 0.1988\n",
      "Epoch 6/10\n",
      "5000/5000 [==============================] - 0s 91us/step - loss: 2.2931 - acc: 0.1988 - val_loss: 2.2907 - val_acc: 0.1142\n",
      "Epoch 7/10\n",
      "5000/5000 [==============================] - 1s 105us/step - loss: 2.2907 - acc: 0.1142 - val_loss: 2.2884 - val_acc: 0.1760\n",
      "Epoch 8/10\n",
      "5000/5000 [==============================] - 1s 133us/step - loss: 2.2884 - acc: 0.1760 - val_loss: 2.2860 - val_acc: 0.1142\n",
      "Epoch 9/10\n",
      "5000/5000 [==============================] - 1s 112us/step - loss: 2.2860 - acc: 0.1142 - val_loss: 2.2836 - val_acc: 0.1570\n",
      "Epoch 10/10\n",
      "5000/5000 [==============================] - 1s 123us/step - loss: 2.2836 - acc: 0.1570 - val_loss: 2.2812 - val_acc: 0.1144\n",
      "88.56\n"
     ]
    }
   ],
   "source": [
    "# GD, un = 100.\n",
    "use_model(0.5, 100, 'gd')"
   ]
  },
  {
   "cell_type": "code",
   "execution_count": 48,
   "metadata": {},
   "outputs": [
    {
     "name": "stdout",
     "output_type": "stream",
     "text": [
      "Train on 5000 samples, validate on 5000 samples\n",
      "Epoch 1/10\n",
      "5000/5000 [==============================] - 42s 8ms/step - loss: 3.6437 - acc: 0.1014 - val_loss: 2.9583 - val_acc: 0.1060\n",
      "Epoch 2/10\n",
      "5000/5000 [==============================] - 40s 8ms/step - loss: 1.9676 - acc: 0.4244 - val_loss: 1.4605 - val_acc: 0.5604\n",
      "Epoch 3/10\n",
      "5000/5000 [==============================] - 51s 10ms/step - loss: 2.3889 - acc: 0.3484 - val_loss: 1.9550 - val_acc: 0.2892\n",
      "Epoch 4/10\n",
      "5000/5000 [==============================] - 50s 10ms/step - loss: 2.0259 - acc: 0.3570 - val_loss: 1.9412 - val_acc: 0.3200\n",
      "Epoch 5/10\n",
      "5000/5000 [==============================] - 44s 9ms/step - loss: 1.9110 - acc: 0.3554 - val_loss: 2.1560 - val_acc: 0.2642\n",
      "Epoch 6/10\n",
      "5000/5000 [==============================] - 41s 8ms/step - loss: 2.1519 - acc: 0.2898 - val_loss: 2.4663 - val_acc: 0.2446\n",
      "Epoch 7/10\n",
      "5000/5000 [==============================] - 47s 9ms/step - loss: 2.0940 - acc: 0.2462 - val_loss: 2.1363 - val_acc: 0.1718\n",
      "Epoch 8/10\n",
      "5000/5000 [==============================] - 44s 9ms/step - loss: 2.0474 - acc: 0.2492 - val_loss: 2.0993 - val_acc: 0.2448\n",
      "Epoch 9/10\n",
      "5000/5000 [==============================] - 50s 10ms/step - loss: 2.3255 - acc: 0.1758 - val_loss: 2.5425 - val_acc: 0.1042\n",
      "Epoch 10/10\n",
      "5000/5000 [==============================] - 54s 11ms/step - loss: 2.2434 - acc: 0.1618 - val_loss: 2.5297 - val_acc: 0.0978\n",
      "90.22\n"
     ]
    }
   ],
   "source": [
    "# SGD, un = 25.\n",
    "use_model(0.5, 25, 'sgd')"
   ]
  },
  {
   "cell_type": "code",
   "execution_count": null,
   "metadata": {},
   "outputs": [],
   "source": [
    "# SGD, un = 50.\n",
    "use_model(0.5, 50, 'sgd')"
   ]
  },
  {
   "cell_type": "code",
   "execution_count": null,
   "metadata": {},
   "outputs": [],
   "source": [
    "# SGD, un = 100.\n",
    "use_model(0.5, 100, 'sgd')"
   ]
  }
 ],
 "metadata": {
  "kernelspec": {
   "display_name": "Python 3",
   "language": "python",
   "name": "python3"
  },
  "language_info": {
   "codemirror_mode": {
    "name": "ipython",
    "version": 3
   },
   "file_extension": ".py",
   "mimetype": "text/x-python",
   "name": "python",
   "nbconvert_exporter": "python",
   "pygments_lexer": "ipython3",
   "version": "3.6.5"
  }
 },
 "nbformat": 4,
 "nbformat_minor": 2
}
