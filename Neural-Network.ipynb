{
 "cells": [
  {
   "cell_type": "code",
   "execution_count": 23,
   "metadata": {},
   "outputs": [],
   "source": [
    "## TP de Aprendizam de Máquina\n",
    "# Aluno: Geanderson Esteves dos Santos\n",
    "# Professor: Adriano Veloso"
   ]
  },
  {
   "cell_type": "code",
   "execution_count": 1,
   "metadata": {},
   "outputs": [
    {
     "name": "stderr",
     "output_type": "stream",
     "text": [
      "Using TensorFlow backend.\n"
     ]
    }
   ],
   "source": [
    "# Required packages.\n",
    "import numpy as np\n",
    "import matplotlib.pyplot as plt\n",
    "from keras.models import Sequential\n",
    "from keras.layers import Dense\n",
    "from keras.layers import Dropout\n",
    "from keras.utils import np_utils\n",
    "from keras import optimizers"
   ]
  },
  {
   "cell_type": "code",
   "execution_count": 2,
   "metadata": {},
   "outputs": [],
   "source": [
    "# fix random seed for reproducibility.\n",
    "seed = 7\n",
    "np.random.seed(seed)"
   ]
  },
  {
   "cell_type": "code",
   "execution_count": 3,
   "metadata": {},
   "outputs": [],
   "source": [
    "# Load data.\n",
    "dataset = np.loadtxt(\"data_tp1\", delimiter=\",\")\n",
    "X_train = dataset[:, 1:].reshape(dataset.shape[0],1,28, 28).astype('float32')\n",
    "y_train = dataset[:,0]\n",
    "X_test = dataset[:,1:].reshape(dataset.shape[0],1, 28, 28).astype('float32')\n",
    "y_test = dataset[:,0]"
   ]
  },
  {
   "cell_type": "code",
   "execution_count": 4,
   "metadata": {},
   "outputs": [],
   "source": [
    "# An image is represented by 28*28 then it is a 784 in memory.\n",
    "num_pixels = 784\n",
    "X_train = X_train.reshape(X_train.shape[0], num_pixels).astype('float32')\n",
    "X_test = X_test.reshape(X_test.shape[0], num_pixels).astype('float32')"
   ]
  },
  {
   "cell_type": "code",
   "execution_count": 5,
   "metadata": {},
   "outputs": [],
   "source": [
    "# Normalize inputs from 0-255 to 0-1.\n",
    "X_train = X_train / 255\n",
    "X_test = X_test / 255"
   ]
  },
  {
   "cell_type": "code",
   "execution_count": 6,
   "metadata": {},
   "outputs": [],
   "source": [
    "# One hot encode outputs\n",
    "y_train = np_utils.to_categorical(y_train)\n",
    "y_test = np_utils.to_categorical(y_test)\n",
    "num_classes = y_test.shape[1]"
   ]
  },
  {
   "cell_type": "code",
   "execution_count": 7,
   "metadata": {},
   "outputs": [],
   "source": [
    "# Set the variables.\n",
    "unity = 100\n",
    "learning_rate = 0.5"
   ]
  },
  {
   "cell_type": "code",
   "execution_count": 8,
   "metadata": {},
   "outputs": [],
   "source": [
    "# Define model\n",
    "def baseline_model(unity, learning_rate):\n",
    "    model = Sequential()\n",
    "    model.add(Dense(num_pixels, input_dim=num_pixels, kernel_initializer='normal', activation='sigmoid'))\n",
    "    model.add(Dense(unity, input_dim=unity, kernel_initializer='normal', activation='sigmoid'))\n",
    "    model.add(Dense(num_classes, kernel_initializer='normal', activation='softmax'))\n",
    "    # Set the gradient\n",
    "    sgd = optimizers.SGD(lr=learning_rate)\n",
    "    # Compile model\n",
    "    model.compile(loss='categorical_crossentropy', optimizer=sgd, metrics=['accuracy'])\n",
    "    return model"
   ]
  },
  {
   "cell_type": "code",
   "execution_count": 9,
   "metadata": {},
   "outputs": [],
   "source": [
    "# Build the model.\n",
    "#model = baseline_model(unity, learning_rate)\n",
    "# Fit the model\n",
    "# default batch size was 200\n",
    "#model.fit(X_train, y_train, validation_data=(X_test, y_test))\n",
    "#model.fit(X_train, y_train, validation_data=(X_test, y_test), epochs=10, batch_size=1, verbose=2)\n",
    "# Final evaluation of the model\n",
    "#scores = model.evaluate(X_test, y_test, verbose=0)\n",
    "#print(\"Training Error: %.2f%%\" % (100-scores[1]*100))\n",
    "#print(100-scores[1]*100)"
   ]
  },
  {
   "cell_type": "code",
   "execution_count": 10,
   "metadata": {},
   "outputs": [],
   "source": [
    "## Testes variando Gradient Descent (GD), Sthocastic Gradient Descent (SGD) e Mini-Batch\n",
    "# Para não tornar o número de testes fatoriais alguns valores das variáveis que serão testadas durante a realização\n",
    "# do TP de ML irão ser mantidas em um certo valor, e.g., \n",
    "# 1 - Testar o Learning rate para os 3 gradientes deixando o número de unidades fixados no default"
   ]
  },
  {
   "cell_type": "code",
   "execution_count": 11,
   "metadata": {},
   "outputs": [],
   "source": [
    "inputsSGD = []\n",
    "outputsSGD = []\n",
    "inputsMiniBatch = []\n",
    "outputsMiniBatch = []"
   ]
  },
  {
   "cell_type": "code",
   "execution_count": 12,
   "metadata": {},
   "outputs": [
    {
     "name": "stdout",
     "output_type": "stream",
     "text": [
      "Train on 5000 samples, validate on 5000 samples\n",
      "Epoch 1/10\n",
      "5000/5000 [==============================] - 47s 9ms/step - loss: 3.5381 - acc: 0.1136 - val_loss: 2.4088 - val_acc: 0.1832\n",
      "Epoch 2/10\n",
      "5000/5000 [==============================] - 38s 8ms/step - loss: 2.7880 - acc: 0.1842 - val_loss: 3.5333 - val_acc: 0.1976\n",
      "Epoch 3/10\n",
      "5000/5000 [==============================] - 46s 9ms/step - loss: 2.7350 - acc: 0.1778 - val_loss: 3.6237 - val_acc: 0.1304\n",
      "Epoch 4/10\n",
      "5000/5000 [==============================] - 48s 10ms/step - loss: 2.9778 - acc: 0.1068 - val_loss: 3.0746 - val_acc: 0.1060\n",
      "Epoch 5/10\n",
      "5000/5000 [==============================] - 42s 8ms/step - loss: 3.0123 - acc: 0.0932 - val_loss: 2.7468 - val_acc: 0.1024\n",
      "Epoch 6/10\n",
      "5000/5000 [==============================] - 43s 9ms/step - loss: 3.0056 - acc: 0.1040 - val_loss: 2.5445 - val_acc: 0.1060\n",
      "Epoch 7/10\n",
      "5000/5000 [==============================] - 49s 10ms/step - loss: 3.0049 - acc: 0.1012 - val_loss: 3.6717 - val_acc: 0.1024\n",
      "Epoch 8/10\n",
      "5000/5000 [==============================] - 45s 9ms/step - loss: 3.0049 - acc: 0.1026 - val_loss: 3.0075 - val_acc: 0.1024\n",
      "Epoch 9/10\n",
      "5000/5000 [==============================] - 48s 10ms/step - loss: 3.0108 - acc: 0.0958 - val_loss: 3.0185 - val_acc: 0.0978\n",
      "Epoch 10/10\n",
      "5000/5000 [==============================] - 44s 9ms/step - loss: 2.9972 - acc: 0.1056 - val_loss: 3.2260 - val_acc: 0.0924\n",
      "90.76\n"
     ]
    }
   ],
   "source": [
    "# Learning Rate 3 gradients Sthocastic Gradient Descent\n",
    "lr = 0.5\n",
    "unity = 25\n",
    "inputsSGD.append(lr)\n",
    "model = baseline_model(unity, learning_rate)\n",
    "model.fit(X_train, y_train, validation_data=(X_test, y_test), epochs=10, batch_size=1, verbose=1)\n",
    "scores = model.evaluate(X_test, y_test, verbose=0)\n",
    "print(100-scores[1]*100)\n",
    "outputsSGD.append(100-scores[1]*100)"
   ]
  },
  {
   "cell_type": "code",
   "execution_count": 13,
   "metadata": {},
   "outputs": [
    {
     "name": "stdout",
     "output_type": "stream",
     "text": [
      "Train on 5000 samples, validate on 5000 samples\n",
      "Epoch 1/10\n",
      "5000/5000 [==============================] - 51s 10ms/step - loss: 4.9201 - acc: 0.0960 - val_loss: 6.1988 - val_acc: 0.1024\n",
      "Epoch 2/10\n",
      "5000/5000 [==============================] - 44s 9ms/step - loss: 4.9849 - acc: 0.1222 - val_loss: 3.0662 - val_acc: 0.1530\n",
      "Epoch 3/10\n",
      "5000/5000 [==============================] - 50s 10ms/step - loss: 3.5235 - acc: 0.1230 - val_loss: 4.1088 - val_acc: 0.1040\n",
      "Epoch 4/10\n",
      "5000/5000 [==============================] - 48s 10ms/step - loss: 3.8437 - acc: 0.0940 - val_loss: 3.7242 - val_acc: 0.1040\n",
      "Epoch 5/10\n",
      "5000/5000 [==============================] - 45s 9ms/step - loss: 3.7621 - acc: 0.1086 - val_loss: 4.4243 - val_acc: 0.0912\n",
      "Epoch 6/10\n",
      "5000/5000 [==============================] - 46s 9ms/step - loss: 3.7879 - acc: 0.1002 - val_loss: 3.7726 - val_acc: 0.1060\n",
      "Epoch 7/10\n",
      "5000/5000 [==============================] - 36s 7ms/step - loss: 3.7621 - acc: 0.1082 - val_loss: 4.2383 - val_acc: 0.1040\n",
      "Epoch 8/10\n",
      "5000/5000 [==============================] - 35s 7ms/step - loss: 3.7684 - acc: 0.1066 - val_loss: 3.7971 - val_acc: 0.0978\n",
      "Epoch 9/10\n",
      "5000/5000 [==============================] - 34s 7ms/step - loss: 3.7722 - acc: 0.1048 - val_loss: 3.8172 - val_acc: 0.1142\n",
      "Epoch 10/10\n",
      "5000/5000 [==============================] - 35s 7ms/step - loss: 3.7935 - acc: 0.0994 - val_loss: 3.6779 - val_acc: 0.1000\n",
      "90.0\n"
     ]
    }
   ],
   "source": [
    "lr = 1\n",
    "unity = 25\n",
    "inputsSGD.append(lr)\n",
    "model = baseline_model(unity, learning_rate)\n",
    "model.fit(X_train, y_train, validation_data=(X_test, y_test), epochs=10, batch_size=1, verbose=1)\n",
    "scores = model.evaluate(X_test, y_test, verbose=0)\n",
    "print(100-scores[1]*100)\n",
    "outputsSGD.append(100-scores[1]*100)"
   ]
  },
  {
   "cell_type": "code",
   "execution_count": 14,
   "metadata": {},
   "outputs": [
    {
     "name": "stdout",
     "output_type": "stream",
     "text": [
      "Train on 5000 samples, validate on 5000 samples\n",
      "Epoch 1/10\n",
      "5000/5000 [==============================] - 45s 9ms/step - loss: 2.8706 - acc: 0.1066 - val_loss: 3.2623 - val_acc: 0.0920\n",
      "Epoch 2/10\n",
      "5000/5000 [==============================] - 45s 9ms/step - loss: 2.7187 - acc: 0.1794 - val_loss: 2.8463 - val_acc: 0.1618\n",
      "Epoch 3/10\n",
      "5000/5000 [==============================] - 42s 8ms/step - loss: 3.0998 - acc: 0.1380 - val_loss: 3.6482 - val_acc: 0.1142\n",
      "Epoch 4/10\n",
      "5000/5000 [==============================] - 41s 8ms/step - loss: 2.9106 - acc: 0.1528 - val_loss: 2.6280 - val_acc: 0.1222\n",
      "Epoch 5/10\n",
      "5000/5000 [==============================] - 39s 8ms/step - loss: 2.7374 - acc: 0.1686 - val_loss: 2.3938 - val_acc: 0.2384\n",
      "Epoch 6/10\n",
      "5000/5000 [==============================] - 44s 9ms/step - loss: 2.5717 - acc: 0.1778 - val_loss: 3.1361 - val_acc: 0.1474\n",
      "Epoch 7/10\n",
      "5000/5000 [==============================] - 42s 8ms/step - loss: 2.5903 - acc: 0.1660 - val_loss: 2.7129 - val_acc: 0.1340\n",
      "Epoch 8/10\n",
      "5000/5000 [==============================] - 39s 8ms/step - loss: 2.5732 - acc: 0.1640 - val_loss: 2.5921 - val_acc: 0.1626\n",
      "Epoch 9/10\n",
      "5000/5000 [==============================] - 38s 8ms/step - loss: 2.6442 - acc: 0.1512 - val_loss: 2.9371 - val_acc: 0.0978\n",
      "Epoch 10/10\n",
      "5000/5000 [==============================] - 37s 7ms/step - loss: 2.5652 - acc: 0.1732 - val_loss: 2.1381 - val_acc: 0.2256\n",
      "77.44\n"
     ]
    }
   ],
   "source": [
    "lr = 10\n",
    "unity = 25\n",
    "inputsSGD.append(lr)\n",
    "model = baseline_model(unity, learning_rate)\n",
    "model.fit(X_train, y_train, validation_data=(X_test, y_test), epochs=10, batch_size=1, verbose=1)\n",
    "scores = model.evaluate(X_test, y_test, verbose=0)\n",
    "print(100-scores[1]*100)\n",
    "outputsSGD.append(100-scores[1]*100)"
   ]
  },
  {
   "cell_type": "code",
   "execution_count": 15,
   "metadata": {},
   "outputs": [
    {
     "name": "stdout",
     "output_type": "stream",
     "text": [
      "Train on 5000 samples, validate on 5000 samples\n",
      "Epoch 1/10\n",
      "5000/5000 [==============================] - 5s 1ms/step - loss: 1.6270 - acc: 0.3940 - val_loss: 0.8290 - val_acc: 0.7280\n",
      "Epoch 2/10\n",
      "5000/5000 [==============================] - 5s 1ms/step - loss: 0.6367 - acc: 0.7882 - val_loss: 0.4639 - val_acc: 0.8514\n",
      "Epoch 3/10\n",
      "5000/5000 [==============================] - 5s 1ms/step - loss: 0.4327 - acc: 0.8624 - val_loss: 0.4113 - val_acc: 0.8684\n",
      "Epoch 4/10\n",
      "5000/5000 [==============================] - 5s 1ms/step - loss: 0.3425 - acc: 0.8940 - val_loss: 0.2540 - val_acc: 0.9208\n",
      "Epoch 5/10\n",
      "5000/5000 [==============================] - 5s 1ms/step - loss: 0.2877 - acc: 0.9090 - val_loss: 0.2565 - val_acc: 0.9146\n",
      "Epoch 6/10\n",
      "5000/5000 [==============================] - 5s 1ms/step - loss: 0.2228 - acc: 0.9342 - val_loss: 0.1925 - val_acc: 0.9372\n",
      "Epoch 7/10\n",
      "5000/5000 [==============================] - 5s 1ms/step - loss: 0.1939 - acc: 0.9352 - val_loss: 0.1841 - val_acc: 0.9434\n",
      "Epoch 8/10\n",
      "5000/5000 [==============================] - 5s 1ms/step - loss: 0.1579 - acc: 0.9498 - val_loss: 0.1218 - val_acc: 0.9640\n",
      "Epoch 9/10\n",
      "5000/5000 [==============================] - 5s 1ms/step - loss: 0.1297 - acc: 0.9604 - val_loss: 0.1065 - val_acc: 0.9678\n",
      "Epoch 10/10\n",
      "5000/5000 [==============================] - 5s 1ms/step - loss: 0.1133 - acc: 0.9624 - val_loss: 0.0814 - val_acc: 0.9798\n",
      "2.019999999999996\n"
     ]
    }
   ],
   "source": [
    "# Mini-batch 10\n",
    "lr = 0.5\n",
    "unity = 25\n",
    "inputsMiniBatch.append(lr)\n",
    "model = baseline_model(unity, learning_rate)\n",
    "model.fit(X_train, y_train, validation_data=(X_test, y_test), epochs=10, batch_size=10, verbose=1)\n",
    "scores = model.evaluate(X_test, y_test, verbose=0)\n",
    "print(100-scores[1]*100)\n",
    "outputsMiniBatch.append(100-scores[1]*100)"
   ]
  },
  {
   "cell_type": "code",
   "execution_count": 16,
   "metadata": {},
   "outputs": [
    {
     "name": "stdout",
     "output_type": "stream",
     "text": [
      "Train on 5000 samples, validate on 5000 samples\n",
      "Epoch 1/10\n",
      "5000/5000 [==============================] - 6s 1ms/step - loss: 1.6581 - acc: 0.3782 - val_loss: 0.8003 - val_acc: 0.7028\n",
      "Epoch 2/10\n",
      "5000/5000 [==============================] - 5s 1ms/step - loss: 0.6481 - acc: 0.7848 - val_loss: 0.4537 - val_acc: 0.8568\n",
      "Epoch 3/10\n",
      "5000/5000 [==============================] - 6s 1ms/step - loss: 0.4558 - acc: 0.8544 - val_loss: 0.3698 - val_acc: 0.8802\n",
      "Epoch 4/10\n",
      "5000/5000 [==============================] - 6s 1ms/step - loss: 0.3584 - acc: 0.8894 - val_loss: 0.2672 - val_acc: 0.9166\n",
      "Epoch 5/10\n",
      "5000/5000 [==============================] - 6s 1ms/step - loss: 0.2964 - acc: 0.9114 - val_loss: 0.2320 - val_acc: 0.9294\n",
      "Epoch 6/10\n",
      "5000/5000 [==============================] - 5s 1ms/step - loss: 0.2611 - acc: 0.9170 - val_loss: 0.1774 - val_acc: 0.9464\n",
      "Epoch 7/10\n",
      "5000/5000 [==============================] - 6s 1ms/step - loss: 0.2029 - acc: 0.9364 - val_loss: 0.1547 - val_acc: 0.9526\n",
      "Epoch 8/10\n",
      "5000/5000 [==============================] - 6s 1ms/step - loss: 0.1653 - acc: 0.9480 - val_loss: 0.1285 - val_acc: 0.9590\n",
      "Epoch 9/10\n",
      "5000/5000 [==============================] - 5s 1ms/step - loss: 0.1381 - acc: 0.9570 - val_loss: 0.0885 - val_acc: 0.9726\n",
      "Epoch 10/10\n",
      "5000/5000 [==============================] - 6s 1ms/step - loss: 0.1133 - acc: 0.9606 - val_loss: 0.0809 - val_acc: 0.9758\n",
      "2.4200000000000017\n"
     ]
    }
   ],
   "source": [
    "# Mini-batch 10\n",
    "lr = 1\n",
    "unity = 25\n",
    "inputsMiniBatch.append(lr)\n",
    "model = baseline_model(unity, learning_rate)\n",
    "model.fit(X_train, y_train, validation_data=(X_test, y_test), epochs=10, batch_size=10, verbose=1)\n",
    "scores = model.evaluate(X_test, y_test, verbose=0)\n",
    "print(100-scores[1]*100)\n",
    "outputsMiniBatch.append(100-scores[1]*100)"
   ]
  },
  {
   "cell_type": "code",
   "execution_count": 17,
   "metadata": {},
   "outputs": [
    {
     "name": "stdout",
     "output_type": "stream",
     "text": [
      "Train on 5000 samples, validate on 5000 samples\n",
      "Epoch 1/10\n",
      "5000/5000 [==============================] - 6s 1ms/step - loss: 1.6366 - acc: 0.3936 - val_loss: 0.8520 - val_acc: 0.6888\n",
      "Epoch 2/10\n",
      "5000/5000 [==============================] - 5s 1ms/step - loss: 0.6403 - acc: 0.7876 - val_loss: 0.5458 - val_acc: 0.8210\n",
      "Epoch 3/10\n",
      "5000/5000 [==============================] - 6s 1ms/step - loss: 0.4414 - acc: 0.8660 - val_loss: 0.3223 - val_acc: 0.9014\n",
      "Epoch 4/10\n",
      "5000/5000 [==============================] - 5s 1ms/step - loss: 0.3520 - acc: 0.8866 - val_loss: 0.3874 - val_acc: 0.8752\n",
      "Epoch 5/10\n",
      "5000/5000 [==============================] - 5s 1ms/step - loss: 0.2854 - acc: 0.9118 - val_loss: 0.2254 - val_acc: 0.9342\n",
      "Epoch 6/10\n",
      "5000/5000 [==============================] - 5s 1ms/step - loss: 0.2237 - acc: 0.9300 - val_loss: 0.2101 - val_acc: 0.9370\n",
      "Epoch 7/10\n",
      "5000/5000 [==============================] - 5s 1ms/step - loss: 0.1932 - acc: 0.9398 - val_loss: 0.1414 - val_acc: 0.9564\n",
      "Epoch 8/10\n",
      "5000/5000 [==============================] - 5s 1ms/step - loss: 0.1593 - acc: 0.9508 - val_loss: 0.1068 - val_acc: 0.9678\n",
      "Epoch 9/10\n",
      "5000/5000 [==============================] - 7s 1ms/step - loss: 0.1220 - acc: 0.9614 - val_loss: 0.0788 - val_acc: 0.9788\n",
      "Epoch 10/10\n",
      "5000/5000 [==============================] - 6s 1ms/step - loss: 0.0994 - acc: 0.9710 - val_loss: 0.0769 - val_acc: 0.9786\n",
      "2.1400000000000006\n"
     ]
    }
   ],
   "source": [
    "# Mini-batch 10\n",
    "lr = 10\n",
    "unity = 25\n",
    "inputsMiniBatch.append(lr)\n",
    "model = baseline_model(unity, learning_rate)\n",
    "model.fit(X_train, y_train, validation_data=(X_test, y_test), epochs=10, batch_size=10, verbose=1)\n",
    "scores = model.evaluate(X_test, y_test, verbose=0)\n",
    "print(100-scores[1]*100)\n",
    "outputsMiniBatch.append(100-scores[1]*100)"
   ]
  },
  {
   "cell_type": "code",
   "execution_count": 19,
   "metadata": {},
   "outputs": [
    {
     "data": {
      "image/png": "[encoded data removed]",
      "text/plain": [
       "<Figure size 432x288 with 1 Axes>"
      ]
     },
     "metadata": {},
     "output_type": "display_data"
    }
   ],
   "source": [
    "plt.plot(inputsSGD, outputsSGD, label='SGD')\n",
    "plt.plot(inputsMiniBatch, outputsMiniBatch, label='Mini-Batch10')\n",
    "plt.xlabel('learning rate')\n",
    "plt.ylabel('training error (%)')\n",
    "plt.title(\"SGD\")\n",
    "plt.legend()\n",
    "plt.show()"
   ]
  },
  {
   "cell_type": "code",
   "execution_count": null,
   "metadata": {},
   "outputs": [],
   "source": []
  }
 ],
 "metadata": {
  "kernelspec": {
   "display_name": "Python 3",
   "language": "python",
   "name": "python3"
  },
  "language_info": {
   "codemirror_mode": {
    "name": "ipython",
    "version": 3
   },
   "file_extension": ".py",
   "mimetype": "text/x-python",
   "name": "python",
   "nbconvert_exporter": "python",
   "pygments_lexer": "ipython3",
   "version": "3.6.5"
  }
 },
 "nbformat": 4,
 "nbformat_minor": 2
}
