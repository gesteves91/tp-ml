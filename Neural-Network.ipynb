{
 "cells": [
  {
   "cell_type": "markdown",
   "metadata": {},
   "source": [
    "# TP de Aprendizagem de Máquina\n",
    "### Aluno: Geanderson Esteves dos Santos\n",
    "\n",
    "Trabalho Prático 1\n",
    "- Redes Neuronais + Backpropagation\n",
    "\n",
    "Neste trabalho você irá implementar uma rede neuronal com três camadas:\n",
    "\n",
    "1. Camada de entrada: cada unidade representa uma dimensão do dado de entrada.\n",
    "\n",
    "2. Camada oculta: cada unidade representa uma transformação a partir das unidades de entrada.\n",
    "\n",
    "3. Camada de saída: cada unidade representa a chance da saída correspondente ser a correta.\n",
    "\n",
    "Você irá utilizar a função Sigmóide para obter não-linearidade. Além disso, a função de perda a ser minimizada é a seguinte:\n",
    "\n",
    "onde m é a quantidade de entradas no treino, K é o número de saídas possíveis,  representa a saída correta de cada classe k em cada entrada (i), e similarmente representa a saída dada pela rede neuronal.\n",
    "\n",
    "O dado a ser utilizado está anexado. Trata-se de 5000 entradas, onde cada entrada refere-se a um dígito escrito manualmente (i.e., MNIST dataset). Dessa forma, m=5000 e K=10. Cada entrada é dada por uma matriz de dimensões 28 por 28, ou seja, um vetor de 784 dimensões. A primeira coluna do arquivo sempre é o rótulo do dígito correto.\n",
    "\n",
    "A rede neuronal a ser implementada deverá ter 784 unidades de entrada e 10 unidades de saída. Em seus experimentos, você deverá variar o número de unidades na camada oculta (25, 50, 100).\n",
    "\n",
    "Além disso, você deverá comparar os seguintes algoritmos de cálculo de gradiente:\n",
    "\n",
    "1. Gradient Descent: o gradiente é calculado após cada época (após as 5000 entradas serem processadas).\n",
    "\n",
    "2. Stochastic Gradient Descent: o gradiente é calculado após cada entrada.\n",
    "\n",
    "3. Mini-Batch: o gradiente é calculado após um certo número de entradas (considere 10 e 50).\n",
    "\n",
    "Por fim, você também deverá variar a taxa de aprendizado: 0.5, 1, 10.\n",
    "\n",
    "O documento a ser entregue deverá apresentar o resultado de seus experimentos. Ou seja, deverá apresentar discussão da variação do número de unidades na camada oculta para cada um dos três algoritmos de cálculo de gradiente. Você deverá apresentar gráficos mostrando a convergência do erro empírico para cada situação (unidades na camada oculta, algoritmo de cálculo do gradiente, taxa de aprendizado). Você deverá deixar claras todas as hipóteses que julgar serem pertinentes."
   ]
  },
  {
   "cell_type": "code",
   "execution_count": 1,
   "metadata": {},
   "outputs": [
    {
     "name": "stderr",
     "output_type": "stream",
     "text": [
      "Using TensorFlow backend.\n"
     ]
    }
   ],
   "source": [
    "# Required packages.\n",
    "import numpy as np\n",
    "import matplotlib.pyplot as plt\n",
    "from keras.models import Sequential\n",
    "from keras.layers import Dense\n",
    "from keras.layers import Dropout\n",
    "from keras.utils import np_utils\n",
    "from keras import optimizers"
   ]
  },
  {
   "cell_type": "code",
   "execution_count": 2,
   "metadata": {},
   "outputs": [],
   "source": [
    "# Fix random seed for reproducibility.\n",
    "seed = 7\n",
    "np.random.seed(seed)"
   ]
  },
  {
   "cell_type": "code",
   "execution_count": 3,
   "metadata": {},
   "outputs": [],
   "source": [
    "# Load data.\n",
    "dataset = np.loadtxt(\"data_tp1\", delimiter=\",\")\n",
    "X_train = dataset[:, 1:].reshape(dataset.shape[0],1,28, 28).astype('float32')\n",
    "y_train = dataset[:,0]\n",
    "X_test = dataset[:,1:].reshape(dataset.shape[0],1, 28, 28).astype('float32')\n",
    "y_test = dataset[:,0]"
   ]
  },
  {
   "cell_type": "code",
   "execution_count": 4,
   "metadata": {},
   "outputs": [],
   "source": [
    "# An image is represented by 28*28 then it is a 784 in memory.\n",
    "num_pixels = 784\n",
    "X_train = X_train.reshape(X_train.shape[0], num_pixels).astype('float32')\n",
    "X_test = X_test.reshape(X_test.shape[0], num_pixels).astype('float32')"
   ]
  },
  {
   "cell_type": "code",
   "execution_count": 5,
   "metadata": {},
   "outputs": [],
   "source": [
    "# Normalize inputs from 0-255 to 0-1.\n",
    "X_train = X_train / 255\n",
    "X_test = X_test / 255"
   ]
  },
  {
   "cell_type": "code",
   "execution_count": 6,
   "metadata": {},
   "outputs": [],
   "source": [
    "# One hot encode outputs\n",
    "y_train = np_utils.to_categorical(y_train)\n",
    "y_test = np_utils.to_categorical(y_test)\n",
    "num_classes = y_test.shape[1]"
   ]
  },
  {
   "cell_type": "code",
   "execution_count": 7,
   "metadata": {},
   "outputs": [],
   "source": [
    "# Define model\n",
    "def baseline_model(unity, learning_rate):\n",
    "    model = Sequential()\n",
    "    model.add(Dense(num_pixels, input_dim=num_pixels, kernel_initializer='normal', activation='sigmoid'))\n",
    "    model.add(Dense(unity, input_dim=unity, kernel_initializer='normal', activation='sigmoid'))\n",
    "    model.add(Dense(num_classes, kernel_initializer='normal', activation='softmax'))\n",
    "    # Set the gradient\n",
    "    sgd = optimizers.SGD(lr=learning_rate)\n",
    "    # Compile model\n",
    "    model.compile(loss='categorical_crossentropy', optimizer=sgd, metrics=['accuracy'])\n",
    "    return model"
   ]
  },
  {
   "cell_type": "code",
   "execution_count": 8,
   "metadata": {},
   "outputs": [],
   "source": [
    "# Build the model.\n",
    "#unity = 50\n",
    "#learning_rate = 0.5\n",
    "#model = baseline_model(unity, learning_rate)\n",
    "# Fit the model\n",
    "# default batch size was 200\n",
    "#model.fit(X_train, y_train, validation_data=(X_test, y_test))\n",
    "#model.fit(X_train, y_train, validation_data=(X_test, y_test), epochs=10, batch_size=10, verbose=1)\n",
    "# Final evaluation of the model\n",
    "#scores = model.evaluate(X_test, y_test, verbose=2)\n",
    "#print(\"Training Error: %.2f%%\" % (100-scores[1]*100))"
   ]
  },
  {
   "cell_type": "markdown",
   "metadata": {},
   "source": [
    "# Testes variando Gradient Descent (GD), Sthocastic Gradient Descent (SGD) e Mini-Batch\n",
    "### Para efeito de comparação e seguindo as intruções do TP mostradas no primeiro item deste notebook.\n",
    "##### 1 - Testar o learning rate (0.5, 1, 10) para os 3 gradientes (GD, SGD e Mini-Batch) variando o número de unidades da hidden layer (25, 50, 100). \n",
    "##### 2 - Realizar testes complementares sobre o modelo criado. "
   ]
  },
  {
   "cell_type": "code",
   "execution_count": 9,
   "metadata": {},
   "outputs": [],
   "source": [
    "# Use the model by parameters.\n",
    "def use_model(learning_rate, unity, gradient, index):\n",
    "    lr = learning_rate\n",
    "    un = unity\n",
    "    \n",
    "    if gradient == 'gd':\n",
    "        inputsGD[index].append(lr)\n",
    "        model = baseline_model(un, lr)\n",
    "        model.fit(X_train, y_train, validation_data=(X_test, y_test), epochs=1, batch_size=5000, verbose=1)\n",
    "        scores = model.evaluate(X_test, y_test, verbose=0)\n",
    "        print(100-scores[1]*100)\n",
    "        outputsGD[index].append(100-scores[1]*100)\n",
    "    elif gradient == 'sgd':\n",
    "        inputsSGD[index].append(lr)\n",
    "        model = baseline_model(un, lr)\n",
    "        model.fit(X_train, y_train, validation_data=(X_test, y_test), epochs=1, batch_size=1, verbose=1)\n",
    "        scores = model.evaluate(X_test, y_test, verbose=0)\n",
    "        print(100-scores[1]*100)\n",
    "        outputsSGD[index].append(100-scores[1]*100)\n",
    "    elif gradient == 'mb10':\n",
    "        inputsMiniBatch10[index].append(lr)\n",
    "        model = baseline_model(un, lr)\n",
    "        model.fit(X_train, y_train, validation_data=(X_test, y_test), epochs=1, batch_size=10, verbose=1)\n",
    "        scores = model.evaluate(X_test, y_test, verbose=0)\n",
    "        print(100-scores[1]*100)\n",
    "        outputsMiniBatch10[index].append(100-scores[1]*100)\n",
    "    elif gradient == 'mb50':\n",
    "        inputsMiniBatch50[index].append(lr)\n",
    "        model = baseline_model(un, lr)\n",
    "        model.fit(X_train, y_train, validation_data=(X_test, y_test), epochs=1, batch_size=50, verbose=1)\n",
    "        scores = model.evaluate(X_test, y_test, verbose=0)\n",
    "        print(100-scores[1]*100)\n",
    "        outputsMiniBatch50[index].append(100-scores[1]*100)"
   ]
  },
  {
   "cell_type": "code",
   "execution_count": 10,
   "metadata": {},
   "outputs": [],
   "source": [
    "# Set up the arrays with the inputs and outputs of the tests. \n",
    "inputsGD = []\n",
    "inputsGD.append([])\n",
    "inputsGD.append([])\n",
    "inputsGD.append([])\n",
    "outputsGD = []\n",
    "outputsGD.append([])\n",
    "outputsGD.append([])\n",
    "outputsGD.append([])"
   ]
  },
  {
   "cell_type": "code",
   "execution_count": 11,
   "metadata": {},
   "outputs": [],
   "source": [
    "inputsSGD = []\n",
    "inputsSGD.append([])\n",
    "inputsSGD.append([])\n",
    "inputsSGD.append([])\n",
    "outputsSGD = []\n",
    "outputsSGD.append([])\n",
    "outputsSGD.append([])\n",
    "outputsSGD.append([])"
   ]
  },
  {
   "cell_type": "code",
   "execution_count": 12,
   "metadata": {},
   "outputs": [],
   "source": [
    "inputsMiniBatch10 = []\n",
    "inputsMiniBatch10.append([])\n",
    "inputsMiniBatch10.append([])\n",
    "inputsMiniBatch10.append([])\n",
    "outputsMiniBatch10 = []\n",
    "outputsMiniBatch10.append([])\n",
    "outputsMiniBatch10.append([])\n",
    "outputsMiniBatch10.append([])"
   ]
  },
  {
   "cell_type": "code",
   "execution_count": 13,
   "metadata": {},
   "outputs": [],
   "source": [
    "inputsMiniBatch50 = []\n",
    "inputsMiniBatch50.append([])\n",
    "inputsMiniBatch50.append([])\n",
    "inputsMiniBatch50.append([])\n",
    "outputsMiniBatch50 = []\n",
    "outputsMiniBatch50.append([])\n",
    "outputsMiniBatch50.append([])\n",
    "outputsMiniBatch50.append([])"
   ]
  },
  {
   "cell_type": "code",
   "execution_count": 15,
   "metadata": {},
   "outputs": [
    {
     "name": "stdout",
     "output_type": "stream",
     "text": [
      "Train on 5000 samples, validate on 5000 samples\n",
      "Epoch 1/1\n",
      "5000/5000 [==============================] - 2s 316us/step - loss: 2.3074 - acc: 0.0932 - val_loss: 2.3034 - val_acc: 0.0918\n",
      "90.82\n"
     ]
    }
   ],
   "source": [
    "# GD, lr = 0.5, un = 25.\n",
    "use_model(0.5, 25, 'gd', 0)"
   ]
  },
  {
   "cell_type": "code",
   "execution_count": 16,
   "metadata": {},
   "outputs": [
    {
     "name": "stdout",
     "output_type": "stream",
     "text": [
      "Train on 5000 samples, validate on 5000 samples\n",
      "Epoch 1/1\n",
      "5000/5000 [==============================] - 1s 128us/step - loss: 2.3053 - acc: 0.1316 - val_loss: 2.2977 - val_acc: 0.1142\n",
      "88.58\n"
     ]
    }
   ],
   "source": [
    "# GD, lr = 1, un = 25.\n",
    "use_model(1, 25, 'gd', 0)"
   ]
  },
  {
   "cell_type": "code",
   "execution_count": 17,
   "metadata": {},
   "outputs": [
    {
     "name": "stdout",
     "output_type": "stream",
     "text": [
      "Train on 5000 samples, validate on 5000 samples\n",
      "Epoch 1/1\n",
      "5000/5000 [==============================] - 1s 133us/step - loss: 2.3082 - acc: 0.0920 - val_loss: 2.6255 - val_acc: 0.1000\n",
      "90.0\n"
     ]
    }
   ],
   "source": [
    "# GD, lr = 10, un = 25.\n",
    "use_model(10, 25, 'gd', 0)"
   ]
  },
  {
   "cell_type": "code",
   "execution_count": 18,
   "metadata": {},
   "outputs": [
    {
     "name": "stdout",
     "output_type": "stream",
     "text": [
      "Train on 5000 samples, validate on 5000 samples\n",
      "Epoch 1/1\n",
      "5000/5000 [==============================] - 50s 10ms/step - loss: 3.1733 - acc: 0.0996 - val_loss: 2.6749 - val_acc: 0.1000\n",
      "90.0\n"
     ]
    }
   ],
   "source": [
    "# SGD, lr = 0.5, un = 25.\n",
    "use_model(0.5, 25, 'sgd', 0)"
   ]
  },
  {
   "cell_type": "code",
   "execution_count": 19,
   "metadata": {},
   "outputs": [
    {
     "name": "stdout",
     "output_type": "stream",
     "text": [
      "Train on 5000 samples, validate on 5000 samples\n",
      "Epoch 1/1\n",
      "5000/5000 [==============================] - 66s 13ms/step - loss: 14.5417 - acc: 0.0976 - val_loss: 14.5417 - val_acc: 0.0978\n",
      "90.22\n"
     ]
    }
   ],
   "source": [
    "# SGD, lr = 1, un = 25.\n",
    "use_model(1, 25, 'sgd', 0)"
   ]
  },
  {
   "cell_type": "code",
   "execution_count": 20,
   "metadata": {},
   "outputs": [
    {
     "name": "stdout",
     "output_type": "stream",
     "text": [
      "Train on 5000 samples, validate on 5000 samples\n",
      "Epoch 1/1\n",
      "5000/5000 [==============================] - 74s 15ms/step - loss: 14.4423 - acc: 0.1038 - val_loss: 14.4418 - val_acc: 0.1040\n",
      "89.6\n"
     ]
    }
   ],
   "source": [
    "# SGD, lr = 10, un = 25.\n",
    "use_model(10, 25, 'sgd', 0)"
   ]
  },
  {
   "cell_type": "code",
   "execution_count": 21,
   "metadata": {},
   "outputs": [
    {
     "name": "stdout",
     "output_type": "stream",
     "text": [
      "Train on 5000 samples, validate on 5000 samples\n",
      "Epoch 1/1\n",
      "5000/5000 [==============================] - 11s 2ms/step - loss: 1.6543 - acc: 0.3864 - val_loss: 0.7366 - val_acc: 0.7612\n",
      "23.879999999999995\n"
     ]
    }
   ],
   "source": [
    "# MB10, lr = 0.5, un = 25.\n",
    "use_model(0.5, 25, 'mb10', 0)"
   ]
  },
  {
   "cell_type": "code",
   "execution_count": 22,
   "metadata": {},
   "outputs": [
    {
     "name": "stdout",
     "output_type": "stream",
     "text": [
      "Train on 5000 samples, validate on 5000 samples\n",
      "Epoch 1/1\n",
      "5000/5000 [==============================] - 10s 2ms/step - loss: 2.2900 - acc: 0.1904 - val_loss: 1.9050 - val_acc: 0.3690\n",
      "63.1\n"
     ]
    }
   ],
   "source": [
    "# MB10, lr = 1, un = 25.\n",
    "use_model(1, 25, 'mb10', 0)"
   ]
  },
  {
   "cell_type": "code",
   "execution_count": 23,
   "metadata": {},
   "outputs": [
    {
     "name": "stdout",
     "output_type": "stream",
     "text": [
      "Train on 5000 samples, validate on 5000 samples\n",
      "Epoch 1/1\n",
      "5000/5000 [==============================] - 9s 2ms/step - loss: 7.7324 - acc: 0.1006 - val_loss: 8.0318 - val_acc: 0.1142\n",
      "88.58\n"
     ]
    }
   ],
   "source": [
    "# MB10, lr = 10, un = 25\n",
    "use_model(10, 25, 'mb10', 0)"
   ]
  },
  {
   "cell_type": "code",
   "execution_count": 24,
   "metadata": {},
   "outputs": [
    {
     "name": "stdout",
     "output_type": "stream",
     "text": [
      "Train on 5000 samples, validate on 5000 samples\n",
      "Epoch 1/1\n",
      "5000/5000 [==============================] - 4s 744us/step - loss: 2.2089 - acc: 0.1942 - val_loss: 1.8860 - val_acc: 0.2786\n",
      "72.14\n"
     ]
    }
   ],
   "source": [
    "# MB50, lr = 0.5, un = 25.\n",
    "use_model(0.5, 25, 'mb50', 0)"
   ]
  },
  {
   "cell_type": "code",
   "execution_count": 25,
   "metadata": {},
   "outputs": [
    {
     "name": "stdout",
     "output_type": "stream",
     "text": [
      "Train on 5000 samples, validate on 5000 samples\n",
      "Epoch 1/1\n",
      "5000/5000 [==============================] - 3s 574us/step - loss: 2.2447 - acc: 0.1740 - val_loss: 1.8148 - val_acc: 0.3420\n",
      "65.8\n"
     ]
    }
   ],
   "source": [
    "# MB50, lr = 1, un = 25.\n",
    "use_model(1, 25, 'mb50', 0)"
   ]
  },
  {
   "cell_type": "code",
   "execution_count": 26,
   "metadata": {},
   "outputs": [
    {
     "name": "stdout",
     "output_type": "stream",
     "text": [
      "Train on 5000 samples, validate on 5000 samples\n",
      "Epoch 1/1\n",
      "5000/5000 [==============================] - 3s 582us/step - loss: 2.5984 - acc: 0.1002 - val_loss: 3.4417 - val_acc: 0.1024\n",
      "89.76\n"
     ]
    }
   ],
   "source": [
    "# MB50, lr = 10, un = 25.\n",
    "use_model(10, 25, 'mb50', 0) "
   ]
  },
  {
   "cell_type": "code",
   "execution_count": 27,
   "metadata": {
    "scrolled": true
   },
   "outputs": [
    {
     "data": {
      "image/png": "[encoded data removed]",
      "text/plain": [
       "<Figure size 432x288 with 1 Axes>"
      ]
     },
     "metadata": {},
     "output_type": "display_data"
    }
   ],
   "source": [
    "index = 0\n",
    "\n",
    "plt.plot(inputsGD[index], outputsGD[index], label='GD')\n",
    "plt.plot(inputsSGD[index], outputsSGD[index], label='SGD')\n",
    "plt.plot(inputsMiniBatch10[index], outputsMiniBatch10[index], label='Mini-Batch10')\n",
    "plt.plot(inputsMiniBatch50[index], outputsMiniBatch50[index], label='Mini-Batch50')\n",
    "plt.xlabel('learning rate')\n",
    "plt.axvline(x=0.5, ls='dotted')\n",
    "plt.axvline(x=1, ls='dotted')\n",
    "plt.axvline(x=10, ls='dotted')\n",
    "plt.minorticks_on()\n",
    "plt.ylabel('training error (%)')\n",
    "plt.title(\"25 unities hidden layer\")\n",
    "plt.legend()\n",
    "plt.show()"
   ]
  },
  {
   "cell_type": "code",
   "execution_count": 28,
   "metadata": {},
   "outputs": [
    {
     "name": "stdout",
     "output_type": "stream",
     "text": [
      "Train on 5000 samples, validate on 5000 samples\n",
      "Epoch 1/1\n",
      "5000/5000 [==============================] - 1s 246us/step - loss: 2.3230 - acc: 0.1222 - val_loss: 2.3015 - val_acc: 0.1142\n",
      "88.58\n"
     ]
    }
   ],
   "source": [
    "# GD, lr = 0.5, un = 50.\n",
    "use_model(0.5, 50, 'gd', 1)"
   ]
  },
  {
   "cell_type": "code",
   "execution_count": 29,
   "metadata": {},
   "outputs": [
    {
     "name": "stdout",
     "output_type": "stream",
     "text": [
      "Train on 5000 samples, validate on 5000 samples\n",
      "Epoch 1/1\n",
      "5000/5000 [==============================] - 4s 711us/step - loss: 2.3168 - acc: 0.0924 - val_loss: 2.3001 - val_acc: 0.1142\n",
      "88.58\n"
     ]
    }
   ],
   "source": [
    "# GD, lr = 1, un = 50.\n",
    "use_model(1, 50, 'gd', 1)"
   ]
  },
  {
   "cell_type": "code",
   "execution_count": 30,
   "metadata": {},
   "outputs": [
    {
     "name": "stdout",
     "output_type": "stream",
     "text": [
      "Train on 5000 samples, validate on 5000 samples\n",
      "Epoch 1/1\n",
      "5000/5000 [==============================] - 1s 283us/step - loss: 2.3130 - acc: 0.1142 - val_loss: 4.0087 - val_acc: 0.1040\n",
      "89.6\n"
     ]
    }
   ],
   "source": [
    "# GD, lr = 1, un = 50.\n",
    "use_model(10, 50, 'gd', 1)"
   ]
  },
  {
   "cell_type": "code",
   "execution_count": 31,
   "metadata": {},
   "outputs": [
    {
     "name": "stdout",
     "output_type": "stream",
     "text": [
      "Train on 5000 samples, validate on 5000 samples\n",
      "Epoch 1/1\n",
      "5000/5000 [==============================] - 71s 14ms/step - loss: 5.6154 - acc: 0.1106 - val_loss: 14.4096 - val_acc: 0.1060\n",
      "89.4\n"
     ]
    }
   ],
   "source": [
    "# SGD, lr = 0.5, un = 50.\n",
    "use_model(0.5, 50, 'sgd', 1)"
   ]
  },
  {
   "cell_type": "code",
   "execution_count": 32,
   "metadata": {},
   "outputs": [
    {
     "name": "stdout",
     "output_type": "stream",
     "text": [
      "Train on 5000 samples, validate on 5000 samples\n",
      "Epoch 1/1\n",
      "5000/5000 [==============================] - 75s 15ms/step - loss: 4.5096 - acc: 0.1026 - val_loss: 5.3371 - val_acc: 0.1000\n",
      "90.0\n"
     ]
    }
   ],
   "source": [
    "# SGD, lr = 1, un = 50.\n",
    "use_model(1, 50, 'sgd', 1)"
   ]
  },
  {
   "cell_type": "code",
   "execution_count": 33,
   "metadata": {},
   "outputs": [
    {
     "name": "stdout",
     "output_type": "stream",
     "text": [
      "Train on 5000 samples, validate on 5000 samples\n",
      "Epoch 1/1\n",
      "5000/5000 [==============================] - 64s 13ms/step - loss: 14.2779 - acc: 0.1140 - val_loss: 14.2774 - val_acc: 0.1142\n",
      "88.58\n"
     ]
    }
   ],
   "source": [
    "# SGD, lr = 10, un = 50.\n",
    "use_model(10, 50, 'sgd', 1)"
   ]
  },
  {
   "cell_type": "code",
   "execution_count": 34,
   "metadata": {},
   "outputs": [
    {
     "name": "stdout",
     "output_type": "stream",
     "text": [
      "Train on 5000 samples, validate on 5000 samples\n",
      "Epoch 1/1\n",
      "5000/5000 [==============================] - 7s 1ms/step - loss: 1.5770 - acc: 0.4112 - val_loss: 0.7405 - val_acc: 0.7538\n",
      "24.620000000000005\n"
     ]
    }
   ],
   "source": [
    "# MB10, lr = 0.5, un = 50.\n",
    "use_model(0.5, 50, 'mb10', 1)"
   ]
  },
  {
   "cell_type": "code",
   "execution_count": 35,
   "metadata": {},
   "outputs": [
    {
     "name": "stdout",
     "output_type": "stream",
     "text": [
      "Train on 5000 samples, validate on 5000 samples\n",
      "Epoch 1/1\n",
      "5000/5000 [==============================] - 7s 1ms/step - loss: 1.6783 - acc: 0.3720 - val_loss: 0.8285 - val_acc: 0.7028\n",
      "29.72\n"
     ]
    }
   ],
   "source": [
    "# MB10, lr = 1, un = 50.\n",
    "use_model(1, 50, 'mb10', 1)"
   ]
  },
  {
   "cell_type": "code",
   "execution_count": 36,
   "metadata": {},
   "outputs": [
    {
     "name": "stdout",
     "output_type": "stream",
     "text": [
      "Train on 5000 samples, validate on 5000 samples\n",
      "Epoch 1/1\n",
      "5000/5000 [==============================] - 7s 1ms/step - loss: 14.4397 - acc: 0.1022 - val_loss: 14.4676 - val_acc: 0.1024\n",
      "89.76\n"
     ]
    }
   ],
   "source": [
    "# MB10, lr = 10, un = 50.\n",
    "use_model(10, 50, 'mb10', 1)"
   ]
  },
  {
   "cell_type": "code",
   "execution_count": 37,
   "metadata": {},
   "outputs": [
    {
     "name": "stdout",
     "output_type": "stream",
     "text": [
      "Train on 5000 samples, validate on 5000 samples\n",
      "Epoch 1/1\n",
      "5000/5000 [==============================] - 2s 456us/step - loss: 2.1809 - acc: 0.2002 - val_loss: 1.9179 - val_acc: 0.2166\n",
      "78.34\n"
     ]
    }
   ],
   "source": [
    "# MB50, lr = 0.5, un = 50.\n",
    "use_model(0.5, 50, 'mb50', 1)"
   ]
  },
  {
   "cell_type": "code",
   "execution_count": 38,
   "metadata": {},
   "outputs": [
    {
     "name": "stdout",
     "output_type": "stream",
     "text": [
      "Train on 5000 samples, validate on 5000 samples\n",
      "Epoch 1/1\n",
      "5000/5000 [==============================] - 2s 456us/step - loss: 2.2540 - acc: 0.1692 - val_loss: 2.0019 - val_acc: 0.3280\n",
      "67.19999999999999\n"
     ]
    }
   ],
   "source": [
    "# MB50, lr = 1, un = 50.\n",
    "use_model(1, 50, 'mb50', 1)"
   ]
  },
  {
   "cell_type": "code",
   "execution_count": 39,
   "metadata": {},
   "outputs": [
    {
     "name": "stdout",
     "output_type": "stream",
     "text": [
      "Train on 5000 samples, validate on 5000 samples\n",
      "Epoch 1/1\n",
      "5000/5000 [==============================] - 2s 413us/step - loss: 2.4724 - acc: 0.1032 - val_loss: 2.4084 - val_acc: 0.1000\n",
      "90.0\n"
     ]
    }
   ],
   "source": [
    "# MB50, lr = 10, un = 50.\n",
    "use_model(10, 50, 'mb50', 1)"
   ]
  },
  {
   "cell_type": "code",
   "execution_count": 40,
   "metadata": {},
   "outputs": [
    {
     "data": {
      "image/png": "[encoded data removed]",
      "text/plain": [
       "<Figure size 432x288 with 1 Axes>"
      ]
     },
     "metadata": {},
     "output_type": "display_data"
    }
   ],
   "source": [
    "index = 1\n",
    "\n",
    "plt.plot(inputsGD[index], outputsGD[index], label='GD')\n",
    "plt.plot(inputsSGD[index], outputsSGD[index], label='SGD')\n",
    "plt.plot(inputsMiniBatch10[index], outputsMiniBatch10[index], label='Mini-Batch10')\n",
    "plt.plot(inputsMiniBatch50[index], outputsMiniBatch50[index], label='Mini-Batch50')\n",
    "plt.xlabel('learning rate')\n",
    "plt.axvline(x=0.5, ls='dotted')\n",
    "plt.axvline(x=1, ls='dotted')\n",
    "plt.axvline(x=10, ls='dotted')\n",
    "plt.minorticks_on()\n",
    "plt.ylabel('training error (%)')\n",
    "plt.title(\"50 unities hidden layer\")\n",
    "plt.legend()\n",
    "plt.show()"
   ]
  },
  {
   "cell_type": "code",
   "execution_count": 41,
   "metadata": {},
   "outputs": [
    {
     "name": "stdout",
     "output_type": "stream",
     "text": [
      "Train on 5000 samples, validate on 5000 samples\n",
      "Epoch 1/1\n",
      "5000/5000 [==============================] - 2s 382us/step - loss: 2.3193 - acc: 0.1000 - val_loss: 2.3048 - val_acc: 0.1142\n",
      "88.58\n"
     ]
    }
   ],
   "source": [
    "# GD, lr = 0.5, un = 100.\n",
    "use_model(0.5, 100, 'gd', 2)"
   ]
  },
  {
   "cell_type": "code",
   "execution_count": 42,
   "metadata": {},
   "outputs": [
    {
     "name": "stdout",
     "output_type": "stream",
     "text": [
      "Train on 5000 samples, validate on 5000 samples\n",
      "Epoch 1/1\n",
      "5000/5000 [==============================] - 2s 302us/step - loss: 2.3204 - acc: 0.0984 - val_loss: 2.3656 - val_acc: 0.1024\n",
      "89.76\n"
     ]
    }
   ],
   "source": [
    "# GD, lr = 1, un = 100.\n",
    "use_model(1, 100, 'gd', 2)"
   ]
  },
  {
   "cell_type": "code",
   "execution_count": 43,
   "metadata": {},
   "outputs": [
    {
     "name": "stdout",
     "output_type": "stream",
     "text": [
      "Train on 5000 samples, validate on 5000 samples\n",
      "Epoch 1/1\n",
      "5000/5000 [==============================] - 1s 258us/step - loss: 2.3297 - acc: 0.1024 - val_loss: 6.3881 - val_acc: 0.1266\n",
      "87.34\n"
     ]
    }
   ],
   "source": [
    "# GD, lr = 1, un = 100.\n",
    "use_model(10, 100, 'gd', 2)"
   ]
  },
  {
   "cell_type": "code",
   "execution_count": 44,
   "metadata": {},
   "outputs": [
    {
     "name": "stdout",
     "output_type": "stream",
     "text": [
      "Train on 5000 samples, validate on 5000 samples\n",
      "Epoch 1/1\n",
      "5000/5000 [==============================] - 54s 11ms/step - loss: 14.6357 - acc: 0.0918 - val_loss: 14.6352 - val_acc: 0.0920\n",
      "90.8\n"
     ]
    }
   ],
   "source": [
    "# SGD, lr = 0.5, un = 100.\n",
    "use_model(0.5, 100, 'sgd', 2)"
   ]
  },
  {
   "cell_type": "code",
   "execution_count": 45,
   "metadata": {},
   "outputs": [
    {
     "name": "stdout",
     "output_type": "stream",
     "text": [
      "Train on 5000 samples, validate on 5000 samples\n",
      "Epoch 1/1\n",
      "5000/5000 [==============================] - 58s 12ms/step - loss: 14.5067 - acc: 0.0998 - val_loss: 14.5063 - val_acc: 0.1000\n",
      "90.0\n"
     ]
    }
   ],
   "source": [
    "# SGD, lr = 1, un = 100.\n",
    "use_model(1, 100, 'sgd', 2)"
   ]
  },
  {
   "cell_type": "code",
   "execution_count": 46,
   "metadata": {},
   "outputs": [
    {
     "name": "stdout",
     "output_type": "stream",
     "text": [
      "Train on 5000 samples, validate on 5000 samples\n",
      "Epoch 1/1\n",
      "5000/5000 [==============================] - 60s 12ms/step - loss: 14.5067 - acc: 0.0998 - val_loss: 14.5063 - val_acc: 0.1000\n",
      "90.0\n"
     ]
    }
   ],
   "source": [
    "# SGD, lr = 10, un = 100.\n",
    "use_model(10, 100, 'sgd', 2)"
   ]
  },
  {
   "cell_type": "code",
   "execution_count": 47,
   "metadata": {},
   "outputs": [
    {
     "name": "stdout",
     "output_type": "stream",
     "text": [
      "Train on 5000 samples, validate on 5000 samples\n",
      "Epoch 1/1\n",
      "5000/5000 [==============================] - 7s 1ms/step - loss: 1.5741 - acc: 0.4206 - val_loss: 0.6185 - val_acc: 0.7930\n",
      "20.700000000000003\n"
     ]
    }
   ],
   "source": [
    "# MB10, lr = 0.5, un = 100.\n",
    "use_model(0.5, 100, 'mb10', 2)"
   ]
  },
  {
   "cell_type": "code",
   "execution_count": 48,
   "metadata": {},
   "outputs": [
    {
     "name": "stdout",
     "output_type": "stream",
     "text": [
      "Train on 5000 samples, validate on 5000 samples\n",
      "Epoch 1/1\n",
      "5000/5000 [==============================] - 9s 2ms/step - loss: 2.0561 - acc: 0.2426 - val_loss: 1.1570 - val_acc: 0.5416\n",
      "45.84\n"
     ]
    }
   ],
   "source": [
    "# MB10, lr = 1, un = 100.\n",
    "use_model(1, 100, 'mb10', 2)"
   ]
  },
  {
   "cell_type": "code",
   "execution_count": 49,
   "metadata": {},
   "outputs": [
    {
     "name": "stdout",
     "output_type": "stream",
     "text": [
      "Train on 5000 samples, validate on 5000 samples\n",
      "Epoch 1/1\n",
      "5000/5000 [==============================] - 9s 2ms/step - loss: 14.2473 - acc: 0.1144 - val_loss: 14.2774 - val_acc: 0.1142\n",
      "88.58\n"
     ]
    }
   ],
   "source": [
    "# MB10, lr = 10, un = 100.\n",
    "use_model(10, 100, 'mb10', 2)"
   ]
  },
  {
   "cell_type": "code",
   "execution_count": 50,
   "metadata": {},
   "outputs": [
    {
     "name": "stdout",
     "output_type": "stream",
     "text": [
      "Train on 5000 samples, validate on 5000 samples\n",
      "Epoch 1/1\n",
      "5000/5000 [==============================] - 4s 763us/step - loss: 2.1661 - acc: 0.2138 - val_loss: 1.6271 - val_acc: 0.4712\n",
      "52.88\n"
     ]
    }
   ],
   "source": [
    "# MB50, lr = 0.5, un = 100.\n",
    "use_model(0.5, 100, 'mb50', 2)"
   ]
  },
  {
   "cell_type": "code",
   "execution_count": 51,
   "metadata": {},
   "outputs": [
    {
     "name": "stdout",
     "output_type": "stream",
     "text": [
      "Train on 5000 samples, validate on 5000 samples\n",
      "Epoch 1/1\n",
      "5000/5000 [==============================] - 3s 589us/step - loss: 2.2485 - acc: 0.1794 - val_loss: 1.6445 - val_acc: 0.3746\n",
      "62.54\n"
     ]
    }
   ],
   "source": [
    "# MB50, lr = 1, un = 100.\n",
    "use_model(1, 100, 'mb50', 2)"
   ]
  },
  {
   "cell_type": "code",
   "execution_count": 52,
   "metadata": {},
   "outputs": [
    {
     "name": "stdout",
     "output_type": "stream",
     "text": [
      "Train on 5000 samples, validate on 5000 samples\n",
      "Epoch 1/1\n",
      "5000/5000 [==============================] - 3s 654us/step - loss: 4.4530 - acc: 0.1038 - val_loss: 4.3756 - val_acc: 0.0920\n",
      "90.8\n"
     ]
    }
   ],
   "source": [
    "# MB50, lr = 10, un = 100.\n",
    "use_model(10, 100, 'mb50', 2)"
   ]
  },
  {
   "cell_type": "code",
   "execution_count": 53,
   "metadata": {},
   "outputs": [
    {
     "data": {
      "image/png": "[encoded data removed]",
      "text/plain": [
       "<Figure size 432x288 with 1 Axes>"
      ]
     },
     "metadata": {},
     "output_type": "display_data"
    }
   ],
   "source": [
    "index = 2\n",
    "\n",
    "plt.plot(inputsGD[index], outputsGD[index], label='GD')\n",
    "plt.plot(inputsSGD[index], outputsSGD[index], label='SGD')\n",
    "plt.plot(inputsMiniBatch10[index], outputsMiniBatch10[index], label='Mini-Batch10')\n",
    "plt.plot(inputsMiniBatch50[index], outputsMiniBatch50[index], label='Mini-Batch50')\n",
    "plt.xlabel('learning rate')\n",
    "plt.axvline(x=0.5, ls='dotted')\n",
    "plt.axvline(x=1, ls='dotted')\n",
    "plt.axvline(x=10, ls='dotted')\n",
    "plt.minorticks_on()\n",
    "plt.ylabel('training error (%)')\n",
    "plt.title(\"50 unities hidden layer\")\n",
    "plt.legend()\n",
    "plt.show()"
   ]
  },
  {
   "cell_type": "markdown",
   "metadata": {},
   "source": [
    "# Discussão dos Resultados\n",
    "\n",
    "Primeiramente, podemos notar nos gráficos apresentados acima que dois dos gradientes testados nunca obtiveram resultados interessantes para o problema de classificação de imagens (aka MNIS), i.e., GD e SGD obtiveram resultados muito ruins para o training error. As condições definidas no enunciado do TP podem ter influenciado diretamente os resultados desses dois algoritmos em termos do uso da sigmoid para não linearidade e também do learning rate ter sido uma medida um pouco elevada (i.e., 0.5 foi o menos valor testado e 10 o maior valor testado). Assim, o mini-batch foi o gradiente mais eficiente entre os testados, com destaque para o mini-batch de 10 batches que obteve resultados ligeiramente melhores do que o mini-batch de 50. \n",
    "\n",
    "O training error foi baixo se considerarmos que o conjunto de teste foi o próprio conjunto de treino, prática essa que deve ser evitada em casos reais de aplicação de algoritmos de machine learning no mundo real. Assim, embora o training error ter sido baixo em dois dos gradientes testados (i.e., mini-batch de 10 e 50), isso não significa que o nosso modelo seja bom, pois o test error pode ser alto. Assim, em uma análise real do MINIS o mais adequado seria ter um conjunto de treino (assim como foi feito), um conjunto de teste, e mesmo a separação em um conjunto de validação com uma cross-validation seria o cenário perfeito de teste.\n",
    "\n",
    "É importante notar que o learning rate propostos no enunciado podem ser considerados bastante elevados, pois como foi visto em sala de aula muitos dos modelos de machine learning usam 0.1 para essa métrica. No entanto, a aplicação de um learning rate de 10 assim como no último dos testes realizados mostrou que este valor era muito alto para o problema de classificação proposto no enunciado. Assim, o learning rate de 10 apresentou resultados muitos ruins para todos os gradientes testados independente do número de unidades da camada oculta (o training error foi de ~90% para todos os 3 gradientes e as mesmo nas duas variações do mini-batch, que obtiveram resultados melhores para o problema). \n",
    "\n",
    "Em relação as unidades da camada oculta, a variação não podem ser considerada relevante em nenhuma das condições testadas, i.e., as unidades de 25, 50 e 100 unidades da camada oculta apresentaram resultados similares para o problema. Sendo assim, \n",
    "\n"
   ]
  },
  {
   "cell_type": "code",
   "execution_count": 68,
   "metadata": {},
   "outputs": [
    {
     "data": {
      "text/plain": [
       "Text(0.5,1,'50 unities hidden layer')"
      ]
     },
     "execution_count": 68,
     "metadata": {},
     "output_type": "execute_result"
    },
    {
     "data": {
      "image/png": "[encoded data removed]",
      "text/plain": [
       "<Figure size 1440x432 with 3 Axes>"
      ]
     },
     "metadata": {},
     "output_type": "display_data"
    }
   ],
   "source": [
    "f, (ax1, ax2, ax3) = plt.subplots(1, 3, figsize=(20,6))\n",
    "ax1.plot(inputsGD[0], outputsGD[0], label='GD')\n",
    "ax1.plot(inputsSGD[0], outputsSGD[0], label='SGD')\n",
    "ax1.plot(inputsMiniBatch10[0], outputsMiniBatch10[0], label='Mini-Batch10')\n",
    "ax1.plot(inputsMiniBatch50[0], outputsMiniBatch50[0], label='Mini-Batch50')\n",
    "ax1.axvline(x=0.5, ls='dotted')\n",
    "ax1.axvline(x=1, ls='dotted')\n",
    "ax1.axvline(x=10, ls='dotted')\n",
    "ax1.minorticks_on()\n",
    "ax1.legend()\n",
    "ax1.set_xlabel('learning rate')\n",
    "ax1.set_ylabel('training error (%)')\n",
    "ax1.set_title('10 unities hidden layer')\n",
    "\n",
    "ax2.plot(inputsGD[1], outputsGD[1], label='GD')\n",
    "ax2.plot(inputsSGD[1], outputsSGD[1], label='SGD')\n",
    "ax2.plot(inputsMiniBatch10[1], outputsMiniBatch10[1], label='Mini-Batch10')\n",
    "ax2.plot(inputsMiniBatch50[1], outputsMiniBatch50[1], label='Mini-Batch50')\n",
    "ax2.axvline(x=0.5, ls='dotted')\n",
    "ax2.axvline(x=1, ls='dotted')\n",
    "ax2.axvline(x=10, ls='dotted')\n",
    "ax2.minorticks_on()\n",
    "ax2.legend()\n",
    "ax2.set_xlabel('learning rate')\n",
    "ax2.set_ylabel('training error (%)')\n",
    "ax2.set_title('25 unities hidden layer')\n",
    "\n",
    "ax3.plot(inputsGD[2], outputsGD[2], label='GD')\n",
    "ax3.plot(inputsSGD[2], outputsSGD[2], label='SGD')\n",
    "ax3.plot(inputsMiniBatch10[2], outputsMiniBatch10[2], label='Mini-Batch10')\n",
    "ax3.plot(inputsMiniBatch50[2], outputsMiniBatch50[2], label='Mini-Batch50')\n",
    "ax3.axvline(x=0.5, ls='dotted')\n",
    "ax3.axvline(x=1, ls='dotted')\n",
    "ax3.axvline(x=10, ls='dotted')\n",
    "ax3.minorticks_on()\n",
    "ax3.legend()\n",
    "ax3.set_xlabel('learning rate')\n",
    "ax3.set_ylabel('training error (%)')\n",
    "ax3.set_title('50 unities hidden layer')"
   ]
  },
  {
   "cell_type": "code",
   "execution_count": null,
   "metadata": {},
   "outputs": [],
   "source": []
  }
 ],
 "metadata": {
  "kernelspec": {
   "display_name": "Python 3",
   "language": "python",
   "name": "python3"
  },
  "language_info": {
   "codemirror_mode": {
    "name": "ipython",
    "version": 3
   },
   "file_extension": ".py",
   "mimetype": "text/x-python",
   "name": "python",
   "nbconvert_exporter": "python",
   "pygments_lexer": "ipython3",
   "version": "3.6.5"
  }
 },
 "nbformat": 4,
 "nbformat_minor": 2
}
