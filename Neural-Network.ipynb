{
 "cells": [
  {
   "cell_type": "markdown",
   "metadata": {},
   "source": [
    "# TP de Aprendizagem de Máquina\n",
    "### Aluno: Geanderson Esteves dos Santos\n",
    "\n",
    "Trabalho Prático 1\n",
    "- Redes Neuronais + Backpropagation\n",
    "\n",
    "Neste trabalho você irá implementar uma rede neuronal com três camadas:\n",
    "\n",
    "1. Camada de entrada: cada unidade representa uma dimensão do dado de entrada.\n",
    "\n",
    "2. Camada oculta: cada unidade representa uma transformação a partir das unidades de entrada.\n",
    "\n",
    "3. Camada de saída: cada unidade representa a chance da saída correspondente ser a correta.\n",
    "\n",
    "Você irá utilizar a função Sigmóide para obter não-linearidade. Além disso, a função de perda a ser minimizada é a seguinte:\n",
    "\n",
    "onde m é a quantidade de entradas no treino, K é o número de saídas possíveis,  representa a saída correta de cada classe k em cada entrada (i), e similarmente representa a saída dada pela rede neuronal.\n",
    "\n",
    "O dado a ser utilizado está anexado. Trata-se de 5000 entradas, onde cada entrada refere-se a um dígito escrito manualmente (i.e., MNIST dataset). Dessa forma, m=5000 e K=10. Cada entrada é dada por uma matriz de dimensões 28 por 28, ou seja, um vetor de 784 dimensões. A primeira coluna do arquivo sempre é o rótulo do dígito correto.\n",
    "\n",
    "A rede neuronal a ser implementada deverá ter 784 unidades de entrada e 10 unidades de saída. Em seus experimentos, você deverá variar o número de unidades na camada oculta (25, 50, 100).\n",
    "\n",
    "Além disso, você deverá comparar os seguintes algoritmos de cálculo de gradiente:\n",
    "\n",
    "1. Gradient Descent: o gradiente é calculado após cada época (após as 5000 entradas serem processadas).\n",
    "\n",
    "2. Stochastic Gradient Descent: o gradiente é calculado após cada entrada.\n",
    "\n",
    "3. Mini-Batch: o gradiente é calculado após um certo número de entradas (considere 10 e 50).\n",
    "\n",
    "Por fim, você também deverá variar a taxa de aprendizado: 0.5, 1, 10.\n",
    "\n",
    "O documento a ser entregue deverá apresentar o resultado de seus experimentos. Ou seja, deverá apresentar discussão da variação do número de unidades na camada oculta para cada um dos três algoritmos de cálculo de gradiente. Você deverá apresentar gráficos mostrando a convergência do erro empírico para cada situação (unidades na camada oculta, algoritmo de cálculo do gradiente, taxa de aprendizado). Você deverá deixar claras todas as hipóteses que julgar serem pertinentes."
   ]
  },
  {
   "cell_type": "code",
   "execution_count": 1,
   "metadata": {},
   "outputs": [
    {
     "name": "stderr",
     "output_type": "stream",
     "text": [
      "Using TensorFlow backend.\n"
     ]
    }
   ],
   "source": [
    "# Required packages.\n",
    "import numpy as np\n",
    "import matplotlib.pyplot as plt\n",
    "from keras.models import Sequential\n",
    "from keras.layers import Dense\n",
    "from keras.layers import Dropout\n",
    "from keras.utils import np_utils\n",
    "from keras import optimizers"
   ]
  },
  {
   "cell_type": "code",
   "execution_count": 2,
   "metadata": {},
   "outputs": [],
   "source": [
    "# Fix random seed for reproducibility.\n",
    "seed = 7\n",
    "np.random.seed(seed)"
   ]
  },
  {
   "cell_type": "code",
   "execution_count": 3,
   "metadata": {},
   "outputs": [],
   "source": [
    "# Load data.\n",
    "dataset = np.loadtxt(\"data_tp1\", delimiter=\",\")\n",
    "X_train = dataset[:, 1:].reshape(dataset.shape[0],1,28, 28).astype('float32')\n",
    "y_train = dataset[:,0]\n",
    "X_test = dataset[:,1:].reshape(dataset.shape[0],1, 28, 28).astype('float32')\n",
    "y_test = dataset[:,0]"
   ]
  },
  {
   "cell_type": "code",
   "execution_count": 4,
   "metadata": {},
   "outputs": [],
   "source": [
    "# An image is represented by 28*28 then it is a 784 in memory.\n",
    "num_pixels = 784\n",
    "X_train = X_train.reshape(X_train.shape[0], num_pixels).astype('float32')\n",
    "X_test = X_test.reshape(X_test.shape[0], num_pixels).astype('float32')"
   ]
  },
  {
   "cell_type": "code",
   "execution_count": 5,
   "metadata": {},
   "outputs": [],
   "source": [
    "# Normalize inputs from 0-255 to 0-1.\n",
    "X_train = X_train / 255\n",
    "X_test = X_test / 255"
   ]
  },
  {
   "cell_type": "code",
   "execution_count": 6,
   "metadata": {},
   "outputs": [],
   "source": [
    "# One hot encode outputs\n",
    "y_train = np_utils.to_categorical(y_train)\n",
    "y_test = np_utils.to_categorical(y_test)\n",
    "num_classes = y_test.shape[1]"
   ]
  },
  {
   "cell_type": "code",
   "execution_count": 7,
   "metadata": {},
   "outputs": [],
   "source": [
    "# Define model\n",
    "def baseline_model(unity, learning_rate):\n",
    "    model = Sequential()\n",
    "    model.add(Dense(num_pixels, input_dim=num_pixels, kernel_initializer='normal', activation='sigmoid'))\n",
    "    model.add(Dense(unity, input_dim=unity, kernel_initializer='normal', activation='sigmoid'))\n",
    "    model.add(Dense(num_classes, kernel_initializer='normal', activation='softmax'))\n",
    "    # Set the gradient\n",
    "    sgd = optimizers.SGD(lr=learning_rate)\n",
    "    # Compile model\n",
    "    model.compile(loss='categorical_crossentropy', optimizer=sgd, metrics=['accuracy'])\n",
    "    return model"
   ]
  },
  {
   "cell_type": "code",
   "execution_count": 8,
   "metadata": {},
   "outputs": [],
   "source": [
    "# Build the model.\n",
    "#unity = 50\n",
    "#learning_rate = 0.5\n",
    "#model = baseline_model(unity, learning_rate)\n",
    "# Fit the model\n",
    "# default batch size was 200\n",
    "#model.fit(X_train, y_train, validation_data=(X_test, y_test))\n",
    "#model.fit(X_train, y_train, validation_data=(X_test, y_test), epochs=10, batch_size=10, verbose=1)\n",
    "# Final evaluation of the model\n",
    "#scores = model.evaluate(X_test, y_test, verbose=2)\n",
    "#print(\"Training Error: %.2f%%\" % (100-scores[1]*100))"
   ]
  },
  {
   "cell_type": "markdown",
   "metadata": {},
   "source": [
    "# Testes variando Gradient Descent (GD), Sthocastic Gradient Descent (SGD) e Mini-Batch\n",
    "### Para efeito de comparação e seguindo as intruções do TP mostradas no primeiro item deste notebook.\n",
    "##### 1 - Testar o learning rate (0.5, 1, 10) para os 3 gradientes (GD, SGD e Mini-Batch) variando o número de unidades da hidden layer (25, 50, 100). \n",
    "##### 2 - Realizar testes complementares variando parâmetros não previstos no enunciado do TP. "
   ]
  },
  {
   "cell_type": "code",
   "execution_count": 9,
   "metadata": {},
   "outputs": [],
   "source": [
    "# Set up the arrays with the inputs and outputs of the tests. \n",
    "inputsGD = []\n",
    "inputsGD.append([])\n",
    "inputsGD.append([])\n",
    "inputsGD.append([])\n",
    "inputsGD.append([])\n",
    "outputsGD = []\n",
    "outputsGD.append([])\n",
    "outputsGD.append([])\n",
    "outputsGD.append([])\n",
    "outputsGD.append([])"
   ]
  },
  {
   "cell_type": "code",
   "execution_count": 10,
   "metadata": {},
   "outputs": [],
   "source": [
    "inputsSGD = []\n",
    "inputsSGD.append([])\n",
    "inputsSGD.append([])\n",
    "inputsSGD.append([])\n",
    "inputsSGD.append([])\n",
    "outputsSGD = []\n",
    "outputsSGD.append([])\n",
    "outputsSGD.append([])\n",
    "outputsSGD.append([])\n",
    "outputsSGD.append([])"
   ]
  },
  {
   "cell_type": "code",
   "execution_count": 11,
   "metadata": {},
   "outputs": [],
   "source": [
    "inputsMiniBatch10 = []\n",
    "inputsMiniBatch10.append([])\n",
    "inputsMiniBatch10.append([])\n",
    "inputsMiniBatch10.append([])\n",
    "inputsMiniBatch10.append([])\n",
    "outputsMiniBatch10 = []\n",
    "outputsMiniBatch10.append([])\n",
    "outputsMiniBatch10.append([])\n",
    "outputsMiniBatch10.append([])\n",
    "outputsMiniBatch10.append([])"
   ]
  },
  {
   "cell_type": "code",
   "execution_count": 12,
   "metadata": {},
   "outputs": [],
   "source": [
    "inputsMiniBatch50 = []\n",
    "inputsMiniBatch50.append([])\n",
    "inputsMiniBatch50.append([])\n",
    "inputsMiniBatch50.append([])\n",
    "inputsMiniBatch50.append([])\n",
    "outputsMiniBatch50 = []\n",
    "outputsMiniBatch50.append([])\n",
    "outputsMiniBatch50.append([])\n",
    "outputsMiniBatch50.append([])\n",
    "outputsMiniBatch50.append([])"
   ]
  },
  {
   "cell_type": "code",
   "execution_count": 13,
   "metadata": {},
   "outputs": [],
   "source": [
    "# Use the model by parameters.\n",
    "def use_model(learning_rate, unity, gradient, index, x_axis):\n",
    "    lr = learning_rate\n",
    "    un = unity\n",
    "    \n",
    "    if x_axis == 'lr':\n",
    "        var = learning_rate\n",
    "    else:\n",
    "        var = unity\n",
    "    \n",
    "    if gradient == 'gd':\n",
    "        inputsGD[index].append(var)\n",
    "        model = baseline_model(un, lr)\n",
    "        model.fit(X_train, y_train, validation_data=(X_test, y_test), epochs=10, batch_size=5000, verbose=1)\n",
    "        scores = model.evaluate(X_test, y_test, verbose=0)\n",
    "        print(100-scores[1]*100)\n",
    "        outputsGD[index].append(100-scores[1]*100)\n",
    "    elif gradient == 'sgd':\n",
    "        inputsSGD[index].append(var)\n",
    "        model = baseline_model(un, lr)\n",
    "        model.fit(X_train, y_train, validation_data=(X_test, y_test), epochs=10, batch_size=1, verbose=1)\n",
    "        scores = model.evaluate(X_test, y_test, verbose=0)\n",
    "        print(100-scores[1]*100)\n",
    "        outputsSGD[index].append(100-scores[1]*100)\n",
    "    elif gradient == 'mb10':\n",
    "        inputsMiniBatch10[index].append(var)\n",
    "        model = baseline_model(un, lr)\n",
    "        model.fit(X_train, y_train, validation_data=(X_test, y_test), epochs=10, batch_size=10, verbose=1)\n",
    "        scores = model.evaluate(X_test, y_test, verbose=0)\n",
    "        print(100-scores[1]*100)\n",
    "        outputsMiniBatch10[index].append(100-scores[1]*100)\n",
    "    elif gradient == 'mb50':\n",
    "        inputsMiniBatch50[index].append(var)\n",
    "        model = baseline_model(un, lr)\n",
    "        model.fit(X_train, y_train, validation_data=(X_test, y_test), epochs=10, batch_size=50, verbose=1)\n",
    "        scores = model.evaluate(X_test, y_test, verbose=0)\n",
    "        print(100-scores[1]*100)\n",
    "        outputsMiniBatch50[index].append(100-scores[1]*100)"
   ]
  },
  {
   "cell_type": "code",
   "execution_count": 14,
   "metadata": {},
   "outputs": [],
   "source": [
    "# Use the model by parameters.\n",
    "def use_model2(lr, un, gradient, index, x_axis):\n",
    "    \n",
    "    for l, u in zip(lr, un):\n",
    "        if x_axis == 'lr':\n",
    "            x = l\n",
    "        else:\n",
    "            x = u\n",
    "        \n",
    "        if gradient == 'gd':\n",
    "            inputsGD[index].append(x)\n",
    "            model = baseline_model(u, l)\n",
    "            model.fit(X_train, y_train, validation_data=(X_test, y_test), epochs=10, batch_size=5000, verbose=1)\n",
    "            scores = model.evaluate(X_test, y_test, verbose=0)\n",
    "            print(100-scores[1]*100)\n",
    "            outputsGD[index].append(100-scores[1]*100)\n",
    "        elif gradient == 'sgd':\n",
    "            inputsSGD[index].append(x)\n",
    "            model = baseline_model(u, l)\n",
    "            model.fit(X_train, y_train, validation_data=(X_test, y_test), epochs=10, batch_size=1, verbose=1)\n",
    "            scores = model.evaluate(X_test, y_test, verbose=0)\n",
    "            print(100-scores[1]*100)\n",
    "            outputsSGD[index].append(100-scores[1]*100)\n",
    "        elif gradient == 'mb10':\n",
    "            inputsMiniBatch10[index].append(x)\n",
    "            model = baseline_model(u, l)\n",
    "            model.fit(X_train, y_train, validation_data=(X_test, y_test), epochs=10, batch_size=10, verbose=1)\n",
    "            scores = model.evaluate(X_test, y_test, verbose=0)\n",
    "            print(100-scores[1]*100)\n",
    "            outputsMiniBatch10[index].append(100-scores[1]*100)\n",
    "        elif gradient == 'mb50':\n",
    "            inputsMiniBatch50[index].append(x)\n",
    "            model = baseline_model(u, l)\n",
    "            model.fit(X_train, y_train, validation_data=(X_test, y_test), epochs=10, batch_size=50, verbose=1)\n",
    "            scores = model.evaluate(X_test, y_test, verbose=0)\n",
    "            print(100-scores[1]*100)\n",
    "            outputsMiniBatch50[index].append(100-scores[1]*100)"
   ]
  },
  {
   "cell_type": "code",
   "execution_count": 15,
   "metadata": {},
   "outputs": [
    {
     "name": "stdout",
     "output_type": "stream",
     "text": [
      "Train on 5000 samples, validate on 5000 samples\n",
      "Epoch 1/10\n",
      "5000/5000 [==============================] - 1s 197us/step - loss: 2.3074 - acc: 0.0932 - val_loss: 2.3034 - val_acc: 0.0922\n",
      "Epoch 2/10\n",
      "5000/5000 [==============================] - 1s 146us/step - loss: 2.3034 - acc: 0.0922 - val_loss: 2.3013 - val_acc: 0.0984\n",
      "Epoch 3/10\n",
      "5000/5000 [==============================] - 1s 125us/step - loss: 2.3013 - acc: 0.0984 - val_loss: 2.3001 - val_acc: 0.1164\n",
      "Epoch 4/10\n",
      "5000/5000 [==============================] - 1s 144us/step - loss: 2.3001 - acc: 0.1164 - val_loss: 2.2992 - val_acc: 0.1142\n",
      "Epoch 5/10\n",
      "5000/5000 [==============================] - 1s 139us/step - loss: 2.2992 - acc: 0.1142 - val_loss: 2.2985 - val_acc: 0.1142\n",
      "Epoch 6/10\n",
      "5000/5000 [==============================] - 1s 130us/step - loss: 2.2985 - acc: 0.1142 - val_loss: 2.2978 - val_acc: 0.1142\n",
      "Epoch 7/10\n",
      "5000/5000 [==============================] - 1s 142us/step - loss: 2.2978 - acc: 0.1142 - val_loss: 2.2972 - val_acc: 0.1142\n",
      "Epoch 8/10\n",
      "5000/5000 [==============================] - 1s 114us/step - loss: 2.2972 - acc: 0.1142 - val_loss: 2.2966 - val_acc: 0.1142\n",
      "Epoch 9/10\n",
      "5000/5000 [==============================] - 1s 116us/step - loss: 2.2966 - acc: 0.1142 - val_loss: 2.2960 - val_acc: 0.1142\n",
      "Epoch 10/10\n",
      "5000/5000 [==============================] - 1s 128us/step - loss: 2.2960 - acc: 0.1142 - val_loss: 2.2954 - val_acc: 0.1142\n",
      "88.58\n",
      "Train on 5000 samples, validate on 5000 samples\n",
      "Epoch 1/10\n",
      "5000/5000 [==============================] - 1s 179us/step - loss: 2.3077 - acc: 0.0924 - val_loss: 2.2989 - val_acc: 0.1142\n",
      "Epoch 2/10\n",
      "5000/5000 [==============================] - 1s 112us/step - loss: 2.2989 - acc: 0.1142 - val_loss: 2.2976 - val_acc: 0.1142\n",
      "Epoch 3/10\n",
      "5000/5000 [==============================] - 1s 117us/step - loss: 2.2976 - acc: 0.1142 - val_loss: 2.2965 - val_acc: 0.1142\n",
      "Epoch 4/10\n",
      "5000/5000 [==============================] - 1s 125us/step - loss: 2.2965 - acc: 0.1142 - val_loss: 2.2954 - val_acc: 0.1142\n",
      "Epoch 5/10\n",
      "5000/5000 [==============================] - 1s 142us/step - loss: 2.2954 - acc: 0.1142 - val_loss: 2.2942 - val_acc: 0.1142\n",
      "Epoch 6/10\n",
      "5000/5000 [==============================] - 1s 121us/step - loss: 2.2942 - acc: 0.1142 - val_loss: 2.2929 - val_acc: 0.1142\n",
      "Epoch 7/10\n",
      "5000/5000 [==============================] - 1s 118us/step - loss: 2.2929 - acc: 0.1142 - val_loss: 2.2916 - val_acc: 0.1142\n",
      "Epoch 8/10\n",
      "5000/5000 [==============================] - 1s 116us/step - loss: 2.2916 - acc: 0.1142 - val_loss: 2.2902 - val_acc: 0.1142\n",
      "Epoch 9/10\n",
      "5000/5000 [==============================] - 1s 131us/step - loss: 2.2902 - acc: 0.1142 - val_loss: 2.2887 - val_acc: 0.1144\n",
      "Epoch 10/10\n",
      "5000/5000 [==============================] - 1s 122us/step - loss: 2.2887 - acc: 0.1144 - val_loss: 2.2871 - val_acc: 0.1146\n",
      "88.54\n",
      "Train on 5000 samples, validate on 5000 samples\n",
      "Epoch 1/10\n",
      "5000/5000 [==============================] - 1s 172us/step - loss: 2.3026 - acc: 0.1040 - val_loss: 2.4642 - val_acc: 0.1142\n",
      "Epoch 2/10\n",
      "5000/5000 [==============================] - 1s 109us/step - loss: 2.4642 - acc: 0.1142 - val_loss: 2.5020 - val_acc: 0.1040\n",
      "Epoch 3/10\n",
      "5000/5000 [==============================] - 1s 130us/step - loss: 2.5020 - acc: 0.1040 - val_loss: 2.3317 - val_acc: 0.1060\n",
      "Epoch 4/10\n",
      "5000/5000 [==============================] - 1s 117us/step - loss: 2.3317 - acc: 0.1060 - val_loss: 2.3015 - val_acc: 0.1060\n",
      "Epoch 5/10\n",
      "5000/5000 [==============================] - 1s 103us/step - loss: 2.3015 - acc: 0.1060 - val_loss: 2.3003 - val_acc: 0.1142\n",
      "Epoch 6/10\n",
      "5000/5000 [==============================] - 1s 119us/step - loss: 2.3003 - acc: 0.1142 - val_loss: 2.3003 - val_acc: 0.1142\n",
      "Epoch 7/10\n",
      "5000/5000 [==============================] - 1s 106us/step - loss: 2.3003 - acc: 0.1142 - val_loss: 2.3003 - val_acc: 0.1142\n",
      "Epoch 8/10\n",
      "5000/5000 [==============================] - 1s 116us/step - loss: 2.3003 - acc: 0.1142 - val_loss: 2.3003 - val_acc: 0.1142\n",
      "Epoch 9/10\n",
      "5000/5000 [==============================] - 1s 128us/step - loss: 2.3003 - acc: 0.1142 - val_loss: 2.3002 - val_acc: 0.1142\n",
      "Epoch 10/10\n",
      "5000/5000 [==============================] - 1s 126us/step - loss: 2.3002 - acc: 0.1142 - val_loss: 2.3002 - val_acc: 0.1142\n",
      "88.58\n"
     ]
    }
   ],
   "source": [
    "# GD.\n",
    "use_model2([0.5, 1, 10], [25, 25, 25], 'gd', 0, 'lr')"
   ]
  },
  {
   "cell_type": "code",
   "execution_count": 16,
   "metadata": {},
   "outputs": [
    {
     "name": "stdout",
     "output_type": "stream",
     "text": [
      "Train on 5000 samples, validate on 5000 samples\n",
      "Epoch 1/10\n",
      "5000/5000 [==============================] - 54s 11ms/step - loss: 3.8519 - acc: 0.1058 - val_loss: 6.1984 - val_acc: 0.0912\n",
      "Epoch 2/10\n",
      "5000/5000 [==============================] - 52s 10ms/step - loss: 5.9277 - acc: 0.0968 - val_loss: 5.9208 - val_acc: 0.1000\n",
      "Epoch 3/10\n",
      "5000/5000 [==============================] - 52s 10ms/step - loss: 6.5570 - acc: 0.1036 - val_loss: 6.1068 - val_acc: 0.1060\n",
      "Epoch 4/10\n",
      "5000/5000 [==============================] - 52s 10ms/step - loss: 5.7566 - acc: 0.1038 - val_loss: 4.7547 - val_acc: 0.0912\n",
      "Epoch 5/10\n",
      "5000/5000 [==============================] - 55s 11ms/step - loss: 4.5766 - acc: 0.1032 - val_loss: 4.4114 - val_acc: 0.1040\n",
      "Epoch 6/10\n",
      "5000/5000 [==============================] - 53s 11ms/step - loss: 4.5567 - acc: 0.1010 - val_loss: 4.6339 - val_acc: 0.1142\n",
      "Epoch 7/10\n",
      "5000/5000 [==============================] - 54s 11ms/step - loss: 4.5699 - acc: 0.0988 - val_loss: 4.2193 - val_acc: 0.1040\n",
      "Epoch 8/10\n",
      "5000/5000 [==============================] - 55s 11ms/step - loss: 4.5580 - acc: 0.1014 - val_loss: 4.8891 - val_acc: 0.0912\n",
      "Epoch 9/10\n",
      "5000/5000 [==============================] - 54s 11ms/step - loss: 4.4934 - acc: 0.0974 - val_loss: 5.7236 - val_acc: 0.1024\n",
      "Epoch 10/10\n",
      "5000/5000 [==============================] - 54s 11ms/step - loss: 5.4596 - acc: 0.1074 - val_loss: 5.3034 - val_acc: 0.0920\n",
      "90.8\n",
      "Train on 5000 samples, validate on 5000 samples\n",
      "Epoch 1/10\n",
      "5000/5000 [==============================] - 59s 12ms/step - loss: 4.1387 - acc: 0.1012 - val_loss: 5.6313 - val_acc: 0.1000\n",
      "Epoch 2/10\n",
      "5000/5000 [==============================] - 56s 11ms/step - loss: 6.4601 - acc: 0.1054 - val_loss: 7.2145 - val_acc: 0.1000\n",
      "Epoch 3/10\n",
      "5000/5000 [==============================] - 55s 11ms/step - loss: 7.2014 - acc: 0.1002 - val_loss: 7.2342 - val_acc: 0.1040\n",
      "Epoch 4/10\n",
      "5000/5000 [==============================] - 54s 11ms/step - loss: 7.1839 - acc: 0.1024 - val_loss: 7.2765 - val_acc: 0.1024\n",
      "Epoch 5/10\n",
      "5000/5000 [==============================] - 57s 11ms/step - loss: 7.2110 - acc: 0.0990 - val_loss: 7.2853 - val_acc: 0.1040\n",
      "Epoch 6/10\n",
      "5000/5000 [==============================] - 54s 11ms/step - loss: 7.2206 - acc: 0.0978 - val_loss: 7.0444 - val_acc: 0.1060\n",
      "Epoch 7/10\n",
      "5000/5000 [==============================] - 53s 11ms/step - loss: 7.2078 - acc: 0.0994 - val_loss: 7.2585 - val_acc: 0.1060\n",
      "Epoch 8/10\n",
      "5000/5000 [==============================] - 53s 11ms/step - loss: 7.1488 - acc: 0.1068 - val_loss: 7.1441 - val_acc: 0.1060\n",
      "Epoch 9/10\n",
      "5000/5000 [==============================] - 53s 11ms/step - loss: 7.2078 - acc: 0.0994 - val_loss: 7.1968 - val_acc: 0.0920\n",
      "Epoch 10/10\n",
      "5000/5000 [==============================] - 52s 10ms/step - loss: 7.1966 - acc: 0.1008 - val_loss: 7.3362 - val_acc: 0.0912\n",
      "90.88\n",
      "Train on 5000 samples, validate on 5000 samples\n",
      "Epoch 1/10\n",
      "5000/5000 [==============================] - 59s 12ms/step - loss: 14.4681 - acc: 0.1022 - val_loss: 14.4676 - val_acc: 0.1024\n",
      "Epoch 2/10\n",
      "5000/5000 [==============================] - 54s 11ms/step - loss: 14.4676 - acc: 0.1024 - val_loss: 14.4676 - val_acc: 0.1024\n",
      "Epoch 3/10\n",
      "5000/5000 [==============================] - 53s 11ms/step - loss: 14.4676 - acc: 0.1024 - val_loss: 14.4676 - val_acc: 0.1024\n",
      "Epoch 4/10\n",
      "5000/5000 [==============================] - 59s 12ms/step - loss: 14.4676 - acc: 0.1024 - val_loss: 14.4676 - val_acc: 0.1024\n",
      "Epoch 5/10\n",
      "5000/5000 [==============================] - 56s 11ms/step - loss: 14.4676 - acc: 0.1024 - val_loss: 14.4676 - val_acc: 0.1024\n",
      "Epoch 6/10\n",
      "5000/5000 [==============================] - 70s 14ms/step - loss: 14.4676 - acc: 0.1024 - val_loss: 14.4676 - val_acc: 0.1024\n",
      "Epoch 7/10\n",
      "5000/5000 [==============================] - 85s 17ms/step - loss: 14.4676 - acc: 0.1024 - val_loss: 14.4676 - val_acc: 0.1024\n",
      "Epoch 8/10\n",
      "5000/5000 [==============================] - 84s 17ms/step - loss: 14.4676 - acc: 0.1024 - val_loss: 14.4676 - val_acc: 0.1024\n",
      "Epoch 9/10\n",
      "5000/5000 [==============================] - 86s 17ms/step - loss: 14.4676 - acc: 0.1024 - val_loss: 14.4676 - val_acc: 0.1024\n",
      "Epoch 10/10\n",
      "5000/5000 [==============================] - 83s 17ms/step - loss: 14.4676 - acc: 0.1024 - val_loss: 14.4676 - val_acc: 0.1024\n",
      "89.76\n"
     ]
    }
   ],
   "source": [
    "# SGD.\n",
    "use_model2([0.5, 1, 10], [25, 25, 25], 'sgd', 0, 'lr')"
   ]
  },
  {
   "cell_type": "code",
   "execution_count": 17,
   "metadata": {},
   "outputs": [
    {
     "name": "stdout",
     "output_type": "stream",
     "text": [
      "Train on 5000 samples, validate on 5000 samples\n",
      "Epoch 1/10\n",
      "5000/5000 [==============================] - 12s 2ms/step - loss: 1.5875 - acc: 0.4146 - val_loss: 0.8742 - val_acc: 0.6968\n",
      "Epoch 2/10\n",
      "5000/5000 [==============================] - 11s 2ms/step - loss: 0.6664 - acc: 0.7700 - val_loss: 0.4679 - val_acc: 0.8600\n",
      "Epoch 3/10\n",
      "5000/5000 [==============================] - 11s 2ms/step - loss: 0.4911 - acc: 0.8428 - val_loss: 0.4583 - val_acc: 0.8630\n",
      "Epoch 4/10\n",
      "5000/5000 [==============================] - 11s 2ms/step - loss: 0.4060 - acc: 0.8762 - val_loss: 0.3343 - val_acc: 0.8876\n",
      "Epoch 5/10\n",
      "5000/5000 [==============================] - 11s 2ms/step - loss: 0.3355 - acc: 0.8954 - val_loss: 0.4116 - val_acc: 0.8692\n",
      "Epoch 6/10\n",
      "5000/5000 [==============================] - 8s 2ms/step - loss: 0.2925 - acc: 0.9118 - val_loss: 0.2530 - val_acc: 0.9186\n",
      "Epoch 7/10\n",
      "5000/5000 [==============================] - 11s 2ms/step - loss: 0.2519 - acc: 0.9212 - val_loss: 0.2124 - val_acc: 0.9364\n",
      "Epoch 8/10\n",
      "5000/5000 [==============================] - 8s 2ms/step - loss: 0.2153 - acc: 0.9314 - val_loss: 0.1891 - val_acc: 0.9390\n",
      "Epoch 9/10\n",
      "5000/5000 [==============================] - 10s 2ms/step - loss: 0.1833 - acc: 0.9400 - val_loss: 0.2076 - val_acc: 0.9350\n",
      "Epoch 10/10\n",
      "5000/5000 [==============================] - 8s 2ms/step - loss: 0.1540 - acc: 0.9532 - val_loss: 0.1227 - val_acc: 0.9620\n",
      "3.799999999999997\n",
      "Train on 5000 samples, validate on 5000 samples\n",
      "Epoch 1/10\n",
      "5000/5000 [==============================] - 11s 2ms/step - loss: 1.9191 - acc: 0.2930 - val_loss: 1.2723 - val_acc: 0.5714\n",
      "Epoch 2/10\n",
      "5000/5000 [==============================] - 12s 2ms/step - loss: 0.8198 - acc: 0.7198 - val_loss: 0.5699 - val_acc: 0.8156\n",
      "Epoch 3/10\n",
      "5000/5000 [==============================] - 11s 2ms/step - loss: 0.5248 - acc: 0.8382 - val_loss: 0.3793 - val_acc: 0.8816\n",
      "Epoch 4/10\n",
      "5000/5000 [==============================] - 12s 2ms/step - loss: 0.4228 - acc: 0.8716 - val_loss: 0.3526 - val_acc: 0.8908\n",
      "Epoch 5/10\n",
      "5000/5000 [==============================] - 12s 2ms/step - loss: 0.3281 - acc: 0.8970 - val_loss: 0.2946 - val_acc: 0.9076\n",
      "Epoch 6/10\n",
      "5000/5000 [==============================] - 11s 2ms/step - loss: 0.3039 - acc: 0.9026 - val_loss: 0.2078 - val_acc: 0.9334\n",
      "Epoch 7/10\n",
      "5000/5000 [==============================] - 11s 2ms/step - loss: 0.2574 - acc: 0.9190 - val_loss: 0.1892 - val_acc: 0.9406\n",
      "Epoch 8/10\n",
      "5000/5000 [==============================] - 12s 2ms/step - loss: 0.2257 - acc: 0.9292 - val_loss: 0.1690 - val_acc: 0.9490\n",
      "Epoch 9/10\n",
      "5000/5000 [==============================] - 13s 3ms/step - loss: 0.1849 - acc: 0.9398 - val_loss: 0.1161 - val_acc: 0.9628\n",
      "Epoch 10/10\n",
      "5000/5000 [==============================] - 13s 3ms/step - loss: 0.1417 - acc: 0.9566 - val_loss: 0.1133 - val_acc: 0.9680\n",
      "3.200000000000003\n",
      "Train on 5000 samples, validate on 5000 samples\n",
      "Epoch 1/10\n",
      "5000/5000 [==============================] - 13s 3ms/step - loss: 14.4436 - acc: 0.1022 - val_loss: 14.4676 - val_acc: 0.1024\n",
      "Epoch 2/10\n",
      "5000/5000 [==============================] - 9s 2ms/step - loss: 14.4676 - acc: 0.1024 - val_loss: 14.4676 - val_acc: 0.1024\n",
      "Epoch 3/10\n",
      "5000/5000 [==============================] - 11s 2ms/step - loss: 14.4676 - acc: 0.1024 - val_loss: 14.4676 - val_acc: 0.1024\n",
      "Epoch 4/10\n",
      "5000/5000 [==============================] - 13s 3ms/step - loss: 14.4676 - acc: 0.1024 - val_loss: 14.4676 - val_acc: 0.1024\n",
      "Epoch 5/10\n",
      "5000/5000 [==============================] - 11s 2ms/step - loss: 14.4676 - acc: 0.1024 - val_loss: 14.4676 - val_acc: 0.1024\n",
      "Epoch 6/10\n",
      "5000/5000 [==============================] - 12s 2ms/step - loss: 14.4676 - acc: 0.1024 - val_loss: 14.4676 - val_acc: 0.1024\n",
      "Epoch 7/10\n",
      "5000/5000 [==============================] - 11s 2ms/step - loss: 14.4676 - acc: 0.1024 - val_loss: 14.4676 - val_acc: 0.1024\n",
      "Epoch 8/10\n",
      "5000/5000 [==============================] - 12s 2ms/step - loss: 14.4676 - acc: 0.1024 - val_loss: 14.4676 - val_acc: 0.1024\n",
      "Epoch 9/10\n",
      "5000/5000 [==============================] - 11s 2ms/step - loss: 14.4676 - acc: 0.1024 - val_loss: 14.4676 - val_acc: 0.1024\n",
      "Epoch 10/10\n",
      "5000/5000 [==============================] - 9s 2ms/step - loss: 14.4676 - acc: 0.1024 - val_loss: 14.4676 - val_acc: 0.1024\n",
      "89.76\n"
     ]
    }
   ],
   "source": [
    "# MB10.\n",
    "use_model2([0.5, 1, 10], [25, 25, 25], 'mb10', 0, 'lr')"
   ]
  },
  {
   "cell_type": "code",
   "execution_count": 18,
   "metadata": {},
   "outputs": [
    {
     "name": "stdout",
     "output_type": "stream",
     "text": [
      "Train on 5000 samples, validate on 5000 samples\n",
      "Epoch 1/10\n",
      "5000/5000 [==============================] - 7s 1ms/step - loss: 2.2204 - acc: 0.1830 - val_loss: 1.9385 - val_acc: 0.3136\n",
      "Epoch 2/10\n",
      "5000/5000 [==============================] - 3s 548us/step - loss: 1.5241 - acc: 0.4652 - val_loss: 1.0198 - val_acc: 0.6670\n",
      "Epoch 3/10\n",
      "5000/5000 [==============================] - 2s 422us/step - loss: 0.8959 - acc: 0.7010 - val_loss: 0.6625 - val_acc: 0.8032\n",
      "Epoch 4/10\n",
      "5000/5000 [==============================] - 3s 595us/step - loss: 0.6445 - acc: 0.7964 - val_loss: 0.5905 - val_acc: 0.8144\n",
      "Epoch 5/10\n",
      "5000/5000 [==============================] - 3s 628us/step - loss: 0.5327 - acc: 0.8390 - val_loss: 0.5605 - val_acc: 0.8272\n",
      "Epoch 6/10\n",
      "5000/5000 [==============================] - 3s 648us/step - loss: 0.4648 - acc: 0.8558 - val_loss: 0.4269 - val_acc: 0.8790\n",
      "Epoch 7/10\n",
      "5000/5000 [==============================] - 3s 640us/step - loss: 0.4165 - acc: 0.8744 - val_loss: 0.4246 - val_acc: 0.8654\n",
      "Epoch 8/10\n",
      "5000/5000 [==============================] - 3s 563us/step - loss: 0.3780 - acc: 0.8850 - val_loss: 0.4070 - val_acc: 0.8716\n",
      "Epoch 9/10\n",
      "5000/5000 [==============================] - 3s 614us/step - loss: 0.3553 - acc: 0.8904 - val_loss: 0.3140 - val_acc: 0.9040\n",
      "Epoch 10/10\n",
      "5000/5000 [==============================] - 3s 579us/step - loss: 0.3243 - acc: 0.9016 - val_loss: 0.2763 - val_acc: 0.9206\n",
      "7.939999999999998\n",
      "Train on 5000 samples, validate on 5000 samples\n",
      "Epoch 1/10\n",
      "5000/5000 [==============================] - 5s 968us/step - loss: 2.1950 - acc: 0.1838 - val_loss: 1.8720 - val_acc: 0.3256\n",
      "Epoch 2/10\n",
      "5000/5000 [==============================] - 3s 652us/step - loss: 1.3334 - acc: 0.5204 - val_loss: 0.9477 - val_acc: 0.6704\n",
      "Epoch 3/10\n",
      "5000/5000 [==============================] - 3s 626us/step - loss: 0.7481 - acc: 0.7454 - val_loss: 0.5711 - val_acc: 0.8238\n",
      "Epoch 4/10\n",
      "5000/5000 [==============================] - 3s 647us/step - loss: 0.5509 - acc: 0.8196 - val_loss: 0.4637 - val_acc: 0.8480\n",
      "Epoch 5/10\n",
      "5000/5000 [==============================] - 3s 559us/step - loss: 0.4471 - acc: 0.8576 - val_loss: 0.3634 - val_acc: 0.8870\n",
      "Epoch 6/10\n",
      "5000/5000 [==============================] - 3s 623us/step - loss: 0.3940 - acc: 0.8754 - val_loss: 0.4121 - val_acc: 0.8604\n",
      "Epoch 7/10\n",
      "5000/5000 [==============================] - 3s 609us/step - loss: 0.3584 - acc: 0.8916 - val_loss: 0.2702 - val_acc: 0.9152\n",
      "Epoch 8/10\n",
      "5000/5000 [==============================] - 3s 665us/step - loss: 0.3335 - acc: 0.8966 - val_loss: 0.3451 - val_acc: 0.8886\n",
      "Epoch 9/10\n",
      "5000/5000 [==============================] - 2s 500us/step - loss: 0.2786 - acc: 0.9130 - val_loss: 0.2795 - val_acc: 0.9142\n",
      "Epoch 10/10\n",
      "5000/5000 [==============================] - 2s 383us/step - loss: 0.2548 - acc: 0.9198 - val_loss: 0.2269 - val_acc: 0.9298\n",
      "7.02000000000001\n",
      "Train on 5000 samples, validate on 5000 samples\n",
      "Epoch 1/10\n",
      "5000/5000 [==============================] - 5s 909us/step - loss: 14.2988 - acc: 0.0936 - val_loss: 14.6288 - val_acc: 0.0924\n",
      "Epoch 2/10\n",
      "5000/5000 [==============================] - 3s 534us/step - loss: 14.6288 - acc: 0.0924 - val_loss: 14.6288 - val_acc: 0.0924\n",
      "Epoch 3/10\n",
      "5000/5000 [==============================] - 3s 560us/step - loss: 14.6288 - acc: 0.0924 - val_loss: 14.6288 - val_acc: 0.0924\n",
      "Epoch 4/10\n",
      "5000/5000 [==============================] - 3s 531us/step - loss: 14.6288 - acc: 0.0924 - val_loss: 14.6288 - val_acc: 0.0924\n",
      "Epoch 5/10\n",
      "5000/5000 [==============================] - 3s 538us/step - loss: 14.6288 - acc: 0.0924 - val_loss: 14.6288 - val_acc: 0.0924\n",
      "Epoch 6/10\n",
      "5000/5000 [==============================] - 3s 538us/step - loss: 14.6288 - acc: 0.0924 - val_loss: 14.6288 - val_acc: 0.0924\n",
      "Epoch 7/10\n",
      "5000/5000 [==============================] - 3s 552us/step - loss: 14.6288 - acc: 0.0924 - val_loss: 14.6288 - val_acc: 0.0924\n",
      "Epoch 8/10\n",
      "5000/5000 [==============================] - 3s 653us/step - loss: 14.6288 - acc: 0.0924 - val_loss: 14.6288 - val_acc: 0.0924\n",
      "Epoch 9/10\n",
      "5000/5000 [==============================] - 3s 614us/step - loss: 14.6288 - acc: 0.0924 - val_loss: 14.6288 - val_acc: 0.0924\n",
      "Epoch 10/10\n",
      "5000/5000 [==============================] - 2s 461us/step - loss: 14.6288 - acc: 0.0924 - val_loss: 14.6288 - val_acc: 0.0924\n",
      "90.76\n"
     ]
    }
   ],
   "source": [
    "# MB50.\n",
    "use_model2([0.5, 1, 10], [25, 25, 25], 'mb50', 0, 'lr')"
   ]
  },
  {
   "cell_type": "code",
   "execution_count": 19,
   "metadata": {},
   "outputs": [
    {
     "data": {
      "image/png": "[encoded data removed]",
      "text/plain": [
       "<Figure size 432x288 with 1 Axes>"
      ]
     },
     "metadata": {},
     "output_type": "display_data"
    }
   ],
   "source": [
    "index = 0\n",
    "\n",
    "plt.plot(inputsGD[index], outputsGD[index], label='GD')\n",
    "plt.plot(inputsSGD[index], outputsSGD[index], label='SGD')\n",
    "plt.plot(inputsMiniBatch10[index], outputsMiniBatch10[index], label='Mini-Batch10')\n",
    "plt.plot(inputsMiniBatch50[index], outputsMiniBatch50[index], label='Mini-Batch50')\n",
    "plt.xlabel('learning rate')\n",
    "plt.axvline(x=0.5, ls='dotted')\n",
    "plt.axvline(x=1, ls='dotted')\n",
    "plt.axvline(x=10, ls='dotted')\n",
    "plt.minorticks_on()\n",
    "plt.ylabel('training error (%)')\n",
    "plt.title(\"25 unities hidden layer\")\n",
    "plt.legend()\n",
    "plt.show()"
   ]
  },
  {
   "cell_type": "code",
   "execution_count": 20,
   "metadata": {},
   "outputs": [],
   "source": [
    "# GD, lr = 0.5, un = 25.\n",
    "#use_model(0.5, 25, 'gd', 0, 'lr')"
   ]
  },
  {
   "cell_type": "code",
   "execution_count": 21,
   "metadata": {},
   "outputs": [],
   "source": [
    "# GD, lr = 1, un = 25.\n",
    "#use_model(1, 25, 'gd', 0, 'lr')"
   ]
  },
  {
   "cell_type": "code",
   "execution_count": 22,
   "metadata": {},
   "outputs": [],
   "source": [
    "# GD, lr = 10, un = 25.\n",
    "#use_model(10, 25, 'gd', 0, 'lr')"
   ]
  },
  {
   "cell_type": "code",
   "execution_count": 23,
   "metadata": {},
   "outputs": [],
   "source": [
    "# SGD, lr = 0.5, un = 25.\n",
    "#use_model(0.5, 25, 'sgd', 0, 'lr')"
   ]
  },
  {
   "cell_type": "code",
   "execution_count": 24,
   "metadata": {},
   "outputs": [],
   "source": [
    "# SGD, lr = 1, un = 25.\n",
    "#use_model(1, 25, 'sgd', 0, 'lr')"
   ]
  },
  {
   "cell_type": "code",
   "execution_count": 25,
   "metadata": {},
   "outputs": [],
   "source": [
    "# SGD, lr = 10, un = 25.\n",
    "#use_model(10, 25, 'sgd', 0, 'lr')"
   ]
  },
  {
   "cell_type": "code",
   "execution_count": 26,
   "metadata": {},
   "outputs": [],
   "source": [
    "# MB10, lr = 0.5, un = 25.\n",
    "#use_model(0.5, 25, 'mb10', 0, 'lr')"
   ]
  },
  {
   "cell_type": "code",
   "execution_count": 27,
   "metadata": {},
   "outputs": [],
   "source": [
    "# MB10, lr = 1, un = 25.\n",
    "#use_model(1, 25, 'mb10', 0, 'lr')"
   ]
  },
  {
   "cell_type": "code",
   "execution_count": 28,
   "metadata": {},
   "outputs": [],
   "source": [
    "# MB10, lr = 10, un = 25\n",
    "#use_model(10, 25, 'mb10', 0, 'lr')"
   ]
  },
  {
   "cell_type": "code",
   "execution_count": 29,
   "metadata": {},
   "outputs": [],
   "source": [
    "# MB50, lr = 0.5, un = 25.\n",
    "#use_model(0.5, 25, 'mb50', 0, 'lr')"
   ]
  },
  {
   "cell_type": "code",
   "execution_count": 30,
   "metadata": {},
   "outputs": [],
   "source": [
    "# MB50, lr = 1, un = 25.\n",
    "#use_model(1, 25, 'mb50', 0, 'lr')"
   ]
  },
  {
   "cell_type": "code",
   "execution_count": 31,
   "metadata": {},
   "outputs": [],
   "source": [
    "# MB50, lr = 10, un = 25.\n",
    "#use_model(10, 25, 'mb50', 0, 'lr')"
   ]
  },
  {
   "cell_type": "code",
   "execution_count": 32,
   "metadata": {},
   "outputs": [],
   "source": [
    "# GD, lr = 0.5, un = 50.\n",
    "#use_model(0.5, 50, 'gd', 1, 'lr')"
   ]
  },
  {
   "cell_type": "code",
   "execution_count": 33,
   "metadata": {},
   "outputs": [
    {
     "name": "stdout",
     "output_type": "stream",
     "text": [
      "Train on 5000 samples, validate on 5000 samples\n",
      "Epoch 1/10\n",
      "5000/5000 [==============================] - 1s 244us/step - loss: 2.3046 - acc: 0.1024 - val_loss: 2.3006 - val_acc: 0.1142\n",
      "Epoch 2/10\n",
      "5000/5000 [==============================] - 1s 118us/step - loss: 2.3006 - acc: 0.1142 - val_loss: 2.2994 - val_acc: 0.1142\n",
      "Epoch 3/10\n",
      "5000/5000 [==============================] - 1s 104us/step - loss: 2.2994 - acc: 0.1142 - val_loss: 2.2984 - val_acc: 0.1142\n",
      "Epoch 4/10\n",
      "5000/5000 [==============================] - 1s 113us/step - loss: 2.2984 - acc: 0.1142 - val_loss: 2.2974 - val_acc: 0.1142\n",
      "Epoch 5/10\n",
      "5000/5000 [==============================] - 1s 107us/step - loss: 2.2974 - acc: 0.1142 - val_loss: 2.2963 - val_acc: 0.1142\n",
      "Epoch 6/10\n",
      "5000/5000 [==============================] - 1s 109us/step - loss: 2.2963 - acc: 0.1142 - val_loss: 2.2953 - val_acc: 0.1142\n",
      "Epoch 7/10\n",
      "5000/5000 [==============================] - 1s 104us/step - loss: 2.2953 - acc: 0.1142 - val_loss: 2.2942 - val_acc: 0.1142\n",
      "Epoch 8/10\n",
      "5000/5000 [==============================] - 1s 114us/step - loss: 2.2942 - acc: 0.1142 - val_loss: 2.2931 - val_acc: 0.1142\n",
      "Epoch 9/10\n",
      "5000/5000 [==============================] - 1s 106us/step - loss: 2.2931 - acc: 0.1142 - val_loss: 2.2920 - val_acc: 0.1142\n",
      "Epoch 10/10\n",
      "5000/5000 [==============================] - 1s 108us/step - loss: 2.2920 - acc: 0.1142 - val_loss: 2.2909 - val_acc: 0.1142\n",
      "88.58\n",
      "Train on 5000 samples, validate on 5000 samples\n",
      "Epoch 1/10\n",
      "5000/5000 [==============================] - 1s 264us/step - loss: 2.3235 - acc: 0.0946 - val_loss: 2.3081 - val_acc: 0.1180\n",
      "Epoch 2/10\n",
      "5000/5000 [==============================] - 1s 173us/step - loss: 2.3081 - acc: 0.1180 - val_loss: 2.3000 - val_acc: 0.1848\n",
      "Epoch 3/10\n",
      "5000/5000 [==============================] - 1s 105us/step - loss: 2.3000 - acc: 0.1848 - val_loss: 2.2968 - val_acc: 0.1142\n",
      "Epoch 4/10\n",
      "5000/5000 [==============================] - 0s 94us/step - loss: 2.2968 - acc: 0.1142 - val_loss: 2.2943 - val_acc: 0.1160\n",
      "Epoch 5/10\n",
      "5000/5000 [==============================] - 1s 152us/step - loss: 2.2943 - acc: 0.1160 - val_loss: 2.2920 - val_acc: 0.1142\n",
      "Epoch 6/10\n",
      "5000/5000 [==============================] - 1s 117us/step - loss: 2.2920 - acc: 0.1142 - val_loss: 2.2897 - val_acc: 0.1146\n",
      "Epoch 7/10\n",
      "5000/5000 [==============================] - 1s 120us/step - loss: 2.2897 - acc: 0.1146 - val_loss: 2.2873 - val_acc: 0.1142\n",
      "Epoch 8/10\n",
      "5000/5000 [==============================] - 1s 114us/step - loss: 2.2873 - acc: 0.1142 - val_loss: 2.2848 - val_acc: 0.1154\n",
      "Epoch 9/10\n",
      "5000/5000 [==============================] - 0s 88us/step - loss: 2.2848 - acc: 0.1154 - val_loss: 2.2821 - val_acc: 0.1142\n",
      "Epoch 10/10\n",
      "5000/5000 [==============================] - 0s 88us/step - loss: 2.2821 - acc: 0.1142 - val_loss: 2.2791 - val_acc: 0.1190\n",
      "88.1\n",
      "Train on 5000 samples, validate on 5000 samples\n",
      "Epoch 1/10\n",
      "5000/5000 [==============================] - 1s 196us/step - loss: 2.3474 - acc: 0.1024 - val_loss: 6.2124 - val_acc: 0.1142\n",
      "Epoch 2/10\n",
      "5000/5000 [==============================] - 0s 91us/step - loss: 6.2124 - acc: 0.1142 - val_loss: 3.3721 - val_acc: 0.1000\n",
      "Epoch 3/10\n",
      "5000/5000 [==============================] - 0s 89us/step - loss: 3.3721 - acc: 0.1000 - val_loss: 3.0166 - val_acc: 0.1060\n",
      "Epoch 4/10\n",
      "5000/5000 [==============================] - 0s 86us/step - loss: 3.0166 - acc: 0.1060 - val_loss: 2.8718 - val_acc: 0.1060\n",
      "Epoch 5/10\n",
      "5000/5000 [==============================] - 0s 85us/step - loss: 2.8718 - acc: 0.1060 - val_loss: 2.7280 - val_acc: 0.1060\n",
      "Epoch 6/10\n",
      "5000/5000 [==============================] - 0s 83us/step - loss: 2.7280 - acc: 0.1060 - val_loss: 2.5871 - val_acc: 0.1060\n",
      "Epoch 7/10\n",
      "5000/5000 [==============================] - 0s 86us/step - loss: 2.5871 - acc: 0.1060 - val_loss: 2.4559 - val_acc: 0.1060\n",
      "Epoch 8/10\n",
      "5000/5000 [==============================] - 0s 89us/step - loss: 2.4559 - acc: 0.1060 - val_loss: 2.3530 - val_acc: 0.1060\n",
      "Epoch 9/10\n",
      "5000/5000 [==============================] - 0s 99us/step - loss: 2.3530 - acc: 0.1060 - val_loss: 2.3056 - val_acc: 0.1060\n",
      "Epoch 10/10\n",
      "5000/5000 [==============================] - 0s 85us/step - loss: 2.3056 - acc: 0.1060 - val_loss: 2.3003 - val_acc: 0.1142\n",
      "88.58\n"
     ]
    }
   ],
   "source": [
    "# GD.\n",
    "use_model2([0.5, 1, 10], [50, 50, 50], 'gd', 1, 'lr')"
   ]
  },
  {
   "cell_type": "code",
   "execution_count": 34,
   "metadata": {},
   "outputs": [
    {
     "name": "stdout",
     "output_type": "stream",
     "text": [
      "Train on 5000 samples, validate on 5000 samples\n",
      "Epoch 1/10\n",
      "5000/5000 [==============================] - 57s 11ms/step - loss: 14.6284 - acc: 0.0922 - val_loss: 14.6288 - val_acc: 0.0924\n",
      "Epoch 2/10\n",
      "5000/5000 [==============================] - 61s 12ms/step - loss: 14.6288 - acc: 0.0924 - val_loss: 14.6288 - val_acc: 0.0924\n",
      "Epoch 3/10\n",
      "5000/5000 [==============================] - 56s 11ms/step - loss: 14.6288 - acc: 0.0924 - val_loss: 14.6288 - val_acc: 0.0924\n",
      "Epoch 4/10\n",
      "5000/5000 [==============================] - 56s 11ms/step - loss: 14.6288 - acc: 0.0924 - val_loss: 14.6288 - val_acc: 0.0924\n",
      "Epoch 5/10\n",
      "5000/5000 [==============================] - 67s 13ms/step - loss: 14.6288 - acc: 0.0924 - val_loss: 14.6288 - val_acc: 0.0924\n",
      "Epoch 6/10\n",
      "5000/5000 [==============================] - 69s 14ms/step - loss: 14.6288 - acc: 0.0924 - val_loss: 14.6288 - val_acc: 0.0924\n",
      "Epoch 7/10\n",
      "5000/5000 [==============================] - 72s 14ms/step - loss: 14.6288 - acc: 0.0924 - val_loss: 14.6288 - val_acc: 0.0924\n",
      "Epoch 8/10\n",
      "5000/5000 [==============================] - 58s 12ms/step - loss: 14.6288 - acc: 0.0924 - val_loss: 14.6288 - val_acc: 0.0924\n",
      "Epoch 9/10\n",
      "5000/5000 [==============================] - 58s 12ms/step - loss: 14.6288 - acc: 0.0924 - val_loss: 14.6288 - val_acc: 0.0924\n",
      "Epoch 10/10\n",
      "5000/5000 [==============================] - 57s 11ms/step - loss: 14.6288 - acc: 0.0924 - val_loss: 14.6288 - val_acc: 0.0924\n",
      "90.76\n",
      "Train on 5000 samples, validate on 5000 samples\n",
      "Epoch 1/10\n",
      "5000/5000 [==============================] - 61s 12ms/step - loss: 14.5030 - acc: 0.1000 - val_loss: 14.5063 - val_acc: 0.1000\n",
      "Epoch 2/10\n",
      "5000/5000 [==============================] - 66s 13ms/step - loss: 14.5063 - acc: 0.1000 - val_loss: 14.5063 - val_acc: 0.1000\n",
      "Epoch 3/10\n",
      "5000/5000 [==============================] - 57s 11ms/step - loss: 14.5063 - acc: 0.1000 - val_loss: 14.5063 - val_acc: 0.1000\n",
      "Epoch 4/10\n",
      "5000/5000 [==============================] - 56s 11ms/step - loss: 14.5063 - acc: 0.1000 - val_loss: 14.5063 - val_acc: 0.1000\n",
      "Epoch 5/10\n",
      "5000/5000 [==============================] - 55s 11ms/step - loss: 14.5063 - acc: 0.1000 - val_loss: 14.5063 - val_acc: 0.1000\n",
      "Epoch 6/10\n",
      "5000/5000 [==============================] - 55s 11ms/step - loss: 14.5063 - acc: 0.1000 - val_loss: 14.5063 - val_acc: 0.1000\n",
      "Epoch 7/10\n",
      "5000/5000 [==============================] - 57s 11ms/step - loss: 14.5063 - acc: 0.1000 - val_loss: 14.5063 - val_acc: 0.1000\n",
      "Epoch 8/10\n",
      "5000/5000 [==============================] - 54s 11ms/step - loss: 14.5063 - acc: 0.1000 - val_loss: 14.5063 - val_acc: 0.1000\n",
      "Epoch 9/10\n",
      "5000/5000 [==============================] - 65s 13ms/step - loss: 14.5063 - acc: 0.1000 - val_loss: 14.5063 - val_acc: 0.1000\n",
      "Epoch 10/10\n",
      "5000/5000 [==============================] - 59s 12ms/step - loss: 14.5063 - acc: 0.1000 - val_loss: 14.5063 - val_acc: 0.1000\n",
      "90.0\n",
      "Train on 5000 samples, validate on 5000 samples\n",
      "Epoch 1/10\n",
      "5000/5000 [==============================] - 57s 11ms/step - loss: 14.4101 - acc: 0.1058 - val_loss: 14.4096 - val_acc: 0.1060\n",
      "Epoch 2/10\n",
      "5000/5000 [==============================] - 58s 12ms/step - loss: 14.4096 - acc: 0.1060 - val_loss: 14.4096 - val_acc: 0.1060\n",
      "Epoch 3/10\n",
      "5000/5000 [==============================] - 57s 11ms/step - loss: 14.4096 - acc: 0.1060 - val_loss: 14.4096 - val_acc: 0.1060\n",
      "Epoch 4/10\n",
      "5000/5000 [==============================] - 58s 12ms/step - loss: 14.4096 - acc: 0.1060 - val_loss: 14.4096 - val_acc: 0.1060\n",
      "Epoch 5/10\n",
      "5000/5000 [==============================] - 56s 11ms/step - loss: 14.4096 - acc: 0.1060 - val_loss: 14.4096 - val_acc: 0.1060\n",
      "Epoch 6/10\n",
      "5000/5000 [==============================] - 56s 11ms/step - loss: 14.4096 - acc: 0.1060 - val_loss: 14.4096 - val_acc: 0.1060\n",
      "Epoch 7/10\n",
      "5000/5000 [==============================] - 56s 11ms/step - loss: 14.4096 - acc: 0.1060 - val_loss: 14.4096 - val_acc: 0.1060\n",
      "Epoch 8/10\n",
      "5000/5000 [==============================] - 57s 11ms/step - loss: 14.4096 - acc: 0.1060 - val_loss: 14.4096 - val_acc: 0.1060\n",
      "Epoch 9/10\n",
      "5000/5000 [==============================] - 58s 12ms/step - loss: 14.4096 - acc: 0.1060 - val_loss: 14.4096 - val_acc: 0.1060\n",
      "Epoch 10/10\n",
      "5000/5000 [==============================] - 58s 12ms/step - loss: 14.4096 - acc: 0.1060 - val_loss: 14.4096 - val_acc: 0.1060\n",
      "89.4\n"
     ]
    }
   ],
   "source": [
    "# SGD.\n",
    "use_model2([0.5, 1, 10], [50, 50, 50], 'sgd', 1, 'lr')"
   ]
  },
  {
   "cell_type": "code",
   "execution_count": 35,
   "metadata": {},
   "outputs": [
    {
     "name": "stdout",
     "output_type": "stream",
     "text": [
      "Train on 5000 samples, validate on 5000 samples\n",
      "Epoch 1/10\n",
      "5000/5000 [==============================] - 6s 1ms/step - loss: 1.5383 - acc: 0.4274 - val_loss: 0.6153 - val_acc: 0.8056\n",
      "Epoch 2/10\n",
      "5000/5000 [==============================] - 6s 1ms/step - loss: 0.5917 - acc: 0.8020 - val_loss: 0.4270 - val_acc: 0.8570\n",
      "Epoch 3/10\n",
      "5000/5000 [==============================] - 6s 1ms/step - loss: 0.4060 - acc: 0.8682 - val_loss: 0.3200 - val_acc: 0.8970\n",
      "Epoch 4/10\n",
      "5000/5000 [==============================] - 8s 2ms/step - loss: 0.3180 - acc: 0.8980 - val_loss: 0.2329 - val_acc: 0.9288\n",
      "Epoch 5/10\n",
      "5000/5000 [==============================] - 7s 1ms/step - loss: 0.2529 - acc: 0.9192 - val_loss: 0.1835 - val_acc: 0.9428\n",
      "Epoch 6/10\n",
      "5000/5000 [==============================] - 6s 1ms/step - loss: 0.2045 - acc: 0.9346 - val_loss: 0.1464 - val_acc: 0.9528\n",
      "Epoch 7/10\n",
      "5000/5000 [==============================] - 10s 2ms/step - loss: 0.1644 - acc: 0.9492 - val_loss: 0.1302 - val_acc: 0.9602\n",
      "Epoch 8/10\n",
      "5000/5000 [==============================] - 8s 2ms/step - loss: 0.1424 - acc: 0.9522 - val_loss: 0.0940 - val_acc: 0.9696\n",
      "Epoch 9/10\n",
      "5000/5000 [==============================] - 8s 2ms/step - loss: 0.1105 - acc: 0.9616 - val_loss: 0.0842 - val_acc: 0.9746\n",
      "Epoch 10/10\n",
      "5000/5000 [==============================] - 8s 2ms/step - loss: 0.0888 - acc: 0.9736 - val_loss: 0.0597 - val_acc: 0.9848\n",
      "1.519999999999996\n",
      "Train on 5000 samples, validate on 5000 samples\n",
      "Epoch 1/10\n",
      "5000/5000 [==============================] - 11s 2ms/step - loss: 1.9788 - acc: 0.2788 - val_loss: 0.9485 - val_acc: 0.6724\n",
      "Epoch 2/10\n",
      "5000/5000 [==============================] - 8s 2ms/step - loss: 0.7610 - acc: 0.7430 - val_loss: 0.5799 - val_acc: 0.7938\n",
      "Epoch 3/10\n",
      "5000/5000 [==============================] - 9s 2ms/step - loss: 0.4776 - acc: 0.8474 - val_loss: 0.3342 - val_acc: 0.8916\n",
      "Epoch 4/10\n",
      "5000/5000 [==============================] - 9s 2ms/step - loss: 0.3659 - acc: 0.8878 - val_loss: 0.2273 - val_acc: 0.9242\n",
      "Epoch 5/10\n",
      "5000/5000 [==============================] - 7s 1ms/step - loss: 0.2670 - acc: 0.9144 - val_loss: 0.2187 - val_acc: 0.9288\n",
      "Epoch 6/10\n",
      "5000/5000 [==============================] - 7s 1ms/step - loss: 0.2184 - acc: 0.9310 - val_loss: 0.1504 - val_acc: 0.9508\n",
      "Epoch 7/10\n",
      "5000/5000 [==============================] - 10s 2ms/step - loss: 0.1496 - acc: 0.9528 - val_loss: 0.0998 - val_acc: 0.9688\n",
      "Epoch 8/10\n",
      "5000/5000 [==============================] - 8s 2ms/step - loss: 0.1102 - acc: 0.9658 - val_loss: 0.1313 - val_acc: 0.9594\n",
      "Epoch 9/10\n",
      "5000/5000 [==============================] - 8s 2ms/step - loss: 0.0869 - acc: 0.9720 - val_loss: 0.0576 - val_acc: 0.9804\n",
      "Epoch 10/10\n",
      "5000/5000 [==============================] - 8s 2ms/step - loss: 0.0658 - acc: 0.9790 - val_loss: 0.0549 - val_acc: 0.9840\n",
      "1.5999999999999943\n",
      "Train on 5000 samples, validate on 5000 samples\n",
      "Epoch 1/10\n",
      "5000/5000 [==============================] - 10s 2ms/step - loss: 14.4915 - acc: 0.0996 - val_loss: 14.5063 - val_acc: 0.1000\n",
      "Epoch 2/10\n",
      "5000/5000 [==============================] - 8s 2ms/step - loss: 14.5063 - acc: 0.1000 - val_loss: 14.5063 - val_acc: 0.1000\n",
      "Epoch 3/10\n",
      "5000/5000 [==============================] - 8s 2ms/step - loss: 14.5063 - acc: 0.1000 - val_loss: 14.5063 - val_acc: 0.1000\n",
      "Epoch 4/10\n",
      "5000/5000 [==============================] - 8s 2ms/step - loss: 14.5063 - acc: 0.1000 - val_loss: 14.5063 - val_acc: 0.1000\n",
      "Epoch 5/10\n",
      "5000/5000 [==============================] - 8s 2ms/step - loss: 14.5063 - acc: 0.1000 - val_loss: 14.5063 - val_acc: 0.1000\n",
      "Epoch 6/10\n",
      "5000/5000 [==============================] - 10s 2ms/step - loss: 14.5063 - acc: 0.1000 - val_loss: 14.5063 - val_acc: 0.1000\n",
      "Epoch 7/10\n",
      "5000/5000 [==============================] - 10s 2ms/step - loss: 14.5063 - acc: 0.1000 - val_loss: 14.5063 - val_acc: 0.1000\n",
      "Epoch 8/10\n",
      "5000/5000 [==============================] - 11s 2ms/step - loss: 14.5063 - acc: 0.1000 - val_loss: 14.5063 - val_acc: 0.1000\n",
      "Epoch 9/10\n",
      "5000/5000 [==============================] - 11s 2ms/step - loss: 14.5063 - acc: 0.1000 - val_loss: 14.5063 - val_acc: 0.1000\n",
      "Epoch 10/10\n",
      "5000/5000 [==============================] - 10s 2ms/step - loss: 14.5063 - acc: 0.1000 - val_loss: 14.5063 - val_acc: 0.1000\n",
      "90.0\n"
     ]
    }
   ],
   "source": [
    "# MB10.\n",
    "use_model2([0.5, 1, 10], [50, 50, 50], 'mb10', 1, 'lr')"
   ]
  },
  {
   "cell_type": "code",
   "execution_count": 36,
   "metadata": {},
   "outputs": [
    {
     "name": "stdout",
     "output_type": "stream",
     "text": [
      "Train on 5000 samples, validate on 5000 samples\n",
      "Epoch 1/10\n",
      "5000/5000 [==============================] - 5s 930us/step - loss: 2.2408 - acc: 0.1602 - val_loss: 2.0152 - val_acc: 0.2856\n",
      "Epoch 2/10\n",
      "5000/5000 [==============================] - 3s 582us/step - loss: 1.3504 - acc: 0.5210 - val_loss: 1.0561 - val_acc: 0.6480\n",
      "Epoch 3/10\n",
      "5000/5000 [==============================] - 3s 574us/step - loss: 0.8112 - acc: 0.7242 - val_loss: 0.6229 - val_acc: 0.8064\n",
      "Epoch 4/10\n",
      "5000/5000 [==============================] - 3s 570us/step - loss: 0.5985 - acc: 0.8038 - val_loss: 0.5257 - val_acc: 0.8426\n",
      "Epoch 5/10\n",
      "5000/5000 [==============================] - 3s 537us/step - loss: 0.5023 - acc: 0.8444 - val_loss: 0.4448 - val_acc: 0.8620\n",
      "Epoch 6/10\n",
      "5000/5000 [==============================] - 2s 498us/step - loss: 0.4388 - acc: 0.8584 - val_loss: 0.3756 - val_acc: 0.8804\n",
      "Epoch 7/10\n",
      "5000/5000 [==============================] - 3s 557us/step - loss: 0.3910 - acc: 0.8794 - val_loss: 0.3436 - val_acc: 0.8912\n",
      "Epoch 8/10\n",
      "5000/5000 [==============================] - 3s 580us/step - loss: 0.3637 - acc: 0.8794 - val_loss: 0.3392 - val_acc: 0.8982\n",
      "Epoch 9/10\n",
      "5000/5000 [==============================] - 3s 601us/step - loss: 0.3336 - acc: 0.8936 - val_loss: 0.2832 - val_acc: 0.9138\n",
      "Epoch 10/10\n",
      "5000/5000 [==============================] - 3s 613us/step - loss: 0.3084 - acc: 0.9030 - val_loss: 0.2682 - val_acc: 0.9172\n",
      "8.280000000000001\n",
      "Train on 5000 samples, validate on 5000 samples\n",
      "Epoch 1/10\n",
      "5000/5000 [==============================] - 4s 815us/step - loss: 2.3916 - acc: 0.1434 - val_loss: 2.2203 - val_acc: 0.2290\n",
      "Epoch 2/10\n",
      "5000/5000 [==============================] - 3s 538us/step - loss: 1.3726 - acc: 0.4942 - val_loss: 0.9314 - val_acc: 0.6990\n",
      "Epoch 3/10\n",
      "5000/5000 [==============================] - 2s 383us/step - loss: 0.7028 - acc: 0.7604 - val_loss: 0.5393 - val_acc: 0.8170\n",
      "Epoch 4/10\n",
      "5000/5000 [==============================] - 2s 433us/step - loss: 0.5023 - acc: 0.8354 - val_loss: 0.4293 - val_acc: 0.8672\n",
      "Epoch 5/10\n",
      "5000/5000 [==============================] - 2s 377us/step - loss: 0.4262 - acc: 0.8642 - val_loss: 0.3307 - val_acc: 0.8974\n",
      "Epoch 6/10\n",
      "5000/5000 [==============================] - 2s 401us/step - loss: 0.3623 - acc: 0.8884 - val_loss: 0.2691 - val_acc: 0.9210\n",
      "Epoch 7/10\n",
      "5000/5000 [==============================] - 2s 378us/step - loss: 0.3152 - acc: 0.9006 - val_loss: 0.2864 - val_acc: 0.9094\n",
      "Epoch 8/10\n",
      "5000/5000 [==============================] - 2s 382us/step - loss: 0.2750 - acc: 0.9076 - val_loss: 0.2210 - val_acc: 0.9338\n",
      "Epoch 9/10\n",
      "5000/5000 [==============================] - 2s 363us/step - loss: 0.2545 - acc: 0.9194 - val_loss: 0.2015 - val_acc: 0.9394\n",
      "Epoch 10/10\n",
      "5000/5000 [==============================] - 2s 429us/step - loss: 0.2182 - acc: 0.9326 - val_loss: 0.2395 - val_acc: 0.9210\n",
      "7.8999999999999915\n",
      "Train on 5000 samples, validate on 5000 samples\n",
      "Epoch 1/10\n",
      "5000/5000 [==============================] - 3s 604us/step - loss: 2.5045 - acc: 0.0984 - val_loss: 2.3961 - val_acc: 0.0924\n",
      "Epoch 2/10\n",
      "5000/5000 [==============================] - 2s 378us/step - loss: 2.3969 - acc: 0.0982 - val_loss: 2.3322 - val_acc: 0.1142\n",
      "Epoch 3/10\n",
      "5000/5000 [==============================] - 2s 431us/step - loss: 2.4127 - acc: 0.1026 - val_loss: 2.5536 - val_acc: 0.1000\n",
      "Epoch 4/10\n",
      "5000/5000 [==============================] - 2s 390us/step - loss: 2.5333 - acc: 0.0996 - val_loss: 2.8857 - val_acc: 0.1060\n",
      "Epoch 5/10\n",
      "5000/5000 [==============================] - 2s 423us/step - loss: 3.3618 - acc: 0.1084 - val_loss: 2.9242 - val_acc: 0.1000\n",
      "Epoch 6/10\n",
      "5000/5000 [==============================] - 2s 314us/step - loss: 3.4428 - acc: 0.1034 - val_loss: 3.5552 - val_acc: 0.1000\n",
      "Epoch 7/10\n",
      "5000/5000 [==============================] - 2s 319us/step - loss: 3.2378 - acc: 0.1072 - val_loss: 3.0556 - val_acc: 0.0924\n",
      "Epoch 8/10\n",
      "5000/5000 [==============================] - 2s 304us/step - loss: 3.4167 - acc: 0.1002 - val_loss: 3.9096 - val_acc: 0.1024\n",
      "Epoch 9/10\n",
      "5000/5000 [==============================] - 1s 260us/step - loss: 3.4552 - acc: 0.1046 - val_loss: 2.7771 - val_acc: 0.0912\n",
      "Epoch 10/10\n",
      "5000/5000 [==============================] - 1s 259us/step - loss: 3.3148 - acc: 0.0960 - val_loss: 3.7270 - val_acc: 0.1142\n",
      "88.58\n"
     ]
    }
   ],
   "source": [
    "# MB50.\n",
    "use_model2([0.5, 1, 10], [50, 50, 50], 'mb50', 1, 'lr')"
   ]
  },
  {
   "cell_type": "code",
   "execution_count": 37,
   "metadata": {},
   "outputs": [],
   "source": [
    "# GD, lr = 1, un = 50.\n",
    "#use_model(1, 50, 'gd', 1, 'lr')"
   ]
  },
  {
   "cell_type": "code",
   "execution_count": 38,
   "metadata": {},
   "outputs": [],
   "source": [
    "# GD, lr = 1, un = 50.\n",
    "#use_model(10, 50, 'gd', 1, 'lr')"
   ]
  },
  {
   "cell_type": "code",
   "execution_count": 39,
   "metadata": {},
   "outputs": [],
   "source": [
    "# SGD, lr = 0.5, un = 50.\n",
    "#use_model(0.5, 50, 'sgd', 1, 'lr')"
   ]
  },
  {
   "cell_type": "code",
   "execution_count": 40,
   "metadata": {},
   "outputs": [],
   "source": [
    "# SGD, lr = 1, un = 50.\n",
    "#use_model(1, 50, 'sgd', 1, 'lr')"
   ]
  },
  {
   "cell_type": "code",
   "execution_count": 41,
   "metadata": {},
   "outputs": [],
   "source": [
    "# SGD, lr = 10, un = 50.\n",
    "#use_model(10, 50, 'sgd', 1, 'lr')"
   ]
  },
  {
   "cell_type": "code",
   "execution_count": 42,
   "metadata": {},
   "outputs": [],
   "source": [
    "# MB10, lr = 0.5, un = 50.\n",
    "#use_model(0.5, 50, 'mb10', 1, 'lr')"
   ]
  },
  {
   "cell_type": "code",
   "execution_count": 43,
   "metadata": {},
   "outputs": [],
   "source": [
    "# MB10, lr = 1, un = 50.\n",
    "#use_model(1, 50, 'mb10', 1, 'lr')"
   ]
  },
  {
   "cell_type": "code",
   "execution_count": 44,
   "metadata": {},
   "outputs": [],
   "source": [
    "# MB10, lr = 10, un = 50.\n",
    "#use_model(10, 50, 'mb10', 1, 'lr')"
   ]
  },
  {
   "cell_type": "code",
   "execution_count": 45,
   "metadata": {},
   "outputs": [],
   "source": [
    "# MB50, lr = 0.5, un = 50.\n",
    "#use_model(0.5, 50, 'mb50', 1, 'lr')"
   ]
  },
  {
   "cell_type": "code",
   "execution_count": 46,
   "metadata": {},
   "outputs": [],
   "source": [
    "# MB50, lr = 1, un = 50.\n",
    "#use_model(1, 50, 'mb50', 1, 'lr')"
   ]
  },
  {
   "cell_type": "code",
   "execution_count": 47,
   "metadata": {},
   "outputs": [],
   "source": [
    "# MB50, lr = 10, un = 50.\n",
    "#use_model(10, 50, 'mb50', 1, 'lr')"
   ]
  },
  {
   "cell_type": "code",
   "execution_count": 48,
   "metadata": {},
   "outputs": [
    {
     "data": {
      "image/png": "[encoded data removed]",
      "text/plain": [
       "<Figure size 432x288 with 1 Axes>"
      ]
     },
     "metadata": {},
     "output_type": "display_data"
    }
   ],
   "source": [
    "index = 1\n",
    "\n",
    "plt.plot(inputsGD[index], outputsGD[index], label='GD')\n",
    "plt.plot(inputsSGD[index], outputsSGD[index], label='SGD')\n",
    "plt.plot(inputsMiniBatch10[index], outputsMiniBatch10[index], label='Mini-Batch10')\n",
    "plt.plot(inputsMiniBatch50[index], outputsMiniBatch50[index], label='Mini-Batch50')\n",
    "plt.xlabel('learning rate')\n",
    "plt.axvline(x=0.5, ls='dotted')\n",
    "plt.axvline(x=1, ls='dotted')\n",
    "plt.axvline(x=10, ls='dotted')\n",
    "plt.minorticks_on()\n",
    "plt.ylabel('training error (%)')\n",
    "plt.title(\"50 unities hidden layer\")\n",
    "plt.legend()\n",
    "plt.show()"
   ]
  },
  {
   "cell_type": "code",
   "execution_count": 49,
   "metadata": {},
   "outputs": [],
   "source": [
    "# GD, lr = 0.5, un = 100.\n",
    "#use_model(0.5, 100, 'gd', 2, 'lr')"
   ]
  },
  {
   "cell_type": "code",
   "execution_count": 50,
   "metadata": {},
   "outputs": [],
   "source": [
    "# GD, lr = 1, un = 100.\n",
    "#use_model(1, 100, 'gd', 2, 'lr')"
   ]
  },
  {
   "cell_type": "code",
   "execution_count": 51,
   "metadata": {},
   "outputs": [],
   "source": [
    "# GD, lr = 1, un = 100.\n",
    "#use_model(10, 100, 'gd', 2, 'lr')"
   ]
  },
  {
   "cell_type": "code",
   "execution_count": 52,
   "metadata": {},
   "outputs": [],
   "source": [
    "# SGD, lr = 0.5, un = 100.\n",
    "#use_model(0.5, 100, 'sgd', 2, 'lr')"
   ]
  },
  {
   "cell_type": "code",
   "execution_count": 53,
   "metadata": {},
   "outputs": [],
   "source": [
    "# SGD, lr = 1, un = 100.\n",
    "#use_model(1, 100, 'sgd', 2, 'lr')"
   ]
  },
  {
   "cell_type": "code",
   "execution_count": 54,
   "metadata": {},
   "outputs": [],
   "source": [
    "# SGD, lr = 10, un = 100.\n",
    "#use_model(10, 100, 'sgd', 2, 'lr')"
   ]
  },
  {
   "cell_type": "code",
   "execution_count": 55,
   "metadata": {},
   "outputs": [],
   "source": [
    "# MB10, lr = 0.5, un = 100.\n",
    "#use_model(0.5, 100, 'mb10', 2, 'lr')"
   ]
  },
  {
   "cell_type": "code",
   "execution_count": 56,
   "metadata": {},
   "outputs": [],
   "source": [
    "# MB10, lr = 1, un = 100.\n",
    "#use_model(1, 100, 'mb10', 2, 'lr')"
   ]
  },
  {
   "cell_type": "code",
   "execution_count": 57,
   "metadata": {},
   "outputs": [],
   "source": [
    "# MB10, lr = 10, un = 100.\n",
    "#use_model(10, 100, 'mb10', 2, 'lr')"
   ]
  },
  {
   "cell_type": "code",
   "execution_count": 58,
   "metadata": {},
   "outputs": [],
   "source": [
    "# MB50, lr = 0.5, un = 100.\n",
    "#use_model(0.5, 100, 'mb50', 2, 'lr')"
   ]
  },
  {
   "cell_type": "code",
   "execution_count": 59,
   "metadata": {},
   "outputs": [],
   "source": [
    "# MB50, lr = 1, un = 100.\n",
    "#use_model(1, 100, 'mb50', 2, 'lr')"
   ]
  },
  {
   "cell_type": "code",
   "execution_count": 60,
   "metadata": {},
   "outputs": [],
   "source": [
    "# MB50, lr = 10, un = 100.\n",
    "#use_model(10, 100, 'mb50', 2, 'lr')"
   ]
  },
  {
   "cell_type": "code",
   "execution_count": 61,
   "metadata": {},
   "outputs": [
    {
     "name": "stdout",
     "output_type": "stream",
     "text": [
      "Train on 5000 samples, validate on 5000 samples\n",
      "Epoch 1/10\n",
      "5000/5000 [==============================] - 1s 288us/step - loss: 2.3589 - acc: 0.1000 - val_loss: 2.3117 - val_acc: 0.1142\n",
      "Epoch 2/10\n",
      "5000/5000 [==============================] - 1s 112us/step - loss: 2.3117 - acc: 0.1142 - val_loss: 2.2982 - val_acc: 0.1252\n",
      "Epoch 3/10\n",
      "5000/5000 [==============================] - 1s 116us/step - loss: 2.2982 - acc: 0.1252 - val_loss: 2.2946 - val_acc: 0.1142\n",
      "Epoch 4/10\n",
      "5000/5000 [==============================] - 1s 107us/step - loss: 2.2946 - acc: 0.1142 - val_loss: 2.2920 - val_acc: 0.1806\n",
      "Epoch 5/10\n",
      "5000/5000 [==============================] - 1s 123us/step - loss: 2.2920 - acc: 0.1806 - val_loss: 2.2897 - val_acc: 0.1142\n",
      "Epoch 6/10\n",
      "5000/5000 [==============================] - 1s 155us/step - loss: 2.2897 - acc: 0.1142 - val_loss: 2.2874 - val_acc: 0.1316\n",
      "Epoch 7/10\n",
      "5000/5000 [==============================] - 1s 207us/step - loss: 2.2874 - acc: 0.1316 - val_loss: 2.2852 - val_acc: 0.1148\n",
      "Epoch 8/10\n",
      "5000/5000 [==============================] - 1s 237us/step - loss: 2.2852 - acc: 0.1148 - val_loss: 2.2830 - val_acc: 0.1246\n",
      "Epoch 9/10\n",
      "5000/5000 [==============================] - 1s 178us/step - loss: 2.2830 - acc: 0.1246 - val_loss: 2.2807 - val_acc: 0.1178\n",
      "Epoch 10/10\n",
      "5000/5000 [==============================] - 1s 165us/step - loss: 2.2807 - acc: 0.1178 - val_loss: 2.2783 - val_acc: 0.1260\n",
      "87.4\n",
      "Train on 5000 samples, validate on 5000 samples\n",
      "Epoch 1/10\n",
      "5000/5000 [==============================] - 1s 274us/step - loss: 2.3346 - acc: 0.1000 - val_loss: 2.4275 - val_acc: 0.1142\n",
      "Epoch 2/10\n",
      "5000/5000 [==============================] - 1s 104us/step - loss: 2.4275 - acc: 0.1142 - val_loss: 2.6349 - val_acc: 0.1000\n",
      "Epoch 3/10\n",
      "5000/5000 [==============================] - 0s 91us/step - loss: 2.6349 - acc: 0.1000 - val_loss: 2.3930 - val_acc: 0.1000\n",
      "Epoch 4/10\n",
      "5000/5000 [==============================] - 0s 96us/step - loss: 2.3930 - acc: 0.1000 - val_loss: 2.2986 - val_acc: 0.1060\n",
      "Epoch 5/10\n",
      "5000/5000 [==============================] - 0s 94us/step - loss: 2.2986 - acc: 0.1060 - val_loss: 2.2832 - val_acc: 0.1142\n",
      "Epoch 6/10\n",
      "5000/5000 [==============================] - 0s 94us/step - loss: 2.2832 - acc: 0.1142 - val_loss: 2.2784 - val_acc: 0.1614\n",
      "Epoch 7/10\n",
      "5000/5000 [==============================] - 0s 97us/step - loss: 2.2784 - acc: 0.1614 - val_loss: 2.2740 - val_acc: 0.1146\n",
      "Epoch 8/10\n",
      "5000/5000 [==============================] - 0s 93us/step - loss: 2.2740 - acc: 0.1146 - val_loss: 2.2693 - val_acc: 0.1376\n",
      "Epoch 9/10\n",
      "5000/5000 [==============================] - 0s 92us/step - loss: 2.2693 - acc: 0.1376 - val_loss: 2.2642 - val_acc: 0.1280\n",
      "Epoch 10/10\n",
      "5000/5000 [==============================] - 1s 105us/step - loss: 2.2642 - acc: 0.1280 - val_loss: 2.2587 - val_acc: 0.1592\n",
      "84.08\n",
      "Train on 5000 samples, validate on 5000 samples\n",
      "Epoch 1/10\n",
      "5000/5000 [==============================] - 2s 302us/step - loss: 2.3317 - acc: 0.1060 - val_loss: 8.7535 - val_acc: 0.1142\n",
      "Epoch 2/10\n",
      "5000/5000 [==============================] - 1s 104us/step - loss: 8.7535 - acc: 0.1142 - val_loss: 4.2301 - val_acc: 0.1002\n",
      "Epoch 3/10\n",
      "5000/5000 [==============================] - 1s 101us/step - loss: 4.2301 - acc: 0.1002 - val_loss: 2.9617 - val_acc: 0.0978\n",
      "Epoch 4/10\n",
      "5000/5000 [==============================] - 0s 100us/step - loss: 2.9617 - acc: 0.0978 - val_loss: 2.7899 - val_acc: 0.1060\n",
      "Epoch 5/10\n",
      "5000/5000 [==============================] - 0s 98us/step - loss: 2.7899 - acc: 0.1060 - val_loss: 2.6467 - val_acc: 0.1060\n",
      "Epoch 6/10\n",
      "5000/5000 [==============================] - 1s 103us/step - loss: 2.6467 - acc: 0.1060 - val_loss: 2.5099 - val_acc: 0.1060\n",
      "Epoch 7/10\n",
      "5000/5000 [==============================] - 0s 90us/step - loss: 2.5099 - acc: 0.1060 - val_loss: 2.3915 - val_acc: 0.1060\n",
      "Epoch 8/10\n",
      "5000/5000 [==============================] - 1s 110us/step - loss: 2.3915 - acc: 0.1060 - val_loss: 2.3182 - val_acc: 0.1060\n",
      "Epoch 9/10\n",
      "5000/5000 [==============================] - 0s 98us/step - loss: 2.3182 - acc: 0.1060 - val_loss: 2.3006 - val_acc: 0.1060\n",
      "Epoch 10/10\n",
      "5000/5000 [==============================] - 0s 94us/step - loss: 2.3006 - acc: 0.1060 - val_loss: 2.3003 - val_acc: 0.1142\n",
      "88.58\n"
     ]
    }
   ],
   "source": [
    "# GD.\n",
    "use_model2([0.5, 1, 10], [100, 100, 100], 'gd', 2, 'lr')"
   ]
  },
  {
   "cell_type": "code",
   "execution_count": 62,
   "metadata": {},
   "outputs": [
    {
     "name": "stdout",
     "output_type": "stream",
     "text": [
      "Train on 5000 samples, validate on 5000 samples\n",
      "Epoch 1/10\n",
      "5000/5000 [==============================] - 54s 11ms/step - loss: 4.0483 - acc: 0.2382 - val_loss: 8.1843 - val_acc: 0.4098\n",
      "Epoch 2/10\n",
      "5000/5000 [==============================] - 49s 10ms/step - loss: 13.2346 - acc: 0.1652 - val_loss: 12.8136 - val_acc: 0.1620\n",
      "Epoch 3/10\n",
      "5000/5000 [==============================] - 42s 8ms/step - loss: 13.2946 - acc: 0.1612 - val_loss: 14.5063 - val_acc: 0.1000\n",
      "Epoch 4/10\n",
      "5000/5000 [==============================] - 43s 9ms/step - loss: 14.5063 - acc: 0.1000 - val_loss: 14.5063 - val_acc: 0.1000\n",
      "Epoch 5/10\n",
      "5000/5000 [==============================] - 42s 8ms/step - loss: 14.5063 - acc: 0.1000 - val_loss: 14.5063 - val_acc: 0.1000\n",
      "Epoch 6/10\n",
      "5000/5000 [==============================] - 50s 10ms/step - loss: 14.5063 - acc: 0.1000 - val_loss: 14.5063 - val_acc: 0.1000\n",
      "Epoch 7/10\n",
      "5000/5000 [==============================] - 67s 13ms/step - loss: 14.5063 - acc: 0.1000 - val_loss: 14.5063 - val_acc: 0.1000\n",
      "Epoch 8/10\n",
      "5000/5000 [==============================] - 48s 10ms/step - loss: 14.5063 - acc: 0.1000 - val_loss: 14.5063 - val_acc: 0.1000\n",
      "Epoch 9/10\n",
      "5000/5000 [==============================] - 39s 8ms/step - loss: 14.5063 - acc: 0.1000 - val_loss: 14.5063 - val_acc: 0.1000\n",
      "Epoch 10/10\n",
      "5000/5000 [==============================] - 42s 8ms/step - loss: 14.5063 - acc: 0.1000 - val_loss: 14.5063 - val_acc: 0.1000\n",
      "90.0\n",
      "Train on 5000 samples, validate on 5000 samples\n",
      "Epoch 1/10\n",
      "5000/5000 [==============================] - 44s 9ms/step - loss: 14.4680 - acc: 0.1024 - val_loss: 14.4676 - val_acc: 0.1024\n",
      "Epoch 2/10\n",
      "5000/5000 [==============================] - 42s 8ms/step - loss: 14.4676 - acc: 0.1024 - val_loss: 14.4676 - val_acc: 0.1024\n",
      "Epoch 3/10\n",
      "5000/5000 [==============================] - 44s 9ms/step - loss: 14.4676 - acc: 0.1024 - val_loss: 14.4676 - val_acc: 0.1024\n",
      "Epoch 4/10\n",
      "5000/5000 [==============================] - 45s 9ms/step - loss: 14.4676 - acc: 0.1024 - val_loss: 14.4676 - val_acc: 0.1024\n",
      "Epoch 5/10\n",
      "5000/5000 [==============================] - 48s 10ms/step - loss: 14.4676 - acc: 0.1024 - val_loss: 14.4676 - val_acc: 0.1024\n",
      "Epoch 6/10\n",
      "5000/5000 [==============================] - 45s 9ms/step - loss: 14.4676 - acc: 0.1024 - val_loss: 14.4676 - val_acc: 0.1024\n",
      "Epoch 7/10\n",
      "5000/5000 [==============================] - 49s 10ms/step - loss: 14.4676 - acc: 0.1024 - val_loss: 14.4676 - val_acc: 0.1024\n",
      "Epoch 8/10\n",
      "5000/5000 [==============================] - 50s 10ms/step - loss: 14.4676 - acc: 0.1024 - val_loss: 14.4676 - val_acc: 0.1024\n",
      "Epoch 9/10\n",
      "5000/5000 [==============================] - 49s 10ms/step - loss: 14.4676 - acc: 0.1024 - val_loss: 14.4676 - val_acc: 0.1024\n",
      "Epoch 10/10\n",
      "5000/5000 [==============================] - 49s 10ms/step - loss: 14.4676 - acc: 0.1024 - val_loss: 14.4676 - val_acc: 0.1024\n",
      "89.76\n",
      "Train on 5000 samples, validate on 5000 samples\n",
      "Epoch 1/10\n",
      "5000/5000 [==============================] - 47s 9ms/step - loss: 14.6357 - acc: 0.0918 - val_loss: 14.6352 - val_acc: 0.0920\n",
      "Epoch 2/10\n",
      "5000/5000 [==============================] - 47s 9ms/step - loss: 14.6352 - acc: 0.0920 - val_loss: 14.6352 - val_acc: 0.0920\n",
      "Epoch 3/10\n",
      "5000/5000 [==============================] - 52s 10ms/step - loss: 14.6352 - acc: 0.0920 - val_loss: 14.6352 - val_acc: 0.0920\n",
      "Epoch 4/10\n",
      "5000/5000 [==============================] - 60s 12ms/step - loss: 14.6352 - acc: 0.0920 - val_loss: 14.6352 - val_acc: 0.0920\n",
      "Epoch 5/10\n",
      "5000/5000 [==============================] - 53s 11ms/step - loss: 14.6352 - acc: 0.0920 - val_loss: 14.6352 - val_acc: 0.0920\n",
      "Epoch 6/10\n",
      "5000/5000 [==============================] - 54s 11ms/step - loss: 14.6352 - acc: 0.0920 - val_loss: 14.6352 - val_acc: 0.0920\n",
      "Epoch 7/10\n",
      "5000/5000 [==============================] - 66s 13ms/step - loss: 14.6352 - acc: 0.0920 - val_loss: 14.6352 - val_acc: 0.0920\n",
      "Epoch 8/10\n",
      "5000/5000 [==============================] - 65s 13ms/step - loss: 14.6352 - acc: 0.0920 - val_loss: 14.6352 - val_acc: 0.0920\n",
      "Epoch 9/10\n",
      "5000/5000 [==============================] - 62s 12ms/step - loss: 14.6352 - acc: 0.0920 - val_loss: 14.6352 - val_acc: 0.0920\n",
      "Epoch 10/10\n",
      "5000/5000 [==============================] - 49s 10ms/step - loss: 14.6352 - acc: 0.0920 - val_loss: 14.6352 - val_acc: 0.0920\n",
      "90.8\n"
     ]
    }
   ],
   "source": [
    "# SGD.\n",
    "use_model2([0.5, 1, 10], [100, 100, 100], 'sgd', 2, 'lr')"
   ]
  },
  {
   "cell_type": "code",
   "execution_count": 63,
   "metadata": {},
   "outputs": [
    {
     "name": "stdout",
     "output_type": "stream",
     "text": [
      "Train on 5000 samples, validate on 5000 samples\n",
      "Epoch 1/10\n",
      "5000/5000 [==============================] - 7s 1ms/step - loss: 1.8836 - acc: 0.3156 - val_loss: 1.0545 - val_acc: 0.6054\n",
      "Epoch 2/10\n",
      "5000/5000 [==============================] - 6s 1ms/step - loss: 0.8570 - acc: 0.7030 - val_loss: 0.5641 - val_acc: 0.8206\n",
      "Epoch 3/10\n",
      "5000/5000 [==============================] - 6s 1ms/step - loss: 0.6194 - acc: 0.7960 - val_loss: 0.5165 - val_acc: 0.8344\n",
      "Epoch 4/10\n",
      "5000/5000 [==============================] - 6s 1ms/step - loss: 0.4965 - acc: 0.8396 - val_loss: 0.3926 - val_acc: 0.8800\n",
      "Epoch 5/10\n",
      "5000/5000 [==============================] - 6s 1ms/step - loss: 0.4925 - acc: 0.8478 - val_loss: 0.4980 - val_acc: 0.8360\n",
      "Epoch 6/10\n",
      "5000/5000 [==============================] - 6s 1ms/step - loss: 0.4901 - acc: 0.8520 - val_loss: 0.4034 - val_acc: 0.8750\n",
      "Epoch 7/10\n",
      "5000/5000 [==============================] - 6s 1ms/step - loss: 0.4213 - acc: 0.8718 - val_loss: 0.6673 - val_acc: 0.8030\n",
      "Epoch 8/10\n",
      "5000/5000 [==============================] - 6s 1ms/step - loss: 0.3915 - acc: 0.8824 - val_loss: 0.3262 - val_acc: 0.9072\n",
      "Epoch 9/10\n",
      "5000/5000 [==============================] - 6s 1ms/step - loss: 0.3738 - acc: 0.8834 - val_loss: 0.3269 - val_acc: 0.9020\n",
      "Epoch 10/10\n",
      "5000/5000 [==============================] - 7s 1ms/step - loss: 0.3899 - acc: 0.8818 - val_loss: 0.2846 - val_acc: 0.9170\n",
      "8.299999999999997\n",
      "Train on 5000 samples, validate on 5000 samples\n",
      "Epoch 1/10\n",
      "5000/5000 [==============================] - 9s 2ms/step - loss: 4.1173 - acc: 0.1042 - val_loss: 9.2556 - val_acc: 0.1000\n",
      "Epoch 2/10\n",
      "5000/5000 [==============================] - 7s 1ms/step - loss: 7.1709 - acc: 0.1020 - val_loss: 4.2347 - val_acc: 0.0912\n",
      "Epoch 3/10\n",
      "5000/5000 [==============================] - 7s 1ms/step - loss: 4.7327 - acc: 0.1040 - val_loss: 5.6702 - val_acc: 0.1000\n",
      "Epoch 4/10\n",
      "5000/5000 [==============================] - 8s 2ms/step - loss: 5.9893 - acc: 0.1012 - val_loss: 8.6858 - val_acc: 0.1142\n",
      "Epoch 5/10\n",
      "5000/5000 [==============================] - 6s 1ms/step - loss: 9.4746 - acc: 0.1008 - val_loss: 5.7906 - val_acc: 0.1060\n",
      "Epoch 6/10\n",
      "5000/5000 [==============================] - 7s 1ms/step - loss: 7.0761 - acc: 0.1024 - val_loss: 6.6425 - val_acc: 0.0978\n",
      "Epoch 7/10\n",
      "5000/5000 [==============================] - 8s 2ms/step - loss: 9.0678 - acc: 0.0950 - val_loss: 8.2598 - val_acc: 0.0920\n",
      "Epoch 8/10\n",
      "5000/5000 [==============================] - 6s 1ms/step - loss: 9.8621 - acc: 0.0984 - val_loss: 11.0512 - val_acc: 0.0924\n",
      "Epoch 9/10\n",
      "5000/5000 [==============================] - 6s 1ms/step - loss: 10.1142 - acc: 0.1048 - val_loss: 9.7402 - val_acc: 0.1000\n",
      "Epoch 10/10\n",
      "5000/5000 [==============================] - 6s 1ms/step - loss: 10.2884 - acc: 0.1018 - val_loss: 9.5773 - val_acc: 0.1422\n",
      "85.78\n",
      "Train on 5000 samples, validate on 5000 samples\n",
      "Epoch 1/10\n",
      "5000/5000 [==============================] - 10s 2ms/step - loss: 14.6171 - acc: 0.0914 - val_loss: 14.6352 - val_acc: 0.0920\n",
      "Epoch 2/10\n",
      "5000/5000 [==============================] - 8s 2ms/step - loss: 14.6352 - acc: 0.0920 - val_loss: 14.6352 - val_acc: 0.0920\n",
      "Epoch 3/10\n",
      "5000/5000 [==============================] - 7s 1ms/step - loss: 14.6352 - acc: 0.0920 - val_loss: 14.6352 - val_acc: 0.0920\n",
      "Epoch 4/10\n",
      "5000/5000 [==============================] - 7s 1ms/step - loss: 14.6352 - acc: 0.0920 - val_loss: 14.6352 - val_acc: 0.0920\n",
      "Epoch 5/10\n",
      "5000/5000 [==============================] - 7s 1ms/step - loss: 14.6352 - acc: 0.0920 - val_loss: 14.6352 - val_acc: 0.0920\n",
      "Epoch 6/10\n",
      "5000/5000 [==============================] - 7s 1ms/step - loss: 14.6352 - acc: 0.0920 - val_loss: 14.6352 - val_acc: 0.0920\n",
      "Epoch 7/10\n",
      "5000/5000 [==============================] - 7s 1ms/step - loss: 14.6352 - acc: 0.0920 - val_loss: 14.6352 - val_acc: 0.0920\n",
      "Epoch 8/10\n",
      "5000/5000 [==============================] - 8s 2ms/step - loss: 14.6352 - acc: 0.0920 - val_loss: 14.6352 - val_acc: 0.0920\n",
      "Epoch 9/10\n",
      "5000/5000 [==============================] - 8s 2ms/step - loss: 14.6352 - acc: 0.0920 - val_loss: 14.6352 - val_acc: 0.0920\n",
      "Epoch 10/10\n",
      "5000/5000 [==============================] - 8s 2ms/step - loss: 14.6352 - acc: 0.0920 - val_loss: 14.6352 - val_acc: 0.0920\n",
      "90.8\n"
     ]
    }
   ],
   "source": [
    "# MB10.\n",
    "use_model2([0.5, 1, 10], [100, 100, 100], 'mb10', 2, 'lr')"
   ]
  },
  {
   "cell_type": "code",
   "execution_count": 64,
   "metadata": {},
   "outputs": [
    {
     "name": "stdout",
     "output_type": "stream",
     "text": [
      "Train on 5000 samples, validate on 5000 samples\n",
      "Epoch 1/10\n",
      "5000/5000 [==============================] - 3s 597us/step - loss: 2.2729 - acc: 0.1954 - val_loss: 1.6492 - val_acc: 0.4854\n",
      "Epoch 2/10\n",
      "5000/5000 [==============================] - 2s 321us/step - loss: 1.1727 - acc: 0.5820 - val_loss: 0.9227 - val_acc: 0.6462\n",
      "Epoch 3/10\n",
      "5000/5000 [==============================] - 2s 321us/step - loss: 0.7418 - acc: 0.7498 - val_loss: 0.6558 - val_acc: 0.7958\n",
      "Epoch 4/10\n",
      "5000/5000 [==============================] - 2s 328us/step - loss: 0.5558 - acc: 0.8120 - val_loss: 0.4598 - val_acc: 0.8494\n",
      "Epoch 5/10\n",
      "5000/5000 [==============================] - 2s 312us/step - loss: 0.4804 - acc: 0.8452 - val_loss: 0.4014 - val_acc: 0.8714\n",
      "Epoch 6/10\n",
      "5000/5000 [==============================] - 2s 316us/step - loss: 0.4324 - acc: 0.8622 - val_loss: 0.3912 - val_acc: 0.8792\n",
      "Epoch 7/10\n",
      "5000/5000 [==============================] - 2s 347us/step - loss: 0.3783 - acc: 0.8796 - val_loss: 0.3181 - val_acc: 0.9002\n",
      "Epoch 8/10\n",
      "5000/5000 [==============================] - 2s 337us/step - loss: 0.3500 - acc: 0.8892 - val_loss: 0.3042 - val_acc: 0.9034\n",
      "Epoch 9/10\n",
      "5000/5000 [==============================] - 2s 326us/step - loss: 0.3173 - acc: 0.8982 - val_loss: 0.3000 - val_acc: 0.9038\n",
      "Epoch 10/10\n",
      "5000/5000 [==============================] - 2s 385us/step - loss: 0.3000 - acc: 0.9018 - val_loss: 0.2673 - val_acc: 0.9188\n",
      "8.120000000000005\n",
      "Train on 5000 samples, validate on 5000 samples\n",
      "Epoch 1/10\n",
      "5000/5000 [==============================] - 4s 855us/step - loss: 2.8928 - acc: 0.1468 - val_loss: 11.1507 - val_acc: 0.1142\n",
      "Epoch 2/10\n",
      "5000/5000 [==============================] - 2s 389us/step - loss: 9.2492 - acc: 0.2104 - val_loss: 8.5454 - val_acc: 0.3252\n",
      "Epoch 3/10\n",
      "5000/5000 [==============================] - 2s 464us/step - loss: 8.5941 - acc: 0.3198 - val_loss: 8.4172 - val_acc: 0.3860\n",
      "Epoch 4/10\n",
      "5000/5000 [==============================] - 2s 446us/step - loss: 6.6727 - acc: 0.3734 - val_loss: 1.3647 - val_acc: 0.5214\n",
      "Epoch 5/10\n",
      "5000/5000 [==============================] - 2s 417us/step - loss: 1.1098 - acc: 0.6172 - val_loss: 0.8928 - val_acc: 0.7030\n",
      "Epoch 6/10\n",
      "5000/5000 [==============================] - 2s 431us/step - loss: 0.6481 - acc: 0.7898 - val_loss: 0.4421 - val_acc: 0.8576\n",
      "Epoch 7/10\n",
      "5000/5000 [==============================] - 2s 420us/step - loss: 0.4890 - acc: 0.8414 - val_loss: 0.4015 - val_acc: 0.8666\n",
      "Epoch 8/10\n",
      "5000/5000 [==============================] - 2s 364us/step - loss: 0.4046 - acc: 0.8698 - val_loss: 0.3714 - val_acc: 0.8838\n",
      "Epoch 9/10\n",
      "5000/5000 [==============================] - 2s 416us/step - loss: 0.3551 - acc: 0.8882 - val_loss: 0.2813 - val_acc: 0.9106\n",
      "Epoch 10/10\n",
      "5000/5000 [==============================] - 2s 363us/step - loss: 0.2960 - acc: 0.9084 - val_loss: 0.2318 - val_acc: 0.9300\n",
      "7.0\n",
      "Train on 5000 samples, validate on 5000 samples\n",
      "Epoch 1/10\n",
      "5000/5000 [==============================] - 3s 569us/step - loss: 14.3877 - acc: 0.0992 - val_loss: 14.5063 - val_acc: 0.1000\n",
      "Epoch 2/10\n",
      "5000/5000 [==============================] - 2s 368us/step - loss: 14.5063 - acc: 0.1000 - val_loss: 14.5063 - val_acc: 0.1000\n",
      "Epoch 3/10\n",
      "5000/5000 [==============================] - 2s 382us/step - loss: 14.5063 - acc: 0.1000 - val_loss: 14.5063 - val_acc: 0.1000\n",
      "Epoch 4/10\n",
      "5000/5000 [==============================] - 2s 342us/step - loss: 14.5063 - acc: 0.1000 - val_loss: 14.5063 - val_acc: 0.1000\n",
      "Epoch 5/10\n",
      "5000/5000 [==============================] - 2s 325us/step - loss: 14.5063 - acc: 0.1000 - val_loss: 14.5063 - val_acc: 0.1000\n",
      "Epoch 6/10\n",
      "5000/5000 [==============================] - 2s 345us/step - loss: 14.5063 - acc: 0.1000 - val_loss: 14.5063 - val_acc: 0.1000\n",
      "Epoch 7/10\n",
      "5000/5000 [==============================] - 2s 351us/step - loss: 14.5063 - acc: 0.1000 - val_loss: 14.5063 - val_acc: 0.1000\n",
      "Epoch 8/10\n",
      "5000/5000 [==============================] - 2s 398us/step - loss: 14.5063 - acc: 0.1000 - val_loss: 14.5063 - val_acc: 0.1000\n",
      "Epoch 9/10\n",
      "5000/5000 [==============================] - 2s 348us/step - loss: 14.5063 - acc: 0.1000 - val_loss: 14.5063 - val_acc: 0.1000\n",
      "Epoch 10/10\n",
      "5000/5000 [==============================] - 3s 532us/step - loss: 14.5063 - acc: 0.1000 - val_loss: 14.5063 - val_acc: 0.1000\n",
      "90.0\n"
     ]
    }
   ],
   "source": [
    "# MB50.\n",
    "use_model2([0.5, 1, 10], [100, 100, 100], 'mb50', 2, 'lr')"
   ]
  },
  {
   "cell_type": "code",
   "execution_count": 65,
   "metadata": {},
   "outputs": [
    {
     "data": {
      "image/png": "[encoded data removed]",
      "text/plain": [
       "<Figure size 432x288 with 1 Axes>"
      ]
     },
     "metadata": {},
     "output_type": "display_data"
    }
   ],
   "source": [
    "index = 2\n",
    "\n",
    "plt.plot(inputsGD[index], outputsGD[index], label='GD')\n",
    "plt.plot(inputsSGD[index], outputsSGD[index], label='SGD')\n",
    "plt.plot(inputsMiniBatch10[index], outputsMiniBatch10[index], label='Mini-Batch10')\n",
    "plt.plot(inputsMiniBatch50[index], outputsMiniBatch50[index], label='Mini-Batch50')\n",
    "plt.xlabel('learning rate')\n",
    "plt.axvline(x=0.5, ls='dotted')\n",
    "plt.axvline(x=1, ls='dotted')\n",
    "plt.axvline(x=10, ls='dotted')\n",
    "plt.minorticks_on()\n",
    "plt.ylabel('training error (%)')\n",
    "plt.title(\"100 unities hidden layer\")\n",
    "plt.legend()\n",
    "plt.show()"
   ]
  },
  {
   "cell_type": "markdown",
   "metadata": {},
   "source": [
    "EXPLICAR OS TESTES QUE SERão realizados"
   ]
  },
  {
   "cell_type": "markdown",
   "metadata": {},
   "source": [
    "# Discussão dos Resultados\n",
    "\n",
    "Primeiramente, podemos notar nos gráficos apresentados acima que dois dos gradientes testados nunca obtiveram resultados interessantes para o problema de classificação de imagens (aka MNIS), i.e., GD e SGD obtiveram resultados muito ruins para o training error. As condições definidas no enunciado do TP podem ter influenciado diretamente os resultados desses dois algoritmos em termos do uso da sigmoid para não linearidade e também do learning rate ter sido uma medida um pouco elevada (i.e., 0.5 foi o menos valor testado e 10 o maior valor testado). Assim, o mini-batch foi o gradiente mais eficiente entre os testados, com destaque para o mini-batch de 10 batches que obteve resultados ligeiramente melhores do que o mini-batch de 50. \n",
    "\n",
    "O training error foi baixo se considerarmos que o conjunto de teste foi o próprio conjunto de treino, prática essa que deve ser evitada em casos reais de aplicação de algoritmos de machine learning no mundo real. Assim, embora o training error ter sido baixo em dois dos gradientes testados (i.e., mini-batch de 10 e 50), isso não significa que o nosso modelo seja bom, pois o test error pode ser alto. Assim, em uma análise real do MINIS o mais adequado seria ter um conjunto de treino (assim como foi feito), um conjunto de teste, e mesmo a separação em um conjunto de validação com uma cross-validation seria o cenário perfeito de teste.\n",
    "\n",
    "É importante notar que o learning rate propostos no enunciado podem ser considerados bastante elevados, pois como foi visto em sala de aula muitos dos modelos de machine learning usam 0.1 para essa métrica. No entanto, a aplicação de um learning rate de 10 assim como no último dos testes realizados mostrou que este valor era muito alto para o problema de classificação proposto no enunciado. Assim, o learning rate de 10 apresentou resultados muitos ruins para todos os gradientes testados independente do número de unidades da camada oculta (o training error foi de ~90% para todos os 3 gradientes e as mesmo nas duas variações do mini-batch, que obtiveram resultados melhores para o problema). \n",
    "\n",
    "Em relação ao aumento das unidades da camada oculta para os três algoritmos, vamos realizar um teste exclusivo deste parâmetro para sabermos o seu real comportamento no conjunto de treino, para tal, o learning rate vai ser fixado em 05, que como visto nos três gráficos acima é o melhor learning rate obtido para quase todos gradientes, as vezes o GD obteve resultados minimamente melhores com um learning rate de 1 em vez de 0.5). Como visto no gráfico abaixo, o aumento no número de unidades da camada oculta é relevante para o mini-batch de 10, onde os melhores resultados são encontrados com 100 unidades na camada oculta. Todavia, este aumento não se mostrou relevante para os outros gradientes, detalhe para o mini-batch de 50 que obteve piores resultados com 100 unidades na camada oculta do que com somente 50 (que foram os melhores resultados obtidos por esse gradiente). \n",
    "\n"
   ]
  },
  {
   "cell_type": "code",
   "execution_count": 66,
   "metadata": {},
   "outputs": [],
   "source": [
    "# GD, lr = 0.5, un = 25.\n",
    "#use_model(0.5, 25, 'gd', 3, 'un')"
   ]
  },
  {
   "cell_type": "code",
   "execution_count": 67,
   "metadata": {},
   "outputs": [],
   "source": [
    "# GD, lr = 0.5, un = 50.\n",
    "#use_model(0.5, 50, 'gd', 3, 'un')"
   ]
  },
  {
   "cell_type": "code",
   "execution_count": 68,
   "metadata": {},
   "outputs": [],
   "source": [
    "# GD, lr = 0.5, un = 100.\n",
    "#use_model(0.5, 100, 'gd', 3, 'un')"
   ]
  },
  {
   "cell_type": "code",
   "execution_count": 69,
   "metadata": {},
   "outputs": [],
   "source": [
    "# SGD, lr = 0.5, un = 25.\n",
    "#use_model(0.5, 25, 'sgd', 3, 'un')"
   ]
  },
  {
   "cell_type": "code",
   "execution_count": 70,
   "metadata": {},
   "outputs": [],
   "source": [
    "# SGD, lr = 0.5, un = 50.\n",
    "#use_model(0.5, 50, 'sgd', 3, 'un')"
   ]
  },
  {
   "cell_type": "code",
   "execution_count": 71,
   "metadata": {},
   "outputs": [],
   "source": [
    "# SGD, lr = 0.5, un = 100.\n",
    "#use_model(0.5, 100, 'sgd', 3, 'un')"
   ]
  },
  {
   "cell_type": "code",
   "execution_count": 72,
   "metadata": {},
   "outputs": [],
   "source": [
    "# MB10, lr = 0.5, un = 25.\n",
    "#use_model(0.5, 25, 'mb10', 3, 'un')"
   ]
  },
  {
   "cell_type": "code",
   "execution_count": 73,
   "metadata": {},
   "outputs": [],
   "source": [
    "# MB10 lr = 0.5, un = 50.\n",
    "#use_model(0.5, 50, 'mb10', 3, 'un')"
   ]
  },
  {
   "cell_type": "code",
   "execution_count": 74,
   "metadata": {},
   "outputs": [],
   "source": [
    "# MB10, lr = 0.5, un = 100.\n",
    "#use_model(0.5, 100, 'mb10', 3, 'un')"
   ]
  },
  {
   "cell_type": "code",
   "execution_count": 75,
   "metadata": {},
   "outputs": [],
   "source": [
    "# MB50, lr = 0.5, un = 25.\n",
    "#use_model(0.5, 25, 'mb50', 3, 'un')"
   ]
  },
  {
   "cell_type": "code",
   "execution_count": 76,
   "metadata": {},
   "outputs": [],
   "source": [
    "# MB50 lr = 0.5, un = 50.\n",
    "#use_model(0.5, 50, 'mb50', 3, 'un')"
   ]
  },
  {
   "cell_type": "code",
   "execution_count": 77,
   "metadata": {},
   "outputs": [],
   "source": [
    "# MB50, lr = 0.5, un = 100.\n",
    "#use_model(0.5, 100, 'mb50', 3, 'un')"
   ]
  },
  {
   "cell_type": "code",
   "execution_count": 78,
   "metadata": {},
   "outputs": [
    {
     "name": "stdout",
     "output_type": "stream",
     "text": [
      "Train on 5000 samples, validate on 5000 samples\n",
      "Epoch 1/10\n",
      "5000/5000 [==============================] - 2s 418us/step - loss: 2.3054 - acc: 0.0924 - val_loss: 2.3029 - val_acc: 0.0970\n",
      "Epoch 2/10\n",
      "5000/5000 [==============================] - 0s 80us/step - loss: 2.3029 - acc: 0.0970 - val_loss: 2.3013 - val_acc: 0.1118\n",
      "Epoch 3/10\n",
      "5000/5000 [==============================] - 0s 96us/step - loss: 2.3013 - acc: 0.1118 - val_loss: 2.3002 - val_acc: 0.1056\n",
      "Epoch 4/10\n",
      "5000/5000 [==============================] - 0s 81us/step - loss: 2.3002 - acc: 0.1056 - val_loss: 2.2995 - val_acc: 0.1058\n",
      "Epoch 5/10\n",
      "5000/5000 [==============================] - 0s 79us/step - loss: 2.2995 - acc: 0.1058 - val_loss: 2.2989 - val_acc: 0.0958\n",
      "Epoch 6/10\n",
      "5000/5000 [==============================] - 0s 82us/step - loss: 2.2989 - acc: 0.0958 - val_loss: 2.2985 - val_acc: 0.1142\n",
      "Epoch 7/10\n",
      "5000/5000 [==============================] - 0s 78us/step - loss: 2.2985 - acc: 0.1142 - val_loss: 2.2982 - val_acc: 0.1142\n",
      "Epoch 8/10\n",
      "5000/5000 [==============================] - 1s 104us/step - loss: 2.2982 - acc: 0.1142 - val_loss: 2.2979 - val_acc: 0.1142\n",
      "Epoch 9/10\n",
      "5000/5000 [==============================] - 0s 98us/step - loss: 2.2979 - acc: 0.1142 - val_loss: 2.2976 - val_acc: 0.1142\n",
      "Epoch 10/10\n",
      "5000/5000 [==============================] - 1s 117us/step - loss: 2.2976 - acc: 0.1142 - val_loss: 2.2973 - val_acc: 0.1142\n",
      "88.58\n",
      "Train on 5000 samples, validate on 5000 samples\n",
      "Epoch 1/10\n",
      "5000/5000 [==============================] - 2s 473us/step - loss: 2.3046 - acc: 0.1294 - val_loss: 2.3010 - val_acc: 0.1086\n",
      "Epoch 2/10\n",
      "5000/5000 [==============================] - 1s 113us/step - loss: 2.3010 - acc: 0.1086 - val_loss: 2.2994 - val_acc: 0.1142\n",
      "Epoch 3/10\n",
      "5000/5000 [==============================] - 1s 138us/step - loss: 2.2994 - acc: 0.1142 - val_loss: 2.2985 - val_acc: 0.1142\n",
      "Epoch 4/10\n",
      "5000/5000 [==============================] - 1s 106us/step - loss: 2.2985 - acc: 0.1142 - val_loss: 2.2978 - val_acc: 0.1142\n",
      "Epoch 5/10\n",
      "5000/5000 [==============================] - 1s 117us/step - loss: 2.2978 - acc: 0.1142 - val_loss: 2.2972 - val_acc: 0.1142\n",
      "Epoch 6/10\n",
      "5000/5000 [==============================] - 0s 98us/step - loss: 2.2972 - acc: 0.1142 - val_loss: 2.2966 - val_acc: 0.1142\n",
      "Epoch 7/10\n",
      "5000/5000 [==============================] - 1s 114us/step - loss: 2.2966 - acc: 0.1142 - val_loss: 2.2961 - val_acc: 0.1142\n",
      "Epoch 8/10\n",
      "5000/5000 [==============================] - 1s 102us/step - loss: 2.2961 - acc: 0.1142 - val_loss: 2.2955 - val_acc: 0.1142\n",
      "Epoch 9/10\n",
      "5000/5000 [==============================] - 0s 94us/step - loss: 2.2955 - acc: 0.1142 - val_loss: 2.2949 - val_acc: 0.1142\n",
      "Epoch 10/10\n",
      "5000/5000 [==============================] - 0s 81us/step - loss: 2.2949 - acc: 0.1142 - val_loss: 2.2943 - val_acc: 0.1142\n",
      "88.58\n",
      "Train on 5000 samples, validate on 5000 samples\n",
      "Epoch 1/10\n",
      "5000/5000 [==============================] - 2s 347us/step - loss: 2.3400 - acc: 0.1000 - val_loss: 2.3076 - val_acc: 0.1142\n",
      "Epoch 2/10\n",
      "5000/5000 [==============================] - 0s 84us/step - loss: 2.3076 - acc: 0.1142 - val_loss: 2.3013 - val_acc: 0.1340\n",
      "Epoch 3/10\n",
      "5000/5000 [==============================] - 0s 87us/step - loss: 2.3013 - acc: 0.1340 - val_loss: 2.2981 - val_acc: 0.1142\n",
      "Epoch 4/10\n",
      "5000/5000 [==============================] - 1s 102us/step - loss: 2.2981 - acc: 0.1142 - val_loss: 2.2955 - val_acc: 0.1142\n",
      "Epoch 5/10\n",
      "5000/5000 [==============================] - 1s 124us/step - loss: 2.2955 - acc: 0.1142 - val_loss: 2.2932 - val_acc: 0.1142\n",
      "Epoch 6/10\n",
      "5000/5000 [==============================] - 0s 88us/step - loss: 2.2932 - acc: 0.1142 - val_loss: 2.2909 - val_acc: 0.1144\n",
      "Epoch 7/10\n",
      "5000/5000 [==============================] - 0s 89us/step - loss: 2.2909 - acc: 0.1144 - val_loss: 2.2885 - val_acc: 0.1144\n",
      "Epoch 8/10\n",
      "5000/5000 [==============================] - 1s 119us/step - loss: 2.2885 - acc: 0.1144 - val_loss: 2.2861 - val_acc: 0.1152\n",
      "Epoch 9/10\n",
      "5000/5000 [==============================] - 1s 156us/step - loss: 2.2861 - acc: 0.1152 - val_loss: 2.2837 - val_acc: 0.1152\n",
      "Epoch 10/10\n",
      "5000/5000 [==============================] - 1s 160us/step - loss: 2.2837 - acc: 0.1152 - val_loss: 2.2813 - val_acc: 0.1180\n",
      "88.2\n"
     ]
    }
   ],
   "source": [
    "# GD.\n",
    "use_model2([0.5, 0.5, 0.5], [10, 25, 100], 'gd', 3, 'un')"
   ]
  },
  {
   "cell_type": "code",
   "execution_count": 79,
   "metadata": {},
   "outputs": [
    {
     "name": "stdout",
     "output_type": "stream",
     "text": [
      "Train on 5000 samples, validate on 5000 samples\n",
      "Epoch 1/10\n",
      "5000/5000 [==============================] - 54s 11ms/step - loss: 2.9533 - acc: 0.1024 - val_loss: 2.6348 - val_acc: 0.0978\n",
      "Epoch 2/10\n",
      "5000/5000 [==============================] - 53s 11ms/step - loss: 3.0729 - acc: 0.1060 - val_loss: 2.5347 - val_acc: 0.0912\n",
      "Epoch 3/10\n",
      "5000/5000 [==============================] - 52s 10ms/step - loss: 2.8003 - acc: 0.1106 - val_loss: 2.6601 - val_acc: 0.1860\n",
      "Epoch 4/10\n",
      "5000/5000 [==============================] - 53s 11ms/step - loss: 2.8155 - acc: 0.1040 - val_loss: 2.6537 - val_acc: 0.1142\n",
      "Epoch 5/10\n",
      "5000/5000 [==============================] - 40s 8ms/step - loss: 2.8401 - acc: 0.0958 - val_loss: 2.6194 - val_acc: 0.1000\n",
      "Epoch 6/10\n",
      "5000/5000 [==============================] - 38s 8ms/step - loss: 2.6605 - acc: 0.1142 - val_loss: 2.4662 - val_acc: 0.2008\n",
      "Epoch 7/10\n",
      "5000/5000 [==============================] - 38s 8ms/step - loss: 2.6375 - acc: 0.1128 - val_loss: 2.5785 - val_acc: 0.1000\n",
      "Epoch 8/10\n",
      "5000/5000 [==============================] - 37s 7ms/step - loss: 2.6730 - acc: 0.1008 - val_loss: 2.6552 - val_acc: 0.0920\n",
      "Epoch 9/10\n",
      "5000/5000 [==============================] - 38s 8ms/step - loss: 2.6775 - acc: 0.1034 - val_loss: 2.5253 - val_acc: 0.1060\n",
      "Epoch 10/10\n",
      "5000/5000 [==============================] - 38s 8ms/step - loss: 2.6557 - acc: 0.1104 - val_loss: 2.8430 - val_acc: 0.1000\n",
      "90.0\n",
      "Train on 5000 samples, validate on 5000 samples\n",
      "Epoch 1/10\n",
      "5000/5000 [==============================] - 40s 8ms/step - loss: 2.6078 - acc: 0.1042 - val_loss: 2.2762 - val_acc: 0.1940\n",
      "Epoch 2/10\n",
      "5000/5000 [==============================] - 38s 8ms/step - loss: 2.3196 - acc: 0.2444 - val_loss: 1.8320 - val_acc: 0.3948\n",
      "Epoch 3/10\n",
      "5000/5000 [==============================] - 38s 8ms/step - loss: 2.1448 - acc: 0.3628 - val_loss: 1.6094 - val_acc: 0.4496\n",
      "Epoch 4/10\n",
      "5000/5000 [==============================] - 38s 8ms/step - loss: 2.2262 - acc: 0.3860 - val_loss: 2.3235 - val_acc: 0.3018\n",
      "Epoch 5/10\n",
      "5000/5000 [==============================] - 39s 8ms/step - loss: 2.3902 - acc: 0.2978 - val_loss: 1.9583 - val_acc: 0.3700\n",
      "Epoch 6/10\n",
      "5000/5000 [==============================] - 40s 8ms/step - loss: 2.2315 - acc: 0.2782 - val_loss: 2.3576 - val_acc: 0.2704\n",
      "Epoch 7/10\n",
      "5000/5000 [==============================] - 38s 8ms/step - loss: 2.0372 - acc: 0.3178 - val_loss: 1.9552 - val_acc: 0.3400\n",
      "Epoch 8/10\n",
      "5000/5000 [==============================] - 39s 8ms/step - loss: 2.0020 - acc: 0.3570 - val_loss: 1.7183 - val_acc: 0.3472\n",
      "Epoch 9/10\n",
      "5000/5000 [==============================] - 37s 7ms/step - loss: 2.0707 - acc: 0.3108 - val_loss: 1.7946 - val_acc: 0.2802\n",
      "Epoch 10/10\n",
      "5000/5000 [==============================] - 37s 7ms/step - loss: 2.1801 - acc: 0.2518 - val_loss: 2.3275 - val_acc: 0.2522\n",
      "74.78\n",
      "Train on 5000 samples, validate on 5000 samples\n",
      "Epoch 1/10\n",
      "5000/5000 [==============================] - 41s 8ms/step - loss: 14.4679 - acc: 0.1022 - val_loss: 14.4676 - val_acc: 0.1024\n",
      "Epoch 2/10\n",
      "5000/5000 [==============================] - 39s 8ms/step - loss: 14.4676 - acc: 0.1024 - val_loss: 14.4676 - val_acc: 0.1024\n",
      "Epoch 3/10\n",
      "5000/5000 [==============================] - 39s 8ms/step - loss: 14.4676 - acc: 0.1024 - val_loss: 14.4676 - val_acc: 0.1024\n",
      "Epoch 4/10\n",
      "5000/5000 [==============================] - 40s 8ms/step - loss: 14.4676 - acc: 0.1024 - val_loss: 14.4676 - val_acc: 0.1024\n",
      "Epoch 5/10\n",
      "5000/5000 [==============================] - 39s 8ms/step - loss: 14.4676 - acc: 0.1024 - val_loss: 14.4676 - val_acc: 0.1024\n",
      "Epoch 6/10\n",
      "5000/5000 [==============================] - 40s 8ms/step - loss: 14.4676 - acc: 0.1024 - val_loss: 14.4676 - val_acc: 0.1024\n",
      "Epoch 7/10\n",
      "5000/5000 [==============================] - 43s 9ms/step - loss: 14.4676 - acc: 0.1024 - val_loss: 14.4676 - val_acc: 0.1024\n",
      "Epoch 8/10\n",
      "5000/5000 [==============================] - 52s 10ms/step - loss: 14.4676 - acc: 0.1024 - val_loss: 14.4676 - val_acc: 0.1024\n",
      "Epoch 9/10\n",
      "5000/5000 [==============================] - 52s 10ms/step - loss: 14.4676 - acc: 0.1024 - val_loss: 14.4676 - val_acc: 0.1024\n",
      "Epoch 10/10\n",
      "5000/5000 [==============================] - 51s 10ms/step - loss: 14.4676 - acc: 0.1024 - val_loss: 14.4676 - val_acc: 0.1024\n",
      "89.76\n"
     ]
    }
   ],
   "source": [
    "# SGD.\n",
    "use_model2([0.5, 0.5, 0.5], [10, 25, 100], 'sgd', 3, 'un')"
   ]
  },
  {
   "cell_type": "code",
   "execution_count": 80,
   "metadata": {},
   "outputs": [
    {
     "name": "stdout",
     "output_type": "stream",
     "text": [
      "Train on 5000 samples, validate on 5000 samples\n",
      "Epoch 1/10\n",
      "5000/5000 [==============================] - 7s 1ms/step - loss: 1.8301 - acc: 0.3162 - val_loss: 1.0970 - val_acc: 0.6370\n",
      "Epoch 2/10\n",
      "5000/5000 [==============================] - 6s 1ms/step - loss: 0.9577 - acc: 0.6780 - val_loss: 0.6842 - val_acc: 0.7886\n",
      "Epoch 3/10\n",
      "5000/5000 [==============================] - 6s 1ms/step - loss: 0.7078 - acc: 0.7754 - val_loss: 0.6920 - val_acc: 0.7798\n",
      "Epoch 4/10\n",
      "5000/5000 [==============================] - 6s 1ms/step - loss: 0.6351 - acc: 0.8054 - val_loss: 0.5814 - val_acc: 0.8182\n",
      "Epoch 5/10\n",
      "5000/5000 [==============================] - 6s 1ms/step - loss: 0.5763 - acc: 0.8266 - val_loss: 0.5048 - val_acc: 0.8590\n",
      "Epoch 6/10\n",
      "5000/5000 [==============================] - 6s 1ms/step - loss: 0.5161 - acc: 0.8492 - val_loss: 0.5054 - val_acc: 0.8506\n",
      "Epoch 7/10\n",
      "5000/5000 [==============================] - 6s 1ms/step - loss: 0.4679 - acc: 0.8582 - val_loss: 0.3728 - val_acc: 0.8988\n",
      "Epoch 8/10\n",
      "5000/5000 [==============================] - 6s 1ms/step - loss: 0.4431 - acc: 0.8678 - val_loss: 0.4443 - val_acc: 0.8696\n",
      "Epoch 9/10\n",
      "5000/5000 [==============================] - 6s 1ms/step - loss: 0.4157 - acc: 0.8720 - val_loss: 0.3410 - val_acc: 0.9042\n",
      "Epoch 10/10\n",
      "5000/5000 [==============================] - 6s 1ms/step - loss: 0.3771 - acc: 0.8898 - val_loss: 0.3901 - val_acc: 0.8834\n",
      "11.659999999999997\n",
      "Train on 5000 samples, validate on 5000 samples\n",
      "Epoch 1/10\n",
      "5000/5000 [==============================] - 8s 2ms/step - loss: 1.7029 - acc: 0.3626 - val_loss: 1.0064 - val_acc: 0.6640\n",
      "Epoch 2/10\n",
      "5000/5000 [==============================] - 6s 1ms/step - loss: 0.7822 - acc: 0.7266 - val_loss: 0.6083 - val_acc: 0.7970\n",
      "Epoch 3/10\n",
      "5000/5000 [==============================] - 6s 1ms/step - loss: 0.5765 - acc: 0.8070 - val_loss: 0.4395 - val_acc: 0.8690\n",
      "Epoch 4/10\n",
      "5000/5000 [==============================] - 6s 1ms/step - loss: 0.4891 - acc: 0.8492 - val_loss: 0.4110 - val_acc: 0.8706\n",
      "Epoch 5/10\n",
      "5000/5000 [==============================] - 6s 1ms/step - loss: 0.4367 - acc: 0.8634 - val_loss: 0.4282 - val_acc: 0.8730\n",
      "Epoch 6/10\n",
      "5000/5000 [==============================] - 6s 1ms/step - loss: 0.3914 - acc: 0.8764 - val_loss: 0.3500 - val_acc: 0.8910\n",
      "Epoch 7/10\n",
      "5000/5000 [==============================] - 6s 1ms/step - loss: 0.3548 - acc: 0.8906 - val_loss: 0.3317 - val_acc: 0.9000\n",
      "Epoch 8/10\n",
      "5000/5000 [==============================] - 6s 1ms/step - loss: 0.3264 - acc: 0.8988 - val_loss: 0.2721 - val_acc: 0.9142\n",
      "Epoch 9/10\n",
      "5000/5000 [==============================] - 6s 1ms/step - loss: 0.2905 - acc: 0.9094 - val_loss: 0.2599 - val_acc: 0.9198\n",
      "Epoch 10/10\n",
      "5000/5000 [==============================] - 6s 1ms/step - loss: 0.2627 - acc: 0.9182 - val_loss: 0.2530 - val_acc: 0.9196\n",
      "8.040000000000006\n",
      "Train on 5000 samples, validate on 5000 samples\n",
      "Epoch 1/10\n",
      "5000/5000 [==============================] - 8s 2ms/step - loss: 9.1155 - acc: 0.1598 - val_loss: 12.6168 - val_acc: 0.2086\n",
      "Epoch 2/10\n",
      "5000/5000 [==============================] - 6s 1ms/step - loss: 12.3823 - acc: 0.2136 - val_loss: 10.2897 - val_acc: 0.2006\n",
      "Epoch 3/10\n",
      "5000/5000 [==============================] - 6s 1ms/step - loss: 4.5194 - acc: 0.3086 - val_loss: 3.8360 - val_acc: 0.3868\n",
      "Epoch 4/10\n",
      "5000/5000 [==============================] - 6s 1ms/step - loss: 2.1713 - acc: 0.5302 - val_loss: 1.0632 - val_acc: 0.6736\n",
      "Epoch 5/10\n",
      "5000/5000 [==============================] - 6s 1ms/step - loss: 1.2511 - acc: 0.6668 - val_loss: 1.8977 - val_acc: 0.6686\n",
      "Epoch 6/10\n",
      "5000/5000 [==============================] - 6s 1ms/step - loss: 1.0785 - acc: 0.7270 - val_loss: 1.0779 - val_acc: 0.7036\n",
      "Epoch 7/10\n",
      "5000/5000 [==============================] - 6s 1ms/step - loss: 0.8221 - acc: 0.7672 - val_loss: 1.0146 - val_acc: 0.7146\n",
      "Epoch 8/10\n",
      "5000/5000 [==============================] - 6s 1ms/step - loss: 0.7609 - acc: 0.7858 - val_loss: 0.9118 - val_acc: 0.7582\n",
      "Epoch 9/10\n",
      "5000/5000 [==============================] - 6s 1ms/step - loss: 0.7127 - acc: 0.8052 - val_loss: 0.4929 - val_acc: 0.8594\n",
      "Epoch 10/10\n",
      "5000/5000 [==============================] - 7s 1ms/step - loss: 0.6346 - acc: 0.8216 - val_loss: 0.7616 - val_acc: 0.7496\n",
      "25.039999999999992\n"
     ]
    }
   ],
   "source": [
    "# MB10.\n",
    "use_model2([0.5, 0.5, 0.5], [10, 25, 100], 'mb10', 3, 'un')"
   ]
  },
  {
   "cell_type": "code",
   "execution_count": 81,
   "metadata": {},
   "outputs": [
    {
     "name": "stdout",
     "output_type": "stream",
     "text": [
      "Train on 5000 samples, validate on 5000 samples\n",
      "Epoch 1/10\n",
      "5000/5000 [==============================] - 3s 629us/step - loss: 2.2663 - acc: 0.1570 - val_loss: 2.1228 - val_acc: 0.2636\n",
      "Epoch 2/10\n",
      "5000/5000 [==============================] - 2s 304us/step - loss: 1.7537 - acc: 0.3776 - val_loss: 1.4036 - val_acc: 0.5072\n",
      "Epoch 3/10\n",
      "5000/5000 [==============================] - 2s 316us/step - loss: 1.2316 - acc: 0.5774 - val_loss: 1.0866 - val_acc: 0.6282\n",
      "Epoch 4/10\n",
      "5000/5000 [==============================] - 2s 303us/step - loss: 0.9646 - acc: 0.6866 - val_loss: 0.8058 - val_acc: 0.7584\n",
      "Epoch 5/10\n",
      "5000/5000 [==============================] - 2s 318us/step - loss: 0.7814 - acc: 0.7468 - val_loss: 0.7655 - val_acc: 0.7404\n",
      "Epoch 6/10\n",
      "5000/5000 [==============================] - 2s 317us/step - loss: 0.6717 - acc: 0.7864 - val_loss: 0.6639 - val_acc: 0.7756\n",
      "Epoch 7/10\n",
      "5000/5000 [==============================] - 2s 322us/step - loss: 0.6145 - acc: 0.8016 - val_loss: 0.5383 - val_acc: 0.8332\n",
      "Epoch 8/10\n",
      "5000/5000 [==============================] - 2s 325us/step - loss: 0.5760 - acc: 0.8172 - val_loss: 0.4906 - val_acc: 0.8546\n",
      "Epoch 9/10\n",
      "5000/5000 [==============================] - 2s 344us/step - loss: 0.5381 - acc: 0.8254 - val_loss: 0.5053 - val_acc: 0.8478\n",
      "Epoch 10/10\n",
      "5000/5000 [==============================] - 2s 322us/step - loss: 0.4813 - acc: 0.8548 - val_loss: 0.4517 - val_acc: 0.8648\n",
      "13.519999999999996\n",
      "Train on 5000 samples, validate on 5000 samples\n",
      "Epoch 1/10\n",
      "5000/5000 [==============================] - 3s 565us/step - loss: 2.2325 - acc: 0.1802 - val_loss: 1.9970 - val_acc: 0.3052\n",
      "Epoch 2/10\n",
      "5000/5000 [==============================] - 1s 300us/step - loss: 1.4841 - acc: 0.4858 - val_loss: 1.2546 - val_acc: 0.5350\n",
      "Epoch 3/10\n",
      "5000/5000 [==============================] - 2s 335us/step - loss: 0.8687 - acc: 0.7176 - val_loss: 0.6949 - val_acc: 0.7676\n",
      "Epoch 4/10\n",
      "5000/5000 [==============================] - 2s 325us/step - loss: 0.6410 - acc: 0.7960 - val_loss: 0.5481 - val_acc: 0.8210\n",
      "Epoch 5/10\n",
      "5000/5000 [==============================] - 2s 351us/step - loss: 0.5379 - acc: 0.8328 - val_loss: 0.4830 - val_acc: 0.8522\n",
      "Epoch 6/10\n",
      "5000/5000 [==============================] - 2s 324us/step - loss: 0.4719 - acc: 0.8546 - val_loss: 0.4046 - val_acc: 0.8782\n",
      "Epoch 7/10\n",
      "5000/5000 [==============================] - 2s 348us/step - loss: 0.4269 - acc: 0.8612 - val_loss: 0.3777 - val_acc: 0.8898\n",
      "Epoch 8/10\n",
      "5000/5000 [==============================] - 2s 329us/step - loss: 0.3847 - acc: 0.8790 - val_loss: 0.4112 - val_acc: 0.8626\n",
      "Epoch 9/10\n",
      "5000/5000 [==============================] - 2s 340us/step - loss: 0.3631 - acc: 0.8888 - val_loss: 0.3322 - val_acc: 0.8960\n",
      "Epoch 10/10\n",
      "5000/5000 [==============================] - 2s 320us/step - loss: 0.3406 - acc: 0.8908 - val_loss: 0.3167 - val_acc: 0.8964\n",
      "10.36\n",
      "Train on 5000 samples, validate on 5000 samples\n",
      "Epoch 1/10\n",
      "5000/5000 [==============================] - 3s 606us/step - loss: 2.1839 - acc: 0.1904 - val_loss: 1.5804 - val_acc: 0.5474\n",
      "Epoch 2/10\n",
      "5000/5000 [==============================] - 2s 339us/step - loss: 1.2751 - acc: 0.5536 - val_loss: 0.8781 - val_acc: 0.7122\n",
      "Epoch 3/10\n",
      "5000/5000 [==============================] - 2s 344us/step - loss: 0.7752 - acc: 0.7302 - val_loss: 0.5683 - val_acc: 0.8170\n",
      "Epoch 4/10\n",
      "5000/5000 [==============================] - 2s 345us/step - loss: 0.5793 - acc: 0.8098 - val_loss: 0.4577 - val_acc: 0.8540\n",
      "Epoch 5/10\n",
      "5000/5000 [==============================] - 2s 338us/step - loss: 0.4691 - acc: 0.8480 - val_loss: 0.4126 - val_acc: 0.8690\n",
      "Epoch 6/10\n",
      "5000/5000 [==============================] - 2s 386us/step - loss: 0.4258 - acc: 0.8626 - val_loss: 0.3924 - val_acc: 0.8776\n",
      "Epoch 7/10\n",
      "5000/5000 [==============================] - 2s 406us/step - loss: 0.3714 - acc: 0.8822 - val_loss: 0.3079 - val_acc: 0.9062\n",
      "Epoch 8/10\n",
      "5000/5000 [==============================] - 2s 386us/step - loss: 0.3446 - acc: 0.8888 - val_loss: 0.2903 - val_acc: 0.9078\n",
      "Epoch 9/10\n",
      "5000/5000 [==============================] - 2s 389us/step - loss: 0.3230 - acc: 0.8964 - val_loss: 0.2862 - val_acc: 0.9040\n",
      "Epoch 10/10\n",
      "5000/5000 [==============================] - 2s 381us/step - loss: 0.2988 - acc: 0.9048 - val_loss: 0.2538 - val_acc: 0.9208\n",
      "7.920000000000002\n"
     ]
    }
   ],
   "source": [
    "# MB50.\n",
    "use_model2([0.5, 0.5, 0.5], [10, 25, 100], 'mb50', 3, 'un')"
   ]
  },
  {
   "cell_type": "code",
   "execution_count": 82,
   "metadata": {},
   "outputs": [
    {
     "data": {
      "image/png": "[encoded data removed]",
      "text/plain": [
       "<Figure size 432x288 with 1 Axes>"
      ]
     },
     "metadata": {},
     "output_type": "display_data"
    }
   ],
   "source": [
    "index = 3\n",
    "\n",
    "plt.plot(inputsGD[index], outputsGD[index], label='GD')\n",
    "plt.plot(inputsSGD[index], outputsSGD[index], label='SGD')\n",
    "plt.plot(inputsMiniBatch10[index], outputsMiniBatch10[index], label='Mini-Batch10')\n",
    "plt.plot(inputsMiniBatch50[index], outputsMiniBatch50[index], label='Mini-Batch50')\n",
    "plt.xlabel('unities hidden layer')\n",
    "plt.axvline(x=25, ls='dotted')\n",
    "plt.axvline(x=50, ls='dotted')\n",
    "plt.axvline(x=100, ls='dotted')\n",
    "plt.minorticks_on()\n",
    "plt.ylabel('training error (%)')\n",
    "plt.title(\"Gradients (GS, SGD, )\")\n",
    "plt.legend()\n",
    "plt.show()"
   ]
  },
  {
   "cell_type": "code",
   "execution_count": 83,
   "metadata": {},
   "outputs": [
    {
     "data": {
      "text/plain": [
       "Text(0.5,1,'50 unities hidden layer')"
      ]
     },
     "execution_count": 83,
     "metadata": {},
     "output_type": "execute_result"
    },
    {
     "data": {
      "image/png": "[encoded data removed]",
      "text/plain": [
       "<Figure size 1440x432 with 3 Axes>"
      ]
     },
     "metadata": {},
     "output_type": "display_data"
    }
   ],
   "source": [
    "f, (ax1, ax2, ax3) = plt.subplots(1, 3, figsize=(20,6))\n",
    "ax1.plot(inputsGD[0], outputsGD[0], label='GD')\n",
    "ax1.plot(inputsSGD[0], outputsSGD[0], label='SGD')\n",
    "ax1.plot(inputsMiniBatch10[0], outputsMiniBatch10[0], label='Mini-Batch10')\n",
    "ax1.plot(inputsMiniBatch50[0], outputsMiniBatch50[0], label='Mini-Batch50')\n",
    "ax1.axvline(x=0.5, ls='dotted')\n",
    "ax1.axvline(x=1, ls='dotted')\n",
    "ax1.axvline(x=10, ls='dotted')\n",
    "ax1.minorticks_on()\n",
    "ax1.legend()\n",
    "ax1.set_xlabel('learning rate')\n",
    "ax1.set_ylabel('training error (%)')\n",
    "ax1.set_title('25 unities hidden layer')\n",
    "\n",
    "ax2.plot(inputsGD[1], outputsGD[1], label='GD')\n",
    "ax2.plot(inputsSGD[1], outputsSGD[1], label='SGD')\n",
    "ax2.plot(inputsMiniBatch10[1], outputsMiniBatch10[1], label='Mini-Batch10')\n",
    "ax2.plot(inputsMiniBatch50[1], outputsMiniBatch50[1], label='Mini-Batch50')\n",
    "ax2.axvline(x=0.5, ls='dotted')\n",
    "ax2.axvline(x=1, ls='dotted')\n",
    "ax2.axvline(x=10, ls='dotted')\n",
    "ax2.minorticks_on()\n",
    "ax2.legend()\n",
    "ax2.set_xlabel('learning rate')\n",
    "ax2.set_ylabel('training error (%)')\n",
    "ax2.set_title('50 unities hidden layer')\n",
    "\n",
    "ax3.plot(inputsGD[2], outputsGD[2], label='GD')\n",
    "ax3.plot(inputsSGD[2], outputsSGD[2], label='SGD')\n",
    "ax3.plot(inputsMiniBatch10[2], outputsMiniBatch10[2], label='Mini-Batch10')\n",
    "ax3.plot(inputsMiniBatch50[2], outputsMiniBatch50[2], label='Mini-Batch50')\n",
    "ax3.axvline(x=0.5, ls='dotted')\n",
    "ax3.axvline(x=1, ls='dotted')\n",
    "ax3.axvline(x=10, ls='dotted')\n",
    "ax3.minorticks_on()\n",
    "ax3.legend()\n",
    "ax3.set_xlabel('learning rate')\n",
    "ax3.set_ylabel('training error (%)')\n",
    "ax3.set_title('100 unities hidden layer')"
   ]
  },
  {
   "cell_type": "markdown",
   "metadata": {},
   "source": [
    "# Testes Complementares\n",
    "\n",
    "Apesar de não estar previsto no enunciado do TP, vamos variar alguns dos parâmetros:\n",
    "\n"
   ]
  },
  {
   "cell_type": "code",
   "execution_count": 84,
   "metadata": {},
   "outputs": [
    {
     "name": "stdout",
     "output_type": "stream",
     "text": [
      "Train on 5000 samples, validate on 5000 samples\n",
      "Epoch 1/1\n",
      "5000/5000 [==============================] - 9s 2ms/step - loss: 1.7281 - acc: 0.3594 - val_loss: 0.8374 - val_acc: 0.6994\n",
      "30.060000000000002\n",
      "Train on 5000 samples, validate on 5000 samples\n",
      "Epoch 1/1\n",
      "5000/5000 [==============================] - 8s 2ms/step - loss: 2.6264 - acc: 0.2448 - val_loss: 4.6667 - val_acc: 0.2378\n",
      "76.22\n",
      "Train on 5000 samples, validate on 5000 samples\n",
      "Epoch 1/1\n",
      "5000/5000 [==============================] - 9s 2ms/step - loss: 14.4884 - acc: 0.0994 - val_loss: 14.5063 - val_acc: 0.1000\n",
      "90.0\n"
     ]
    },
    {
     "data": {
      "image/png": "[encoded data removed]",
      "text/plain": [
       "<Figure size 432x288 with 1 Axes>"
      ]
     },
     "metadata": {},
     "output_type": "display_data"
    }
   ],
   "source": [
    "inputs = [0.5, 1, 10]\n",
    "unities = [25, 50, 100]\n",
    "outputs = []\n",
    "\n",
    "for i, u in zip(inputs, unities):\n",
    "    model = baseline_model(u, i)\n",
    "    model.fit(X_train, y_train, validation_data=(X_test, y_test), epochs=1, batch_size=10, verbose=1)\n",
    "    scores = model.evaluate(X_test, y_test, verbose=0)\n",
    "    print(100-scores[1]*100)\n",
    "    outputs.append(100-scores[1]*100)\n",
    "    \n",
    "plt.plot(inputs, outputs, label='Mini-Batch50')\n",
    "plt.xlabel('learning rate')\n",
    "plt.axvline(x=0.5, ls='dotted')\n",
    "plt.axvline(x=1, ls='dotted')\n",
    "plt.axvline(x=10, ls='dotted')\n",
    "plt.minorticks_on()\n",
    "plt.ylabel('training error (%)')\n",
    "plt.title(\"Mini-Batch 10 (1 epoch)\")\n",
    "plt.legend()\n",
    "plt.show()"
   ]
  },
  {
   "cell_type": "code",
   "execution_count": null,
   "metadata": {},
   "outputs": [],
   "source": []
  }
 ],
 "metadata": {
  "kernelspec": {
   "display_name": "Python 3",
   "language": "python",
   "name": "python3"
  },
  "language_info": {
   "codemirror_mode": {
    "name": "ipython",
    "version": 3
   },
   "file_extension": ".py",
   "mimetype": "text/x-python",
   "name": "python",
   "nbconvert_exporter": "python",
   "pygments_lexer": "ipython3",
   "version": "3.6.5"
  }
 },
 "nbformat": 4,
 "nbformat_minor": 2
}
