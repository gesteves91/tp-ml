{
 "cells": [
  {
   "cell_type": "markdown",
   "metadata": {},
   "source": [
    "# <span style=\"color:blue\"> TP de Aprendizagem de Máquina </span>\n",
    "#### Aluno: Geanderson Esteves dos Santos\n",
    "\n",
    "Trabalho Prático 1\n",
    "- Redes Neuronais + Backpropagation\n",
    "\n",
    "Neste trabalho você irá implementar uma rede neuronal com três camadas:\n",
    "\n",
    "1. Camada de entrada: cada unidade representa uma dimensão do dado de entrada.\n",
    "\n",
    "2. Camada oculta: cada unidade representa uma transformação a partir das unidades de entrada.\n",
    "\n",
    "3. Camada de saída: cada unidade representa a chance da saída correspondente ser a correta.\n",
    "\n",
    "Você irá utilizar a função Sigmóide para obter não-linearidade. Além disso, a função de perda a ser minimizada é a seguinte:\n",
    "\n",
    "onde m é a quantidade de entradas no treino, K é o número de saídas possíveis,  representa a saída correta de cada classe k em cada entrada (i), e similarmente representa a saída dada pela rede neuronal.\n",
    "\n",
    "O dado a ser utilizado está anexado. Trata-se de 5000 entradas, onde cada entrada refere-se a um dígito escrito manualmente (i.e., MNIST dataset). Dessa forma, m=5000 e K=10. Cada entrada é dada por uma matriz de dimensões 28 por 28, ou seja, um vetor de 784 dimensões. A primeira coluna do arquivo sempre é o rótulo do dígito correto.\n",
    "\n",
    "A rede neuronal a ser implementada deverá ter 784 unidades de entrada e 10 unidades de saída. Em seus experimentos, você deverá variar o número de unidades na camada oculta (25, 50, 100).\n",
    "\n",
    "Além disso, você deverá comparar os seguintes algoritmos de cálculo de gradiente:\n",
    "\n",
    "1. Gradient Descent: o gradiente é calculado após cada época (após as 5000 entradas serem processadas).\n",
    "\n",
    "2. Stochastic Gradient Descent: o gradiente é calculado após cada entrada.\n",
    "\n",
    "3. Mini-Batch: o gradiente é calculado após um certo número de entradas (considere 10 e 50).\n",
    "\n",
    "Por fim, você também deverá variar a taxa de aprendizado: 0.5, 1, 10.\n",
    "\n",
    "O documento a ser entregue deverá apresentar o resultado de seus experimentos. Ou seja, deverá apresentar discussão da variação do número de unidades na camada oculta para cada um dos três algoritmos de cálculo de gradiente. Você deverá apresentar gráficos mostrando a convergência do erro empírico para cada situação (unidades na camada oculta, algoritmo de cálculo do gradiente, taxa de aprendizado). Você deverá deixar claras todas as hipóteses que julgar serem pertinentes."
   ]
  },
  {
   "cell_type": "code",
   "execution_count": 1,
   "metadata": {},
   "outputs": [
    {
     "name": "stderr",
     "output_type": "stream",
     "text": [
      "Using TensorFlow backend.\n"
     ]
    }
   ],
   "source": [
    "# Required packages.\n",
    "import numpy as np\n",
    "import matplotlib.pyplot as plt\n",
    "from keras.models import Sequential\n",
    "from keras.layers import Dense\n",
    "from keras.layers import Dropout\n",
    "from keras.utils import np_utils\n",
    "from keras import optimizers"
   ]
  },
  {
   "cell_type": "code",
   "execution_count": 2,
   "metadata": {},
   "outputs": [],
   "source": [
    "# Fix random seed for reproducibility.\n",
    "seed = 7\n",
    "np.random.seed(seed)"
   ]
  },
  {
   "cell_type": "code",
   "execution_count": 3,
   "metadata": {},
   "outputs": [],
   "source": [
    "# Load data.\n",
    "dataset = np.loadtxt(\"data_tp1\", delimiter=\",\")\n",
    "X_train = dataset[:, 1:].reshape(dataset.shape[0],1,28, 28).astype('float32')\n",
    "y_train = dataset[:,0]\n",
    "X_test = dataset[:,1:].reshape(dataset.shape[0],1, 28, 28).astype('float32')\n",
    "y_test = dataset[:,0]"
   ]
  },
  {
   "cell_type": "code",
   "execution_count": 4,
   "metadata": {},
   "outputs": [],
   "source": [
    "# An image is represented by 28*28 then it is a 784 in memory.\n",
    "num_pixels = 784\n",
    "X_train = X_train.reshape(X_train.shape[0], num_pixels).astype('float32')\n",
    "X_test = X_test.reshape(X_test.shape[0], num_pixels).astype('float32')"
   ]
  },
  {
   "cell_type": "code",
   "execution_count": 5,
   "metadata": {},
   "outputs": [],
   "source": [
    "# Normalize inputs from 0-255 to 0-1.\n",
    "X_train = X_train / 255\n",
    "X_test = X_test / 255"
   ]
  },
  {
   "cell_type": "code",
   "execution_count": 6,
   "metadata": {},
   "outputs": [],
   "source": [
    "# One hot encode outputs\n",
    "y_train = np_utils.to_categorical(y_train)\n",
    "y_test = np_utils.to_categorical(y_test)\n",
    "num_classes = y_test.shape[1]"
   ]
  },
  {
   "cell_type": "code",
   "execution_count": 7,
   "metadata": {},
   "outputs": [],
   "source": [
    "# Define model\n",
    "def baseline_model(unity, learning_rate):\n",
    "    model = Sequential()\n",
    "    model.add(Dense(num_pixels, input_dim=num_pixels, kernel_initializer='normal', activation='sigmoid'))\n",
    "    model.add(Dense(unity, input_dim=unity, kernel_initializer='normal', activation='sigmoid'))\n",
    "    model.add(Dense(num_classes, kernel_initializer='normal', activation='softmax'))\n",
    "    # Set the gradient\n",
    "    sgd = optimizers.SGD(lr=learning_rate)\n",
    "    # Compile model\n",
    "    model.compile(loss='categorical_crossentropy', optimizer=sgd, metrics=['accuracy'])\n",
    "    return model"
   ]
  },
  {
   "cell_type": "code",
   "execution_count": 8,
   "metadata": {},
   "outputs": [],
   "source": [
    "# Build the model.\n",
    "#unity = 50\n",
    "#learning_rate = 0.5\n",
    "#model = baseline_model(unity, learning_rate)\n",
    "# Fit the model\n",
    "# default batch size was 200\n",
    "#model.fit(X_train, y_train, validation_data=(X_test, y_test))\n",
    "#model.fit(X_train, y_train, validation_data=(X_test, y_test), epochs=10, batch_size=10, verbose=1)\n",
    "# Final evaluation of the model\n",
    "#scores = model.evaluate(X_test, y_test, verbose=2)\n",
    "#print(\"Training Error: %.2f%%\" % (100-scores[1]*100))"
   ]
  },
  {
   "cell_type": "markdown",
   "metadata": {},
   "source": [
    "## <span style=\"color:red\">Testes variando Gradient Descent (GD), Sthocastic Gradient Descent (SGD) e Mini-Batch</span>\n",
    "### Para efeito de comparação e seguindo as intruções do TP mostradas no primeiro item deste notebook.\n",
    "### 1 - Testar o learning rate (0.5, 1, 10) para os 3 gradientes (GD, SGD e Mini-Batch) variando o número de unidades da hidden layer (25, 50, 100). \n",
    "### 2 - "
   ]
  },
  {
   "cell_type": "code",
   "execution_count": 9,
   "metadata": {},
   "outputs": [],
   "source": [
    "# Use the model by parameters.\n",
    "def use_model(learning_rate, unity, gradient):\n",
    "    lr = learning_rate\n",
    "    un = unity\n",
    "    \n",
    "    if gradient == 'gd':\n",
    "        inputsGD.append(lr)\n",
    "        model = baseline_model(un, lr)\n",
    "        model.fit(X_train, y_train, validation_data=(X_test, y_test), epochs=1, batch_size=5000, verbose=1)\n",
    "        scores = model.evaluate(X_test, y_test, verbose=0)\n",
    "        print(100-scores[1]*100)\n",
    "        outputsGD.append(100-scores[1]*100)\n",
    "    elif gradient == 'sgd':\n",
    "        inputsSGD.append(lr)\n",
    "        model = baseline_model(un, lr)\n",
    "        model.fit(X_train, y_train, validation_data=(X_test, y_test), epochs=1, batch_size=1, verbose=1)\n",
    "        scores = model.evaluate(X_test, y_test, verbose=0)\n",
    "        print(100-scores[1]*100)\n",
    "        outputsSGD.append(100-scores[1]*100)\n",
    "    elif gradient == 'mb10':\n",
    "        inputsMiniBatch10.append(lr)\n",
    "        model = baseline_model(un, lr)\n",
    "        model.fit(X_train, y_train, validation_data=(X_test, y_test), epochs=1, batch_size=10, verbose=1)\n",
    "        scores = model.evaluate(X_test, y_test, verbose=0)\n",
    "        print(100-scores[1]*100)\n",
    "        outputsMiniBatch10.append(100-scores[1]*100)\n",
    "    elif gradient == 'mb50':\n",
    "        inputsMiniBatch50.append(lr)\n",
    "        model = baseline_model(un, lr)\n",
    "        model.fit(X_train, y_train, validation_data=(X_test, y_test), epochs=1, batch_size=50, verbose=1)\n",
    "        scores = model.evaluate(X_test, y_test, verbose=0)\n",
    "        print(100-scores[1]*100)\n",
    "        outputsMiniBatch50.append(100-scores[1]*100)"
   ]
  },
  {
   "cell_type": "code",
   "execution_count": 10,
   "metadata": {},
   "outputs": [],
   "source": [
    "inputsGD = []\n",
    "outputsGD = []\n",
    "inputsSGD = []\n",
    "outputsSGD = []\n",
    "inputsMiniBatch10 = []\n",
    "outputsMiniBatch10 = []\n",
    "inputsMiniBatch50 = []\n",
    "outputsMiniBatch50 = []"
   ]
  },
  {
   "cell_type": "code",
   "execution_count": 11,
   "metadata": {},
   "outputs": [],
   "source": [
    "def clear_arrays():\n",
    "    del inputsGD[:]\n",
    "    del outputsGD[:]\n",
    "    del inputsSGD[:]\n",
    "    del outputsSGD[:]\n",
    "    del inputsMiniBatch10[:]\n",
    "    del outputsMiniBatch10[:]\n",
    "    del inputsMiniBatch50[:]\n",
    "    del outputsMiniBatch50[:]"
   ]
  },
  {
   "cell_type": "code",
   "execution_count": 12,
   "metadata": {},
   "outputs": [
    {
     "name": "stdout",
     "output_type": "stream",
     "text": [
      "Train on 5000 samples, validate on 5000 samples\n",
      "Epoch 1/1\n",
      "5000/5000 [==============================] - 1s 166us/step - loss: 2.3074 - acc: 0.0932 - val_loss: 2.3034 - val_acc: 0.0918\n",
      "90.82\n"
     ]
    }
   ],
   "source": [
    "# GD, lr = 0.5, un = 25.\n",
    "use_model(0.5, 25, 'gd')"
   ]
  },
  {
   "cell_type": "code",
   "execution_count": 13,
   "metadata": {},
   "outputs": [
    {
     "name": "stdout",
     "output_type": "stream",
     "text": [
      "Train on 5000 samples, validate on 5000 samples\n",
      "Epoch 1/1\n",
      "5000/5000 [==============================] - 1s 135us/step - loss: 2.3053 - acc: 0.1316 - val_loss: 2.2977 - val_acc: 0.1142\n",
      "88.58\n"
     ]
    }
   ],
   "source": [
    "# GD, lr = 1, un = 25.\n",
    "use_model(1, 25, 'gd')"
   ]
  },
  {
   "cell_type": "code",
   "execution_count": 14,
   "metadata": {},
   "outputs": [
    {
     "name": "stdout",
     "output_type": "stream",
     "text": [
      "Train on 5000 samples, validate on 5000 samples\n",
      "Epoch 1/1\n",
      "5000/5000 [==============================] - 1s 151us/step - loss: 2.3082 - acc: 0.0920 - val_loss: 2.6255 - val_acc: 0.1000\n",
      "90.0\n"
     ]
    }
   ],
   "source": [
    "# GD, lr = 10, un = 25.\n",
    "use_model(10, 25, 'gd')"
   ]
  },
  {
   "cell_type": "code",
   "execution_count": 15,
   "metadata": {},
   "outputs": [
    {
     "name": "stdout",
     "output_type": "stream",
     "text": [
      "Train on 5000 samples, validate on 5000 samples\n",
      "Epoch 1/1\n",
      "5000/5000 [==============================] - 50s 10ms/step - loss: 2.8682 - acc: 0.0986 - val_loss: 3.0502 - val_acc: 0.1000\n",
      "90.0\n"
     ]
    }
   ],
   "source": [
    "# SGD, lr = 0.5, un = 25.\n",
    "use_model(0.5, 25, 'sgd')"
   ]
  },
  {
   "cell_type": "code",
   "execution_count": 16,
   "metadata": {},
   "outputs": [
    {
     "name": "stdout",
     "output_type": "stream",
     "text": [
      "Train on 5000 samples, validate on 5000 samples\n",
      "Epoch 1/1\n",
      "5000/5000 [==============================] - 39s 8ms/step - loss: 2.5369 - acc: 0.1050 - val_loss: 2.6668 - val_acc: 0.1060\n",
      "89.4\n"
     ]
    }
   ],
   "source": [
    "# SGD, lr = 1, un = 25.\n",
    "use_model(1, 25, 'sgd')"
   ]
  },
  {
   "cell_type": "code",
   "execution_count": 17,
   "metadata": {},
   "outputs": [
    {
     "name": "stdout",
     "output_type": "stream",
     "text": [
      "Train on 5000 samples, validate on 5000 samples\n",
      "Epoch 1/1\n",
      "5000/5000 [==============================] - 39s 8ms/step - loss: 14.4423 - acc: 0.1038 - val_loss: 14.4418 - val_acc: 0.1040\n",
      "89.6\n"
     ]
    }
   ],
   "source": [
    "# SGD, lr = 10, un = 25.\n",
    "use_model(10, 25, 'sgd')"
   ]
  },
  {
   "cell_type": "code",
   "execution_count": 18,
   "metadata": {},
   "outputs": [
    {
     "name": "stdout",
     "output_type": "stream",
     "text": [
      "Train on 5000 samples, validate on 5000 samples\n",
      "Epoch 1/1\n",
      "5000/5000 [==============================] - 6s 1ms/step - loss: 1.6280 - acc: 0.4012 - val_loss: 0.7492 - val_acc: 0.7566\n",
      "24.33999999999999\n"
     ]
    }
   ],
   "source": [
    "# MB10, lr = 0.5, un = 25.\n",
    "use_model(0.5, 25, 'mb10')"
   ]
  },
  {
   "cell_type": "code",
   "execution_count": 19,
   "metadata": {},
   "outputs": [
    {
     "name": "stdout",
     "output_type": "stream",
     "text": [
      "Train on 5000 samples, validate on 5000 samples\n",
      "Epoch 1/1\n",
      "5000/5000 [==============================] - 7s 1ms/step - loss: 1.9382 - acc: 0.2780 - val_loss: 1.0982 - val_acc: 0.5630\n",
      "43.7\n"
     ]
    }
   ],
   "source": [
    "# MB10, lr = 1, un = 25.\n",
    "use_model(1, 25, 'mb10')"
   ]
  },
  {
   "cell_type": "code",
   "execution_count": 20,
   "metadata": {},
   "outputs": [
    {
     "name": "stdout",
     "output_type": "stream",
     "text": [
      "Train on 5000 samples, validate on 5000 samples\n",
      "Epoch 1/1\n",
      "5000/5000 [==============================] - 6s 1ms/step - loss: 7.5823 - acc: 0.1008 - val_loss: 6.5960 - val_acc: 0.1142\n",
      "88.58\n"
     ]
    }
   ],
   "source": [
    "# MB10, lr = 10, un = 25\n",
    "use_model(10, 25, 'mb10')"
   ]
  },
  {
   "cell_type": "code",
   "execution_count": 21,
   "metadata": {},
   "outputs": [
    {
     "name": "stdout",
     "output_type": "stream",
     "text": [
      "Train on 5000 samples, validate on 5000 samples\n",
      "Epoch 1/1\n",
      "5000/5000 [==============================] - 2s 481us/step - loss: 2.2156 - acc: 0.1914 - val_loss: 1.8968 - val_acc: 0.2942\n",
      "70.58\n"
     ]
    }
   ],
   "source": [
    "# MB50, lr = 0.5, un = 25.\n",
    "use_model(0.5, 25, 'mb50')"
   ]
  },
  {
   "cell_type": "code",
   "execution_count": 22,
   "metadata": {},
   "outputs": [
    {
     "name": "stdout",
     "output_type": "stream",
     "text": [
      "Train on 5000 samples, validate on 5000 samples\n",
      "Epoch 1/1\n",
      "5000/5000 [==============================] - 2s 411us/step - loss: 2.2536 - acc: 0.1616 - val_loss: 2.0213 - val_acc: 0.1894\n",
      "81.06\n"
     ]
    }
   ],
   "source": [
    "# MB50, lr = 1, un = 25.\n",
    "use_model(1, 25, 'mb50')"
   ]
  },
  {
   "cell_type": "code",
   "execution_count": 23,
   "metadata": {},
   "outputs": [
    {
     "name": "stdout",
     "output_type": "stream",
     "text": [
      "Train on 5000 samples, validate on 5000 samples\n",
      "Epoch 1/1\n",
      "5000/5000 [==============================] - 2s 345us/step - loss: 2.5319 - acc: 0.1008 - val_loss: 2.3935 - val_acc: 0.1024\n",
      "89.76\n"
     ]
    }
   ],
   "source": [
    "# MB50, lr = 10, un = 25.\n",
    "use_model(10, 25, 'mb50') "
   ]
  },
  {
   "cell_type": "code",
   "execution_count": 24,
   "metadata": {
    "scrolled": true
   },
   "outputs": [
    {
     "data": {
      "image/png": "[encoded data removed]",
      "text/plain": [
       "<Figure size 432x288 with 1 Axes>"
      ]
     },
     "metadata": {},
     "output_type": "display_data"
    }
   ],
   "source": [
    "plt.plot(inputsGD, outputsGD, label='GD')\n",
    "plt.plot(inputsSGD, outputsSGD, label='SGD')\n",
    "plt.plot(inputsMiniBatch10, outputsMiniBatch10, label='Mini-Batch10')\n",
    "plt.plot(inputsMiniBatch50, outputsMiniBatch50, label='Mini-Batch50')\n",
    "plt.xlabel('learning rate')\n",
    "plt.axvline(x=0.5, ls='dotted')\n",
    "plt.axvline(x=1, ls='dotted')\n",
    "plt.axvline(x=10, ls='dotted')\n",
    "plt.minorticks_on()\n",
    "plt.ylabel('training error (%)')\n",
    "plt.title(\"25 unities hidden layer\")\n",
    "plt.legend()\n",
    "plt.show()"
   ]
  },
  {
   "cell_type": "code",
   "execution_count": 25,
   "metadata": {},
   "outputs": [],
   "source": [
    "# Limpar os arrays para testar outro features.\n",
    "clear_arrays()"
   ]
  },
  {
   "cell_type": "code",
   "execution_count": 26,
   "metadata": {},
   "outputs": [
    {
     "name": "stdout",
     "output_type": "stream",
     "text": [
      "Train on 5000 samples, validate on 5000 samples\n",
      "Epoch 1/1\n",
      "5000/5000 [==============================] - 1s 191us/step - loss: 2.3230 - acc: 0.1222 - val_loss: 2.3015 - val_acc: 0.1142\n",
      "88.58\n"
     ]
    }
   ],
   "source": [
    "# GD, lr = 0.5, un = 50.\n",
    "use_model(0.5, 50, 'gd')"
   ]
  },
  {
   "cell_type": "code",
   "execution_count": 27,
   "metadata": {},
   "outputs": [
    {
     "name": "stdout",
     "output_type": "stream",
     "text": [
      "Train on 5000 samples, validate on 5000 samples\n",
      "Epoch 1/1\n",
      "5000/5000 [==============================] - 1s 178us/step - loss: 2.3168 - acc: 0.0924 - val_loss: 2.3001 - val_acc: 0.1142\n",
      "88.58\n"
     ]
    }
   ],
   "source": [
    "# GD, lr = 1, un = 50.\n",
    "use_model(1, 50, 'gd')"
   ]
  },
  {
   "cell_type": "code",
   "execution_count": 28,
   "metadata": {},
   "outputs": [
    {
     "name": "stdout",
     "output_type": "stream",
     "text": [
      "Train on 5000 samples, validate on 5000 samples\n",
      "Epoch 1/1\n",
      "5000/5000 [==============================] - 1s 189us/step - loss: 2.3130 - acc: 0.1142 - val_loss: 4.0087 - val_acc: 0.1040\n",
      "89.6\n"
     ]
    }
   ],
   "source": [
    "# GD, lr = 1, un = 50.\n",
    "use_model(10, 50, 'gd')"
   ]
  },
  {
   "cell_type": "code",
   "execution_count": 29,
   "metadata": {},
   "outputs": [
    {
     "name": "stdout",
     "output_type": "stream",
     "text": [
      "Train on 5000 samples, validate on 5000 samples\n",
      "Epoch 1/1\n",
      "5000/5000 [==============================] - 44s 9ms/step - loss: 14.5417 - acc: 0.0976 - val_loss: 14.5417 - val_acc: 0.0978\n",
      "90.22\n"
     ]
    }
   ],
   "source": [
    "# SGD, lr = 0.5, un = 50.\n",
    "use_model(0.5, 50, 'sgd')"
   ]
  },
  {
   "cell_type": "code",
   "execution_count": 30,
   "metadata": {},
   "outputs": [
    {
     "name": "stdout",
     "output_type": "stream",
     "text": [
      "Train on 5000 samples, validate on 5000 samples\n",
      "Epoch 1/1\n",
      "5000/5000 [==============================] - 38s 8ms/step - loss: 14.6288 - acc: 0.0922 - val_loss: 14.6288 - val_acc: 0.0924\n",
      "90.76\n"
     ]
    }
   ],
   "source": [
    "# SGD, lr = 1, un = 50.\n",
    "use_model(1, 50, 'sgd')"
   ]
  },
  {
   "cell_type": "code",
   "execution_count": 31,
   "metadata": {},
   "outputs": [
    {
     "name": "stdout",
     "output_type": "stream",
     "text": [
      "Train on 5000 samples, validate on 5000 samples\n",
      "Epoch 1/1\n",
      "5000/5000 [==============================] - 40s 8ms/step - loss: 14.2779 - acc: 0.1140 - val_loss: 14.2774 - val_acc: 0.1142\n",
      "88.58\n"
     ]
    }
   ],
   "source": [
    "# SGD, lr = 10, un = 50.\n",
    "use_model(10, 50, 'sgd')"
   ]
  },
  {
   "cell_type": "code",
   "execution_count": 32,
   "metadata": {},
   "outputs": [
    {
     "name": "stdout",
     "output_type": "stream",
     "text": [
      "Train on 5000 samples, validate on 5000 samples\n",
      "Epoch 1/1\n",
      "5000/5000 [==============================] - 9s 2ms/step - loss: 1.5726 - acc: 0.4184 - val_loss: 0.7773 - val_acc: 0.7400\n",
      "26.0\n"
     ]
    }
   ],
   "source": [
    "# MB10, lr = 0.5, un = 50.\n",
    "use_model(0.5, 50, 'mb10')"
   ]
  },
  {
   "cell_type": "code",
   "execution_count": 33,
   "metadata": {},
   "outputs": [
    {
     "name": "stdout",
     "output_type": "stream",
     "text": [
      "Train on 5000 samples, validate on 5000 samples\n",
      "Epoch 1/1\n",
      "5000/5000 [==============================] - 10s 2ms/step - loss: 4.6257 - acc: 0.0948 - val_loss: 3.8837 - val_acc: 0.1142\n",
      "88.58\n"
     ]
    }
   ],
   "source": [
    "# MB10, lr = 1, un = 50.\n",
    "use_model(1, 50, 'mb10')"
   ]
  },
  {
   "cell_type": "code",
   "execution_count": 34,
   "metadata": {},
   "outputs": [
    {
     "name": "stdout",
     "output_type": "stream",
     "text": [
      "Train on 5000 samples, validate on 5000 samples\n",
      "Epoch 1/1\n",
      "5000/5000 [==============================] - 9s 2ms/step - loss: 14.4397 - acc: 0.1022 - val_loss: 14.4676 - val_acc: 0.1024\n",
      "89.76\n"
     ]
    }
   ],
   "source": [
    "# MB10, lr = 10, un = 50.\n",
    "use_model(10, 50, 'mb10')"
   ]
  },
  {
   "cell_type": "code",
   "execution_count": 35,
   "metadata": {},
   "outputs": [
    {
     "name": "stdout",
     "output_type": "stream",
     "text": [
      "Train on 5000 samples, validate on 5000 samples\n",
      "Epoch 1/1\n",
      "5000/5000 [==============================] - 3s 523us/step - loss: 2.1810 - acc: 0.1994 - val_loss: 1.9169 - val_acc: 0.2222\n",
      "77.78\n"
     ]
    }
   ],
   "source": [
    "# MB50, lr = 0.5, un = 50.\n",
    "use_model(0.5, 50, 'mb50')"
   ]
  },
  {
   "cell_type": "code",
   "execution_count": 36,
   "metadata": {},
   "outputs": [
    {
     "name": "stdout",
     "output_type": "stream",
     "text": [
      "Train on 5000 samples, validate on 5000 samples\n",
      "Epoch 1/1\n",
      "5000/5000 [==============================] - 3s 646us/step - loss: 12.7125 - acc: 0.0992 - val_loss: 14.4676 - val_acc: 0.1024\n",
      "89.76\n"
     ]
    }
   ],
   "source": [
    "# MB50, lr = 1, un = 50.\n",
    "use_model(1, 50, 'mb50')"
   ]
  },
  {
   "cell_type": "code",
   "execution_count": 37,
   "metadata": {},
   "outputs": [
    {
     "name": "stdout",
     "output_type": "stream",
     "text": [
      "Train on 5000 samples, validate on 5000 samples\n",
      "Epoch 1/1\n",
      "5000/5000 [==============================] - 3s 528us/step - loss: 14.3810 - acc: 0.0968 - val_loss: 14.5417 - val_acc: 0.0978\n",
      "90.22\n"
     ]
    }
   ],
   "source": [
    "# MB50, lr = 10, un = 50.\n",
    "use_model(10, 50, 'mb50')"
   ]
  },
  {
   "cell_type": "code",
   "execution_count": 38,
   "metadata": {},
   "outputs": [
    {
     "data": {
      "image/png": "[encoded data removed]",
      "text/plain": [
       "<Figure size 432x288 with 1 Axes>"
      ]
     },
     "metadata": {},
     "output_type": "display_data"
    }
   ],
   "source": [
    "plt.plot(inputsGD, outputsGD, label='GD')\n",
    "plt.plot(inputsSGD, outputsSGD, label='SGD')\n",
    "plt.plot(inputsMiniBatch10, outputsMiniBatch10, label='Mini-Batch10')\n",
    "plt.plot(inputsMiniBatch50, outputsMiniBatch50, label='Mini-Batch50')\n",
    "plt.xlabel('learning rate')\n",
    "plt.axvline(x=0.5, ls='dotted')\n",
    "plt.axvline(x=1, ls='dotted')\n",
    "plt.axvline(x=10, ls='dotted')\n",
    "plt.minorticks_on()\n",
    "plt.ylabel('training error (%)')\n",
    "plt.title(\"25 unities hidden layer\")\n",
    "plt.legend()\n",
    "plt.show()"
   ]
  },
  {
   "cell_type": "code",
   "execution_count": 39,
   "metadata": {},
   "outputs": [],
   "source": [
    "# Limpar os arrays para testar outro features.\n",
    "clear_arrays()"
   ]
  },
  {
   "cell_type": "code",
   "execution_count": 40,
   "metadata": {},
   "outputs": [
    {
     "name": "stdout",
     "output_type": "stream",
     "text": [
      "Train on 5000 samples, validate on 5000 samples\n",
      "Epoch 1/1\n",
      "5000/5000 [==============================] - 1s 279us/step - loss: 2.3193 - acc: 0.1000 - val_loss: 2.3048 - val_acc: 0.1142\n",
      "88.58\n"
     ]
    }
   ],
   "source": [
    "# GD, lr = 0.5, un = 100.\n",
    "use_model(0.5, 100, 'gd')"
   ]
  },
  {
   "cell_type": "code",
   "execution_count": 41,
   "metadata": {},
   "outputs": [
    {
     "name": "stdout",
     "output_type": "stream",
     "text": [
      "Train on 5000 samples, validate on 5000 samples\n",
      "Epoch 1/1\n",
      "5000/5000 [==============================] - 1s 261us/step - loss: 2.3204 - acc: 0.0984 - val_loss: 2.3656 - val_acc: 0.1024\n",
      "89.76\n"
     ]
    }
   ],
   "source": [
    "# GD, lr = 1, un = 100.\n",
    "use_model(1, 100, 'gd')"
   ]
  },
  {
   "cell_type": "code",
   "execution_count": 42,
   "metadata": {},
   "outputs": [
    {
     "name": "stdout",
     "output_type": "stream",
     "text": [
      "Train on 5000 samples, validate on 5000 samples\n",
      "Epoch 1/1\n",
      "5000/5000 [==============================] - 2s 316us/step - loss: 2.3297 - acc: 0.1024 - val_loss: 6.3881 - val_acc: 0.1266\n",
      "87.34\n"
     ]
    }
   ],
   "source": [
    "# GD, lr = 1, un = 100.\n",
    "use_model(10, 100, 'gd')"
   ]
  },
  {
   "cell_type": "code",
   "execution_count": 43,
   "metadata": {},
   "outputs": [
    {
     "name": "stdout",
     "output_type": "stream",
     "text": [
      "Train on 5000 samples, validate on 5000 samples\n",
      "Epoch 1/1\n",
      "5000/5000 [==============================] - 50s 10ms/step - loss: 2.6312 - acc: 0.2886 - val_loss: 3.6170 - val_acc: 0.3166\n",
      "68.34\n"
     ]
    }
   ],
   "source": [
    "# SGD, lr = 0.5, un = 100.\n",
    "use_model(0.5, 100, 'sgd')"
   ]
  },
  {
   "cell_type": "code",
   "execution_count": 44,
   "metadata": {},
   "outputs": [
    {
     "name": "stdout",
     "output_type": "stream",
     "text": [
      "Train on 5000 samples, validate on 5000 samples\n",
      "Epoch 1/1\n",
      "5000/5000 [==============================] - 38s 8ms/step - loss: 14.5067 - acc: 0.0998 - val_loss: 14.5063 - val_acc: 0.1000\n",
      "90.0\n"
     ]
    }
   ],
   "source": [
    "# SGD, lr = 1, un = 100.\n",
    "use_model(1, 100, 'sgd')"
   ]
  },
  {
   "cell_type": "code",
   "execution_count": 45,
   "metadata": {},
   "outputs": [
    {
     "name": "stdout",
     "output_type": "stream",
     "text": [
      "Train on 5000 samples, validate on 5000 samples\n",
      "Epoch 1/1\n",
      "5000/5000 [==============================] - 41s 8ms/step - loss: 14.5067 - acc: 0.0998 - val_loss: 14.5063 - val_acc: 0.1000\n",
      "90.0\n"
     ]
    }
   ],
   "source": [
    "# SGD, lr = 10, un = 100.\n",
    "use_model(10, 100, 'sgd')"
   ]
  },
  {
   "cell_type": "code",
   "execution_count": 46,
   "metadata": {},
   "outputs": [
    {
     "name": "stdout",
     "output_type": "stream",
     "text": [
      "Train on 5000 samples, validate on 5000 samples\n",
      "Epoch 1/1\n",
      "5000/5000 [==============================] - 6s 1ms/step - loss: 1.8022 - acc: 0.3530 - val_loss: 0.7165 - val_acc: 0.7588\n",
      "24.11999999999999\n"
     ]
    }
   ],
   "source": [
    "# MB10, lr = 0.5, un = 100.\n",
    "use_model(0.5, 100, 'mb10')"
   ]
  },
  {
   "cell_type": "code",
   "execution_count": 47,
   "metadata": {},
   "outputs": [
    {
     "name": "stdout",
     "output_type": "stream",
     "text": [
      "Train on 5000 samples, validate on 5000 samples\n",
      "Epoch 1/1\n",
      "5000/5000 [==============================] - 6s 1ms/step - loss: 1.8143 - acc: 0.3192 - val_loss: 0.7941 - val_acc: 0.7200\n",
      "28.0\n"
     ]
    }
   ],
   "source": [
    "# MB10, lr = 1, un = 100.\n",
    "use_model(1, 100, 'mb10')"
   ]
  },
  {
   "cell_type": "code",
   "execution_count": 48,
   "metadata": {},
   "outputs": [
    {
     "name": "stdout",
     "output_type": "stream",
     "text": [
      "Train on 5000 samples, validate on 5000 samples\n",
      "Epoch 1/1\n",
      "5000/5000 [==============================] - 6s 1ms/step - loss: 14.2471 - acc: 0.1144 - val_loss: 14.2774 - val_acc: 0.1142\n",
      "88.58\n"
     ]
    }
   ],
   "source": [
    "# MB10, lr = 10, un = 100.\n",
    "use_model(10, 100, 'mb10')"
   ]
  },
  {
   "cell_type": "code",
   "execution_count": 49,
   "metadata": {},
   "outputs": [
    {
     "name": "stdout",
     "output_type": "stream",
     "text": [
      "Train on 5000 samples, validate on 5000 samples\n",
      "Epoch 1/1\n",
      "5000/5000 [==============================] - 2s 422us/step - loss: 2.1637 - acc: 0.2180 - val_loss: 1.5612 - val_acc: 0.5722\n",
      "42.779999999999994\n"
     ]
    }
   ],
   "source": [
    "# MB50, lr = 0.5, un = 100.\n",
    "use_model(0.5, 100, 'mb50')"
   ]
  },
  {
   "cell_type": "code",
   "execution_count": 50,
   "metadata": {},
   "outputs": [
    {
     "name": "stdout",
     "output_type": "stream",
     "text": [
      "Train on 5000 samples, validate on 5000 samples\n",
      "Epoch 1/1\n",
      "5000/5000 [==============================] - 2s 447us/step - loss: 2.1621 - acc: 0.2032 - val_loss: 1.6734 - val_acc: 0.4186\n",
      "58.14\n"
     ]
    }
   ],
   "source": [
    "# MB50, lr = 1, un = 100.\n",
    "use_model(1, 100, 'mb50')"
   ]
  },
  {
   "cell_type": "code",
   "execution_count": 51,
   "metadata": {},
   "outputs": [
    {
     "name": "stdout",
     "output_type": "stream",
     "text": [
      "Train on 5000 samples, validate on 5000 samples\n",
      "Epoch 1/1\n",
      "5000/5000 [==============================] - 2s 448us/step - loss: 2.7455 - acc: 0.1128 - val_loss: 2.3703 - val_acc: 0.0920\n",
      "90.8\n"
     ]
    }
   ],
   "source": [
    "# MB50, lr = 10, un = 100.\n",
    "use_model(10, 100, 'mb50')"
   ]
  },
  {
   "cell_type": "code",
   "execution_count": 52,
   "metadata": {},
   "outputs": [
    {
     "data": {
      "image/png": "[encoded data removed]",
      "text/plain": [
       "<Figure size 432x288 with 1 Axes>"
      ]
     },
     "metadata": {},
     "output_type": "display_data"
    }
   ],
   "source": [
    "plt.plot(inputsGD, outputsGD, label='GD')\n",
    "plt.plot(inputsSGD, outputsSGD, label='SGD')\n",
    "plt.plot(inputsMiniBatch10, outputsMiniBatch10, label='Mini-Batch10')\n",
    "plt.plot(inputsMiniBatch50, outputsMiniBatch50, label='Mini-Batch50')\n",
    "plt.xlabel('learning rate')\n",
    "plt.axvline(x=0.5, ls='dotted')\n",
    "plt.axvline(x=1, ls='dotted')\n",
    "plt.axvline(x=10, ls='dotted')\n",
    "plt.minorticks_on()\n",
    "plt.ylabel('training error (%)')\n",
    "plt.title(\"25 unities hidden layer\")\n",
    "plt.legend()\n",
    "plt.show()"
   ]
  },
  {
   "cell_type": "code",
   "execution_count": 53,
   "metadata": {},
   "outputs": [],
   "source": [
    "# Limpar os arrays para testar outro features.\n",
    "clear_arrays()"
   ]
  },
  {
   "cell_type": "code",
   "execution_count": null,
   "metadata": {},
   "outputs": [],
   "source": []
  }
 ],
 "metadata": {
  "kernelspec": {
   "display_name": "Python 3",
   "language": "python",
   "name": "python3"
  },
  "language_info": {
   "codemirror_mode": {
    "name": "ipython",
    "version": 3
   },
   "file_extension": ".py",
   "mimetype": "text/x-python",
   "name": "python",
   "nbconvert_exporter": "python",
   "pygments_lexer": "ipython3",
   "version": "3.6.5"
  }
 },
 "nbformat": 4,
 "nbformat_minor": 2
}
