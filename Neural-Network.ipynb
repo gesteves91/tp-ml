{
 "cells": [
  {
   "cell_type": "code",
   "execution_count": 28,
   "metadata": {},
   "outputs": [],
   "source": [
    "# Required packages.\n",
    "import numpy as np\n",
    "import matplotlib.pyplot as plt\n",
    "from keras.models import Sequential\n",
    "from keras.layers import Dense\n",
    "from keras.layers import Dropout\n",
    "from keras.utils import np_utils\n",
    "from keras import optimizers"
   ]
  },
  {
   "cell_type": "code",
   "execution_count": 2,
   "metadata": {},
   "outputs": [],
   "source": [
    "# fix random seed for reproducibility.\n",
    "seed = 7\n",
    "np.random.seed(seed)"
   ]
  },
  {
   "cell_type": "code",
   "execution_count": 3,
   "metadata": {},
   "outputs": [],
   "source": [
    "# Load data.\n",
    "dataset = np.loadtxt(\"data_tp1\", delimiter=\",\")\n",
    "X_train = dataset[:, 1:].reshape(dataset.shape[0],1,28, 28).astype('float32')\n",
    "y_train = dataset[:,0]\n",
    "X_test = dataset[:,1:].reshape(dataset.shape[0],1, 28, 28).astype('float32')\n",
    "y_test = dataset[:,0]"
   ]
  },
  {
   "cell_type": "code",
   "execution_count": 4,
   "metadata": {},
   "outputs": [],
   "source": [
    "# An image is represented by 28*28 then it is a 784 in memory.\n",
    "num_pixels = 784\n",
    "X_train = X_train.reshape(X_train.shape[0], num_pixels).astype('float32')\n",
    "X_test = X_test.reshape(X_test.shape[0], num_pixels).astype('float32')"
   ]
  },
  {
   "cell_type": "code",
   "execution_count": 5,
   "metadata": {},
   "outputs": [],
   "source": [
    "# Normalize inputs from 0-255 to 0-1.\n",
    "X_train = X_train / 255\n",
    "X_test = X_test / 255"
   ]
  },
  {
   "cell_type": "code",
   "execution_count": 6,
   "metadata": {},
   "outputs": [],
   "source": [
    "# One hot encode outputs\n",
    "y_train = np_utils.to_categorical(y_train)\n",
    "y_test = np_utils.to_categorical(y_test)\n",
    "num_classes = y_test.shape[1]"
   ]
  },
  {
   "cell_type": "code",
   "execution_count": 7,
   "metadata": {},
   "outputs": [],
   "source": [
    "# Set the variables.\n",
    "unity = 100\n",
    "learning_rate = 0.5"
   ]
  },
  {
   "cell_type": "code",
   "execution_count": 8,
   "metadata": {},
   "outputs": [],
   "source": [
    "# Define model\n",
    "def baseline_model(unity, learning_rate):\n",
    "    model = Sequential()\n",
    "    model.add(Dense(num_pixels, input_dim=num_pixels, kernel_initializer='normal', activation='sigmoid'))\n",
    "    model.add(Dense(unity, input_dim=unity, kernel_initializer='normal', activation='sigmoid'))\n",
    "    model.add(Dense(num_classes, kernel_initializer='normal', activation='softmax'))\n",
    "    # Set the gradient\n",
    "    sgd = optimizers.SGD(lr=learning_rate)\n",
    "    # Compile model\n",
    "    model.compile(loss='categorical_crossentropy', optimizer=sgd, metrics=['accuracy'])\n",
    "    return model"
   ]
  },
  {
   "cell_type": "code",
   "execution_count": 21,
   "metadata": {},
   "outputs": [],
   "source": [
    "# Build the model.\n",
    "#model = baseline_model(unity, learning_rate)\n",
    "# Fit the model\n",
    "# default batch size was 200\n",
    "#model.fit(X_train, y_train, validation_data=(X_test, y_test))\n",
    "#model.fit(X_train, y_train, validation_data=(X_test, y_test), epochs=10, batch_size=1, verbose=2)\n",
    "# Final evaluation of the model\n",
    "#scores = model.evaluate(X_test, y_test, verbose=0)\n",
    "#print(\"Training Error: %.2f%%\" % (100-scores[1]*100))\n",
    "#print(100-scores[1]*100)"
   ]
  },
  {
   "cell_type": "code",
   "execution_count": 16,
   "metadata": {},
   "outputs": [],
   "source": [
    "## Testes variando Gradient Descent (GD), Sthocastic Gradient Descent (SGD) e Mini-Batch"
   ]
  },
  {
   "cell_type": "code",
   "execution_count": 23,
   "metadata": {},
   "outputs": [],
   "source": [
    "inputs = []\n",
    "outputs = []"
   ]
  },
  {
   "cell_type": "code",
   "execution_count": 24,
   "metadata": {},
   "outputs": [
    {
     "name": "stdout",
     "output_type": "stream",
     "text": [
      "Train on 5000 samples, validate on 5000 samples\n",
      "Epoch 1/10\n",
      "5000/5000 [==============================] - 36s 7ms/step - loss: 2.4040 - acc: 0.1948 - val_loss: 1.6349 - val_acc: 0.4892\n",
      "Epoch 2/10\n",
      "5000/5000 [==============================] - 39s 8ms/step - loss: 1.4016 - acc: 0.5412 - val_loss: 1.2647 - val_acc: 0.5982\n",
      "Epoch 3/10\n",
      "5000/5000 [==============================] - 45s 9ms/step - loss: 1.7116 - acc: 0.4690 - val_loss: 1.9235 - val_acc: 0.5414\n",
      "Epoch 4/10\n",
      "5000/5000 [==============================] - 51s 10ms/step - loss: 2.1379 - acc: 0.3924 - val_loss: 2.6930 - val_acc: 0.2078\n",
      "Epoch 5/10\n",
      "5000/5000 [==============================] - 48s 10ms/step - loss: 3.1234 - acc: 0.1610 - val_loss: 2.4002 - val_acc: 0.1688\n",
      "Epoch 6/10\n",
      "5000/5000 [==============================] - 58s 12ms/step - loss: 2.8505 - acc: 0.2306 - val_loss: 2.8821 - val_acc: 0.2260\n",
      "Epoch 7/10\n",
      "5000/5000 [==============================] - 44s 9ms/step - loss: 3.0221 - acc: 0.2258 - val_loss: 2.8732 - val_acc: 0.2916\n",
      "Epoch 8/10\n",
      "5000/5000 [==============================] - 47s 9ms/step - loss: 2.9854 - acc: 0.2428 - val_loss: 3.1582 - val_acc: 0.2928\n",
      "Epoch 9/10\n",
      "5000/5000 [==============================] - 46s 9ms/step - loss: 2.9863 - acc: 0.2444 - val_loss: 3.0642 - val_acc: 0.1092\n",
      "Epoch 10/10\n",
      "5000/5000 [==============================] - 42s 8ms/step - loss: 2.9095 - acc: 0.2414 - val_loss: 3.1628 - val_acc: 0.1948\n",
      "80.52\n"
     ]
    }
   ],
   "source": [
    "# Learning Rate 3 gradients Sthocastic Gradient Descent\n",
    "lr = 0.5\n",
    "unity = 25\n",
    "inputs.append(lr)\n",
    "model = baseline_model(unity, learning_rate)\n",
    "model.fit(X_train, y_train, validation_data=(X_test, y_test), epochs=10, batch_size=1, verbose=1)\n",
    "scores = model.evaluate(X_test, y_test, verbose=0)\n",
    "print(100-scores[1]*100)\n",
    "outputs.append(100-scores[1]*100)"
   ]
  },
  {
   "cell_type": "code",
   "execution_count": 25,
   "metadata": {},
   "outputs": [
    {
     "name": "stdout",
     "output_type": "stream",
     "text": [
      "Train on 5000 samples, validate on 5000 samples\n",
      "Epoch 1/10\n",
      "5000/5000 [==============================] - 52s 10ms/step - loss: 3.1321 - acc: 0.1000 - val_loss: 4.7295 - val_acc: 0.1196\n",
      "Epoch 2/10\n",
      "5000/5000 [==============================] - 52s 10ms/step - loss: 3.7316 - acc: 0.1228 - val_loss: 4.0318 - val_acc: 0.1000\n",
      "Epoch 3/10\n",
      "5000/5000 [==============================] - 51s 10ms/step - loss: 3.5465 - acc: 0.1456 - val_loss: 2.9271 - val_acc: 0.1256\n",
      "Epoch 4/10\n",
      "5000/5000 [==============================] - 53s 11ms/step - loss: 3.8564 - acc: 0.1530 - val_loss: 4.3552 - val_acc: 0.2008\n",
      "Epoch 5/10\n",
      "5000/5000 [==============================] - 53s 11ms/step - loss: 4.1856 - acc: 0.1788 - val_loss: 4.4199 - val_acc: 0.1060\n",
      "Epoch 6/10\n",
      "5000/5000 [==============================] - 54s 11ms/step - loss: 3.6678 - acc: 0.2052 - val_loss: 3.6746 - val_acc: 0.2510\n",
      "Epoch 7/10\n",
      "5000/5000 [==============================] - 55s 11ms/step - loss: 3.6168 - acc: 0.2094 - val_loss: 3.3676 - val_acc: 0.2188\n",
      "Epoch 8/10\n",
      "5000/5000 [==============================] - 55s 11ms/step - loss: 3.5514 - acc: 0.2362 - val_loss: 3.2928 - val_acc: 0.3422\n",
      "Epoch 9/10\n",
      "5000/5000 [==============================] - 56s 11ms/step - loss: 3.4006 - acc: 0.2442 - val_loss: 2.9372 - val_acc: 0.2904\n",
      "Epoch 10/10\n",
      "5000/5000 [==============================] - 56s 11ms/step - loss: 3.2903 - acc: 0.2394 - val_loss: 2.9193 - val_acc: 0.2570\n",
      "74.3\n"
     ]
    }
   ],
   "source": [
    "lr = 1\n",
    "unity = 25\n",
    "inputs.append(lr)\n",
    "model = baseline_model(unity, learning_rate)\n",
    "model.fit(X_train, y_train, validation_data=(X_test, y_test), epochs=10, batch_size=1, verbose=1)\n",
    "scores = model.evaluate(X_test, y_test, verbose=0)\n",
    "print(100-scores[1]*100)\n",
    "outputs.append(100-scores[1]*100)"
   ]
  },
  {
   "cell_type": "code",
   "execution_count": 26,
   "metadata": {},
   "outputs": [
    {
     "name": "stdout",
     "output_type": "stream",
     "text": [
      "Train on 5000 samples, validate on 5000 samples\n",
      "Epoch 1/10\n",
      "5000/5000 [==============================] - 52s 10ms/step - loss: 3.4519 - acc: 0.1048 - val_loss: 3.1140 - val_acc: 0.1000\n",
      "Epoch 2/10\n",
      "5000/5000 [==============================] - 55s 11ms/step - loss: 4.1513 - acc: 0.0958 - val_loss: 3.6517 - val_acc: 0.1024\n",
      "Epoch 3/10\n",
      "5000/5000 [==============================] - 51s 10ms/step - loss: 4.3758 - acc: 0.1034 - val_loss: 3.0808 - val_acc: 0.1030\n",
      "Epoch 4/10\n",
      "5000/5000 [==============================] - 52s 10ms/step - loss: 4.0668 - acc: 0.1214 - val_loss: 4.9753 - val_acc: 0.1000\n",
      "Epoch 5/10\n",
      "5000/5000 [==============================] - 53s 11ms/step - loss: 4.5625 - acc: 0.1048 - val_loss: 4.9145 - val_acc: 0.1140\n",
      "Epoch 6/10\n",
      "5000/5000 [==============================] - 55s 11ms/step - loss: 4.5574 - acc: 0.1048 - val_loss: 4.5367 - val_acc: 0.1140\n",
      "Epoch 7/10\n",
      "5000/5000 [==============================] - 57s 11ms/step - loss: 4.5544 - acc: 0.1022 - val_loss: 4.2905 - val_acc: 0.0924\n",
      "Epoch 8/10\n",
      "5000/5000 [==============================] - 54s 11ms/step - loss: 4.5829 - acc: 0.0968 - val_loss: 4.3273 - val_acc: 0.0924\n",
      "Epoch 9/10\n",
      "5000/5000 [==============================] - 53s 11ms/step - loss: 4.5451 - acc: 0.1044 - val_loss: 4.3017 - val_acc: 0.0978\n",
      "Epoch 10/10\n",
      "5000/5000 [==============================] - 60s 12ms/step - loss: 4.4551 - acc: 0.1096 - val_loss: 4.0432 - val_acc: 0.1954\n",
      "80.46000000000001\n"
     ]
    }
   ],
   "source": [
    "lr = 10\n",
    "unity = 25\n",
    "inputs.append(lr)\n",
    "model = baseline_model(unity, learning_rate)\n",
    "model.fit(X_train, y_train, validation_data=(X_test, y_test), epochs=10, batch_size=1, verbose=1)\n",
    "scores = model.evaluate(X_test, y_test, verbose=0)\n",
    "print(100-scores[1]*100)\n",
    "outputs.append(100-scores[1]*100)"
   ]
  },
  {
   "cell_type": "code",
   "execution_count": 35,
   "metadata": {},
   "outputs": [
    {
     "name": "stdout",
     "output_type": "stream",
     "text": [
      "Train on 5000 samples, validate on 5000 samples\n",
      "Epoch 1/10\n",
      "5000/5000 [==============================] - 7s 1ms/step - loss: 1.5792 - acc: 0.4144 - val_loss: 0.7889 - val_acc: 0.7302\n",
      "Epoch 2/10\n",
      "5000/5000 [==============================] - 7s 1ms/step - loss: 0.6436 - acc: 0.7876 - val_loss: 0.4546 - val_acc: 0.8542\n",
      "Epoch 3/10\n",
      "5000/5000 [==============================] - 6s 1ms/step - loss: 0.4578 - acc: 0.8542 - val_loss: 0.4232 - val_acc: 0.8664\n",
      "Epoch 4/10\n",
      "5000/5000 [==============================] - 7s 1ms/step - loss: 0.3686 - acc: 0.8874 - val_loss: 0.2886 - val_acc: 0.9086\n",
      "Epoch 5/10\n",
      "5000/5000 [==============================] - 7s 1ms/step - loss: 0.3011 - acc: 0.9056 - val_loss: 0.2758 - val_acc: 0.9156\n",
      "Epoch 6/10\n",
      "5000/5000 [==============================] - 7s 1ms/step - loss: 0.2595 - acc: 0.9154 - val_loss: 0.2605 - val_acc: 0.9152\n",
      "Epoch 7/10\n",
      "5000/5000 [==============================] - 7s 1ms/step - loss: 0.2168 - acc: 0.9318 - val_loss: 0.1644 - val_acc: 0.9502\n",
      "Epoch 8/10\n",
      "5000/5000 [==============================] - 7s 1ms/step - loss: 0.1690 - acc: 0.9478 - val_loss: 0.1526 - val_acc: 0.9544\n",
      "Epoch 9/10\n",
      "5000/5000 [==============================] - 7s 1ms/step - loss: 0.1390 - acc: 0.9568 - val_loss: 0.0929 - val_acc: 0.9742\n",
      "Epoch 10/10\n",
      "5000/5000 [==============================] - 7s 1ms/step - loss: 0.1195 - acc: 0.9622 - val_loss: 0.0933 - val_acc: 0.9724\n",
      "2.759999999999991\n"
     ]
    }
   ],
   "source": [
    "# Mini-batch 10\n",
    "lr = 10\n",
    "unity = 25\n",
    "inputs.append(lr)\n",
    "model = baseline_model(unity, learning_rate)\n",
    "model.fit(X_train, y_train, validation_data=(X_test, y_test), epochs=10, batch_size=10, verbose=1)\n",
    "scores = model.evaluate(X_test, y_test, verbose=0)\n",
    "print(100-scores[1]*100)\n",
    "outputs.append(100-scores[1]*100)"
   ]
  },
  {
   "cell_type": "code",
   "execution_count": 34,
   "metadata": {},
   "outputs": [
    {
     "data": {
      "image/png": "[encoded data removed]",
      "text/plain": [
       "<Figure size 432x288 with 1 Axes>"
      ]
     },
     "metadata": {},
     "output_type": "display_data"
    }
   ],
   "source": [
    "plt.plot(inputs, outputs, label='SGD')\n",
    "plt.xlabel('learning rate')\n",
    "plt.ylabel('training error (%)')\n",
    "plt.title(\"SGD\")\n",
    "plt.legend()\n",
    "plt.show()"
   ]
  },
  {
   "cell_type": "code",
   "execution_count": null,
   "metadata": {},
   "outputs": [],
   "source": []
  }
 ],
 "metadata": {
  "kernelspec": {
   "display_name": "Python 3",
   "language": "python",
   "name": "python3"
  },
  "language_info": {
   "codemirror_mode": {
    "name": "ipython",
    "version": 3
   },
   "file_extension": ".py",
   "mimetype": "text/x-python",
   "name": "python",
   "nbconvert_exporter": "python",
   "pygments_lexer": "ipython3",
   "version": "3.6.5"
  }
 },
 "nbformat": 4,
 "nbformat_minor": 2
}
