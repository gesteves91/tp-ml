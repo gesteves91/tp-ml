{
 "cells": [
  {
   "cell_type": "code",
   "execution_count": null,
   "metadata": {},
   "outputs": [],
   "source": [
    "# Use the model by parameters.\n",
    "def use_modelbackup(learning_rate, unity, gradient, index, x_axis):\n",
    "    lr = learning_rate\n",
    "    un = unity\n",
    "    \n",
    "    if x_axis == 'lr':\n",
    "        var = learning_rate\n",
    "    else:\n",
    "        var = unity\n",
    "    \n",
    "    if gradient == 'gd':\n",
    "        inputsGD[index].append(var)\n",
    "        model = baseline_model(un, lr)\n",
    "        model.fit(X_train, y_train, validation_data=(X_test, y_test), epochs=10, batch_size=5000, verbose=1)\n",
    "        scores = model.evaluate(X_test, y_test, verbose=0)\n",
    "        print(100-scores[1]*100)\n",
    "        outputsGD[index].append(100-scores[1]*100)\n",
    "    elif gradient == 'sgd':\n",
    "        inputsSGD[index].append(var)\n",
    "        model = baseline_model(un, lr)\n",
    "        model.fit(X_train, y_train, validation_data=(X_test, y_test), epochs=1, batch_size=1, verbose=1)\n",
    "        scores = model.evaluate(X_test, y_test, verbose=0)\n",
    "        print(100-scores[1]*100)\n",
    "        outputsSGD[index].append(100-scores[1]*100)\n",
    "    elif gradient == 'mb10':\n",
    "        inputsMiniBatch10[index].append(var)\n",
    "        model = baseline_model(un, lr)\n",
    "        model.fit(X_train, y_train, validation_data=(X_test, y_test), epochs=10, batch_size=10, verbose=1)\n",
    "        scores = model.evaluate(X_test, y_test, verbose=0)\n",
    "        print(100-scores[1]*100)\n",
    "        outputsMiniBatch10[index].append(100-scores[1]*100)\n",
    "    elif gradient == 'mb50':\n",
    "        inputsMiniBatch50[index].append(var)\n",
    "        model = baseline_model(un, lr)\n",
    "        model.fit(X_train, y_train, validation_data=(X_test, y_test), epochs=10, batch_size=50, verbose=1)\n",
    "        scores = model.evaluate(X_test, y_test, verbose=0)\n",
    "        print(100-scores[1]*100)\n",
    "        outputsMiniBatch50[index].append(100-scores[1]*100)"
   ]
  },
  {
   "cell_type": "code",
   "execution_count": null,
   "metadata": {},
   "outputs": [],
   "source": [
    "# Build the model.\n",
    "unity = 50\n",
    "learning_rate = 0.5\n",
    "model = baseline_model(unity, learning_rate)\n",
    "# Fit the model\n",
    "# default batch size was 200\n",
    "model.fit(X_train, y_train, validation_data=(X_test, y_test))\n",
    "model.fit(X_train, y_train, validation_data=(X_test, y_test), epochs=10, batch_size=10, verbose=1)\n",
    "# Final evaluation of the model\n",
    "scores = model.evaluate(X_test, y_test, verbose=2)\n",
    "print(\"Training Error: %.2f%%\" % (100-scores[1]*100))"
   ]
  },
  {
   "cell_type": "code",
   "execution_count": null,
   "metadata": {},
   "outputs": [],
   "source": [
    "img1 = mpimg.imread('25-unities-hidden-layer.png')\n",
    "img2 = mpimg.imread('25-unities-hidden-layer.png')\n",
    "img3 = mpimg.imread('25-unities-hidden-layer.png')\n",
    "\n",
    "f, (ax1, ax2, ax3) = plt.subplots(1, 3, figsize=(100,100))\n",
    "\n",
    "#ax1.axis('off')\n",
    "#ax1.tight_layout()\n",
    "ax1.axis('off')\n",
    "ax1.imshow(img1)\n",
    "\n",
    "#plt.axis('off')\n",
    "#plt.tight_layout()\n",
    "ax2.axis('off')\n",
    "ax2.imshow(img2)\n",
    "\n",
    "#plt.axis('off')\n",
    "#plt.tight_layout()\n",
    "ax3.axis('off')\n",
    "ax3.imshow(img3)\n",
    "#plt.show()"
   ]
  }
 ],
 "metadata": {
  "kernelspec": {
   "display_name": "Python 3",
   "language": "python",
   "name": "python3"
  },
  "language_info": {
   "codemirror_mode": {
    "name": "ipython",
    "version": 3
   },
   "file_extension": ".py",
   "mimetype": "text/x-python",
   "name": "python",
   "nbconvert_exporter": "python",
   "pygments_lexer": "ipython3",
   "version": "3.6.5"
  }
 },
 "nbformat": 4,
 "nbformat_minor": 2
}
